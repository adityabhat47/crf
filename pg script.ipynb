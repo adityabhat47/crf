{
 "cells": [
  {
   "cell_type": "code",
   "execution_count": 6,
   "metadata": {},
   "outputs": [
    {
     "name": "stdout",
     "output_type": "stream",
     "text": [
      "Opened database successfully\n"
     ]
    },
    {
     "ename": "ProgrammingError",
     "evalue": "syntax error at or near \"INT\"\nLINE 4: HOMEPRICE           INT    NOT NULL,\n                            ^\n",
     "output_type": "error",
     "traceback": [
      "\u001b[1;31m---------------------------------------------------------------------------\u001b[0m",
      "\u001b[1;31mProgrammingError\u001b[0m                          Traceback (most recent call last)",
      "\u001b[1;32m<ipython-input-6-b9bf1faf0ef8>\u001b[0m in \u001b[0;36m<module>\u001b[1;34m()\u001b[0m\n\u001b[0;32m     15\u001b[0m       \u001b[1;33m%\u001b[0m \u001b[0mCHANGE\u001b[0m\u001b[1;33m\u001b[0m\u001b[0m\n\u001b[0;32m     16\u001b[0m \u001b[0mSINCEBOTTOM\u001b[0m\u001b[0;31m†\u001b[0m         \u001b[0mINT\u001b[0m \u001b[0mNOT\u001b[0m \u001b[0mNULL\u001b[0m\u001b[1;33m\u001b[0m\u001b[0m\n\u001b[1;32m---> 17\u001b[1;33m AFFORDABILITY INDEX CHAR(50));''')\n\u001b[0m\u001b[0;32m     18\u001b[0m \u001b[0mprint\u001b[0m\u001b[1;33m(\u001b[0m\u001b[1;34m\"Table created successfully\"\u001b[0m\u001b[1;33m)\u001b[0m\u001b[1;33m\u001b[0m\u001b[0m\n\u001b[0;32m     19\u001b[0m \u001b[0mconn\u001b[0m\u001b[1;33m.\u001b[0m\u001b[0mcommit\u001b[0m\u001b[1;33m(\u001b[0m\u001b[1;33m)\u001b[0m\u001b[1;33m\u001b[0m\u001b[0m\n",
      "\u001b[1;31mProgrammingError\u001b[0m: syntax error at or near \"INT\"\nLINE 4: HOMEPRICE           INT    NOT NULL,\n                            ^\n"
     ]
    }
   ],
   "source": [
    "import psycopg2\n",
    "\n",
    "conn = psycopg2.connect(database = \"CapstoneVariables\", user = \"postgres\", password = \"1234\", host = \"127.0.0.1\", port = \"5432\")\n",
    "print (\"Opened database successfully\")\n",
    "\n",
    "cur = conn.cursor()\n",
    "cur.execute('''CREATE TABLE median_home_prices\n",
    "      (METROAREA CHAR(50)   NOT NULL,\n",
    "      MEDIAN\n",
    "HOMEPRICE           INT    NOT NULL,\n",
    "% CHANGE IN 2017 \n",
    "           INT     NOT NULL,\n",
    "      % CHANGE\n",
    "SINCE PEAK*        INT NOT NULL,\n",
    "      % CHANGE\n",
    "SINCEBOTTOM†         INT NOT NULL\n",
    "AFFORDABILITY INDEX CHAR(50));''')\n",
    "print(\"Table created successfully\")\n",
    "conn.commit()\n",
    "conn.close()\n"
   ]
  },
  {
   "cell_type": "code",
   "execution_count": 14,
   "metadata": {},
   "outputs": [
    {
     "name": "stdout",
     "output_type": "stream",
     "text": [
      "Opened database successfully\n"
     ]
    },
    {
     "ename": "ProgrammingError",
     "evalue": "syntax error at or near \"%\"\nLINE 1: ...Y KEY, METRO_AREA TEXT, MEDIAN_HOME_PRICE integer,%_CHANGE_I...\n                                                             ^\n",
     "output_type": "error",
     "traceback": [
      "\u001b[1;31m---------------------------------------------------------------------------\u001b[0m",
      "\u001b[1;31mProgrammingError\u001b[0m                          Traceback (most recent call last)",
      "\u001b[1;32m<ipython-input-14-7a871ce74639>\u001b[0m in \u001b[0;36m<module>\u001b[1;34m()\u001b[0m\n\u001b[0;32m      6\u001b[0m \u001b[0mcur\u001b[0m \u001b[1;33m=\u001b[0m \u001b[0mconn\u001b[0m\u001b[1;33m.\u001b[0m\u001b[0mcursor\u001b[0m\u001b[1;33m(\u001b[0m\u001b[1;33m)\u001b[0m\u001b[1;33m\u001b[0m\u001b[0m\n\u001b[0;32m      7\u001b[0m \u001b[1;33m\u001b[0m\u001b[0m\n\u001b[1;32m----> 8\u001b[1;33m \u001b[0mcur\u001b[0m\u001b[1;33m.\u001b[0m\u001b[0mexecute\u001b[0m\u001b[1;33m(\u001b[0m\u001b[1;34m\"CREATE TABLE median_home_prices (id serial PRIMARY KEY, METRO_AREA TEXT, MEDIAN_HOME_PRICE integer,%_CHANGE_IN_2017 integer,CHANGE SINCE PEAK integer,CHANGE SINCE BOTTOM integer,AFFORDABILITY INDEX TEXT);\"\u001b[0m\u001b[1;33m)\u001b[0m\u001b[1;33m\u001b[0m\u001b[0m\n\u001b[0m\u001b[0;32m      9\u001b[0m \u001b[1;33m\u001b[0m\u001b[0m\n\u001b[0;32m     10\u001b[0m \u001b[0mconn\u001b[0m\u001b[1;33m.\u001b[0m\u001b[0mcommit\u001b[0m\u001b[1;33m(\u001b[0m\u001b[1;33m)\u001b[0m \u001b[1;31m# <--- makes sure the change is shown in the database\u001b[0m\u001b[1;33m\u001b[0m\u001b[0m\n",
      "\u001b[1;31mProgrammingError\u001b[0m: syntax error at or near \"%\"\nLINE 1: ...Y KEY, METRO_AREA TEXT, MEDIAN_HOME_PRICE integer,%_CHANGE_I...\n                                                             ^\n"
     ]
    }
   ],
   "source": [
    "import psycopg2\n",
    "\n",
    "conn = psycopg2.connect(database = \"CapstoneVariables\", user = \"postgres\", password = \"1234\", host = \"127.0.0.1\", port = \"5432\")\n",
    "print (\"Opened database successfully\")\n",
    "\n",
    "cur = conn.cursor()\n",
    "\n",
    "cur.execute(\"CREATE TABLE median_home_prices (id serial PRIMARY KEY, METRO_AREA TEXT, MEDIAN_HOME_PRICE integer,%_CHANGE_IN_2017 integer,CHANGE SINCE PEAK integer,CHANGE SINCE BOTTOM integer,AFFORDABILITY INDEX TEXT);\")\n",
    "\n",
    "conn.commit() # <--- makes sure the change is shown in the database\n",
    "conn.close()\n",
    "cur.close()"
   ]
  },
  {
   "cell_type": "code",
   "execution_count": 27,
   "metadata": {},
   "outputs": [
    {
     "name": "stdout",
     "output_type": "stream",
     "text": [
      "Opened database successfully\n"
     ]
    }
   ],
   "source": [
    "import psycopg2\n",
    "\n",
    "conn = psycopg2.connect(database = \"CapstoneVariables\", user = \"postgres\", password = \"1234\", host = \"127.0.0.1\", port = \"5432\")\n",
    "print (\"Opened database successfully\")\n",
    "\n"
   ]
  },
  {
   "cell_type": "code",
   "execution_count": 28,
   "metadata": {},
   "outputs": [
    {
     "name": "stdout",
     "output_type": "stream",
     "text": [
      "Table created successfully\n"
     ]
    }
   ],
   "source": [
    "cur = conn.cursor()\n",
    "cur.execute('''CREATE TABLE median_home_price\n",
    "      (ID INT PRIMARY KEY     NOT NULL,\n",
    "      METRO_AREA           TEXT    NOT NULL,\n",
    "      MEDIAN_HOME_PRIC            INT     NOT NULL,\n",
    "      CHANGE_IN_2017        INT     NOT NULL,\n",
    "      CHANGE_SINCE_PEAK        INT     NOT NULL,\n",
    "      CHANGE_SINCE_BOTTOM        INT     NOT NULL,\n",
    "      AFFORDABILITY_INDEX        TEXT);''')\n",
    "print(\"Table created successfully\")\n",
    "conn.commit()\n",
    "conn.close()"
   ]
  },
  {
   "cell_type": "code",
   "execution_count": null,
   "metadata": {},
   "outputs": [],
   "source": []
  }
 ],
 "metadata": {
  "kernelspec": {
   "display_name": "Python 3",
   "language": "python",
   "name": "python3"
  },
  "language_info": {
   "codemirror_mode": {
    "name": "ipython",
    "version": 3
   },
   "file_extension": ".py",
   "mimetype": "text/x-python",
   "name": "python",
   "nbconvert_exporter": "python",
   "pygments_lexer": "ipython3",
   "version": "3.6.6"
  }
 },
 "nbformat": 4,
 "nbformat_minor": 2
}
