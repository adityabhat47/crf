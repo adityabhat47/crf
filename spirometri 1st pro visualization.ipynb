{
 "cells": [
  {
   "cell_type": "code",
   "execution_count": 5,
   "metadata": {},
   "outputs": [],
   "source": [
    "import numpy as np\n",
    "import pandas as pd\n",
    "import matplotlib.pyplot as plt\n",
    "import seaborn as sns"
   ]
  },
  {
   "cell_type": "code",
   "execution_count": 6,
   "metadata": {},
   "outputs": [],
   "source": [
    "df = pd.read_excel(\"D:/data/CRF Final Data/1st projectn.xlsx\")"
   ]
  },
  {
   "cell_type": "code",
   "execution_count": 7,
   "metadata": {},
   "outputs": [
    {
     "data": {
      "text/plain": [
       "['PatientID',\n",
       " 'Height',\n",
       " 'Weight',\n",
       " 'Smoker',\n",
       " 'FVC',\n",
       " 'FEV1',\n",
       " 'Waist _cir',\n",
       " 'Coughwithoutcold',\n",
       " 'SeasonalCough',\n",
       " 'ChronicCough',\n",
       " 'YearsChronicCough',\n",
       " 'Phlegmwithoutcold',\n",
       " 'SeasonalPhlegm',\n",
       " 'ChronicPhlegm',\n",
       " 'YearsChronicPhlegm',\n",
       " 'RecentWheezing',\n",
       " 'Wheezingwithcold',\n",
       " 'EverSmoker',\n",
       " 'AgeofSmokingCommencement',\n",
       " 'AgeofSmokinCesssation',\n",
       " 'Cigarettesperday',\n",
       " 'ManufacturedOrHandrolled',\n",
       " 'PassiveSmoking',\n",
       " 'allergicrhinitis',\n",
       " 'sinusitis',\n",
       " 'Eczema/Dermatitis',\n",
       " 'migraine',\n",
       " 'familyHistAsthma/COPD/Emphysema',\n",
       " 'BiomassExp(all)',\n",
       " 'BiomassExp(Wood)',\n",
       " 'BiomassExp(AnimalDung)',\n",
       " 'BiomassExpsoure(crop residue)',\n",
       " 'MosquitoRepellaent(miscellaneous)',\n",
       " 'MosquitoRep(Coil)',\n",
       " 'MosquiotuRep(Liquid)',\n",
       " 'BurningHouseholdWasteForHeating',\n",
       " 'JobOutsideHome',\n",
       " 'SunlightExpHours',\n",
       " 'WorkMildActDays',\n",
       " 'WorkMildActMins',\n",
       " 'WorkMildActScore',\n",
       " 'WorkModerateActDays',\n",
       " 'WorkModActMins',\n",
       " 'WorkModActScore',\n",
       " 'WorkVigActDays',\n",
       " 'WorkvigActMins',\n",
       " 'WorkVigActScore',\n",
       " 'TranspWalkingDays',\n",
       " 'TranspWalkingMins',\n",
       " 'TranspMilActScore',\n",
       " 'TransCyclingDays',\n",
       " 'TranspCyclingMins',\n",
       " 'TranspModActScore',\n",
       " 'VigHouseWorkDays',\n",
       " 'VigHouseworkmins',\n",
       " 'HouseVigActScore',\n",
       " 'ModerateHouseWorkMins',\n",
       " 'ModerateHouseWorkDays',\n",
       " 'HouseModActScore',\n",
       " 'MildHouseworkdays',\n",
       " 'MildHouseWorkmins',\n",
       " 'HouseMildActScore',\n",
       " 'MildLeasurePhyActDays',\n",
       " 'MildLeisurePhyActMins',\n",
       " 'MildLeisureActScore',\n",
       " 'ModerateLeisurePhyActDays',\n",
       " 'ModerateLeisurePhyActmins',\n",
       " 'ModLeisureActScore',\n",
       " 'VigLeisurePhyActDays',\n",
       " 'VigLeisurePhyActMins',\n",
       " 'VigLeisureActScore',\n",
       " 'TotalPhyActScore',\n",
       " 'HoursSpentSitting(per day',\n",
       " 'Mins oer day spent sitting',\n",
       " 'Time Spent Commuting(hrs)',\n",
       " 'ModeofTransport',\n",
       " 'Commute viaRoadswithheavytraffic',\n",
       " 'DistofHouseFromMainRoad',\n",
       " 'DistFromIndustry',\n",
       " 'DoesWasteBurningOccurwithin3km',\n",
       " 'Foundry/Furnace',\n",
       " 'yrs. Foundry/frunace',\n",
       " 'WorkinginFarming/FlourMills',\n",
       " 'yrs. Farming/flourmill',\n",
       " 'Cotton/JuteMills',\n",
       " 'yrs cotton-jutemill',\n",
       " 'DustExp',\n",
       " 'Exposuretootherfumes',\n",
       " 'mask',\n",
       " 'HouseWalls',\n",
       " 'Areaofhouse',\n",
       " 'numberofppl',\n",
       " 'noofroomsinhouse',\n",
       " 'Dampness',\n",
       " 'TypeofRoof',\n",
       " 'Numberofwindows',\n",
       " 'CookingInsideHouse',\n",
       " 'SeparateKitchen',\n",
       " 'WindowsKitchen',\n",
       " 'YearsofSepKitchen',\n",
       " 'Complex Carbohydrates',\n",
       " 'High Carbohydrate',\n",
       " 'High quality Protein Score ',\n",
       " 'Low Quality Protein Score',\n",
       " 'iron score',\n",
       " 'antioxidant score',\n",
       " 'percent']"
      ]
     },
     "execution_count": 7,
     "metadata": {},
     "output_type": "execute_result"
    }
   ],
   "source": [
    "df.columns.values.tolist()"
   ]
  },
  {
   "cell_type": "code",
   "execution_count": null,
   "metadata": {},
   "outputs": [],
   "source": [
    "\n",
    "\n"
   ]
  },
  {
   "cell_type": "code",
   "execution_count": null,
   "metadata": {},
   "outputs": [],
   "source": []
  },
  {
   "cell_type": "code",
   "execution_count": 9,
   "metadata": {},
   "outputs": [
    {
     "data": {
      "text/plain": [
       "<seaborn.axisgrid.FacetGrid at 0x1e812677d88>"
      ]
     },
     "execution_count": 9,
     "metadata": {},
     "output_type": "execute_result"
    },
    {
     "data": {
      "image/png": "[encoded data removed]",
      "text/plain": [
       "<Figure size 360x360 with 1 Axes>"
      ]
     },
     "metadata": {
      "needs_background": "light"
     },
     "output_type": "display_data"
    }
   ],
   "source": [
    "sns.factorplot('Coughwithoutcold', data=df,kind=\"count\")"
   ]
  },
  {
   "cell_type": "code",
   "execution_count": 11,
   "metadata": {},
   "outputs": [
    {
     "data": {
      "text/plain": [
       "<seaborn.axisgrid.FacetGrid at 0x1e8138d41c8>"
      ]
     },
     "execution_count": 11,
     "metadata": {},
     "output_type": "execute_result"
    },
    {
     "data": {
      "image/png": "[encoded data removed]",
      "text/plain": [
       "<Figure size 360x360 with 1 Axes>"
      ]
     },
     "metadata": {
      "needs_background": "light"
     },
     "output_type": "display_data"
    }
   ],
   "source": [
    "sns.factorplot('BurningHouseholdWasteForHeating', data=df,kind=\"count\")"
   ]
  },
  {
   "cell_type": "code",
   "execution_count": 12,
   "metadata": {},
   "outputs": [
    {
     "data": {
      "text/plain": [
       "<seaborn.axisgrid.FacetGrid at 0x1e815a02888>"
      ]
     },
     "execution_count": 12,
     "metadata": {},
     "output_type": "execute_result"
    },
    {
     "data": {
      "image/png": "[encoded data removed]",
      "text/plain": [
       "<Figure size 360x360 with 1 Axes>"
      ]
     },
     "metadata": {
      "needs_background": "light"
     },
     "output_type": "display_data"
    }
   ],
   "source": [
    "sns.factorplot('WorkModActScore', data=df,kind=\"count\")"
   ]
  },
  {
   "cell_type": "code",
   "execution_count": 13,
   "metadata": {},
   "outputs": [
    {
     "data": {
      "text/plain": [
       "<seaborn.axisgrid.FacetGrid at 0x1e815a0dd88>"
      ]
     },
     "execution_count": 13,
     "metadata": {},
     "output_type": "execute_result"
    },
    {
     "data": {
      "image/png": "[encoded data removed]",
      "text/plain": [
       "<Figure size 360x360 with 1 Axes>"
      ]
     },
     "metadata": {
      "needs_background": "light"
     },
     "output_type": "display_data"
    }
   ],
   "source": [
    "sns.factorplot('WorkVigActDays', data=df,kind=\"count\")"
   ]
  },
  {
   "cell_type": "code",
   "execution_count": 14,
   "metadata": {},
   "outputs": [
    {
     "data": {
      "text/plain": [
       "<seaborn.axisgrid.FacetGrid at 0x1e815ba4488>"
      ]
     },
     "execution_count": 14,
     "metadata": {},
     "output_type": "execute_result"
    },
    {
     "data": {
      "image/png": "[encoded data removed]",
      "text/plain": [
       "<Figure size 360x360 with 1 Axes>"
      ]
     },
     "metadata": {
      "needs_background": "light"
     },
     "output_type": "display_data"
    }
   ],
   "source": [
    "sns.factorplot('WorkVigActScore', data=df,kind=\"count\")"
   ]
  },
  {
   "cell_type": "code",
   "execution_count": 15,
   "metadata": {},
   "outputs": [
    {
     "data": {
      "text/plain": [
       "<seaborn.axisgrid.FacetGrid at 0x1e8138b79c8>"
      ]
     },
     "execution_count": 15,
     "metadata": {},
     "output_type": "execute_result"
    },
    {
     "data": {
      "image/png": "[encoded data removed]",
      "text/plain": [
       "<Figure size 360x360 with 1 Axes>"
      ]
     },
     "metadata": {
      "needs_background": "light"
     },
     "output_type": "display_data"
    }
   ],
   "source": [
    "sns.factorplot('HouseWalls', data=df,kind=\"count\")"
   ]
  },
  {
   "cell_type": "code",
   "execution_count": 16,
   "metadata": {},
   "outputs": [],
   "source": [
    "df = df.drop(['WorkMildActDays','WorkMildActMins','WorkModerateActDays','WorkModActMins','WorkVigActDays','WorkvigActMins','TranspWalkingMins', 'TranspWalkingDays',\n",
    "            \n",
    "            'TransCyclingDays','TranspCyclingMins','VigHouseWorkDays','VigHouseworkmins','ModerateHouseWorkMins','ModerateHouseWorkDays','MildHouseworkdays',\n",
    "            'MildHouseWorkmins','MildLeasurePhyActDays','MildLeisurePhyActMins','ModerateLeisurePhyActDays','ModerateLeisurePhyActmins','VigLeisurePhyActDays','VigLeisurePhyActMins'],axis =1)"
   ]
  },
  {
   "cell_type": "code",
   "execution_count": 17,
   "metadata": {},
   "outputs": [
    {
     "data": {
      "text/html": [
       "<div>\n",
       "<style scoped>\n",
       "    .dataframe tbody tr th:only-of-type {\n",
       "        vertical-align: middle;\n",
       "    }\n",
       "\n",
       "    .dataframe tbody tr th {\n",
       "        vertical-align: top;\n",
       "    }\n",
       "\n",
       "    .dataframe thead th {\n",
       "        text-align: right;\n",
       "    }\n",
       "</style>\n",
       "<table border=\"1\" class=\"dataframe\">\n",
       "  <thead>\n",
       "    <tr style=\"text-align: right;\">\n",
       "      <th></th>\n",
       "      <th>PatientID</th>\n",
       "      <th>Height</th>\n",
       "      <th>Weight</th>\n",
       "      <th>Smoker</th>\n",
       "      <th>FVC</th>\n",
       "      <th>FEV1</th>\n",
       "      <th>Waist _cir</th>\n",
       "      <th>Coughwithoutcold</th>\n",
       "      <th>SeasonalCough</th>\n",
       "      <th>ChronicCough</th>\n",
       "      <th>...</th>\n",
       "      <th>SeparateKitchen</th>\n",
       "      <th>WindowsKitchen</th>\n",
       "      <th>YearsofSepKitchen</th>\n",
       "      <th>Complex Carbohydrates</th>\n",
       "      <th>High Carbohydrate</th>\n",
       "      <th>High quality Protein Score</th>\n",
       "      <th>Low Quality Protein Score</th>\n",
       "      <th>iron score</th>\n",
       "      <th>antioxidant score</th>\n",
       "      <th>percent</th>\n",
       "    </tr>\n",
       "  </thead>\n",
       "  <tbody>\n",
       "    <tr>\n",
       "      <th>0</th>\n",
       "      <td>1</td>\n",
       "      <td>162</td>\n",
       "      <td>39</td>\n",
       "      <td>1</td>\n",
       "      <td>1.449</td>\n",
       "      <td>1.431</td>\n",
       "      <td>20.0</td>\n",
       "      <td>0</td>\n",
       "      <td>0</td>\n",
       "      <td>0</td>\n",
       "      <td>...</td>\n",
       "      <td>1</td>\n",
       "      <td>1</td>\n",
       "      <td>4</td>\n",
       "      <td>94</td>\n",
       "      <td>303</td>\n",
       "      <td>41</td>\n",
       "      <td>62</td>\n",
       "      <td>285</td>\n",
       "      <td>414</td>\n",
       "      <td>0</td>\n",
       "    </tr>\n",
       "    <tr>\n",
       "      <th>1</th>\n",
       "      <td>2</td>\n",
       "      <td>165</td>\n",
       "      <td>58</td>\n",
       "      <td>1</td>\n",
       "      <td>2.826</td>\n",
       "      <td>2.486</td>\n",
       "      <td>74.0</td>\n",
       "      <td>0</td>\n",
       "      <td>0</td>\n",
       "      <td>0</td>\n",
       "      <td>...</td>\n",
       "      <td>0</td>\n",
       "      <td>0</td>\n",
       "      <td>0</td>\n",
       "      <td>90</td>\n",
       "      <td>0</td>\n",
       "      <td>0</td>\n",
       "      <td>0</td>\n",
       "      <td>0</td>\n",
       "      <td>0</td>\n",
       "      <td>0</td>\n",
       "    </tr>\n",
       "    <tr>\n",
       "      <th>2</th>\n",
       "      <td>3</td>\n",
       "      <td>165</td>\n",
       "      <td>58</td>\n",
       "      <td>1</td>\n",
       "      <td>3.241</td>\n",
       "      <td>3.632</td>\n",
       "      <td>66.0</td>\n",
       "      <td>0</td>\n",
       "      <td>0</td>\n",
       "      <td>0</td>\n",
       "      <td>...</td>\n",
       "      <td>1</td>\n",
       "      <td>3</td>\n",
       "      <td>4</td>\n",
       "      <td>30</td>\n",
       "      <td>64</td>\n",
       "      <td>0</td>\n",
       "      <td>0</td>\n",
       "      <td>0</td>\n",
       "      <td>0</td>\n",
       "      <td>0</td>\n",
       "    </tr>\n",
       "    <tr>\n",
       "      <th>3</th>\n",
       "      <td>4</td>\n",
       "      <td>165</td>\n",
       "      <td>58</td>\n",
       "      <td>1</td>\n",
       "      <td>2.429</td>\n",
       "      <td>3.748</td>\n",
       "      <td>66.0</td>\n",
       "      <td>0</td>\n",
       "      <td>0</td>\n",
       "      <td>0</td>\n",
       "      <td>...</td>\n",
       "      <td>0</td>\n",
       "      <td>1</td>\n",
       "      <td>0</td>\n",
       "      <td>68</td>\n",
       "      <td>132</td>\n",
       "      <td>20</td>\n",
       "      <td>60</td>\n",
       "      <td>110</td>\n",
       "      <td>74</td>\n",
       "      <td>0</td>\n",
       "    </tr>\n",
       "    <tr>\n",
       "      <th>4</th>\n",
       "      <td>5</td>\n",
       "      <td>165</td>\n",
       "      <td>58</td>\n",
       "      <td>1</td>\n",
       "      <td>3.358</td>\n",
       "      <td>3.146</td>\n",
       "      <td>64.5</td>\n",
       "      <td>1</td>\n",
       "      <td>0</td>\n",
       "      <td>0</td>\n",
       "      <td>...</td>\n",
       "      <td>1</td>\n",
       "      <td>1</td>\n",
       "      <td>2</td>\n",
       "      <td>68</td>\n",
       "      <td>56</td>\n",
       "      <td>36</td>\n",
       "      <td>30</td>\n",
       "      <td>58</td>\n",
       "      <td>52</td>\n",
       "      <td>0</td>\n",
       "    </tr>\n",
       "    <tr>\n",
       "      <th>...</th>\n",
       "      <td>...</td>\n",
       "      <td>...</td>\n",
       "      <td>...</td>\n",
       "      <td>...</td>\n",
       "      <td>...</td>\n",
       "      <td>...</td>\n",
       "      <td>...</td>\n",
       "      <td>...</td>\n",
       "      <td>...</td>\n",
       "      <td>...</td>\n",
       "      <td>...</td>\n",
       "      <td>...</td>\n",
       "      <td>...</td>\n",
       "      <td>...</td>\n",
       "      <td>...</td>\n",
       "      <td>...</td>\n",
       "      <td>...</td>\n",
       "      <td>...</td>\n",
       "      <td>...</td>\n",
       "      <td>...</td>\n",
       "      <td>...</td>\n",
       "    </tr>\n",
       "    <tr>\n",
       "      <th>298</th>\n",
       "      <td>298</td>\n",
       "      <td>165</td>\n",
       "      <td>53</td>\n",
       "      <td>1</td>\n",
       "      <td>2.979</td>\n",
       "      <td>2.905</td>\n",
       "      <td>86.0</td>\n",
       "      <td>0</td>\n",
       "      <td>0</td>\n",
       "      <td>0</td>\n",
       "      <td>...</td>\n",
       "      <td>1</td>\n",
       "      <td>1</td>\n",
       "      <td>4</td>\n",
       "      <td>88</td>\n",
       "      <td>124</td>\n",
       "      <td>36</td>\n",
       "      <td>20</td>\n",
       "      <td>146</td>\n",
       "      <td>216</td>\n",
       "      <td>0</td>\n",
       "    </tr>\n",
       "    <tr>\n",
       "      <th>299</th>\n",
       "      <td>299</td>\n",
       "      <td>157</td>\n",
       "      <td>54</td>\n",
       "      <td>1</td>\n",
       "      <td>3.293</td>\n",
       "      <td>2.867</td>\n",
       "      <td>78.0</td>\n",
       "      <td>1</td>\n",
       "      <td>1</td>\n",
       "      <td>0</td>\n",
       "      <td>...</td>\n",
       "      <td>1</td>\n",
       "      <td>1</td>\n",
       "      <td>3</td>\n",
       "      <td>94</td>\n",
       "      <td>64</td>\n",
       "      <td>74</td>\n",
       "      <td>12</td>\n",
       "      <td>36</td>\n",
       "      <td>60</td>\n",
       "      <td>0</td>\n",
       "    </tr>\n",
       "    <tr>\n",
       "      <th>300</th>\n",
       "      <td>300</td>\n",
       "      <td>167</td>\n",
       "      <td>72</td>\n",
       "      <td>1</td>\n",
       "      <td>4.192</td>\n",
       "      <td>3.662</td>\n",
       "      <td>99.0</td>\n",
       "      <td>0</td>\n",
       "      <td>0</td>\n",
       "      <td>0</td>\n",
       "      <td>...</td>\n",
       "      <td>1</td>\n",
       "      <td>1</td>\n",
       "      <td>4</td>\n",
       "      <td>100</td>\n",
       "      <td>91</td>\n",
       "      <td>43</td>\n",
       "      <td>34</td>\n",
       "      <td>84</td>\n",
       "      <td>87</td>\n",
       "      <td>0</td>\n",
       "    </tr>\n",
       "    <tr>\n",
       "      <th>301</th>\n",
       "      <td>301</td>\n",
       "      <td>167</td>\n",
       "      <td>63</td>\n",
       "      <td>1</td>\n",
       "      <td>3.060</td>\n",
       "      <td>2.554</td>\n",
       "      <td>59.2</td>\n",
       "      <td>0</td>\n",
       "      <td>0</td>\n",
       "      <td>0</td>\n",
       "      <td>...</td>\n",
       "      <td>1</td>\n",
       "      <td>2</td>\n",
       "      <td>4</td>\n",
       "      <td>62</td>\n",
       "      <td>47</td>\n",
       "      <td>48</td>\n",
       "      <td>64</td>\n",
       "      <td>239</td>\n",
       "      <td>296</td>\n",
       "      <td>0</td>\n",
       "    </tr>\n",
       "    <tr>\n",
       "      <th>302</th>\n",
       "      <td>302</td>\n",
       "      <td>165</td>\n",
       "      <td>49</td>\n",
       "      <td>1</td>\n",
       "      <td>2.857</td>\n",
       "      <td>2.407</td>\n",
       "      <td>56.0</td>\n",
       "      <td>0</td>\n",
       "      <td>0</td>\n",
       "      <td>0</td>\n",
       "      <td>...</td>\n",
       "      <td>1</td>\n",
       "      <td>1</td>\n",
       "      <td>3</td>\n",
       "      <td>1</td>\n",
       "      <td>38</td>\n",
       "      <td>24</td>\n",
       "      <td>2</td>\n",
       "      <td>19</td>\n",
       "      <td>46</td>\n",
       "      <td>0</td>\n",
       "    </tr>\n",
       "  </tbody>\n",
       "</table>\n",
       "<p>303 rows × 85 columns</p>\n",
       "</div>"
      ],
      "text/plain": [
       "     PatientID  Height  Weight  Smoker    FVC   FEV1  Waist _cir  \\\n",
       "0            1     162      39       1  1.449  1.431        20.0   \n",
       "1            2     165      58       1  2.826  2.486        74.0   \n",
       "2            3     165      58       1  3.241  3.632        66.0   \n",
       "3            4     165      58       1  2.429  3.748        66.0   \n",
       "4            5     165      58       1  3.358  3.146        64.5   \n",
       "..         ...     ...     ...     ...    ...    ...         ...   \n",
       "298        298     165      53       1  2.979  2.905        86.0   \n",
       "299        299     157      54       1  3.293  2.867        78.0   \n",
       "300        300     167      72       1  4.192  3.662        99.0   \n",
       "301        301     167      63       1  3.060  2.554        59.2   \n",
       "302        302     165      49       1  2.857  2.407        56.0   \n",
       "\n",
       "     Coughwithoutcold  SeasonalCough  ChronicCough  ...  SeparateKitchen  \\\n",
       "0                   0              0             0  ...                1   \n",
       "1                   0              0             0  ...                0   \n",
       "2                   0              0             0  ...                1   \n",
       "3                   0              0             0  ...                0   \n",
       "4                   1              0             0  ...                1   \n",
       "..                ...            ...           ...  ...              ...   \n",
       "298                 0              0             0  ...                1   \n",
       "299                 1              1             0  ...                1   \n",
       "300                 0              0             0  ...                1   \n",
       "301                 0              0             0  ...                1   \n",
       "302                 0              0             0  ...                1   \n",
       "\n",
       "     WindowsKitchen  YearsofSepKitchen  Complex Carbohydrates  \\\n",
       "0                 1                  4                     94   \n",
       "1                 0                  0                     90   \n",
       "2                 3                  4                     30   \n",
       "3                 1                  0                     68   \n",
       "4                 1                  2                     68   \n",
       "..              ...                ...                    ...   \n",
       "298               1                  4                     88   \n",
       "299               1                  3                     94   \n",
       "300               1                  4                    100   \n",
       "301               2                  4                     62   \n",
       "302               1                  3                      1   \n",
       "\n",
       "     High Carbohydrate  High quality Protein Score   \\\n",
       "0                  303                           41   \n",
       "1                    0                            0   \n",
       "2                   64                            0   \n",
       "3                  132                           20   \n",
       "4                   56                           36   \n",
       "..                 ...                          ...   \n",
       "298                124                           36   \n",
       "299                 64                           74   \n",
       "300                 91                           43   \n",
       "301                 47                           48   \n",
       "302                 38                           24   \n",
       "\n",
       "     Low Quality Protein Score  iron score  antioxidant score  percent  \n",
       "0                           62         285                414        0  \n",
       "1                            0           0                  0        0  \n",
       "2                            0           0                  0        0  \n",
       "3                           60         110                 74        0  \n",
       "4                           30          58                 52        0  \n",
       "..                         ...         ...                ...      ...  \n",
       "298                         20         146                216        0  \n",
       "299                         12          36                 60        0  \n",
       "300                         34          84                 87        0  \n",
       "301                         64         239                296        0  \n",
       "302                          2          19                 46        0  \n",
       "\n",
       "[303 rows x 85 columns]"
      ]
     },
     "execution_count": 17,
     "metadata": {},
     "output_type": "execute_result"
    }
   ],
   "source": [
    "df"
   ]
  },
  {
   "cell_type": "code",
   "execution_count": 18,
   "metadata": {},
   "outputs": [
    {
     "data": {
      "text/plain": [
       "<seaborn.axisgrid.FacetGrid at 0x1e815d65c88>"
      ]
     },
     "execution_count": 18,
     "metadata": {},
     "output_type": "execute_result"
    },
    {
     "data": {
      "image/png": "[encoded data removed]",
      "text/plain": [
       "<Figure size 360x360 with 1 Axes>"
      ]
     },
     "metadata": {
      "needs_background": "light"
     },
     "output_type": "display_data"
    }
   ],
   "source": [
    "sns.factorplot('Smoker', data=df,kind=\"count\")"
   ]
  },
  {
   "cell_type": "code",
   "execution_count": 19,
   "metadata": {},
   "outputs": [
    {
     "data": {
      "text/plain": [
       "['PatientID',\n",
       " 'Height',\n",
       " 'Weight',\n",
       " 'Smoker',\n",
       " 'FVC',\n",
       " 'FEV1',\n",
       " 'Waist _cir',\n",
       " 'Coughwithoutcold',\n",
       " 'SeasonalCough',\n",
       " 'ChronicCough',\n",
       " 'YearsChronicCough',\n",
       " 'Phlegmwithoutcold',\n",
       " 'SeasonalPhlegm',\n",
       " 'ChronicPhlegm',\n",
       " 'YearsChronicPhlegm',\n",
       " 'RecentWheezing',\n",
       " 'Wheezingwithcold',\n",
       " 'EverSmoker',\n",
       " 'AgeofSmokingCommencement',\n",
       " 'AgeofSmokinCesssation',\n",
       " 'Cigarettesperday',\n",
       " 'ManufacturedOrHandrolled',\n",
       " 'PassiveSmoking',\n",
       " 'allergicrhinitis',\n",
       " 'sinusitis',\n",
       " 'Eczema/Dermatitis',\n",
       " 'migraine',\n",
       " 'familyHistAsthma/COPD/Emphysema',\n",
       " 'BiomassExp(all)',\n",
       " 'BiomassExp(Wood)',\n",
       " 'BiomassExp(AnimalDung)',\n",
       " 'BiomassExpsoure(crop residue)',\n",
       " 'MosquitoRepellaent(miscellaneous)',\n",
       " 'MosquitoRep(Coil)',\n",
       " 'MosquiotuRep(Liquid)',\n",
       " 'BurningHouseholdWasteForHeating',\n",
       " 'JobOutsideHome',\n",
       " 'SunlightExpHours',\n",
       " 'WorkMildActScore',\n",
       " 'WorkModActScore',\n",
       " 'WorkVigActScore',\n",
       " 'TranspMilActScore',\n",
       " 'TranspModActScore',\n",
       " 'HouseVigActScore',\n",
       " 'HouseModActScore',\n",
       " 'HouseMildActScore',\n",
       " 'MildLeisureActScore',\n",
       " 'ModLeisureActScore',\n",
       " 'VigLeisureActScore',\n",
       " 'TotalPhyActScore',\n",
       " 'HoursSpentSitting(per day',\n",
       " 'Mins oer day spent sitting',\n",
       " 'Time Spent Commuting(hrs)',\n",
       " 'ModeofTransport',\n",
       " 'Commute viaRoadswithheavytraffic',\n",
       " 'DistofHouseFromMainRoad',\n",
       " 'DistFromIndustry',\n",
       " 'DoesWasteBurningOccurwithin3km',\n",
       " 'Foundry/Furnace',\n",
       " 'yrs. Foundry/frunace',\n",
       " 'WorkinginFarming/FlourMills',\n",
       " 'yrs. Farming/flourmill',\n",
       " 'Cotton/JuteMills',\n",
       " 'yrs cotton-jutemill',\n",
       " 'DustExp',\n",
       " 'Exposuretootherfumes',\n",
       " 'mask',\n",
       " 'HouseWalls',\n",
       " 'Areaofhouse',\n",
       " 'numberofppl',\n",
       " 'noofroomsinhouse',\n",
       " 'Dampness',\n",
       " 'TypeofRoof',\n",
       " 'Numberofwindows',\n",
       " 'CookingInsideHouse',\n",
       " 'SeparateKitchen',\n",
       " 'WindowsKitchen',\n",
       " 'YearsofSepKitchen',\n",
       " 'Complex Carbohydrates',\n",
       " 'High Carbohydrate',\n",
       " 'High quality Protein Score ',\n",
       " 'Low Quality Protein Score',\n",
       " 'iron score',\n",
       " 'antioxidant score',\n",
       " 'percent']"
      ]
     },
     "execution_count": 19,
     "metadata": {},
     "output_type": "execute_result"
    }
   ],
   "source": [
    "df.columns.values.tolist()"
   ]
  },
  {
   "cell_type": "code",
   "execution_count": 33,
   "metadata": {},
   "outputs": [
    {
     "data": {
      "text/plain": [
       "array([[162.,  39.,   1., ...,  62., 285., 414.],\n",
       "       [165.,  58.,   1., ...,   0.,   0.,   0.],\n",
       "       [165.,  58.,   1., ...,   0.,   0.,   0.],\n",
       "       ...,\n",
       "       [167.,  72.,   1., ...,  34.,  84.,  87.],\n",
       "       [167.,  63.,   1., ...,  64., 239., 296.],\n",
       "       [165.,  49.,   1., ...,   2.,  19.,  46.]])"
      ]
     },
     "execution_count": 33,
     "metadata": {},
     "output_type": "execute_result"
    }
   ],
   "source": [
    "X = df.iloc[:, 1:-1].values\n",
    "y = df.iloc[:, -1].values\n",
    "\n",
    "np.isnan(X)\n",
    "np.where(np.isnan(X))\n",
    "np.nan_to_num(X)"
   ]
  },
  {
   "cell_type": "code",
   "execution_count": 34,
   "metadata": {},
   "outputs": [],
   "source": [
    "from sklearn.model_selection import train_test_split\n",
    "X_train, X_test, y_train, y_test = train_test_split(X, y, test_size=0.2, random_state=0)"
   ]
  },
  {
   "cell_type": "code",
   "execution_count": 35,
   "metadata": {},
   "outputs": [],
   "source": [
    "from sklearn.preprocessing import StandardScaler\n",
    "sc_X = StandardScaler()\n",
    "X_train = sc_X.fit_transform(X_train)\n",
    "X_test = sc_X.transform(X_test)"
   ]
  },
  {
   "cell_type": "code",
   "execution_count": 36,
   "metadata": {},
   "outputs": [],
   "source": [
    "# Applying PCA\n",
    "from sklearn.decomposition import PCA\n",
    "pca = PCA(n_components = None)\n",
    "X_train = pca.fit_transform(X_train)\n",
    "X_test = pca.transform(X_test)\n",
    "explained_variance = pca.explained_variance_ratio_"
   ]
  },
  {
   "cell_type": "code",
   "execution_count": 55,
   "metadata": {},
   "outputs": [
    {
     "name": "stdout",
     "output_type": "stream",
     "text": [
      "0.08165353493808122\n",
      "0.056059463610311284\n",
      "0.04951865623278197\n",
      "0.048961912208555884\n",
      "0.04068982118011658\n",
      "0.0373645919976103\n",
      "0.03362837428846121\n",
      "0.028306696480854474\n",
      "0.027746916436151473\n",
      "0.02552258119013083\n",
      "0.024194726426942315\n",
      "0.021289192189330987\n",
      "0.021200691846198078\n",
      "0.02017830223288919\n",
      "0.019818971173641273\n",
      "0.018893880413114926\n",
      "0.017808866005155535\n",
      "0.017075514602843463\n",
      "0.016757748378203596\n",
      "0.016518026445751968\n",
      "0.015655527493636856\n",
      "0.015551338953306251\n",
      "0.015170804116641057\n",
      "0.013769056792651217\n",
      "0.013702804498914697\n",
      "0.013444642863983933\n",
      "0.012901932493442778\n",
      "0.012660262035521919\n",
      "0.011994950925193577\n",
      "0.011602979241456025\n",
      "0.010872775470651665\n",
      "0.010504809867509422\n",
      "0.010340059182687393\n",
      "0.00978636596437453\n",
      "0.009695503671355762\n",
      "0.009049809921975826\n",
      "0.00880274983334657\n",
      "0.00849255722598042\n",
      "0.008195385064617923\n",
      "0.007928100594947635\n",
      "0.007850923293239637\n",
      "0.007530356681562554\n",
      "0.007131303796889429\n",
      "0.006835210538406863\n",
      "0.006733958221643442\n",
      "0.0066524594523260545\n",
      "0.006183505866510354\n",
      "0.006022417702438032\n",
      "0.005723093281081345\n",
      "0.005574803464937209\n",
      "0.005434042378282479\n",
      "0.0052065576071758735\n",
      "0.0050184715674348335\n",
      "0.004533591325360452\n",
      "0.004441177974592696\n",
      "0.004349143379845086\n",
      "0.004146479146372308\n",
      "0.004053944905827512\n",
      "0.003731069387480609\n",
      "0.003604731222473872\n",
      "0.003494042065330856\n",
      "0.0033053606531154656\n",
      "0.003055711872755368\n",
      "0.003030565221552029\n",
      "0.0027127931833391644\n",
      "0.002560139197896867\n",
      "0.002349458551674848\n",
      "0.002152249934731706\n",
      "0.0020755226525365467\n",
      "0.0019054082664905557\n",
      "0.0017642577418858444\n",
      "0.001653896808896146\n",
      "0.0013186367196532762\n",
      "0.00127603441792622\n",
      "0.001049919274249906\n",
      "0.0008501557784202521\n",
      "0.0005447638615471932\n",
      "0.000393965041118757\n",
      "0.0002216652572093375\n",
      "0.00021380647243329358\n",
      "3.5213440336535562e-06\n",
      "3.2934232000588246e-33\n",
      "3.1268814450743082e-34\n"
     ]
    }
   ],
   "source": [
    "for i in explained_variance:\n",
    "    print(i)"
   ]
  },
  {
   "cell_type": "code",
   "execution_count": 56,
   "metadata": {},
   "outputs": [],
   "source": [
    "import numpy as np\n",
    "import pandas as pd\n",
    "import matplotlib.pyplot as plt\n",
    "import seaborn as sns"
   ]
  },
  {
   "cell_type": "code",
   "execution_count": 57,
   "metadata": {},
   "outputs": [],
   "source": [
    "df = pd.read_excel(\"D:/data/CRF Final Data/1st projectn.xlsx\")"
   ]
  },
  {
   "cell_type": "code",
   "execution_count": 92,
   "metadata": {},
   "outputs": [
    {
     "data": {
      "text/plain": [
       "22"
      ]
     },
     "execution_count": 92,
     "metadata": {},
     "output_type": "execute_result"
    }
   ],
   "source": [
    "X = df.iloc[:, 1:-1].values\n",
    "y = df.iloc[:, -1].values\n",
    "\n",
    "len(df.columns)"
   ]
  },
  {
   "cell_type": "code",
   "execution_count": 59,
   "metadata": {},
   "outputs": [],
   "source": [
    "from sklearn.model_selection import train_test_split\n",
    "X_train, X_test, y_train, y_test = train_test_split(X, y, test_size=0.2, random_state=0)"
   ]
  },
  {
   "cell_type": "code",
   "execution_count": 60,
   "metadata": {},
   "outputs": [],
   "source": [
    "from sklearn.preprocessing import StandardScaler\n",
    "sc_X = StandardScaler()\n",
    "X_train = sc_X.fit_transform(X_train)\n",
    "X_test = sc_X.transform(X_test)"
   ]
  },
  {
   "cell_type": "code",
   "execution_count": 81,
   "metadata": {},
   "outputs": [],
   "source": [
    "# Applying PCA\n",
    "from sklearn.decomposition import PCA\n",
    "pca = PCA(n_components = 2)\n",
    "X_train = pca.fit_transform(X_train)\n",
    "X_test = pca.transform(X_test)\n",
    "explained_variance = pca.explained_variance_ratio_"
   ]
  },
  {
   "cell_type": "code",
   "execution_count": 82,
   "metadata": {},
   "outputs": [
    {
     "data": {
      "text/plain": [
       "LogisticRegression(C=1.0, class_weight=None, dual=False, fit_intercept=True,\n",
       "                   intercept_scaling=1, l1_ratio=None, max_iter=100,\n",
       "                   multi_class='auto', n_jobs=None, penalty='l2',\n",
       "                   random_state=0, solver='lbfgs', tol=0.0001, verbose=0,\n",
       "                   warm_start=False)"
      ]
     },
     "execution_count": 82,
     "metadata": {},
     "output_type": "execute_result"
    }
   ],
   "source": [
    "# Fitting Logistic Regression to the Training set\n",
    "from sklearn.linear_model import LogisticRegression\n",
    "classifier = LogisticRegression(random_state = 0)\n",
    "classifier.fit(X_train, y_train)"
   ]
  },
  {
   "cell_type": "code",
   "execution_count": 83,
   "metadata": {},
   "outputs": [],
   "source": [
    "y_pred = classifier.predict(X_test)"
   ]
  },
  {
   "cell_type": "code",
   "execution_count": 87,
   "metadata": {},
   "outputs": [
    {
     "data": {
      "text/plain": [
       "array([[56,  0],\n",
       "       [ 5,  0]], dtype=int64)"
      ]
     },
     "execution_count": 87,
     "metadata": {},
     "output_type": "execute_result"
    }
   ],
   "source": [
    "from sklearn.metrics import confusion_matrix\n",
    "cm = confusion_matrix(y_test, y_pred)\n",
    "\n",
    "cm"
   ]
  },
  {
   "cell_type": "code",
   "execution_count": 90,
   "metadata": {},
   "outputs": [
    {
     "name": "stdout",
     "output_type": "stream",
     "text": [
      "Confusion Matrix :\n",
      "[[56  0]\n",
      " [ 5  0]]\n",
      "Accuracy Score : 0.9180327868852459\n",
      "Report : \n",
      "              precision    recall  f1-score   support\n",
      "\n",
      "           0       0.92      1.00      0.96        56\n",
      "           1       0.00      0.00      0.00         5\n",
      "\n",
      "    accuracy                           0.92        61\n",
      "   macro avg       0.46      0.50      0.48        61\n",
      "weighted avg       0.84      0.92      0.88        61\n",
      "\n"
     ]
    },
    {
     "name": "stderr",
     "output_type": "stream",
     "text": [
      "c:\\python37\\lib\\site-packages\\sklearn\\metrics\\_classification.py:1268: UndefinedMetricWarning: Precision and F-score are ill-defined and being set to 0.0 in labels with no predicted samples. Use `zero_division` parameter to control this behavior.\n",
      "  _warn_prf(average, modifier, msg_start, len(result))\n"
     ]
    }
   ],
   "source": [
    "from sklearn.metrics import confusion_matrix \n",
    "from sklearn.metrics import accuracy_score \n",
    "from sklearn.metrics import classification_report \n",
    "\n",
    "results = confusion_matrix(y_test, y_pred) \n",
    "print ('Confusion Matrix :')\n",
    "print(results) \n",
    "print ('Accuracy Score :',accuracy_score(y_test, y_pred) )\n",
    "print ('Report : ')\n",
    "print (classification_report(y_test, y_pred) )"
   ]
  },
  {
   "cell_type": "code",
   "execution_count": null,
   "metadata": {},
   "outputs": [],
   "source": []
  },
  {
   "cell_type": "code",
   "execution_count": null,
   "metadata": {},
   "outputs": [],
   "source": []
  }
 ],
 "metadata": {
  "kernelspec": {
   "display_name": "Python 3",
   "language": "python",
   "name": "python3"
  },
  "language_info": {
   "codemirror_mode": {
    "name": "ipython",
    "version": 3
   },
   "file_extension": ".py",
   "mimetype": "text/x-python",
   "name": "python",
   "nbconvert_exporter": "python",
   "pygments_lexer": "ipython3",
   "version": "3.7.5"
  }
 },
 "nbformat": 4,
 "nbformat_minor": 2
}
