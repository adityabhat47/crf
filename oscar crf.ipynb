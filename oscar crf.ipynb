{
 "cells": [
  {
   "cell_type": "code",
   "execution_count": 1,
   "metadata": {},
   "outputs": [],
   "source": [
    "import numpy as np\n",
    "import pandas as pd"
   ]
  },
  {
   "cell_type": "code",
   "execution_count": 2,
   "metadata": {},
   "outputs": [],
   "source": [
    "oq= pd.read_excel(\"D:\\data\\CRF Final Data\\oscar/main oscar.xlsx\")"
   ]
  },
  {
   "cell_type": "code",
   "execution_count": 3,
   "metadata": {},
   "outputs": [
    {
     "name": "stdout",
     "output_type": "stream",
     "text": [
      "<class 'pandas.core.frame.DataFrame'>\n",
      "RangeIndex: 808 entries, 0 to 807\n",
      "Columns: 190 entries, Unnamed: 0 to धन्यवाद सबमिट करा_275709\n",
      "dtypes: int64(176), object(14)\n",
      "memory usage: 1.2+ MB\n"
     ]
    }
   ],
   "source": [
    "oq.info()"
   ]
  },
  {
   "cell_type": "code",
   "execution_count": 4,
   "metadata": {},
   "outputs": [
    {
     "data": {
      "text/html": [
       "<div>\n",
       "<style scoped>\n",
       "    .dataframe tbody tr th:only-of-type {\n",
       "        vertical-align: middle;\n",
       "    }\n",
       "\n",
       "    .dataframe tbody tr th {\n",
       "        vertical-align: top;\n",
       "    }\n",
       "\n",
       "    .dataframe thead th {\n",
       "        text-align: right;\n",
       "    }\n",
       "</style>\n",
       "<table border=\"1\" class=\"dataframe\">\n",
       "  <thead>\n",
       "    <tr style=\"text-align: right;\">\n",
       "      <th></th>\n",
       "      <th>Unnamed: 0</th>\n",
       "      <th>target</th>\n",
       "      <th>peakflow</th>\n",
       "      <th>वय_275546</th>\n",
       "      <th>लिंग: _275544</th>\n",
       "      <th>शिक्षण_275545</th>\n",
       "      <th>आपल्या घरातील कुटुंबातील सदस्यांची संख्या? _275550</th>\n",
       "      <th>घराविषयीची माहिती - तुमचे घर कोणत्या प्रकारचे आहे ?_275549</th>\n",
       "      <th>तुमच्या घरात किती खोल्या आहेत?_275551</th>\n",
       "      <th>तुमच्या घराला एकूण किती खिडक्या आहेत ?_275552</th>\n",
       "      <th>...</th>\n",
       "      <th>जर हो, किती वर्ष पासून? _275700</th>\n",
       "      <th>हृदय रोग_275701</th>\n",
       "      <th>जर हो, किती वर्ष पासून? _275702</th>\n",
       "      <th>थाइरोइड विकार_275703</th>\n",
       "      <th>जर हो, किती वर्ष पासून? _275704</th>\n",
       "      <th>चिंता आणि निराशा_275705</th>\n",
       "      <th>जर हो, किती वर्ष पासून? _275706</th>\n",
       "      <th>हाड ठिसूळ होणे_275707</th>\n",
       "      <th>जर हो, किती वर्ष पासून? _275708</th>\n",
       "      <th>धन्यवाद सबमिट करा_275709</th>\n",
       "    </tr>\n",
       "  </thead>\n",
       "  <tbody>\n",
       "    <tr>\n",
       "      <th>count</th>\n",
       "      <td>808.000000</td>\n",
       "      <td>808.000000</td>\n",
       "      <td>808.000000</td>\n",
       "      <td>808.000000</td>\n",
       "      <td>808.000000</td>\n",
       "      <td>808.000000</td>\n",
       "      <td>808.000000</td>\n",
       "      <td>808.000000</td>\n",
       "      <td>808.000000</td>\n",
       "      <td>808.000000</td>\n",
       "      <td>...</td>\n",
       "      <td>808.000000</td>\n",
       "      <td>808.000000</td>\n",
       "      <td>808.000000</td>\n",
       "      <td>808.000000</td>\n",
       "      <td>808.000000</td>\n",
       "      <td>808.000000</td>\n",
       "      <td>808.000000</td>\n",
       "      <td>808.000000</td>\n",
       "      <td>808.000000</td>\n",
       "      <td>808.0</td>\n",
       "    </tr>\n",
       "    <tr>\n",
       "      <th>mean</th>\n",
       "      <td>403.500000</td>\n",
       "      <td>0.157178</td>\n",
       "      <td>288.162129</td>\n",
       "      <td>47.339109</td>\n",
       "      <td>1.587871</td>\n",
       "      <td>2.652228</td>\n",
       "      <td>4.301980</td>\n",
       "      <td>2.220297</td>\n",
       "      <td>3.056931</td>\n",
       "      <td>3.155941</td>\n",
       "      <td>...</td>\n",
       "      <td>0.162129</td>\n",
       "      <td>0.007426</td>\n",
       "      <td>0.019802</td>\n",
       "      <td>0.014851</td>\n",
       "      <td>0.068069</td>\n",
       "      <td>0.047030</td>\n",
       "      <td>0.471535</td>\n",
       "      <td>0.090347</td>\n",
       "      <td>0.397277</td>\n",
       "      <td>0.0</td>\n",
       "    </tr>\n",
       "    <tr>\n",
       "      <th>std</th>\n",
       "      <td>233.393802</td>\n",
       "      <td>0.364194</td>\n",
       "      <td>145.786742</td>\n",
       "      <td>14.037968</td>\n",
       "      <td>0.492523</td>\n",
       "      <td>0.933525</td>\n",
       "      <td>0.961667</td>\n",
       "      <td>0.546235</td>\n",
       "      <td>1.143584</td>\n",
       "      <td>1.428317</td>\n",
       "      <td>...</td>\n",
       "      <td>1.048845</td>\n",
       "      <td>0.085905</td>\n",
       "      <td>0.257918</td>\n",
       "      <td>0.121033</td>\n",
       "      <td>0.824994</td>\n",
       "      <td>0.211834</td>\n",
       "      <td>3.151944</td>\n",
       "      <td>0.286855</td>\n",
       "      <td>1.641120</td>\n",
       "      <td>0.0</td>\n",
       "    </tr>\n",
       "    <tr>\n",
       "      <th>min</th>\n",
       "      <td>0.000000</td>\n",
       "      <td>0.000000</td>\n",
       "      <td>0.000000</td>\n",
       "      <td>0.000000</td>\n",
       "      <td>1.000000</td>\n",
       "      <td>1.000000</td>\n",
       "      <td>1.000000</td>\n",
       "      <td>1.000000</td>\n",
       "      <td>1.000000</td>\n",
       "      <td>1.000000</td>\n",
       "      <td>...</td>\n",
       "      <td>0.000000</td>\n",
       "      <td>0.000000</td>\n",
       "      <td>0.000000</td>\n",
       "      <td>0.000000</td>\n",
       "      <td>0.000000</td>\n",
       "      <td>0.000000</td>\n",
       "      <td>0.000000</td>\n",
       "      <td>0.000000</td>\n",
       "      <td>0.000000</td>\n",
       "      <td>0.0</td>\n",
       "    </tr>\n",
       "    <tr>\n",
       "      <th>25%</th>\n",
       "      <td>201.750000</td>\n",
       "      <td>0.000000</td>\n",
       "      <td>230.000000</td>\n",
       "      <td>36.000000</td>\n",
       "      <td>1.000000</td>\n",
       "      <td>2.000000</td>\n",
       "      <td>4.000000</td>\n",
       "      <td>2.000000</td>\n",
       "      <td>2.000000</td>\n",
       "      <td>2.000000</td>\n",
       "      <td>...</td>\n",
       "      <td>0.000000</td>\n",
       "      <td>0.000000</td>\n",
       "      <td>0.000000</td>\n",
       "      <td>0.000000</td>\n",
       "      <td>0.000000</td>\n",
       "      <td>0.000000</td>\n",
       "      <td>0.000000</td>\n",
       "      <td>0.000000</td>\n",
       "      <td>0.000000</td>\n",
       "      <td>0.0</td>\n",
       "    </tr>\n",
       "    <tr>\n",
       "      <th>50%</th>\n",
       "      <td>403.500000</td>\n",
       "      <td>0.000000</td>\n",
       "      <td>300.000000</td>\n",
       "      <td>45.000000</td>\n",
       "      <td>2.000000</td>\n",
       "      <td>3.000000</td>\n",
       "      <td>5.000000</td>\n",
       "      <td>2.000000</td>\n",
       "      <td>3.000000</td>\n",
       "      <td>3.000000</td>\n",
       "      <td>...</td>\n",
       "      <td>0.000000</td>\n",
       "      <td>0.000000</td>\n",
       "      <td>0.000000</td>\n",
       "      <td>0.000000</td>\n",
       "      <td>0.000000</td>\n",
       "      <td>0.000000</td>\n",
       "      <td>0.000000</td>\n",
       "      <td>0.000000</td>\n",
       "      <td>0.000000</td>\n",
       "      <td>0.0</td>\n",
       "    </tr>\n",
       "    <tr>\n",
       "      <th>75%</th>\n",
       "      <td>605.250000</td>\n",
       "      <td>0.000000</td>\n",
       "      <td>380.000000</td>\n",
       "      <td>57.250000</td>\n",
       "      <td>2.000000</td>\n",
       "      <td>3.000000</td>\n",
       "      <td>5.000000</td>\n",
       "      <td>3.000000</td>\n",
       "      <td>4.000000</td>\n",
       "      <td>4.000000</td>\n",
       "      <td>...</td>\n",
       "      <td>0.000000</td>\n",
       "      <td>0.000000</td>\n",
       "      <td>0.000000</td>\n",
       "      <td>0.000000</td>\n",
       "      <td>0.000000</td>\n",
       "      <td>0.000000</td>\n",
       "      <td>0.000000</td>\n",
       "      <td>0.000000</td>\n",
       "      <td>0.000000</td>\n",
       "      <td>0.0</td>\n",
       "    </tr>\n",
       "    <tr>\n",
       "      <th>max</th>\n",
       "      <td>807.000000</td>\n",
       "      <td>1.000000</td>\n",
       "      <td>650.000000</td>\n",
       "      <td>97.000000</td>\n",
       "      <td>2.000000</td>\n",
       "      <td>5.000000</td>\n",
       "      <td>5.000000</td>\n",
       "      <td>3.000000</td>\n",
       "      <td>5.000000</td>\n",
       "      <td>6.000000</td>\n",
       "      <td>...</td>\n",
       "      <td>15.000000</td>\n",
       "      <td>1.000000</td>\n",
       "      <td>5.000000</td>\n",
       "      <td>1.000000</td>\n",
       "      <td>16.000000</td>\n",
       "      <td>1.000000</td>\n",
       "      <td>50.000000</td>\n",
       "      <td>1.000000</td>\n",
       "      <td>17.000000</td>\n",
       "      <td>0.0</td>\n",
       "    </tr>\n",
       "  </tbody>\n",
       "</table>\n",
       "<p>8 rows × 176 columns</p>\n",
       "</div>"
      ],
      "text/plain": [
       "       Unnamed: 0      target    peakflow   वय_275546  लिंग: _275544  \\\n",
       "count  808.000000  808.000000  808.000000  808.000000     808.000000   \n",
       "mean   403.500000    0.157178  288.162129   47.339109       1.587871   \n",
       "std    233.393802    0.364194  145.786742   14.037968       0.492523   \n",
       "min      0.000000    0.000000    0.000000    0.000000       1.000000   \n",
       "25%    201.750000    0.000000  230.000000   36.000000       1.000000   \n",
       "50%    403.500000    0.000000  300.000000   45.000000       2.000000   \n",
       "75%    605.250000    0.000000  380.000000   57.250000       2.000000   \n",
       "max    807.000000    1.000000  650.000000   97.000000       2.000000   \n",
       "\n",
       "       शिक्षण_275545  आपल्या घरातील कुटुंबातील सदस्यांची संख्या? _275550  \\\n",
       "count     808.000000                                         808.000000    \n",
       "mean        2.652228                                           4.301980    \n",
       "std         0.933525                                           0.961667    \n",
       "min         1.000000                                           1.000000    \n",
       "25%         2.000000                                           4.000000    \n",
       "50%         3.000000                                           5.000000    \n",
       "75%         3.000000                                           5.000000    \n",
       "max         5.000000                                           5.000000    \n",
       "\n",
       "       घराविषयीची माहिती - तुमचे घर कोणत्या प्रकारचे आहे ?_275549  \\\n",
       "count                                         808.000000            \n",
       "mean                                            2.220297            \n",
       "std                                             0.546235            \n",
       "min                                             1.000000            \n",
       "25%                                             2.000000            \n",
       "50%                                             2.000000            \n",
       "75%                                             3.000000            \n",
       "max                                             3.000000            \n",
       "\n",
       "       तुमच्या घरात किती खोल्या आहेत?_275551  \\\n",
       "count                             808.000000   \n",
       "mean                                3.056931   \n",
       "std                                 1.143584   \n",
       "min                                 1.000000   \n",
       "25%                                 2.000000   \n",
       "50%                                 3.000000   \n",
       "75%                                 4.000000   \n",
       "max                                 5.000000   \n",
       "\n",
       "       तुमच्या घराला एकूण किती खिडक्या आहेत ?_275552  ...  \\\n",
       "count                                     808.000000  ...   \n",
       "mean                                        3.155941  ...   \n",
       "std                                         1.428317  ...   \n",
       "min                                         1.000000  ...   \n",
       "25%                                         2.000000  ...   \n",
       "50%                                         3.000000  ...   \n",
       "75%                                         4.000000  ...   \n",
       "max                                         6.000000  ...   \n",
       "\n",
       "       जर हो, किती वर्ष पासून? _275700  हृदय रोग_275701  \\\n",
       "count                       808.000000       808.000000   \n",
       "mean                          0.162129         0.007426   \n",
       "std                           1.048845         0.085905   \n",
       "min                           0.000000         0.000000   \n",
       "25%                           0.000000         0.000000   \n",
       "50%                           0.000000         0.000000   \n",
       "75%                           0.000000         0.000000   \n",
       "max                          15.000000         1.000000   \n",
       "\n",
       "       जर हो, किती वर्ष पासून? _275702  थाइरोइड विकार_275703  \\\n",
       "count                       808.000000            808.000000   \n",
       "mean                          0.019802              0.014851   \n",
       "std                           0.257918              0.121033   \n",
       "min                           0.000000              0.000000   \n",
       "25%                           0.000000              0.000000   \n",
       "50%                           0.000000              0.000000   \n",
       "75%                           0.000000              0.000000   \n",
       "max                           5.000000              1.000000   \n",
       "\n",
       "       जर हो, किती वर्ष पासून? _275704  चिंता आणि निराशा_275705  \\\n",
       "count                       808.000000               808.000000   \n",
       "mean                          0.068069                 0.047030   \n",
       "std                           0.824994                 0.211834   \n",
       "min                           0.000000                 0.000000   \n",
       "25%                           0.000000                 0.000000   \n",
       "50%                           0.000000                 0.000000   \n",
       "75%                           0.000000                 0.000000   \n",
       "max                          16.000000                 1.000000   \n",
       "\n",
       "       जर हो, किती वर्ष पासून? _275706  हाड ठिसूळ होणे_275707  \\\n",
       "count                       808.000000             808.000000   \n",
       "mean                          0.471535               0.090347   \n",
       "std                           3.151944               0.286855   \n",
       "min                           0.000000               0.000000   \n",
       "25%                           0.000000               0.000000   \n",
       "50%                           0.000000               0.000000   \n",
       "75%                           0.000000               0.000000   \n",
       "max                          50.000000               1.000000   \n",
       "\n",
       "       जर हो, किती वर्ष पासून? _275708  धन्यवाद सबमिट करा_275709  \n",
       "count                       808.000000                     808.0  \n",
       "mean                          0.397277                       0.0  \n",
       "std                           1.641120                       0.0  \n",
       "min                           0.000000                       0.0  \n",
       "25%                           0.000000                       0.0  \n",
       "50%                           0.000000                       0.0  \n",
       "75%                           0.000000                       0.0  \n",
       "max                          17.000000                       0.0  \n",
       "\n",
       "[8 rows x 176 columns]"
      ]
     },
     "execution_count": 4,
     "metadata": {},
     "output_type": "execute_result"
    }
   ],
   "source": [
    "oq.describe()"
   ]
  },
  {
   "cell_type": "code",
   "execution_count": 5,
   "metadata": {},
   "outputs": [
    {
     "data": {
      "text/plain": [
       "Series([], dtype: float64)"
      ]
     },
     "execution_count": 5,
     "metadata": {},
     "output_type": "execute_result"
    }
   ],
   "source": [
    "null_columns=oq.columns[oq.isnull().any()]\n",
    "oq[null_columns].isnull().sum()"
   ]
  },
  {
   "cell_type": "code",
   "execution_count": 6,
   "metadata": {},
   "outputs": [
    {
     "data": {
      "text/html": [
       "<div>\n",
       "<style scoped>\n",
       "    .dataframe tbody tr th:only-of-type {\n",
       "        vertical-align: middle;\n",
       "    }\n",
       "\n",
       "    .dataframe tbody tr th {\n",
       "        vertical-align: top;\n",
       "    }\n",
       "\n",
       "    .dataframe thead th {\n",
       "        text-align: right;\n",
       "    }\n",
       "</style>\n",
       "<table border=\"1\" class=\"dataframe\">\n",
       "  <thead>\n",
       "    <tr style=\"text-align: right;\">\n",
       "      <th></th>\n",
       "      <th>Unnamed: 0</th>\n",
       "      <th>ID</th>\n",
       "      <th>target</th>\n",
       "      <th>peakflow</th>\n",
       "      <th>नाव_275540</th>\n",
       "      <th>प्रयुक्ताची आद्याक्षरे_275547</th>\n",
       "      <th>पत्ता_275541</th>\n",
       "      <th>संपर्क क्रमांक:_275542</th>\n",
       "      <th>तुमची जन्मतारीख काय आहे ?_275543</th>\n",
       "      <th>वय_275546</th>\n",
       "      <th>...</th>\n",
       "      <th>जर हो, किती वर्ष पासून? _275700</th>\n",
       "      <th>हृदय रोग_275701</th>\n",
       "      <th>जर हो, किती वर्ष पासून? _275702</th>\n",
       "      <th>थाइरोइड विकार_275703</th>\n",
       "      <th>जर हो, किती वर्ष पासून? _275704</th>\n",
       "      <th>चिंता आणि निराशा_275705</th>\n",
       "      <th>जर हो, किती वर्ष पासून? _275706</th>\n",
       "      <th>हाड ठिसूळ होणे_275707</th>\n",
       "      <th>जर हो, किती वर्ष पासून? _275708</th>\n",
       "      <th>धन्यवाद सबमिट करा_275709</th>\n",
       "    </tr>\n",
       "  </thead>\n",
       "  <tbody>\n",
       "    <tr>\n",
       "      <th>0</th>\n",
       "      <td>False</td>\n",
       "      <td>False</td>\n",
       "      <td>False</td>\n",
       "      <td>False</td>\n",
       "      <td>False</td>\n",
       "      <td>False</td>\n",
       "      <td>False</td>\n",
       "      <td>False</td>\n",
       "      <td>False</td>\n",
       "      <td>False</td>\n",
       "      <td>...</td>\n",
       "      <td>False</td>\n",
       "      <td>False</td>\n",
       "      <td>False</td>\n",
       "      <td>False</td>\n",
       "      <td>False</td>\n",
       "      <td>False</td>\n",
       "      <td>False</td>\n",
       "      <td>False</td>\n",
       "      <td>False</td>\n",
       "      <td>False</td>\n",
       "    </tr>\n",
       "    <tr>\n",
       "      <th>1</th>\n",
       "      <td>False</td>\n",
       "      <td>False</td>\n",
       "      <td>False</td>\n",
       "      <td>False</td>\n",
       "      <td>False</td>\n",
       "      <td>False</td>\n",
       "      <td>False</td>\n",
       "      <td>False</td>\n",
       "      <td>False</td>\n",
       "      <td>False</td>\n",
       "      <td>...</td>\n",
       "      <td>False</td>\n",
       "      <td>False</td>\n",
       "      <td>False</td>\n",
       "      <td>False</td>\n",
       "      <td>False</td>\n",
       "      <td>False</td>\n",
       "      <td>False</td>\n",
       "      <td>False</td>\n",
       "      <td>False</td>\n",
       "      <td>False</td>\n",
       "    </tr>\n",
       "    <tr>\n",
       "      <th>2</th>\n",
       "      <td>False</td>\n",
       "      <td>False</td>\n",
       "      <td>False</td>\n",
       "      <td>False</td>\n",
       "      <td>False</td>\n",
       "      <td>False</td>\n",
       "      <td>False</td>\n",
       "      <td>False</td>\n",
       "      <td>False</td>\n",
       "      <td>False</td>\n",
       "      <td>...</td>\n",
       "      <td>False</td>\n",
       "      <td>False</td>\n",
       "      <td>False</td>\n",
       "      <td>False</td>\n",
       "      <td>False</td>\n",
       "      <td>False</td>\n",
       "      <td>False</td>\n",
       "      <td>False</td>\n",
       "      <td>False</td>\n",
       "      <td>False</td>\n",
       "    </tr>\n",
       "    <tr>\n",
       "      <th>3</th>\n",
       "      <td>False</td>\n",
       "      <td>False</td>\n",
       "      <td>False</td>\n",
       "      <td>False</td>\n",
       "      <td>False</td>\n",
       "      <td>False</td>\n",
       "      <td>False</td>\n",
       "      <td>False</td>\n",
       "      <td>False</td>\n",
       "      <td>False</td>\n",
       "      <td>...</td>\n",
       "      <td>False</td>\n",
       "      <td>False</td>\n",
       "      <td>False</td>\n",
       "      <td>False</td>\n",
       "      <td>False</td>\n",
       "      <td>False</td>\n",
       "      <td>False</td>\n",
       "      <td>False</td>\n",
       "      <td>False</td>\n",
       "      <td>False</td>\n",
       "    </tr>\n",
       "    <tr>\n",
       "      <th>4</th>\n",
       "      <td>False</td>\n",
       "      <td>False</td>\n",
       "      <td>False</td>\n",
       "      <td>False</td>\n",
       "      <td>False</td>\n",
       "      <td>False</td>\n",
       "      <td>False</td>\n",
       "      <td>False</td>\n",
       "      <td>False</td>\n",
       "      <td>False</td>\n",
       "      <td>...</td>\n",
       "      <td>False</td>\n",
       "      <td>False</td>\n",
       "      <td>False</td>\n",
       "      <td>False</td>\n",
       "      <td>False</td>\n",
       "      <td>False</td>\n",
       "      <td>False</td>\n",
       "      <td>False</td>\n",
       "      <td>False</td>\n",
       "      <td>False</td>\n",
       "    </tr>\n",
       "    <tr>\n",
       "      <th>...</th>\n",
       "      <td>...</td>\n",
       "      <td>...</td>\n",
       "      <td>...</td>\n",
       "      <td>...</td>\n",
       "      <td>...</td>\n",
       "      <td>...</td>\n",
       "      <td>...</td>\n",
       "      <td>...</td>\n",
       "      <td>...</td>\n",
       "      <td>...</td>\n",
       "      <td>...</td>\n",
       "      <td>...</td>\n",
       "      <td>...</td>\n",
       "      <td>...</td>\n",
       "      <td>...</td>\n",
       "      <td>...</td>\n",
       "      <td>...</td>\n",
       "      <td>...</td>\n",
       "      <td>...</td>\n",
       "      <td>...</td>\n",
       "      <td>...</td>\n",
       "    </tr>\n",
       "    <tr>\n",
       "      <th>803</th>\n",
       "      <td>False</td>\n",
       "      <td>False</td>\n",
       "      <td>False</td>\n",
       "      <td>False</td>\n",
       "      <td>False</td>\n",
       "      <td>False</td>\n",
       "      <td>False</td>\n",
       "      <td>False</td>\n",
       "      <td>False</td>\n",
       "      <td>False</td>\n",
       "      <td>...</td>\n",
       "      <td>False</td>\n",
       "      <td>False</td>\n",
       "      <td>False</td>\n",
       "      <td>False</td>\n",
       "      <td>False</td>\n",
       "      <td>False</td>\n",
       "      <td>False</td>\n",
       "      <td>False</td>\n",
       "      <td>False</td>\n",
       "      <td>False</td>\n",
       "    </tr>\n",
       "    <tr>\n",
       "      <th>804</th>\n",
       "      <td>False</td>\n",
       "      <td>False</td>\n",
       "      <td>False</td>\n",
       "      <td>False</td>\n",
       "      <td>False</td>\n",
       "      <td>False</td>\n",
       "      <td>False</td>\n",
       "      <td>False</td>\n",
       "      <td>False</td>\n",
       "      <td>False</td>\n",
       "      <td>...</td>\n",
       "      <td>False</td>\n",
       "      <td>False</td>\n",
       "      <td>False</td>\n",
       "      <td>False</td>\n",
       "      <td>False</td>\n",
       "      <td>False</td>\n",
       "      <td>False</td>\n",
       "      <td>False</td>\n",
       "      <td>False</td>\n",
       "      <td>False</td>\n",
       "    </tr>\n",
       "    <tr>\n",
       "      <th>805</th>\n",
       "      <td>False</td>\n",
       "      <td>False</td>\n",
       "      <td>False</td>\n",
       "      <td>False</td>\n",
       "      <td>False</td>\n",
       "      <td>False</td>\n",
       "      <td>False</td>\n",
       "      <td>False</td>\n",
       "      <td>False</td>\n",
       "      <td>False</td>\n",
       "      <td>...</td>\n",
       "      <td>False</td>\n",
       "      <td>False</td>\n",
       "      <td>False</td>\n",
       "      <td>False</td>\n",
       "      <td>False</td>\n",
       "      <td>False</td>\n",
       "      <td>False</td>\n",
       "      <td>False</td>\n",
       "      <td>False</td>\n",
       "      <td>False</td>\n",
       "    </tr>\n",
       "    <tr>\n",
       "      <th>806</th>\n",
       "      <td>False</td>\n",
       "      <td>False</td>\n",
       "      <td>False</td>\n",
       "      <td>False</td>\n",
       "      <td>False</td>\n",
       "      <td>False</td>\n",
       "      <td>False</td>\n",
       "      <td>False</td>\n",
       "      <td>False</td>\n",
       "      <td>False</td>\n",
       "      <td>...</td>\n",
       "      <td>False</td>\n",
       "      <td>False</td>\n",
       "      <td>False</td>\n",
       "      <td>False</td>\n",
       "      <td>False</td>\n",
       "      <td>False</td>\n",
       "      <td>False</td>\n",
       "      <td>False</td>\n",
       "      <td>False</td>\n",
       "      <td>False</td>\n",
       "    </tr>\n",
       "    <tr>\n",
       "      <th>807</th>\n",
       "      <td>False</td>\n",
       "      <td>False</td>\n",
       "      <td>False</td>\n",
       "      <td>False</td>\n",
       "      <td>False</td>\n",
       "      <td>False</td>\n",
       "      <td>False</td>\n",
       "      <td>False</td>\n",
       "      <td>False</td>\n",
       "      <td>False</td>\n",
       "      <td>...</td>\n",
       "      <td>False</td>\n",
       "      <td>False</td>\n",
       "      <td>False</td>\n",
       "      <td>False</td>\n",
       "      <td>False</td>\n",
       "      <td>False</td>\n",
       "      <td>False</td>\n",
       "      <td>False</td>\n",
       "      <td>False</td>\n",
       "      <td>False</td>\n",
       "    </tr>\n",
       "  </tbody>\n",
       "</table>\n",
       "<p>808 rows × 190 columns</p>\n",
       "</div>"
      ],
      "text/plain": [
       "     Unnamed: 0     ID  target  peakflow  नाव_275540  \\\n",
       "0         False  False   False     False       False   \n",
       "1         False  False   False     False       False   \n",
       "2         False  False   False     False       False   \n",
       "3         False  False   False     False       False   \n",
       "4         False  False   False     False       False   \n",
       "..          ...    ...     ...       ...         ...   \n",
       "803       False  False   False     False       False   \n",
       "804       False  False   False     False       False   \n",
       "805       False  False   False     False       False   \n",
       "806       False  False   False     False       False   \n",
       "807       False  False   False     False       False   \n",
       "\n",
       "     प्रयुक्ताची आद्याक्षरे_275547  पत्ता_275541  संपर्क क्रमांक:_275542  \\\n",
       "0                            False         False                   False   \n",
       "1                            False         False                   False   \n",
       "2                            False         False                   False   \n",
       "3                            False         False                   False   \n",
       "4                            False         False                   False   \n",
       "..                             ...           ...                     ...   \n",
       "803                          False         False                   False   \n",
       "804                          False         False                   False   \n",
       "805                          False         False                   False   \n",
       "806                          False         False                   False   \n",
       "807                          False         False                   False   \n",
       "\n",
       "     तुमची जन्मतारीख काय आहे ?_275543  वय_275546  ...  \\\n",
       "0                               False      False  ...   \n",
       "1                               False      False  ...   \n",
       "2                               False      False  ...   \n",
       "3                               False      False  ...   \n",
       "4                               False      False  ...   \n",
       "..                                ...        ...  ...   \n",
       "803                             False      False  ...   \n",
       "804                             False      False  ...   \n",
       "805                             False      False  ...   \n",
       "806                             False      False  ...   \n",
       "807                             False      False  ...   \n",
       "\n",
       "     जर हो, किती वर्ष पासून? _275700  हृदय रोग_275701  \\\n",
       "0                              False            False   \n",
       "1                              False            False   \n",
       "2                              False            False   \n",
       "3                              False            False   \n",
       "4                              False            False   \n",
       "..                               ...              ...   \n",
       "803                            False            False   \n",
       "804                            False            False   \n",
       "805                            False            False   \n",
       "806                            False            False   \n",
       "807                            False            False   \n",
       "\n",
       "     जर हो, किती वर्ष पासून? _275702  थाइरोइड विकार_275703  \\\n",
       "0                              False                 False   \n",
       "1                              False                 False   \n",
       "2                              False                 False   \n",
       "3                              False                 False   \n",
       "4                              False                 False   \n",
       "..                               ...                   ...   \n",
       "803                            False                 False   \n",
       "804                            False                 False   \n",
       "805                            False                 False   \n",
       "806                            False                 False   \n",
       "807                            False                 False   \n",
       "\n",
       "     जर हो, किती वर्ष पासून? _275704  चिंता आणि निराशा_275705  \\\n",
       "0                              False                    False   \n",
       "1                              False                    False   \n",
       "2                              False                    False   \n",
       "3                              False                    False   \n",
       "4                              False                    False   \n",
       "..                               ...                      ...   \n",
       "803                            False                    False   \n",
       "804                            False                    False   \n",
       "805                            False                    False   \n",
       "806                            False                    False   \n",
       "807                            False                    False   \n",
       "\n",
       "     जर हो, किती वर्ष पासून? _275706  हाड ठिसूळ होणे_275707  \\\n",
       "0                              False                  False   \n",
       "1                              False                  False   \n",
       "2                              False                  False   \n",
       "3                              False                  False   \n",
       "4                              False                  False   \n",
       "..                               ...                    ...   \n",
       "803                            False                  False   \n",
       "804                            False                  False   \n",
       "805                            False                  False   \n",
       "806                            False                  False   \n",
       "807                            False                  False   \n",
       "\n",
       "     जर हो, किती वर्ष पासून? _275708  धन्यवाद सबमिट करा_275709  \n",
       "0                              False                     False  \n",
       "1                              False                     False  \n",
       "2                              False                     False  \n",
       "3                              False                     False  \n",
       "4                              False                     False  \n",
       "..                               ...                       ...  \n",
       "803                            False                     False  \n",
       "804                            False                     False  \n",
       "805                            False                     False  \n",
       "806                            False                     False  \n",
       "807                            False                     False  \n",
       "\n",
       "[808 rows x 190 columns]"
      ]
     },
     "execution_count": 6,
     "metadata": {},
     "output_type": "execute_result"
    }
   ],
   "source": [
    "oq.isnull()"
   ]
  },
  {
   "cell_type": "code",
   "execution_count": 7,
   "metadata": {},
   "outputs": [
    {
     "data": {
      "text/plain": [
       "Unnamed: 0                         False\n",
       "ID                                 False\n",
       "target                             False\n",
       "peakflow                           False\n",
       "नाव_275540                         False\n",
       "                                   ...  \n",
       "चिंता आणि निराशा_275705            False\n",
       "जर हो, किती वर्ष पासून? _275706    False\n",
       "हाड ठिसूळ होणे_275707              False\n",
       "जर हो, किती वर्ष पासून? _275708    False\n",
       "धन्यवाद सबमिट करा_275709           False\n",
       "Length: 190, dtype: bool"
      ]
     },
     "execution_count": 7,
     "metadata": {},
     "output_type": "execute_result"
    }
   ],
   "source": [
    "oq.isnull().any()"
   ]
  },
  {
   "cell_type": "code",
   "execution_count": 8,
   "metadata": {},
   "outputs": [
    {
     "data": {
      "text/plain": [
       "Index([], dtype='object')"
      ]
     },
     "execution_count": 8,
     "metadata": {},
     "output_type": "execute_result"
    }
   ],
   "source": [
    "oq.columns[oq.isnull().any()]"
   ]
  },
  {
   "cell_type": "code",
   "execution_count": 9,
   "metadata": {},
   "outputs": [
    {
     "data": {
      "text/plain": [
       "Series([], dtype: float64)"
      ]
     },
     "execution_count": 9,
     "metadata": {},
     "output_type": "execute_result"
    }
   ],
   "source": [
    "oq[null_columns].isnull().sum()"
   ]
  },
  {
   "cell_type": "code",
   "execution_count": 10,
   "metadata": {},
   "outputs": [
    {
     "name": "stdout",
     "output_type": "stream",
     "text": [
      "Empty DataFrame\n",
      "Columns: []\n",
      "Index: []\n"
     ]
    }
   ],
   "source": [
    "print(oq[oq[\"peakflow\"].isnull()][null_columns])"
   ]
  },
  {
   "cell_type": "code",
   "execution_count": 11,
   "metadata": {},
   "outputs": [],
   "source": [
    "oq.fillna(0, inplace=True)"
   ]
  },
  {
   "cell_type": "code",
   "execution_count": 12,
   "metadata": {},
   "outputs": [
    {
     "data": {
      "text/plain": [
       "Unnamed: 0                         False\n",
       "ID                                 False\n",
       "target                             False\n",
       "peakflow                           False\n",
       "नाव_275540                         False\n",
       "                                   ...  \n",
       "चिंता आणि निराशा_275705            False\n",
       "जर हो, किती वर्ष पासून? _275706    False\n",
       "हाड ठिसूळ होणे_275707              False\n",
       "जर हो, किती वर्ष पासून? _275708    False\n",
       "धन्यवाद सबमिट करा_275709           False\n",
       "Length: 190, dtype: bool"
      ]
     },
     "execution_count": 12,
     "metadata": {},
     "output_type": "execute_result"
    }
   ],
   "source": [
    "oq.isnull().any()"
   ]
  },
  {
   "cell_type": "code",
   "execution_count": 13,
   "metadata": {},
   "outputs": [],
   "source": [
    "oq.to_excel(\"D:\\data\\CRF Final Data\\oscar/main oscar.xlsx\",sheet_name= '1')"
   ]
  },
  {
   "cell_type": "code",
   "execution_count": 2,
   "metadata": {},
   "outputs": [],
   "source": [
    "\n",
    "import numpy as np\n",
    "import pandas as pd\n",
    "import matplotlib.pyplot as plt\n",
    "import seaborn as sns"
   ]
  },
  {
   "cell_type": "code",
   "execution_count": 3,
   "metadata": {},
   "outputs": [],
   "source": [
    "from sklearn.model_selection import train_test_split\n",
    "from sklearn.ensemble import RandomForestClassifier\n",
    "from sklearn.metrics import accuracy_score\n",
    "from sklearn.feature_selection import VarianceThreshold"
   ]
  },
  {
   "cell_type": "code",
   "execution_count": 4,
   "metadata": {},
   "outputs": [
    {
     "data": {
      "text/html": [
       "<div>\n",
       "<style scoped>\n",
       "    .dataframe tbody tr th:only-of-type {\n",
       "        vertical-align: middle;\n",
       "    }\n",
       "\n",
       "    .dataframe tbody tr th {\n",
       "        vertical-align: top;\n",
       "    }\n",
       "\n",
       "    .dataframe thead th {\n",
       "        text-align: right;\n",
       "    }\n",
       "</style>\n",
       "<table border=\"1\" class=\"dataframe\">\n",
       "  <thead>\n",
       "    <tr style=\"text-align: right;\">\n",
       "      <th></th>\n",
       "      <th>Unnamed: 0</th>\n",
       "      <th>target</th>\n",
       "      <th>peakflow</th>\n",
       "      <th>वय_275546</th>\n",
       "      <th>लिंग: _275544</th>\n",
       "      <th>शिक्षण_275545</th>\n",
       "      <th>आपल्या घरातील कुटुंबातील सदस्यांची संख्या? _275550</th>\n",
       "      <th>घराविषयीची माहिती 0 तुमचे घर कोणत्या प्रकारचे आहे ?_275549</th>\n",
       "      <th>तुमच्या घरात किती खोल्या आहेत?_275551</th>\n",
       "      <th>तुमच्या घराला एकूण किती खिडक्या आहेत ?_275552</th>\n",
       "      <th>...</th>\n",
       "      <th>जर हो, किती वर्ष पासून? _275700</th>\n",
       "      <th>हृदय रोग_275701</th>\n",
       "      <th>जर हो, किती वर्ष पासून? _275702</th>\n",
       "      <th>थाइरोइड विकार_275703</th>\n",
       "      <th>जर हो, किती वर्ष पासून? _275704</th>\n",
       "      <th>चिंता आणि निराशा_275705</th>\n",
       "      <th>जर हो, किती वर्ष पासून? _275706</th>\n",
       "      <th>हाड ठिसूळ होणे_275707</th>\n",
       "      <th>जर हो, किती वर्ष पासून? _275708</th>\n",
       "      <th>धन्यवाद सबमिट करा_275709</th>\n",
       "    </tr>\n",
       "    <tr>\n",
       "      <th>ID</th>\n",
       "      <th></th>\n",
       "      <th></th>\n",
       "      <th></th>\n",
       "      <th></th>\n",
       "      <th></th>\n",
       "      <th></th>\n",
       "      <th></th>\n",
       "      <th></th>\n",
       "      <th></th>\n",
       "      <th></th>\n",
       "      <th></th>\n",
       "      <th></th>\n",
       "      <th></th>\n",
       "      <th></th>\n",
       "      <th></th>\n",
       "      <th></th>\n",
       "      <th></th>\n",
       "      <th></th>\n",
       "      <th></th>\n",
       "      <th></th>\n",
       "      <th></th>\n",
       "    </tr>\n",
       "  </thead>\n",
       "  <tbody>\n",
       "    <tr>\n",
       "      <td>A1</td>\n",
       "      <td>0</td>\n",
       "      <td>1</td>\n",
       "      <td>210</td>\n",
       "      <td>37</td>\n",
       "      <td>2</td>\n",
       "      <td>1</td>\n",
       "      <td>4</td>\n",
       "      <td>2</td>\n",
       "      <td>2</td>\n",
       "      <td>3</td>\n",
       "      <td>...</td>\n",
       "      <td>0</td>\n",
       "      <td>0</td>\n",
       "      <td>0</td>\n",
       "      <td>0</td>\n",
       "      <td>0</td>\n",
       "      <td>0</td>\n",
       "      <td>0</td>\n",
       "      <td>0</td>\n",
       "      <td>0</td>\n",
       "      <td>0</td>\n",
       "    </tr>\n",
       "    <tr>\n",
       "      <td>A2</td>\n",
       "      <td>1</td>\n",
       "      <td>0</td>\n",
       "      <td>550</td>\n",
       "      <td>33</td>\n",
       "      <td>2</td>\n",
       "      <td>3</td>\n",
       "      <td>4</td>\n",
       "      <td>2</td>\n",
       "      <td>2</td>\n",
       "      <td>3</td>\n",
       "      <td>...</td>\n",
       "      <td>0</td>\n",
       "      <td>0</td>\n",
       "      <td>0</td>\n",
       "      <td>0</td>\n",
       "      <td>0</td>\n",
       "      <td>0</td>\n",
       "      <td>0</td>\n",
       "      <td>0</td>\n",
       "      <td>0</td>\n",
       "      <td>0</td>\n",
       "    </tr>\n",
       "    <tr>\n",
       "      <td>A3</td>\n",
       "      <td>2</td>\n",
       "      <td>0</td>\n",
       "      <td>290</td>\n",
       "      <td>19</td>\n",
       "      <td>1</td>\n",
       "      <td>4</td>\n",
       "      <td>4</td>\n",
       "      <td>2</td>\n",
       "      <td>2</td>\n",
       "      <td>3</td>\n",
       "      <td>...</td>\n",
       "      <td>0</td>\n",
       "      <td>0</td>\n",
       "      <td>0</td>\n",
       "      <td>0</td>\n",
       "      <td>0</td>\n",
       "      <td>0</td>\n",
       "      <td>0</td>\n",
       "      <td>0</td>\n",
       "      <td>0</td>\n",
       "      <td>0</td>\n",
       "    </tr>\n",
       "    <tr>\n",
       "      <td>A4</td>\n",
       "      <td>3</td>\n",
       "      <td>0</td>\n",
       "      <td>340</td>\n",
       "      <td>44</td>\n",
       "      <td>2</td>\n",
       "      <td>3</td>\n",
       "      <td>4</td>\n",
       "      <td>2</td>\n",
       "      <td>3</td>\n",
       "      <td>3</td>\n",
       "      <td>...</td>\n",
       "      <td>0</td>\n",
       "      <td>0</td>\n",
       "      <td>0</td>\n",
       "      <td>0</td>\n",
       "      <td>0</td>\n",
       "      <td>0</td>\n",
       "      <td>0</td>\n",
       "      <td>0</td>\n",
       "      <td>0</td>\n",
       "      <td>0</td>\n",
       "    </tr>\n",
       "    <tr>\n",
       "      <td>A5</td>\n",
       "      <td>4</td>\n",
       "      <td>0</td>\n",
       "      <td>420</td>\n",
       "      <td>38</td>\n",
       "      <td>2</td>\n",
       "      <td>3</td>\n",
       "      <td>5</td>\n",
       "      <td>2</td>\n",
       "      <td>3</td>\n",
       "      <td>3</td>\n",
       "      <td>...</td>\n",
       "      <td>0</td>\n",
       "      <td>0</td>\n",
       "      <td>0</td>\n",
       "      <td>0</td>\n",
       "      <td>0</td>\n",
       "      <td>0</td>\n",
       "      <td>0</td>\n",
       "      <td>0</td>\n",
       "      <td>0</td>\n",
       "      <td>0</td>\n",
       "    </tr>\n",
       "  </tbody>\n",
       "</table>\n",
       "<p>5 rows × 183 columns</p>\n",
       "</div>"
      ],
      "text/plain": [
       "    Unnamed: 0  target  peakflow  वय_275546  लिंग: _275544  शिक्षण_275545  \\\n",
       "ID                                                                          \n",
       "A1           0       1       210         37              2              1   \n",
       "A2           1       0       550         33              2              3   \n",
       "A3           2       0       290         19              1              4   \n",
       "A4           3       0       340         44              2              3   \n",
       "A5           4       0       420         38              2              3   \n",
       "\n",
       "    आपल्या घरातील कुटुंबातील सदस्यांची संख्या? _275550  \\\n",
       "ID                                                       \n",
       "A1                                                  4    \n",
       "A2                                                  4    \n",
       "A3                                                  4    \n",
       "A4                                                  4    \n",
       "A5                                                  5    \n",
       "\n",
       "    घराविषयीची माहिती 0 तुमचे घर कोणत्या प्रकारचे आहे ?_275549  \\\n",
       "ID                                                               \n",
       "A1                                                  2            \n",
       "A2                                                  2            \n",
       "A3                                                  2            \n",
       "A4                                                  2            \n",
       "A5                                                  2            \n",
       "\n",
       "    तुमच्या घरात किती खोल्या आहेत?_275551  \\\n",
       "ID                                          \n",
       "A1                                      2   \n",
       "A2                                      2   \n",
       "A3                                      2   \n",
       "A4                                      3   \n",
       "A5                                      3   \n",
       "\n",
       "    तुमच्या घराला एकूण किती खिडक्या आहेत ?_275552  ...  \\\n",
       "ID                                                 ...   \n",
       "A1                                              3  ...   \n",
       "A2                                              3  ...   \n",
       "A3                                              3  ...   \n",
       "A4                                              3  ...   \n",
       "A5                                              3  ...   \n",
       "\n",
       "    जर हो, किती वर्ष पासून? _275700  हृदय रोग_275701  \\\n",
       "ID                                                     \n",
       "A1                                0                0   \n",
       "A2                                0                0   \n",
       "A3                                0                0   \n",
       "A4                                0                0   \n",
       "A5                                0                0   \n",
       "\n",
       "    जर हो, किती वर्ष पासून? _275702  थाइरोइड विकार_275703  \\\n",
       "ID                                                          \n",
       "A1                                0                     0   \n",
       "A2                                0                     0   \n",
       "A3                                0                     0   \n",
       "A4                                0                     0   \n",
       "A5                                0                     0   \n",
       "\n",
       "    जर हो, किती वर्ष पासून? _275704  चिंता आणि निराशा_275705  \\\n",
       "ID                                                             \n",
       "A1                                0                        0   \n",
       "A2                                0                        0   \n",
       "A3                                0                        0   \n",
       "A4                                0                        0   \n",
       "A5                                0                        0   \n",
       "\n",
       "    जर हो, किती वर्ष पासून? _275706  हाड ठिसूळ होणे_275707  \\\n",
       "ID                                                           \n",
       "A1                                0                      0   \n",
       "A2                                0                      0   \n",
       "A3                                0                      0   \n",
       "A4                                0                      0   \n",
       "A5                                0                      0   \n",
       "\n",
       "    जर हो, किती वर्ष पासून? _275708  धन्यवाद सबमिट करा_275709  \n",
       "ID                                                             \n",
       "A1                                0                         0  \n",
       "A2                                0                         0  \n",
       "A3                                0                         0  \n",
       "A4                                0                         0  \n",
       "A5                                0                         0  \n",
       "\n",
       "[5 rows x 183 columns]"
      ]
     },
     "execution_count": 4,
     "metadata": {},
     "output_type": "execute_result"
    }
   ],
   "source": [
    "data = pd.read_csv(\"D:\\data\\CRF Final Data\\oscar/main oscar.csv\")\n",
    "data.head()\n",
    "data = data.set_index(\"ID\")\n",
    "data.head()"
   ]
  },
  {
   "cell_type": "code",
   "execution_count": 5,
   "metadata": {},
   "outputs": [
    {
     "data": {
      "text/plain": [
       "((798, 182), (798,))"
      ]
     },
     "execution_count": 5,
     "metadata": {},
     "output_type": "execute_result"
    }
   ],
   "source": [
    "X = data.drop('target', axis = 1)\n",
    "y = data['target']\n",
    "\n",
    "X.shape, y.shape"
   ]
  },
  {
   "cell_type": "code",
   "execution_count": 6,
   "metadata": {},
   "outputs": [],
   "source": [
    "X_train, X_test, y_train, y_test = train_test_split(X, y, test_size = 0.2, random_state = 0, stratify = y)"
   ]
  },
  {
   "cell_type": "code",
   "execution_count": 42,
   "metadata": {
    "scrolled": true
   },
   "outputs": [
    {
     "data": {
      "text/plain": [
       "ID\n",
       "A1     4\n",
       "A2     4\n",
       "A3     4\n",
       "A4     4\n",
       "A5     4\n",
       "      ..\n",
       "U92    4\n",
       "U93    4\n",
       "U94    4\n",
       "U95    5\n",
       "U96    4\n",
       "Name: तुम्ही किती वेळा फळ खाता ?_275659, Length: 798, dtype: int64"
      ]
     },
     "execution_count": 42,
     "metadata": {},
     "output_type": "execute_result"
    }
   ],
   "source": [
    "data.iloc[:,110]"
   ]
  },
  {
   "cell_type": "code",
   "execution_count": 15,
   "metadata": {},
   "outputs": [
    {
     "data": {
      "text/plain": [
       "ID\n",
       "A50      5\n",
       "M2       1\n",
       "M29      1\n",
       "M114     1\n",
       "M128     1\n",
       "M131     2\n",
       "M132     2\n",
       "M137     2\n",
       "M139    10\n",
       "M141    40\n",
       "N16      1\n",
       "N197     2\n",
       "N248     4\n",
       "Name: सिगारेट संख्या / दर दिवशी, dtype: int64"
      ]
     },
     "execution_count": 15,
     "metadata": {},
     "output_type": "execute_result"
    }
   ],
   "source": [
    "data.iloc[:,18][data.iloc[:,18]>0]"
   ]
  },
  {
   "cell_type": "code",
   "execution_count": 40,
   "metadata": {},
   "outputs": [
    {
     "data": {
      "text/plain": [
       "-0.014755788579226646"
      ]
     },
     "execution_count": 40,
     "metadata": {},
     "output_type": "execute_result"
    }
   ],
   "source": [
    "\n",
    "data['target'].corr(data['सिगारेट संख्या / दर दिवशी'])"
   ]
  },
  {
   "cell_type": "code",
   "execution_count": 43,
   "metadata": {},
   "outputs": [
    {
     "data": {
      "text/html": [
       "<div>\n",
       "<style scoped>\n",
       "    .dataframe tbody tr th:only-of-type {\n",
       "        vertical-align: middle;\n",
       "    }\n",
       "\n",
       "    .dataframe tbody tr th {\n",
       "        vertical-align: top;\n",
       "    }\n",
       "\n",
       "    .dataframe thead th {\n",
       "        text-align: right;\n",
       "    }\n",
       "</style>\n",
       "<table border=\"1\" class=\"dataframe\">\n",
       "  <thead>\n",
       "    <tr style=\"text-align: right;\">\n",
       "      <th></th>\n",
       "      <th>Unnamed: 0</th>\n",
       "      <th>target</th>\n",
       "      <th>peakflow</th>\n",
       "      <th>वय_275546</th>\n",
       "      <th>लिंग: _275544</th>\n",
       "      <th>शिक्षण_275545</th>\n",
       "      <th>आपल्या घरातील कुटुंबातील सदस्यांची संख्या? _275550</th>\n",
       "      <th>घराविषयीची माहिती 0 तुमचे घर कोणत्या प्रकारचे आहे ?_275549</th>\n",
       "      <th>तुमच्या घरात किती खोल्या आहेत?_275551</th>\n",
       "      <th>तुमच्या घराला एकूण किती खिडक्या आहेत ?_275552</th>\n",
       "      <th>...</th>\n",
       "      <th>जर हो, किती वर्ष पासून? _275700</th>\n",
       "      <th>हृदय रोग_275701</th>\n",
       "      <th>जर हो, किती वर्ष पासून? _275702</th>\n",
       "      <th>थाइरोइड विकार_275703</th>\n",
       "      <th>जर हो, किती वर्ष पासून? _275704</th>\n",
       "      <th>चिंता आणि निराशा_275705</th>\n",
       "      <th>जर हो, किती वर्ष पासून? _275706</th>\n",
       "      <th>हाड ठिसूळ होणे_275707</th>\n",
       "      <th>जर हो, किती वर्ष पासून? _275708</th>\n",
       "      <th>धन्यवाद सबमिट करा_275709</th>\n",
       "    </tr>\n",
       "    <tr>\n",
       "      <th>ID</th>\n",
       "      <th></th>\n",
       "      <th></th>\n",
       "      <th></th>\n",
       "      <th></th>\n",
       "      <th></th>\n",
       "      <th></th>\n",
       "      <th></th>\n",
       "      <th></th>\n",
       "      <th></th>\n",
       "      <th></th>\n",
       "      <th></th>\n",
       "      <th></th>\n",
       "      <th></th>\n",
       "      <th></th>\n",
       "      <th></th>\n",
       "      <th></th>\n",
       "      <th></th>\n",
       "      <th></th>\n",
       "      <th></th>\n",
       "      <th></th>\n",
       "      <th></th>\n",
       "    </tr>\n",
       "  </thead>\n",
       "  <tbody>\n",
       "    <tr>\n",
       "      <td>A1</td>\n",
       "      <td>0</td>\n",
       "      <td>1</td>\n",
       "      <td>210</td>\n",
       "      <td>37</td>\n",
       "      <td>2</td>\n",
       "      <td>1</td>\n",
       "      <td>4</td>\n",
       "      <td>2</td>\n",
       "      <td>2</td>\n",
       "      <td>3</td>\n",
       "      <td>...</td>\n",
       "      <td>0</td>\n",
       "      <td>0</td>\n",
       "      <td>0</td>\n",
       "      <td>0</td>\n",
       "      <td>0</td>\n",
       "      <td>0</td>\n",
       "      <td>0</td>\n",
       "      <td>0</td>\n",
       "      <td>0</td>\n",
       "      <td>0</td>\n",
       "    </tr>\n",
       "    <tr>\n",
       "      <td>A2</td>\n",
       "      <td>1</td>\n",
       "      <td>0</td>\n",
       "      <td>550</td>\n",
       "      <td>33</td>\n",
       "      <td>2</td>\n",
       "      <td>3</td>\n",
       "      <td>4</td>\n",
       "      <td>2</td>\n",
       "      <td>2</td>\n",
       "      <td>3</td>\n",
       "      <td>...</td>\n",
       "      <td>0</td>\n",
       "      <td>0</td>\n",
       "      <td>0</td>\n",
       "      <td>0</td>\n",
       "      <td>0</td>\n",
       "      <td>0</td>\n",
       "      <td>0</td>\n",
       "      <td>0</td>\n",
       "      <td>0</td>\n",
       "      <td>0</td>\n",
       "    </tr>\n",
       "    <tr>\n",
       "      <td>A3</td>\n",
       "      <td>2</td>\n",
       "      <td>0</td>\n",
       "      <td>290</td>\n",
       "      <td>19</td>\n",
       "      <td>1</td>\n",
       "      <td>4</td>\n",
       "      <td>4</td>\n",
       "      <td>2</td>\n",
       "      <td>2</td>\n",
       "      <td>3</td>\n",
       "      <td>...</td>\n",
       "      <td>0</td>\n",
       "      <td>0</td>\n",
       "      <td>0</td>\n",
       "      <td>0</td>\n",
       "      <td>0</td>\n",
       "      <td>0</td>\n",
       "      <td>0</td>\n",
       "      <td>0</td>\n",
       "      <td>0</td>\n",
       "      <td>0</td>\n",
       "    </tr>\n",
       "    <tr>\n",
       "      <td>A4</td>\n",
       "      <td>3</td>\n",
       "      <td>0</td>\n",
       "      <td>340</td>\n",
       "      <td>44</td>\n",
       "      <td>2</td>\n",
       "      <td>3</td>\n",
       "      <td>4</td>\n",
       "      <td>2</td>\n",
       "      <td>3</td>\n",
       "      <td>3</td>\n",
       "      <td>...</td>\n",
       "      <td>0</td>\n",
       "      <td>0</td>\n",
       "      <td>0</td>\n",
       "      <td>0</td>\n",
       "      <td>0</td>\n",
       "      <td>0</td>\n",
       "      <td>0</td>\n",
       "      <td>0</td>\n",
       "      <td>0</td>\n",
       "      <td>0</td>\n",
       "    </tr>\n",
       "    <tr>\n",
       "      <td>A5</td>\n",
       "      <td>4</td>\n",
       "      <td>0</td>\n",
       "      <td>420</td>\n",
       "      <td>38</td>\n",
       "      <td>2</td>\n",
       "      <td>3</td>\n",
       "      <td>5</td>\n",
       "      <td>2</td>\n",
       "      <td>3</td>\n",
       "      <td>3</td>\n",
       "      <td>...</td>\n",
       "      <td>0</td>\n",
       "      <td>0</td>\n",
       "      <td>0</td>\n",
       "      <td>0</td>\n",
       "      <td>0</td>\n",
       "      <td>0</td>\n",
       "      <td>0</td>\n",
       "      <td>0</td>\n",
       "      <td>0</td>\n",
       "      <td>0</td>\n",
       "    </tr>\n",
       "    <tr>\n",
       "      <td>...</td>\n",
       "      <td>...</td>\n",
       "      <td>...</td>\n",
       "      <td>...</td>\n",
       "      <td>...</td>\n",
       "      <td>...</td>\n",
       "      <td>...</td>\n",
       "      <td>...</td>\n",
       "      <td>...</td>\n",
       "      <td>...</td>\n",
       "      <td>...</td>\n",
       "      <td>...</td>\n",
       "      <td>...</td>\n",
       "      <td>...</td>\n",
       "      <td>...</td>\n",
       "      <td>...</td>\n",
       "      <td>...</td>\n",
       "      <td>...</td>\n",
       "      <td>...</td>\n",
       "      <td>...</td>\n",
       "      <td>...</td>\n",
       "      <td>...</td>\n",
       "    </tr>\n",
       "    <tr>\n",
       "      <td>U92</td>\n",
       "      <td>803</td>\n",
       "      <td>0</td>\n",
       "      <td>210</td>\n",
       "      <td>45</td>\n",
       "      <td>2</td>\n",
       "      <td>2</td>\n",
       "      <td>5</td>\n",
       "      <td>2</td>\n",
       "      <td>3</td>\n",
       "      <td>2</td>\n",
       "      <td>...</td>\n",
       "      <td>0</td>\n",
       "      <td>0</td>\n",
       "      <td>0</td>\n",
       "      <td>0</td>\n",
       "      <td>0</td>\n",
       "      <td>0</td>\n",
       "      <td>0</td>\n",
       "      <td>0</td>\n",
       "      <td>0</td>\n",
       "      <td>0</td>\n",
       "    </tr>\n",
       "    <tr>\n",
       "      <td>U93</td>\n",
       "      <td>804</td>\n",
       "      <td>0</td>\n",
       "      <td>220</td>\n",
       "      <td>54</td>\n",
       "      <td>2</td>\n",
       "      <td>3</td>\n",
       "      <td>5</td>\n",
       "      <td>2</td>\n",
       "      <td>3</td>\n",
       "      <td>3</td>\n",
       "      <td>...</td>\n",
       "      <td>0</td>\n",
       "      <td>0</td>\n",
       "      <td>0</td>\n",
       "      <td>0</td>\n",
       "      <td>0</td>\n",
       "      <td>0</td>\n",
       "      <td>0</td>\n",
       "      <td>1</td>\n",
       "      <td>6</td>\n",
       "      <td>0</td>\n",
       "    </tr>\n",
       "    <tr>\n",
       "      <td>U94</td>\n",
       "      <td>805</td>\n",
       "      <td>0</td>\n",
       "      <td>210</td>\n",
       "      <td>67</td>\n",
       "      <td>2</td>\n",
       "      <td>1</td>\n",
       "      <td>5</td>\n",
       "      <td>2</td>\n",
       "      <td>3</td>\n",
       "      <td>2</td>\n",
       "      <td>...</td>\n",
       "      <td>0</td>\n",
       "      <td>0</td>\n",
       "      <td>0</td>\n",
       "      <td>0</td>\n",
       "      <td>0</td>\n",
       "      <td>0</td>\n",
       "      <td>0</td>\n",
       "      <td>1</td>\n",
       "      <td>7</td>\n",
       "      <td>0</td>\n",
       "    </tr>\n",
       "    <tr>\n",
       "      <td>U95</td>\n",
       "      <td>806</td>\n",
       "      <td>0</td>\n",
       "      <td>390</td>\n",
       "      <td>56</td>\n",
       "      <td>1</td>\n",
       "      <td>2</td>\n",
       "      <td>5</td>\n",
       "      <td>2</td>\n",
       "      <td>2</td>\n",
       "      <td>2</td>\n",
       "      <td>...</td>\n",
       "      <td>0</td>\n",
       "      <td>0</td>\n",
       "      <td>0</td>\n",
       "      <td>0</td>\n",
       "      <td>0</td>\n",
       "      <td>0</td>\n",
       "      <td>0</td>\n",
       "      <td>1</td>\n",
       "      <td>8</td>\n",
       "      <td>0</td>\n",
       "    </tr>\n",
       "    <tr>\n",
       "      <td>U96</td>\n",
       "      <td>807</td>\n",
       "      <td>0</td>\n",
       "      <td>410</td>\n",
       "      <td>31</td>\n",
       "      <td>1</td>\n",
       "      <td>3</td>\n",
       "      <td>4</td>\n",
       "      <td>2</td>\n",
       "      <td>2</td>\n",
       "      <td>1</td>\n",
       "      <td>...</td>\n",
       "      <td>0</td>\n",
       "      <td>0</td>\n",
       "      <td>0</td>\n",
       "      <td>0</td>\n",
       "      <td>0</td>\n",
       "      <td>0</td>\n",
       "      <td>0</td>\n",
       "      <td>0</td>\n",
       "      <td>0</td>\n",
       "      <td>0</td>\n",
       "    </tr>\n",
       "  </tbody>\n",
       "</table>\n",
       "<p>798 rows × 183 columns</p>\n",
       "</div>"
      ],
      "text/plain": [
       "     Unnamed: 0  target  peakflow  वय_275546  लिंग: _275544  शिक्षण_275545  \\\n",
       "ID                                                                           \n",
       "A1            0       1       210         37              2              1   \n",
       "A2            1       0       550         33              2              3   \n",
       "A3            2       0       290         19              1              4   \n",
       "A4            3       0       340         44              2              3   \n",
       "A5            4       0       420         38              2              3   \n",
       "..          ...     ...       ...        ...            ...            ...   \n",
       "U92         803       0       210         45              2              2   \n",
       "U93         804       0       220         54              2              3   \n",
       "U94         805       0       210         67              2              1   \n",
       "U95         806       0       390         56              1              2   \n",
       "U96         807       0       410         31              1              3   \n",
       "\n",
       "     आपल्या घरातील कुटुंबातील सदस्यांची संख्या? _275550  \\\n",
       "ID                                                        \n",
       "A1                                                   4    \n",
       "A2                                                   4    \n",
       "A3                                                   4    \n",
       "A4                                                   4    \n",
       "A5                                                   5    \n",
       "..                                                 ...    \n",
       "U92                                                  5    \n",
       "U93                                                  5    \n",
       "U94                                                  5    \n",
       "U95                                                  5    \n",
       "U96                                                  4    \n",
       "\n",
       "     घराविषयीची माहिती 0 तुमचे घर कोणत्या प्रकारचे आहे ?_275549  \\\n",
       "ID                                                                \n",
       "A1                                                   2            \n",
       "A2                                                   2            \n",
       "A3                                                   2            \n",
       "A4                                                   2            \n",
       "A5                                                   2            \n",
       "..                                                 ...            \n",
       "U92                                                  2            \n",
       "U93                                                  2            \n",
       "U94                                                  2            \n",
       "U95                                                  2            \n",
       "U96                                                  2            \n",
       "\n",
       "     तुमच्या घरात किती खोल्या आहेत?_275551  \\\n",
       "ID                                           \n",
       "A1                                       2   \n",
       "A2                                       2   \n",
       "A3                                       2   \n",
       "A4                                       3   \n",
       "A5                                       3   \n",
       "..                                     ...   \n",
       "U92                                      3   \n",
       "U93                                      3   \n",
       "U94                                      3   \n",
       "U95                                      2   \n",
       "U96                                      2   \n",
       "\n",
       "     तुमच्या घराला एकूण किती खिडक्या आहेत ?_275552  ...  \\\n",
       "ID                                                  ...   \n",
       "A1                                               3  ...   \n",
       "A2                                               3  ...   \n",
       "A3                                               3  ...   \n",
       "A4                                               3  ...   \n",
       "A5                                               3  ...   \n",
       "..                                             ...  ...   \n",
       "U92                                              2  ...   \n",
       "U93                                              3  ...   \n",
       "U94                                              2  ...   \n",
       "U95                                              2  ...   \n",
       "U96                                              1  ...   \n",
       "\n",
       "     जर हो, किती वर्ष पासून? _275700  हृदय रोग_275701  \\\n",
       "ID                                                      \n",
       "A1                                 0                0   \n",
       "A2                                 0                0   \n",
       "A3                                 0                0   \n",
       "A4                                 0                0   \n",
       "A5                                 0                0   \n",
       "..                               ...              ...   \n",
       "U92                                0                0   \n",
       "U93                                0                0   \n",
       "U94                                0                0   \n",
       "U95                                0                0   \n",
       "U96                                0                0   \n",
       "\n",
       "     जर हो, किती वर्ष पासून? _275702  थाइरोइड विकार_275703  \\\n",
       "ID                                                           \n",
       "A1                                 0                     0   \n",
       "A2                                 0                     0   \n",
       "A3                                 0                     0   \n",
       "A4                                 0                     0   \n",
       "A5                                 0                     0   \n",
       "..                               ...                   ...   \n",
       "U92                                0                     0   \n",
       "U93                                0                     0   \n",
       "U94                                0                     0   \n",
       "U95                                0                     0   \n",
       "U96                                0                     0   \n",
       "\n",
       "     जर हो, किती वर्ष पासून? _275704  चिंता आणि निराशा_275705  \\\n",
       "ID                                                              \n",
       "A1                                 0                        0   \n",
       "A2                                 0                        0   \n",
       "A3                                 0                        0   \n",
       "A4                                 0                        0   \n",
       "A5                                 0                        0   \n",
       "..                               ...                      ...   \n",
       "U92                                0                        0   \n",
       "U93                                0                        0   \n",
       "U94                                0                        0   \n",
       "U95                                0                        0   \n",
       "U96                                0                        0   \n",
       "\n",
       "     जर हो, किती वर्ष पासून? _275706  हाड ठिसूळ होणे_275707  \\\n",
       "ID                                                            \n",
       "A1                                 0                      0   \n",
       "A2                                 0                      0   \n",
       "A3                                 0                      0   \n",
       "A4                                 0                      0   \n",
       "A5                                 0                      0   \n",
       "..                               ...                    ...   \n",
       "U92                                0                      0   \n",
       "U93                                0                      1   \n",
       "U94                                0                      1   \n",
       "U95                                0                      1   \n",
       "U96                                0                      0   \n",
       "\n",
       "     जर हो, किती वर्ष पासून? _275708  धन्यवाद सबमिट करा_275709  \n",
       "ID                                                              \n",
       "A1                                 0                         0  \n",
       "A2                                 0                         0  \n",
       "A3                                 0                         0  \n",
       "A4                                 0                         0  \n",
       "A5                                 0                         0  \n",
       "..                               ...                       ...  \n",
       "U92                                0                         0  \n",
       "U93                                6                         0  \n",
       "U94                                7                         0  \n",
       "U95                                8                         0  \n",
       "U96                                0                         0  \n",
       "\n",
       "[798 rows x 183 columns]"
      ]
     },
     "execution_count": 43,
     "metadata": {},
     "output_type": "execute_result"
    }
   ],
   "source": [
    "data.loc[data.iloc[:,110]>0]"
   ]
  },
  {
   "cell_type": "markdown",
   "metadata": {},
   "source": [
    "# Constant Features Removal"
   ]
  },
  {
   "cell_type": "code",
   "execution_count": 235,
   "metadata": {},
   "outputs": [
    {
     "data": {
      "text/plain": [
       "VarianceThreshold(threshold=0)"
      ]
     },
     "execution_count": 235,
     "metadata": {},
     "output_type": "execute_result"
    }
   ],
   "source": [
    "constant_filter = VarianceThreshold(threshold=0)\n",
    "constant_filter.fit(X_train)"
   ]
  },
  {
   "cell_type": "code",
   "execution_count": 236,
   "metadata": {},
   "outputs": [
    {
     "data": {
      "text/plain": [
       "155"
      ]
     },
     "execution_count": 236,
     "metadata": {},
     "output_type": "execute_result"
    }
   ],
   "source": [
    "\n",
    "constant_filter.get_support().sum()"
   ]
  },
  {
   "cell_type": "code",
   "execution_count": 237,
   "metadata": {},
   "outputs": [
    {
     "data": {
      "text/plain": [
       "[False,\n",
       " False,\n",
       " False,\n",
       " False,\n",
       " False,\n",
       " False,\n",
       " False,\n",
       " False,\n",
       " False,\n",
       " False,\n",
       " False,\n",
       " False,\n",
       " False,\n",
       " False,\n",
       " False,\n",
       " True,\n",
       " False,\n",
       " False,\n",
       " False,\n",
       " False,\n",
       " False,\n",
       " True,\n",
       " False,\n",
       " False,\n",
       " False,\n",
       " False,\n",
       " False,\n",
       " True,\n",
       " True,\n",
       " False,\n",
       " False,\n",
       " False,\n",
       " False,\n",
       " False,\n",
       " False,\n",
       " False,\n",
       " True,\n",
       " False,\n",
       " False,\n",
       " False,\n",
       " True,\n",
       " False,\n",
       " False,\n",
       " False,\n",
       " True,\n",
       " False,\n",
       " False,\n",
       " False,\n",
       " True,\n",
       " False,\n",
       " False,\n",
       " False,\n",
       " True,\n",
       " False,\n",
       " False,\n",
       " False,\n",
       " False,\n",
       " False,\n",
       " False,\n",
       " True,\n",
       " False,\n",
       " False,\n",
       " True,\n",
       " False,\n",
       " False,\n",
       " False,\n",
       " True,\n",
       " False,\n",
       " False,\n",
       " True,\n",
       " False,\n",
       " False,\n",
       " False,\n",
       " False,\n",
       " False,\n",
       " True,\n",
       " False,\n",
       " False,\n",
       " True,\n",
       " False,\n",
       " False,\n",
       " True,\n",
       " False,\n",
       " False,\n",
       " True,\n",
       " False,\n",
       " False,\n",
       " True,\n",
       " False,\n",
       " False,\n",
       " True,\n",
       " False,\n",
       " False,\n",
       " True,\n",
       " False,\n",
       " False,\n",
       " True,\n",
       " False,\n",
       " False,\n",
       " False,\n",
       " False,\n",
       " False,\n",
       " False,\n",
       " False,\n",
       " False,\n",
       " True,\n",
       " False,\n",
       " False,\n",
       " False,\n",
       " False,\n",
       " False,\n",
       " False,\n",
       " False,\n",
       " False,\n",
       " False,\n",
       " False,\n",
       " False,\n",
       " False,\n",
       " False,\n",
       " True,\n",
       " False,\n",
       " True,\n",
       " False,\n",
       " False,\n",
       " True,\n",
       " False,\n",
       " False,\n",
       " False,\n",
       " False,\n",
       " False,\n",
       " False,\n",
       " False,\n",
       " False,\n",
       " False,\n",
       " False,\n",
       " False,\n",
       " False,\n",
       " False,\n",
       " False,\n",
       " False,\n",
       " False,\n",
       " False,\n",
       " False,\n",
       " False,\n",
       " False,\n",
       " False,\n",
       " False,\n",
       " False,\n",
       " False,\n",
       " False,\n",
       " False,\n",
       " False,\n",
       " False,\n",
       " False,\n",
       " False,\n",
       " False,\n",
       " False,\n",
       " False,\n",
       " False,\n",
       " False,\n",
       " False,\n",
       " False,\n",
       " False,\n",
       " False,\n",
       " False,\n",
       " False,\n",
       " False,\n",
       " False,\n",
       " True,\n",
       " False,\n",
       " False,\n",
       " False,\n",
       " False,\n",
       " False,\n",
       " False,\n",
       " False,\n",
       " False,\n",
       " False,\n",
       " False,\n",
       " False,\n",
       " False,\n",
       " True]"
      ]
     },
     "execution_count": 237,
     "metadata": {},
     "output_type": "execute_result"
    }
   ],
   "source": [
    "\n",
    "constant_list = [not temp for temp in constant_filter.get_support()]\n",
    "constant_list"
   ]
  },
  {
   "cell_type": "code",
   "execution_count": 172,
   "metadata": {},
   "outputs": [
    {
     "data": {
      "text/plain": [
       "Index(['Row No', 'Row No.1', 'हुक्का_275570',\n",
       "       'जर हो, किती वर्षे पासून धूम्रपान करत आहे?_275571', 'Row No.2',\n",
       "       'Row No.3', 'Row No.4', 'Row No.5', 'Row No.6', 'Row No.7', 'Row No.8',\n",
       "       'Row No.9', 'Row No.10', 'Row No.11', 'Row No.12', 'Row No.13',\n",
       "       'Row No.14', 'Row No.15', 'Row No.16', 'Row No.17', 'Row No.18',\n",
       "       'इतर करणीभूत घटक 0 \\n\\nतुमच्या फुफ्फुसांवर कधी शस्त्रक्रिया झाली आहे का ? _275656',\n",
       "       'तुमचा खोकला वर्षातील कोणत्या ऋतूत अधिक वाढत होता / आहे ?_275668_उन्हाळा',\n",
       "       'तुमचा खोकला वर्षातील कोणत्या ऋतूत अधिक वाढत होता / आहे ?_275668_कोणत्याही नाही',\n",
       "       'तुमचा खोकला दिवसभरात कोणत्यावेळी सर्वात जास्त प्रमाणात होता / आहे ?_276711_सकाळी',\n",
       "       'सहरुग्ण परिस्थिती_275717', 'धन्यवाद सबमिट करा_275709'],\n",
       "      dtype='object')"
      ]
     },
     "execution_count": 172,
     "metadata": {},
     "output_type": "execute_result"
    }
   ],
   "source": [
    "X.columns[constant_list]"
   ]
  },
  {
   "cell_type": "code",
   "execution_count": 173,
   "metadata": {},
   "outputs": [],
   "source": [
    "X_train_filter = constant_filter.transform(X_train)\n",
    "X_test_filter = constant_filter.transform(X_test)"
   ]
  },
  {
   "cell_type": "code",
   "execution_count": 174,
   "metadata": {},
   "outputs": [
    {
     "data": {
      "text/plain": [
       "((638, 155), (160, 155), (638, 182))"
      ]
     },
     "execution_count": 174,
     "metadata": {},
     "output_type": "execute_result"
    }
   ],
   "source": [
    "X_train_filter.shape, X_test_filter.shape, X_train.shape"
   ]
  },
  {
   "cell_type": "markdown",
   "metadata": {},
   "source": [
    "# Quasi constant feature removal"
   ]
  },
  {
   "cell_type": "code",
   "execution_count": 175,
   "metadata": {},
   "outputs": [],
   "source": [
    "quasi_constant_filter = VarianceThreshold(threshold=0.01)"
   ]
  },
  {
   "cell_type": "code",
   "execution_count": 176,
   "metadata": {},
   "outputs": [
    {
     "data": {
      "text/plain": [
       "VarianceThreshold(threshold=0.01)"
      ]
     },
     "execution_count": 176,
     "metadata": {},
     "output_type": "execute_result"
    }
   ],
   "source": [
    "quasi_constant_filter.fit(X_train_filter)"
   ]
  },
  {
   "cell_type": "code",
   "execution_count": 177,
   "metadata": {},
   "outputs": [
    {
     "data": {
      "text/plain": [
       "146"
      ]
     },
     "execution_count": 177,
     "metadata": {},
     "output_type": "execute_result"
    }
   ],
   "source": [
    "quasi_constant_filter.get_support().sum()"
   ]
  },
  {
   "cell_type": "code",
   "execution_count": 178,
   "metadata": {},
   "outputs": [],
   "source": [
    "\n",
    "X_train_quasi_filter = quasi_constant_filter.transform(X_train_filter)\n",
    "X_test_quasi_filter = quasi_constant_filter.transform(X_test_filter)"
   ]
  },
  {
   "cell_type": "code",
   "execution_count": 179,
   "metadata": {},
   "outputs": [
    {
     "data": {
      "text/plain": [
       "((638, 146), (160, 146))"
      ]
     },
     "execution_count": 179,
     "metadata": {},
     "output_type": "execute_result"
    }
   ],
   "source": [
    "X_train_quasi_filter.shape, X_test_quasi_filter.shape"
   ]
  },
  {
   "cell_type": "code",
   "execution_count": 180,
   "metadata": {},
   "outputs": [],
   "source": [
    "X_train_T = X_train_quasi_filter.T\n",
    "X_test_T = X_test_quasi_filter.T"
   ]
  },
  {
   "cell_type": "code",
   "execution_count": 181,
   "metadata": {},
   "outputs": [
    {
     "data": {
      "text/plain": [
       "numpy.ndarray"
      ]
     },
     "execution_count": 181,
     "metadata": {},
     "output_type": "execute_result"
    }
   ],
   "source": [
    "type(X_train_T)"
   ]
  },
  {
   "cell_type": "code",
   "execution_count": 182,
   "metadata": {},
   "outputs": [],
   "source": [
    "X_train_T = pd.DataFrame(X_train_T)\n",
    "X_test_T = pd.DataFrame(X_test_T)"
   ]
  },
  {
   "cell_type": "code",
   "execution_count": 183,
   "metadata": {},
   "outputs": [
    {
     "data": {
      "text/plain": [
       "((146, 638), (146, 160))"
      ]
     },
     "execution_count": 183,
     "metadata": {},
     "output_type": "execute_result"
    }
   ],
   "source": [
    "X_train_T.shape, X_test_T.shape"
   ]
  },
  {
   "cell_type": "code",
   "execution_count": 184,
   "metadata": {},
   "outputs": [
    {
     "data": {
      "text/plain": [
       "0"
      ]
     },
     "execution_count": 184,
     "metadata": {},
     "output_type": "execute_result"
    }
   ],
   "source": [
    "X_train_T.duplicated().sum()"
   ]
  },
  {
   "cell_type": "code",
   "execution_count": 185,
   "metadata": {},
   "outputs": [
    {
     "data": {
      "text/plain": [
       "0      False\n",
       "1      False\n",
       "2      False\n",
       "3      False\n",
       "4      False\n",
       "       ...  \n",
       "141    False\n",
       "142    False\n",
       "143    False\n",
       "144    False\n",
       "145    False\n",
       "Length: 146, dtype: bool"
      ]
     },
     "execution_count": 185,
     "metadata": {},
     "output_type": "execute_result"
    }
   ],
   "source": [
    "duplicated_features = X_train_T.duplicated()\n",
    "duplicated_features"
   ]
  },
  {
   "cell_type": "code",
   "execution_count": 186,
   "metadata": {},
   "outputs": [],
   "source": [
    "features_to_keep = [not index for index in duplicated_features]"
   ]
  },
  {
   "cell_type": "code",
   "execution_count": 187,
   "metadata": {},
   "outputs": [],
   "source": [
    "\n",
    "X_train_unique = X_train_T[features_to_keep].T\n",
    "X_test_unique = X_test_T[features_to_keep].T"
   ]
  },
  {
   "cell_type": "code",
   "execution_count": 188,
   "metadata": {},
   "outputs": [
    {
     "data": {
      "text/plain": [
       "((638, 146), (638, 182))"
      ]
     },
     "execution_count": 188,
     "metadata": {},
     "output_type": "execute_result"
    }
   ],
   "source": [
    "X_train_unique.shape, X_train.shape"
   ]
  },
  {
   "cell_type": "code",
   "execution_count": 193,
   "metadata": {},
   "outputs": [],
   "source": [
    "def run_randomForest(X_train, X_test, y_train, y_test):\n",
    "    clf = RandomForestClassifier(n_estimators=1000, random_state=0, n_jobs=-1)\n",
    "    clf.fit(X_train, y_train)\n",
    "    y_pred = clf.predict(X_test)\n",
    "    print('Accuracy on test set: ')\n",
    "    print(accuracy_score(y_test, y_pred))"
   ]
  },
  {
   "cell_type": "code",
   "execution_count": 194,
   "metadata": {},
   "outputs": [
    {
     "name": "stdout",
     "output_type": "stream",
     "text": [
      "Accuracy on test set: \n",
      "0.84375\n",
      "Wall time: 4.71 s\n"
     ]
    }
   ],
   "source": [
    "%%time\n",
    "run_randomForest(X_train_unique, X_test_unique, y_train, y_test)"
   ]
  },
  {
   "cell_type": "markdown",
   "metadata": {},
   "source": [
    "# Feature Selection with Filtering Method- Correlated Feature Removal"
   ]
  },
  {
   "cell_type": "code",
   "execution_count": 195,
   "metadata": {},
   "outputs": [],
   "source": [
    "corrmat = X_train_unique.corr()"
   ]
  },
  {
   "cell_type": "code",
   "execution_count": 196,
   "metadata": {},
   "outputs": [
    {
     "data": {
      "text/plain": [
       "<matplotlib.axes._subplots.AxesSubplot at 0x2ed986f4cc8>"
      ]
     },
     "execution_count": 196,
     "metadata": {},
     "output_type": "execute_result"
    },
    {
     "data": {
      "image/png": "[encoded data removed]",
      "text/plain": [
       "<Figure size 864x576 with 2 Axes>"
      ]
     },
     "metadata": {
      "needs_background": "light"
     },
     "output_type": "display_data"
    }
   ],
   "source": [
    "plt.figure(figsize=(12,8))\n",
    "sns.heatmap(corrmat)"
   ]
  },
  {
   "cell_type": "code",
   "execution_count": 197,
   "metadata": {},
   "outputs": [],
   "source": [
    "\n",
    "def get_correlation(data, threshold):\n",
    "    corr_col = set()\n",
    "    corrmat = data.corr()\n",
    "    for i in range(len(corrmat.columns)):\n",
    "        for j in range(i):\n",
    "            if abs(corrmat.iloc[i, j])> threshold:\n",
    "                colname = corrmat.columns[i]\n",
    "                corr_col.add(colname)\n",
    "    return corr_col"
   ]
  },
  {
   "cell_type": "code",
   "execution_count": 198,
   "metadata": {},
   "outputs": [
    {
     "data": {
      "text/plain": [
       "{18, 22, 23, 24, 41, 44, 53, 56, 89, 94, 107, 110}"
      ]
     },
     "execution_count": 198,
     "metadata": {},
     "output_type": "execute_result"
    }
   ],
   "source": [
    "corr_features = get_correlation(X_train_unique, 0.85)\n",
    "corr_features"
   ]
  },
  {
   "cell_type": "code",
   "execution_count": 199,
   "metadata": {},
   "outputs": [
    {
     "data": {
      "text/plain": [
       "12"
      ]
     },
     "execution_count": 199,
     "metadata": {},
     "output_type": "execute_result"
    }
   ],
   "source": [
    "len(corr_features)"
   ]
  },
  {
   "cell_type": "code",
   "execution_count": 200,
   "metadata": {},
   "outputs": [],
   "source": [
    "\n",
    "X_train_uncorr = X_train_unique.drop(labels=corr_features, axis = 1)\n",
    "X_test_uncorr = X_test_unique.drop(labels = corr_features, axis = 1)"
   ]
  },
  {
   "cell_type": "code",
   "execution_count": 201,
   "metadata": {},
   "outputs": [
    {
     "data": {
      "text/plain": [
       "((638, 134), (160, 134))"
      ]
     },
     "execution_count": 201,
     "metadata": {},
     "output_type": "execute_result"
    }
   ],
   "source": [
    "X_train_uncorr.shape, X_test_uncorr.shape"
   ]
  },
  {
   "cell_type": "code",
   "execution_count": 202,
   "metadata": {},
   "outputs": [
    {
     "name": "stdout",
     "output_type": "stream",
     "text": [
      "Accuracy on test set: \n",
      "0.84375\n",
      "Wall time: 4.58 s\n"
     ]
    }
   ],
   "source": [
    "\n",
    "%%time\n",
    "run_randomForest(X_train_uncorr, X_test_uncorr, y_train, y_test)"
   ]
  },
  {
   "cell_type": "code",
   "execution_count": 203,
   "metadata": {},
   "outputs": [
    {
     "name": "stdout",
     "output_type": "stream",
     "text": [
      "Accuracy on test set: \n",
      "0.84375\n",
      "Wall time: 5.32 s\n"
     ]
    }
   ],
   "source": [
    "%%time\n",
    "run_randomForest(X_train, X_test, y_train, y_test)"
   ]
  },
  {
   "cell_type": "code",
   "execution_count": 204,
   "metadata": {},
   "outputs": [
    {
     "data": {
      "text/html": [
       "<div>\n",
       "<style scoped>\n",
       "    .dataframe tbody tr th:only-of-type {\n",
       "        vertical-align: middle;\n",
       "    }\n",
       "\n",
       "    .dataframe tbody tr th {\n",
       "        vertical-align: top;\n",
       "    }\n",
       "\n",
       "    .dataframe thead th {\n",
       "        text-align: right;\n",
       "    }\n",
       "</style>\n",
       "<table border=\"1\" class=\"dataframe\">\n",
       "  <thead>\n",
       "    <tr style=\"text-align: right;\">\n",
       "      <th></th>\n",
       "      <th>0</th>\n",
       "      <th>1</th>\n",
       "      <th>2</th>\n",
       "      <th>3</th>\n",
       "      <th>4</th>\n",
       "      <th>5</th>\n",
       "      <th>6</th>\n",
       "      <th>7</th>\n",
       "      <th>8</th>\n",
       "      <th>9</th>\n",
       "      <th>...</th>\n",
       "      <th>136</th>\n",
       "      <th>137</th>\n",
       "      <th>138</th>\n",
       "      <th>139</th>\n",
       "      <th>140</th>\n",
       "      <th>141</th>\n",
       "      <th>142</th>\n",
       "      <th>143</th>\n",
       "      <th>144</th>\n",
       "      <th>145</th>\n",
       "    </tr>\n",
       "  </thead>\n",
       "  <tbody>\n",
       "    <tr>\n",
       "      <th>0</th>\n",
       "      <td>1.000000</td>\n",
       "      <td>0.170956</td>\n",
       "      <td>0.009193</td>\n",
       "      <td>-0.072601</td>\n",
       "      <td>0.073616</td>\n",
       "      <td>-0.019638</td>\n",
       "      <td>0.112418</td>\n",
       "      <td>0.056774</td>\n",
       "      <td>0.081279</td>\n",
       "      <td>-0.078997</td>\n",
       "      <td>...</td>\n",
       "      <td>-0.079793</td>\n",
       "      <td>0.005915</td>\n",
       "      <td>0.001360</td>\n",
       "      <td>0.047421</td>\n",
       "      <td>-0.046191</td>\n",
       "      <td>-0.064007</td>\n",
       "      <td>-0.001774</td>\n",
       "      <td>-0.099176</td>\n",
       "      <td>0.088434</td>\n",
       "      <td>0.047781</td>\n",
       "    </tr>\n",
       "    <tr>\n",
       "      <th>1</th>\n",
       "      <td>0.170956</td>\n",
       "      <td>1.000000</td>\n",
       "      <td>-0.111117</td>\n",
       "      <td>-0.170230</td>\n",
       "      <td>0.201329</td>\n",
       "      <td>0.099032</td>\n",
       "      <td>0.081379</td>\n",
       "      <td>0.099055</td>\n",
       "      <td>0.019631</td>\n",
       "      <td>0.117012</td>\n",
       "      <td>...</td>\n",
       "      <td>0.010291</td>\n",
       "      <td>0.099153</td>\n",
       "      <td>0.061034</td>\n",
       "      <td>0.063879</td>\n",
       "      <td>-0.007039</td>\n",
       "      <td>-0.003628</td>\n",
       "      <td>0.031769</td>\n",
       "      <td>0.005154</td>\n",
       "      <td>-0.006664</td>\n",
       "      <td>-0.038305</td>\n",
       "    </tr>\n",
       "    <tr>\n",
       "      <th>2</th>\n",
       "      <td>0.009193</td>\n",
       "      <td>-0.111117</td>\n",
       "      <td>1.000000</td>\n",
       "      <td>-0.069922</td>\n",
       "      <td>-0.426617</td>\n",
       "      <td>-0.053282</td>\n",
       "      <td>-0.044716</td>\n",
       "      <td>0.142549</td>\n",
       "      <td>0.069538</td>\n",
       "      <td>-0.066091</td>\n",
       "      <td>...</td>\n",
       "      <td>0.145859</td>\n",
       "      <td>0.082961</td>\n",
       "      <td>0.063814</td>\n",
       "      <td>-0.024145</td>\n",
       "      <td>0.016676</td>\n",
       "      <td>0.019010</td>\n",
       "      <td>-0.002574</td>\n",
       "      <td>0.057090</td>\n",
       "      <td>0.207624</td>\n",
       "      <td>0.206390</td>\n",
       "    </tr>\n",
       "    <tr>\n",
       "      <th>3</th>\n",
       "      <td>-0.072601</td>\n",
       "      <td>-0.170230</td>\n",
       "      <td>-0.069922</td>\n",
       "      <td>1.000000</td>\n",
       "      <td>-0.294019</td>\n",
       "      <td>-0.022994</td>\n",
       "      <td>0.017225</td>\n",
       "      <td>-0.071468</td>\n",
       "      <td>-0.053668</td>\n",
       "      <td>-0.025287</td>\n",
       "      <td>...</td>\n",
       "      <td>0.056383</td>\n",
       "      <td>-0.029109</td>\n",
       "      <td>-0.030197</td>\n",
       "      <td>0.000591</td>\n",
       "      <td>0.035449</td>\n",
       "      <td>-0.005160</td>\n",
       "      <td>0.134758</td>\n",
       "      <td>0.101115</td>\n",
       "      <td>0.101355</td>\n",
       "      <td>0.080099</td>\n",
       "    </tr>\n",
       "    <tr>\n",
       "      <th>4</th>\n",
       "      <td>0.073616</td>\n",
       "      <td>0.201329</td>\n",
       "      <td>-0.426617</td>\n",
       "      <td>-0.294019</td>\n",
       "      <td>1.000000</td>\n",
       "      <td>0.023686</td>\n",
       "      <td>0.179041</td>\n",
       "      <td>0.125170</td>\n",
       "      <td>0.043590</td>\n",
       "      <td>0.229381</td>\n",
       "      <td>...</td>\n",
       "      <td>-0.029729</td>\n",
       "      <td>0.005200</td>\n",
       "      <td>0.043307</td>\n",
       "      <td>0.009259</td>\n",
       "      <td>-0.020871</td>\n",
       "      <td>0.022108</td>\n",
       "      <td>-0.100798</td>\n",
       "      <td>-0.117546</td>\n",
       "      <td>-0.146992</td>\n",
       "      <td>-0.150632</td>\n",
       "    </tr>\n",
       "    <tr>\n",
       "      <th>...</th>\n",
       "      <td>...</td>\n",
       "      <td>...</td>\n",
       "      <td>...</td>\n",
       "      <td>...</td>\n",
       "      <td>...</td>\n",
       "      <td>...</td>\n",
       "      <td>...</td>\n",
       "      <td>...</td>\n",
       "      <td>...</td>\n",
       "      <td>...</td>\n",
       "      <td>...</td>\n",
       "      <td>...</td>\n",
       "      <td>...</td>\n",
       "      <td>...</td>\n",
       "      <td>...</td>\n",
       "      <td>...</td>\n",
       "      <td>...</td>\n",
       "      <td>...</td>\n",
       "      <td>...</td>\n",
       "      <td>...</td>\n",
       "      <td>...</td>\n",
       "    </tr>\n",
       "    <tr>\n",
       "      <th>141</th>\n",
       "      <td>-0.064007</td>\n",
       "      <td>-0.003628</td>\n",
       "      <td>0.019010</td>\n",
       "      <td>-0.005160</td>\n",
       "      <td>0.022108</td>\n",
       "      <td>-0.012081</td>\n",
       "      <td>-0.028471</td>\n",
       "      <td>-0.014985</td>\n",
       "      <td>0.001734</td>\n",
       "      <td>0.012474</td>\n",
       "      <td>...</td>\n",
       "      <td>-0.005423</td>\n",
       "      <td>0.010852</td>\n",
       "      <td>-0.003414</td>\n",
       "      <td>0.075610</td>\n",
       "      <td>0.678698</td>\n",
       "      <td>1.000000</td>\n",
       "      <td>0.133221</td>\n",
       "      <td>0.095938</td>\n",
       "      <td>-0.008265</td>\n",
       "      <td>-0.013356</td>\n",
       "    </tr>\n",
       "    <tr>\n",
       "      <th>142</th>\n",
       "      <td>-0.001774</td>\n",
       "      <td>0.031769</td>\n",
       "      <td>-0.002574</td>\n",
       "      <td>0.134758</td>\n",
       "      <td>-0.100798</td>\n",
       "      <td>-0.008762</td>\n",
       "      <td>-0.074110</td>\n",
       "      <td>-0.099666</td>\n",
       "      <td>-0.015486</td>\n",
       "      <td>-0.027216</td>\n",
       "      <td>...</td>\n",
       "      <td>0.066880</td>\n",
       "      <td>0.030765</td>\n",
       "      <td>0.007542</td>\n",
       "      <td>0.103991</td>\n",
       "      <td>0.164488</td>\n",
       "      <td>0.133221</td>\n",
       "      <td>1.000000</td>\n",
       "      <td>0.646467</td>\n",
       "      <td>0.288448</td>\n",
       "      <td>0.264460</td>\n",
       "    </tr>\n",
       "    <tr>\n",
       "      <th>143</th>\n",
       "      <td>-0.099176</td>\n",
       "      <td>0.005154</td>\n",
       "      <td>0.057090</td>\n",
       "      <td>0.101115</td>\n",
       "      <td>-0.117546</td>\n",
       "      <td>-0.051515</td>\n",
       "      <td>-0.070021</td>\n",
       "      <td>-0.078801</td>\n",
       "      <td>0.022646</td>\n",
       "      <td>-0.016053</td>\n",
       "      <td>...</td>\n",
       "      <td>0.165797</td>\n",
       "      <td>0.027011</td>\n",
       "      <td>0.020334</td>\n",
       "      <td>0.006091</td>\n",
       "      <td>0.042910</td>\n",
       "      <td>0.095938</td>\n",
       "      <td>0.646467</td>\n",
       "      <td>1.000000</td>\n",
       "      <td>0.277701</td>\n",
       "      <td>0.438849</td>\n",
       "    </tr>\n",
       "    <tr>\n",
       "      <th>144</th>\n",
       "      <td>0.088434</td>\n",
       "      <td>-0.006664</td>\n",
       "      <td>0.207624</td>\n",
       "      <td>0.101355</td>\n",
       "      <td>-0.146992</td>\n",
       "      <td>-0.037125</td>\n",
       "      <td>-0.061526</td>\n",
       "      <td>-0.048042</td>\n",
       "      <td>-0.035056</td>\n",
       "      <td>0.014595</td>\n",
       "      <td>...</td>\n",
       "      <td>0.115460</td>\n",
       "      <td>0.110528</td>\n",
       "      <td>0.068594</td>\n",
       "      <td>0.114625</td>\n",
       "      <td>0.060209</td>\n",
       "      <td>-0.008265</td>\n",
       "      <td>0.288448</td>\n",
       "      <td>0.277701</td>\n",
       "      <td>1.000000</td>\n",
       "      <td>0.746202</td>\n",
       "    </tr>\n",
       "    <tr>\n",
       "      <th>145</th>\n",
       "      <td>0.047781</td>\n",
       "      <td>-0.038305</td>\n",
       "      <td>0.206390</td>\n",
       "      <td>0.080099</td>\n",
       "      <td>-0.150632</td>\n",
       "      <td>-0.027378</td>\n",
       "      <td>-0.038729</td>\n",
       "      <td>-0.037284</td>\n",
       "      <td>0.002221</td>\n",
       "      <td>0.039821</td>\n",
       "      <td>...</td>\n",
       "      <td>0.128435</td>\n",
       "      <td>0.006661</td>\n",
       "      <td>0.001600</td>\n",
       "      <td>0.022697</td>\n",
       "      <td>-0.011342</td>\n",
       "      <td>-0.013356</td>\n",
       "      <td>0.264460</td>\n",
       "      <td>0.438849</td>\n",
       "      <td>0.746202</td>\n",
       "      <td>1.000000</td>\n",
       "    </tr>\n",
       "  </tbody>\n",
       "</table>\n",
       "<p>146 rows × 146 columns</p>\n",
       "</div>"
      ],
      "text/plain": [
       "          0         1         2         3         4         5         6    \\\n",
       "0    1.000000  0.170956  0.009193 -0.072601  0.073616 -0.019638  0.112418   \n",
       "1    0.170956  1.000000 -0.111117 -0.170230  0.201329  0.099032  0.081379   \n",
       "2    0.009193 -0.111117  1.000000 -0.069922 -0.426617 -0.053282 -0.044716   \n",
       "3   -0.072601 -0.170230 -0.069922  1.000000 -0.294019 -0.022994  0.017225   \n",
       "4    0.073616  0.201329 -0.426617 -0.294019  1.000000  0.023686  0.179041   \n",
       "..        ...       ...       ...       ...       ...       ...       ...   \n",
       "141 -0.064007 -0.003628  0.019010 -0.005160  0.022108 -0.012081 -0.028471   \n",
       "142 -0.001774  0.031769 -0.002574  0.134758 -0.100798 -0.008762 -0.074110   \n",
       "143 -0.099176  0.005154  0.057090  0.101115 -0.117546 -0.051515 -0.070021   \n",
       "144  0.088434 -0.006664  0.207624  0.101355 -0.146992 -0.037125 -0.061526   \n",
       "145  0.047781 -0.038305  0.206390  0.080099 -0.150632 -0.027378 -0.038729   \n",
       "\n",
       "          7         8         9    ...       136       137       138  \\\n",
       "0    0.056774  0.081279 -0.078997  ... -0.079793  0.005915  0.001360   \n",
       "1    0.099055  0.019631  0.117012  ...  0.010291  0.099153  0.061034   \n",
       "2    0.142549  0.069538 -0.066091  ...  0.145859  0.082961  0.063814   \n",
       "3   -0.071468 -0.053668 -0.025287  ...  0.056383 -0.029109 -0.030197   \n",
       "4    0.125170  0.043590  0.229381  ... -0.029729  0.005200  0.043307   \n",
       "..        ...       ...       ...  ...       ...       ...       ...   \n",
       "141 -0.014985  0.001734  0.012474  ... -0.005423  0.010852 -0.003414   \n",
       "142 -0.099666 -0.015486 -0.027216  ...  0.066880  0.030765  0.007542   \n",
       "143 -0.078801  0.022646 -0.016053  ...  0.165797  0.027011  0.020334   \n",
       "144 -0.048042 -0.035056  0.014595  ...  0.115460  0.110528  0.068594   \n",
       "145 -0.037284  0.002221  0.039821  ...  0.128435  0.006661  0.001600   \n",
       "\n",
       "          139       140       141       142       143       144       145  \n",
       "0    0.047421 -0.046191 -0.064007 -0.001774 -0.099176  0.088434  0.047781  \n",
       "1    0.063879 -0.007039 -0.003628  0.031769  0.005154 -0.006664 -0.038305  \n",
       "2   -0.024145  0.016676  0.019010 -0.002574  0.057090  0.207624  0.206390  \n",
       "3    0.000591  0.035449 -0.005160  0.134758  0.101115  0.101355  0.080099  \n",
       "4    0.009259 -0.020871  0.022108 -0.100798 -0.117546 -0.146992 -0.150632  \n",
       "..        ...       ...       ...       ...       ...       ...       ...  \n",
       "141  0.075610  0.678698  1.000000  0.133221  0.095938 -0.008265 -0.013356  \n",
       "142  0.103991  0.164488  0.133221  1.000000  0.646467  0.288448  0.264460  \n",
       "143  0.006091  0.042910  0.095938  0.646467  1.000000  0.277701  0.438849  \n",
       "144  0.114625  0.060209 -0.008265  0.288448  0.277701  1.000000  0.746202  \n",
       "145  0.022697 -0.011342 -0.013356  0.264460  0.438849  0.746202  1.000000  \n",
       "\n",
       "[146 rows x 146 columns]"
      ]
     },
     "execution_count": 204,
     "metadata": {},
     "output_type": "execute_result"
    }
   ],
   "source": [
    "corrmat"
   ]
  },
  {
   "cell_type": "code",
   "execution_count": 205,
   "metadata": {},
   "outputs": [
    {
     "data": {
      "text/plain": [
       "0    0      1.000000\n",
       "     1      0.170956\n",
       "     2      0.009193\n",
       "     3      0.072601\n",
       "     4      0.073616\n",
       "              ...   \n",
       "145  141    0.013356\n",
       "     142    0.264460\n",
       "     143    0.438849\n",
       "     144    0.746202\n",
       "     145    1.000000\n",
       "Length: 21316, dtype: float64"
      ]
     },
     "execution_count": 205,
     "metadata": {},
     "output_type": "execute_result"
    }
   ],
   "source": [
    "corrdata = corrmat.abs().stack()\n",
    "corrdata"
   ]
  },
  {
   "cell_type": "code",
   "execution_count": 206,
   "metadata": {},
   "outputs": [
    {
     "data": {
      "text/plain": [
       "17   18     0.987423\n",
       "18   17     0.987423\n",
       "20   24     0.900363\n",
       "21   22     0.995016\n",
       "     23     0.988129\n",
       "22   21     0.995016\n",
       "     23     0.994309\n",
       "23   21     0.988129\n",
       "     22     0.994309\n",
       "24   20     0.900363\n",
       "40   41     0.857529\n",
       "41   40     0.857529\n",
       "43   44     0.980521\n",
       "44   43     0.980521\n",
       "48   53     0.932315\n",
       "53   48     0.932315\n",
       "55   56     0.933445\n",
       "56   55     0.933445\n",
       "78   89     0.873119\n",
       "89   78     0.873119\n",
       "91   94     0.947988\n",
       "94   91     0.947988\n",
       "99   107    0.918721\n",
       "100  107    0.853776\n",
       "107  99     0.918721\n",
       "     100    0.853776\n",
       "109  110    0.964385\n",
       "110  109    0.964385\n",
       "dtype: float64"
      ]
     },
     "execution_count": 206,
     "metadata": {},
     "output_type": "execute_result"
    }
   ],
   "source": [
    "corrdata = corrdata[corrdata>0.85]\n",
    "corrdata = corrdata[corrdata<1]\n",
    "corrdata"
   ]
  },
  {
   "cell_type": "code",
   "execution_count": 207,
   "metadata": {},
   "outputs": [
    {
     "data": {
      "text/html": [
       "<div>\n",
       "<style scoped>\n",
       "    .dataframe tbody tr th:only-of-type {\n",
       "        vertical-align: middle;\n",
       "    }\n",
       "\n",
       "    .dataframe tbody tr th {\n",
       "        vertical-align: top;\n",
       "    }\n",
       "\n",
       "    .dataframe thead th {\n",
       "        text-align: right;\n",
       "    }\n",
       "</style>\n",
       "<table border=\"1\" class=\"dataframe\">\n",
       "  <thead>\n",
       "    <tr style=\"text-align: right;\">\n",
       "      <th></th>\n",
       "      <th>features1</th>\n",
       "      <th>features2</th>\n",
       "      <th>corr_value</th>\n",
       "    </tr>\n",
       "  </thead>\n",
       "  <tbody>\n",
       "    <tr>\n",
       "      <th>0</th>\n",
       "      <td>17</td>\n",
       "      <td>18</td>\n",
       "      <td>0.987423</td>\n",
       "    </tr>\n",
       "    <tr>\n",
       "      <th>1</th>\n",
       "      <td>18</td>\n",
       "      <td>17</td>\n",
       "      <td>0.987423</td>\n",
       "    </tr>\n",
       "    <tr>\n",
       "      <th>2</th>\n",
       "      <td>20</td>\n",
       "      <td>24</td>\n",
       "      <td>0.900363</td>\n",
       "    </tr>\n",
       "    <tr>\n",
       "      <th>3</th>\n",
       "      <td>21</td>\n",
       "      <td>22</td>\n",
       "      <td>0.995016</td>\n",
       "    </tr>\n",
       "    <tr>\n",
       "      <th>4</th>\n",
       "      <td>21</td>\n",
       "      <td>23</td>\n",
       "      <td>0.988129</td>\n",
       "    </tr>\n",
       "    <tr>\n",
       "      <th>5</th>\n",
       "      <td>22</td>\n",
       "      <td>21</td>\n",
       "      <td>0.995016</td>\n",
       "    </tr>\n",
       "    <tr>\n",
       "      <th>6</th>\n",
       "      <td>22</td>\n",
       "      <td>23</td>\n",
       "      <td>0.994309</td>\n",
       "    </tr>\n",
       "    <tr>\n",
       "      <th>7</th>\n",
       "      <td>23</td>\n",
       "      <td>21</td>\n",
       "      <td>0.988129</td>\n",
       "    </tr>\n",
       "    <tr>\n",
       "      <th>8</th>\n",
       "      <td>23</td>\n",
       "      <td>22</td>\n",
       "      <td>0.994309</td>\n",
       "    </tr>\n",
       "    <tr>\n",
       "      <th>9</th>\n",
       "      <td>24</td>\n",
       "      <td>20</td>\n",
       "      <td>0.900363</td>\n",
       "    </tr>\n",
       "    <tr>\n",
       "      <th>10</th>\n",
       "      <td>40</td>\n",
       "      <td>41</td>\n",
       "      <td>0.857529</td>\n",
       "    </tr>\n",
       "    <tr>\n",
       "      <th>11</th>\n",
       "      <td>41</td>\n",
       "      <td>40</td>\n",
       "      <td>0.857529</td>\n",
       "    </tr>\n",
       "    <tr>\n",
       "      <th>12</th>\n",
       "      <td>43</td>\n",
       "      <td>44</td>\n",
       "      <td>0.980521</td>\n",
       "    </tr>\n",
       "    <tr>\n",
       "      <th>13</th>\n",
       "      <td>44</td>\n",
       "      <td>43</td>\n",
       "      <td>0.980521</td>\n",
       "    </tr>\n",
       "    <tr>\n",
       "      <th>14</th>\n",
       "      <td>48</td>\n",
       "      <td>53</td>\n",
       "      <td>0.932315</td>\n",
       "    </tr>\n",
       "    <tr>\n",
       "      <th>15</th>\n",
       "      <td>53</td>\n",
       "      <td>48</td>\n",
       "      <td>0.932315</td>\n",
       "    </tr>\n",
       "    <tr>\n",
       "      <th>16</th>\n",
       "      <td>55</td>\n",
       "      <td>56</td>\n",
       "      <td>0.933445</td>\n",
       "    </tr>\n",
       "    <tr>\n",
       "      <th>17</th>\n",
       "      <td>56</td>\n",
       "      <td>55</td>\n",
       "      <td>0.933445</td>\n",
       "    </tr>\n",
       "    <tr>\n",
       "      <th>18</th>\n",
       "      <td>78</td>\n",
       "      <td>89</td>\n",
       "      <td>0.873119</td>\n",
       "    </tr>\n",
       "    <tr>\n",
       "      <th>19</th>\n",
       "      <td>89</td>\n",
       "      <td>78</td>\n",
       "      <td>0.873119</td>\n",
       "    </tr>\n",
       "    <tr>\n",
       "      <th>20</th>\n",
       "      <td>91</td>\n",
       "      <td>94</td>\n",
       "      <td>0.947988</td>\n",
       "    </tr>\n",
       "    <tr>\n",
       "      <th>21</th>\n",
       "      <td>94</td>\n",
       "      <td>91</td>\n",
       "      <td>0.947988</td>\n",
       "    </tr>\n",
       "    <tr>\n",
       "      <th>22</th>\n",
       "      <td>99</td>\n",
       "      <td>107</td>\n",
       "      <td>0.918721</td>\n",
       "    </tr>\n",
       "    <tr>\n",
       "      <th>23</th>\n",
       "      <td>100</td>\n",
       "      <td>107</td>\n",
       "      <td>0.853776</td>\n",
       "    </tr>\n",
       "    <tr>\n",
       "      <th>24</th>\n",
       "      <td>107</td>\n",
       "      <td>99</td>\n",
       "      <td>0.918721</td>\n",
       "    </tr>\n",
       "    <tr>\n",
       "      <th>25</th>\n",
       "      <td>107</td>\n",
       "      <td>100</td>\n",
       "      <td>0.853776</td>\n",
       "    </tr>\n",
       "    <tr>\n",
       "      <th>26</th>\n",
       "      <td>109</td>\n",
       "      <td>110</td>\n",
       "      <td>0.964385</td>\n",
       "    </tr>\n",
       "    <tr>\n",
       "      <th>27</th>\n",
       "      <td>110</td>\n",
       "      <td>109</td>\n",
       "      <td>0.964385</td>\n",
       "    </tr>\n",
       "  </tbody>\n",
       "</table>\n",
       "</div>"
      ],
      "text/plain": [
       "    features1  features2  corr_value\n",
       "0          17         18    0.987423\n",
       "1          18         17    0.987423\n",
       "2          20         24    0.900363\n",
       "3          21         22    0.995016\n",
       "4          21         23    0.988129\n",
       "5          22         21    0.995016\n",
       "6          22         23    0.994309\n",
       "7          23         21    0.988129\n",
       "8          23         22    0.994309\n",
       "9          24         20    0.900363\n",
       "10         40         41    0.857529\n",
       "11         41         40    0.857529\n",
       "12         43         44    0.980521\n",
       "13         44         43    0.980521\n",
       "14         48         53    0.932315\n",
       "15         53         48    0.932315\n",
       "16         55         56    0.933445\n",
       "17         56         55    0.933445\n",
       "18         78         89    0.873119\n",
       "19         89         78    0.873119\n",
       "20         91         94    0.947988\n",
       "21         94         91    0.947988\n",
       "22         99        107    0.918721\n",
       "23        100        107    0.853776\n",
       "24        107         99    0.918721\n",
       "25        107        100    0.853776\n",
       "26        109        110    0.964385\n",
       "27        110        109    0.964385"
      ]
     },
     "execution_count": 207,
     "metadata": {},
     "output_type": "execute_result"
    }
   ],
   "source": [
    "corrdata = pd.DataFrame(corrdata).reset_index()\n",
    "corrdata.columns = ['features1', 'features2', 'corr_value']\n",
    "corrdata"
   ]
  },
  {
   "cell_type": "code",
   "execution_count": 208,
   "metadata": {},
   "outputs": [],
   "source": [
    "grouped_feature_list = []\n",
    "correlated_groups_list = []\n",
    "for feature in corrdata.features1.unique():\n",
    "    if feature not in grouped_feature_list:\n",
    "        correlated_block = corrdata[corrdata.features1 == feature]\n",
    "        grouped_feature_list = grouped_feature_list + list(correlated_block.features2.unique()) + [feature]\n",
    "        correlated_groups_list.append(correlated_block)"
   ]
  },
  {
   "cell_type": "code",
   "execution_count": 209,
   "metadata": {},
   "outputs": [
    {
     "data": {
      "text/plain": [
       "12"
      ]
     },
     "execution_count": 209,
     "metadata": {},
     "output_type": "execute_result"
    }
   ],
   "source": [
    "\n",
    "len(correlated_groups_list)"
   ]
  },
  {
   "cell_type": "code",
   "execution_count": 210,
   "metadata": {},
   "outputs": [
    {
     "data": {
      "text/plain": [
       "((638, 182), (638, 134))"
      ]
     },
     "execution_count": 210,
     "metadata": {},
     "output_type": "execute_result"
    }
   ],
   "source": [
    "X_train.shape, X_train_uncorr.shape"
   ]
  },
  {
   "cell_type": "code",
   "execution_count": 211,
   "metadata": {},
   "outputs": [
    {
     "name": "stdout",
     "output_type": "stream",
     "text": [
      "   features1  features2  corr_value\n",
      "0         17         18    0.987423\n",
      "   features1  features2  corr_value\n",
      "2         20         24    0.900363\n",
      "   features1  features2  corr_value\n",
      "3         21         22    0.995016\n",
      "4         21         23    0.988129\n",
      "    features1  features2  corr_value\n",
      "10         40         41    0.857529\n",
      "    features1  features2  corr_value\n",
      "12         43         44    0.980521\n",
      "    features1  features2  corr_value\n",
      "14         48         53    0.932315\n",
      "    features1  features2  corr_value\n",
      "16         55         56    0.933445\n",
      "    features1  features2  corr_value\n",
      "18         78         89    0.873119\n",
      "    features1  features2  corr_value\n",
      "20         91         94    0.947988\n",
      "    features1  features2  corr_value\n",
      "22         99        107    0.918721\n",
      "    features1  features2  corr_value\n",
      "23        100        107    0.853776\n",
      "    features1  features2  corr_value\n",
      "26        109        110    0.964385\n"
     ]
    }
   ],
   "source": [
    "for group in correlated_groups_list:\n",
    "    print(group)"
   ]
  },
  {
   "cell_type": "markdown",
   "metadata": {},
   "source": [
    "# Feature Importance based on tree based classifiers"
   ]
  },
  {
   "cell_type": "code",
   "execution_count": 212,
   "metadata": {},
   "outputs": [],
   "source": [
    "important_features = []\n",
    "for group in correlated_groups_list:\n",
    "    features = list(group.features1.unique()) + list(group.features2.unique())\n",
    "    rf = RandomForestClassifier(n_estimators=100, random_state=0)\n",
    "    rf.fit(X_train_unique[features], y_train)\n",
    "    \n",
    "    importance = pd.concat([pd.Series(features), pd.Series(rf.feature_importances_)], axis = 1)\n",
    "    importance.columns = ['features', 'importance']\n",
    "    importance.sort_values(by = 'importance', ascending = False, inplace = True)\n",
    "    feat = importance.iloc[0]\n",
    "    important_features.append(feat)"
   ]
  },
  {
   "cell_type": "code",
   "execution_count": 213,
   "metadata": {},
   "outputs": [
    {
     "data": {
      "text/plain": [
       "[features      18.000000\n",
       " importance     0.743343\n",
       " Name: 1, dtype: float64, features      24.00\n",
       " importance     0.51\n",
       " Name: 1, dtype: float64, features      23.000000\n",
       " importance     0.482428\n",
       " Name: 2, dtype: float64, features      41.00\n",
       " importance     0.51\n",
       " Name: 1, dtype: float64, features      44.000000\n",
       " importance     0.632415\n",
       " Name: 1, dtype: float64, features      53.000000\n",
       " importance     0.530718\n",
       " Name: 1, dtype: float64, features      56.000000\n",
       " importance     0.814111\n",
       " Name: 1, dtype: float64, features      89.000000\n",
       " importance     0.884056\n",
       " Name: 1, dtype: float64, features      94.000000\n",
       " importance     0.678069\n",
       " Name: 1, dtype: float64, features      107.000000\n",
       " importance      0.779077\n",
       " Name: 1, dtype: float64, features      107.000000\n",
       " importance      0.744927\n",
       " Name: 1, dtype: float64, features      109.000000\n",
       " importance      0.512924\n",
       " Name: 0, dtype: float64]"
      ]
     },
     "execution_count": 213,
     "metadata": {},
     "output_type": "execute_result"
    }
   ],
   "source": [
    "important_features"
   ]
  },
  {
   "cell_type": "code",
   "execution_count": 214,
   "metadata": {},
   "outputs": [],
   "source": [
    "important_features = pd.DataFrame(important_features)"
   ]
  },
  {
   "cell_type": "code",
   "execution_count": 215,
   "metadata": {},
   "outputs": [],
   "source": [
    "important_features.reset_index(inplace=True, drop = True)"
   ]
  },
  {
   "cell_type": "code",
   "execution_count": 216,
   "metadata": {},
   "outputs": [
    {
     "data": {
      "text/html": [
       "<div>\n",
       "<style scoped>\n",
       "    .dataframe tbody tr th:only-of-type {\n",
       "        vertical-align: middle;\n",
       "    }\n",
       "\n",
       "    .dataframe tbody tr th {\n",
       "        vertical-align: top;\n",
       "    }\n",
       "\n",
       "    .dataframe thead th {\n",
       "        text-align: right;\n",
       "    }\n",
       "</style>\n",
       "<table border=\"1\" class=\"dataframe\">\n",
       "  <thead>\n",
       "    <tr style=\"text-align: right;\">\n",
       "      <th></th>\n",
       "      <th>features</th>\n",
       "      <th>importance</th>\n",
       "    </tr>\n",
       "  </thead>\n",
       "  <tbody>\n",
       "    <tr>\n",
       "      <th>0</th>\n",
       "      <td>18.0</td>\n",
       "      <td>0.743343</td>\n",
       "    </tr>\n",
       "    <tr>\n",
       "      <th>1</th>\n",
       "      <td>24.0</td>\n",
       "      <td>0.510000</td>\n",
       "    </tr>\n",
       "    <tr>\n",
       "      <th>2</th>\n",
       "      <td>23.0</td>\n",
       "      <td>0.482428</td>\n",
       "    </tr>\n",
       "    <tr>\n",
       "      <th>3</th>\n",
       "      <td>41.0</td>\n",
       "      <td>0.510000</td>\n",
       "    </tr>\n",
       "    <tr>\n",
       "      <th>4</th>\n",
       "      <td>44.0</td>\n",
       "      <td>0.632415</td>\n",
       "    </tr>\n",
       "    <tr>\n",
       "      <th>5</th>\n",
       "      <td>53.0</td>\n",
       "      <td>0.530718</td>\n",
       "    </tr>\n",
       "    <tr>\n",
       "      <th>6</th>\n",
       "      <td>56.0</td>\n",
       "      <td>0.814111</td>\n",
       "    </tr>\n",
       "    <tr>\n",
       "      <th>7</th>\n",
       "      <td>89.0</td>\n",
       "      <td>0.884056</td>\n",
       "    </tr>\n",
       "    <tr>\n",
       "      <th>8</th>\n",
       "      <td>94.0</td>\n",
       "      <td>0.678069</td>\n",
       "    </tr>\n",
       "    <tr>\n",
       "      <th>9</th>\n",
       "      <td>107.0</td>\n",
       "      <td>0.779077</td>\n",
       "    </tr>\n",
       "    <tr>\n",
       "      <th>10</th>\n",
       "      <td>107.0</td>\n",
       "      <td>0.744927</td>\n",
       "    </tr>\n",
       "    <tr>\n",
       "      <th>11</th>\n",
       "      <td>109.0</td>\n",
       "      <td>0.512924</td>\n",
       "    </tr>\n",
       "  </tbody>\n",
       "</table>\n",
       "</div>"
      ],
      "text/plain": [
       "    features  importance\n",
       "0       18.0    0.743343\n",
       "1       24.0    0.510000\n",
       "2       23.0    0.482428\n",
       "3       41.0    0.510000\n",
       "4       44.0    0.632415\n",
       "5       53.0    0.530718\n",
       "6       56.0    0.814111\n",
       "7       89.0    0.884056\n",
       "8       94.0    0.678069\n",
       "9      107.0    0.779077\n",
       "10     107.0    0.744927\n",
       "11     109.0    0.512924"
      ]
     },
     "execution_count": 216,
     "metadata": {},
     "output_type": "execute_result"
    }
   ],
   "source": [
    "important_features"
   ]
  },
  {
   "cell_type": "code",
   "execution_count": 217,
   "metadata": {},
   "outputs": [],
   "source": [
    "features_to_consider = set(important_features['features'])"
   ]
  },
  {
   "cell_type": "code",
   "execution_count": 218,
   "metadata": {},
   "outputs": [],
   "source": [
    "features_to_discard = set(corr_features) - set(features_to_consider)"
   ]
  },
  {
   "cell_type": "code",
   "execution_count": 219,
   "metadata": {},
   "outputs": [],
   "source": [
    "features_to_discard = list(features_to_discard)"
   ]
  },
  {
   "cell_type": "code",
   "execution_count": 220,
   "metadata": {},
   "outputs": [
    {
     "data": {
      "text/plain": [
       "(638, 144)"
      ]
     },
     "execution_count": 220,
     "metadata": {},
     "output_type": "execute_result"
    }
   ],
   "source": [
    "\n",
    "X_train_grouped_uncorr = X_train_unique.drop(labels = features_to_discard, axis = 1)\n",
    "X_train_grouped_uncorr.shape"
   ]
  },
  {
   "cell_type": "code",
   "execution_count": 221,
   "metadata": {},
   "outputs": [
    {
     "data": {
      "text/plain": [
       "(160, 144)"
      ]
     },
     "execution_count": 221,
     "metadata": {},
     "output_type": "execute_result"
    }
   ],
   "source": [
    "X_test_grouped_uncorr = X_test_unique.drop(labels=features_to_discard, axis = 1)\n",
    "X_test_grouped_uncorr.shape"
   ]
  },
  {
   "cell_type": "code",
   "execution_count": 224,
   "metadata": {},
   "outputs": [
    {
     "name": "stdout",
     "output_type": "stream",
     "text": [
      "Accuracy on test set: \n",
      "0.84375\n",
      "Wall time: 4.58 s\n"
     ]
    }
   ],
   "source": [
    "%%time\n",
    "run_randomForest(X_train_grouped_uncorr, X_test_grouped_uncorr, y_train, y_test)"
   ]
  },
  {
   "cell_type": "code",
   "execution_count": 225,
   "metadata": {},
   "outputs": [
    {
     "name": "stdout",
     "output_type": "stream",
     "text": [
      "Accuracy on test set: \n",
      "0.84375\n",
      "Wall time: 4.33 s\n"
     ]
    }
   ],
   "source": [
    "%%time\n",
    "run_randomForest(X_train, X_test, y_train, y_test)"
   ]
  },
  {
   "cell_type": "code",
   "execution_count": 226,
   "metadata": {},
   "outputs": [
    {
     "name": "stdout",
     "output_type": "stream",
     "text": [
      "Accuracy on test set: \n",
      "0.84375\n",
      "Wall time: 4.63 s\n"
     ]
    }
   ],
   "source": [
    "\n",
    "%%time\n",
    "run_randomForest(X_train_uncorr, X_test_uncorr, y_train, y_test)"
   ]
  },
  {
   "cell_type": "markdown",
   "metadata": {},
   "source": [
    "#  Classification Problem"
   ]
  },
  {
   "cell_type": "code",
   "execution_count": 227,
   "metadata": {},
   "outputs": [],
   "source": [
    "import numpy as np\n",
    "import pandas as pd\n",
    "import matplotlib.pyplot as plt\n",
    "import seaborn as sns\n",
    "\n",
    "from sklearn.model_selection import train_test_split\n",
    "from sklearn.ensemble import RandomForestClassifier\n",
    "from sklearn.metrics import accuracy_score\n",
    "\n",
    "from sklearn.feature_selection import VarianceThreshold, mutual_info_classif, mutual_info_regression\n",
    "from sklearn.feature_selection import SelectKBest, SelectPercentile"
   ]
  },
  {
   "cell_type": "code",
   "execution_count": 238,
   "metadata": {},
   "outputs": [
    {
     "data": {
      "text/html": [
       "<div>\n",
       "<style scoped>\n",
       "    .dataframe tbody tr th:only-of-type {\n",
       "        vertical-align: middle;\n",
       "    }\n",
       "\n",
       "    .dataframe tbody tr th {\n",
       "        vertical-align: top;\n",
       "    }\n",
       "\n",
       "    .dataframe thead th {\n",
       "        text-align: right;\n",
       "    }\n",
       "</style>\n",
       "<table border=\"1\" class=\"dataframe\">\n",
       "  <thead>\n",
       "    <tr style=\"text-align: right;\">\n",
       "      <th></th>\n",
       "      <th>Unnamed: 0</th>\n",
       "      <th>target</th>\n",
       "      <th>peakflow</th>\n",
       "      <th>वय_275546</th>\n",
       "      <th>लिंग: _275544</th>\n",
       "      <th>शिक्षण_275545</th>\n",
       "      <th>आपल्या घरातील कुटुंबातील सदस्यांची संख्या? _275550</th>\n",
       "      <th>घराविषयीची माहिती 0 तुमचे घर कोणत्या प्रकारचे आहे ?_275549</th>\n",
       "      <th>तुमच्या घरात किती खोल्या आहेत?_275551</th>\n",
       "      <th>तुमच्या घराला एकूण किती खिडक्या आहेत ?_275552</th>\n",
       "      <th>...</th>\n",
       "      <th>जर हो, किती वर्ष पासून? _275700</th>\n",
       "      <th>हृदय रोग_275701</th>\n",
       "      <th>जर हो, किती वर्ष पासून? _275702</th>\n",
       "      <th>थाइरोइड विकार_275703</th>\n",
       "      <th>जर हो, किती वर्ष पासून? _275704</th>\n",
       "      <th>चिंता आणि निराशा_275705</th>\n",
       "      <th>जर हो, किती वर्ष पासून? _275706</th>\n",
       "      <th>हाड ठिसूळ होणे_275707</th>\n",
       "      <th>जर हो, किती वर्ष पासून? _275708</th>\n",
       "      <th>धन्यवाद सबमिट करा_275709</th>\n",
       "    </tr>\n",
       "    <tr>\n",
       "      <th>ID</th>\n",
       "      <th></th>\n",
       "      <th></th>\n",
       "      <th></th>\n",
       "      <th></th>\n",
       "      <th></th>\n",
       "      <th></th>\n",
       "      <th></th>\n",
       "      <th></th>\n",
       "      <th></th>\n",
       "      <th></th>\n",
       "      <th></th>\n",
       "      <th></th>\n",
       "      <th></th>\n",
       "      <th></th>\n",
       "      <th></th>\n",
       "      <th></th>\n",
       "      <th></th>\n",
       "      <th></th>\n",
       "      <th></th>\n",
       "      <th></th>\n",
       "      <th></th>\n",
       "    </tr>\n",
       "  </thead>\n",
       "  <tbody>\n",
       "    <tr>\n",
       "      <th>A1</th>\n",
       "      <td>0</td>\n",
       "      <td>1</td>\n",
       "      <td>210</td>\n",
       "      <td>37</td>\n",
       "      <td>2</td>\n",
       "      <td>1</td>\n",
       "      <td>4</td>\n",
       "      <td>2</td>\n",
       "      <td>2</td>\n",
       "      <td>3</td>\n",
       "      <td>...</td>\n",
       "      <td>0</td>\n",
       "      <td>0</td>\n",
       "      <td>0</td>\n",
       "      <td>0</td>\n",
       "      <td>0</td>\n",
       "      <td>0</td>\n",
       "      <td>0</td>\n",
       "      <td>0</td>\n",
       "      <td>0</td>\n",
       "      <td>0</td>\n",
       "    </tr>\n",
       "    <tr>\n",
       "      <th>A2</th>\n",
       "      <td>1</td>\n",
       "      <td>0</td>\n",
       "      <td>550</td>\n",
       "      <td>33</td>\n",
       "      <td>2</td>\n",
       "      <td>3</td>\n",
       "      <td>4</td>\n",
       "      <td>2</td>\n",
       "      <td>2</td>\n",
       "      <td>3</td>\n",
       "      <td>...</td>\n",
       "      <td>0</td>\n",
       "      <td>0</td>\n",
       "      <td>0</td>\n",
       "      <td>0</td>\n",
       "      <td>0</td>\n",
       "      <td>0</td>\n",
       "      <td>0</td>\n",
       "      <td>0</td>\n",
       "      <td>0</td>\n",
       "      <td>0</td>\n",
       "    </tr>\n",
       "    <tr>\n",
       "      <th>A3</th>\n",
       "      <td>2</td>\n",
       "      <td>0</td>\n",
       "      <td>290</td>\n",
       "      <td>19</td>\n",
       "      <td>1</td>\n",
       "      <td>4</td>\n",
       "      <td>4</td>\n",
       "      <td>2</td>\n",
       "      <td>2</td>\n",
       "      <td>3</td>\n",
       "      <td>...</td>\n",
       "      <td>0</td>\n",
       "      <td>0</td>\n",
       "      <td>0</td>\n",
       "      <td>0</td>\n",
       "      <td>0</td>\n",
       "      <td>0</td>\n",
       "      <td>0</td>\n",
       "      <td>0</td>\n",
       "      <td>0</td>\n",
       "      <td>0</td>\n",
       "    </tr>\n",
       "    <tr>\n",
       "      <th>A4</th>\n",
       "      <td>3</td>\n",
       "      <td>0</td>\n",
       "      <td>340</td>\n",
       "      <td>44</td>\n",
       "      <td>2</td>\n",
       "      <td>3</td>\n",
       "      <td>4</td>\n",
       "      <td>2</td>\n",
       "      <td>3</td>\n",
       "      <td>3</td>\n",
       "      <td>...</td>\n",
       "      <td>0</td>\n",
       "      <td>0</td>\n",
       "      <td>0</td>\n",
       "      <td>0</td>\n",
       "      <td>0</td>\n",
       "      <td>0</td>\n",
       "      <td>0</td>\n",
       "      <td>0</td>\n",
       "      <td>0</td>\n",
       "      <td>0</td>\n",
       "    </tr>\n",
       "    <tr>\n",
       "      <th>A5</th>\n",
       "      <td>4</td>\n",
       "      <td>0</td>\n",
       "      <td>420</td>\n",
       "      <td>38</td>\n",
       "      <td>2</td>\n",
       "      <td>3</td>\n",
       "      <td>5</td>\n",
       "      <td>2</td>\n",
       "      <td>3</td>\n",
       "      <td>3</td>\n",
       "      <td>...</td>\n",
       "      <td>0</td>\n",
       "      <td>0</td>\n",
       "      <td>0</td>\n",
       "      <td>0</td>\n",
       "      <td>0</td>\n",
       "      <td>0</td>\n",
       "      <td>0</td>\n",
       "      <td>0</td>\n",
       "      <td>0</td>\n",
       "      <td>0</td>\n",
       "    </tr>\n",
       "  </tbody>\n",
       "</table>\n",
       "<p>5 rows × 183 columns</p>\n",
       "</div>"
      ],
      "text/plain": [
       "    Unnamed: 0  target  peakflow  वय_275546  लिंग: _275544  शिक्षण_275545  \\\n",
       "ID                                                                          \n",
       "A1           0       1       210         37              2              1   \n",
       "A2           1       0       550         33              2              3   \n",
       "A3           2       0       290         19              1              4   \n",
       "A4           3       0       340         44              2              3   \n",
       "A5           4       0       420         38              2              3   \n",
       "\n",
       "    आपल्या घरातील कुटुंबातील सदस्यांची संख्या? _275550  \\\n",
       "ID                                                       \n",
       "A1                                                  4    \n",
       "A2                                                  4    \n",
       "A3                                                  4    \n",
       "A4                                                  4    \n",
       "A5                                                  5    \n",
       "\n",
       "    घराविषयीची माहिती 0 तुमचे घर कोणत्या प्रकारचे आहे ?_275549  \\\n",
       "ID                                                               \n",
       "A1                                                  2            \n",
       "A2                                                  2            \n",
       "A3                                                  2            \n",
       "A4                                                  2            \n",
       "A5                                                  2            \n",
       "\n",
       "    तुमच्या घरात किती खोल्या आहेत?_275551  \\\n",
       "ID                                          \n",
       "A1                                      2   \n",
       "A2                                      2   \n",
       "A3                                      2   \n",
       "A4                                      3   \n",
       "A5                                      3   \n",
       "\n",
       "    तुमच्या घराला एकूण किती खिडक्या आहेत ?_275552  ...  \\\n",
       "ID                                                 ...   \n",
       "A1                                              3  ...   \n",
       "A2                                              3  ...   \n",
       "A3                                              3  ...   \n",
       "A4                                              3  ...   \n",
       "A5                                              3  ...   \n",
       "\n",
       "    जर हो, किती वर्ष पासून? _275700  हृदय रोग_275701  \\\n",
       "ID                                                     \n",
       "A1                                0                0   \n",
       "A2                                0                0   \n",
       "A3                                0                0   \n",
       "A4                                0                0   \n",
       "A5                                0                0   \n",
       "\n",
       "    जर हो, किती वर्ष पासून? _275702  थाइरोइड विकार_275703  \\\n",
       "ID                                                          \n",
       "A1                                0                     0   \n",
       "A2                                0                     0   \n",
       "A3                                0                     0   \n",
       "A4                                0                     0   \n",
       "A5                                0                     0   \n",
       "\n",
       "    जर हो, किती वर्ष पासून? _275704  चिंता आणि निराशा_275705  \\\n",
       "ID                                                             \n",
       "A1                                0                        0   \n",
       "A2                                0                        0   \n",
       "A3                                0                        0   \n",
       "A4                                0                        0   \n",
       "A5                                0                        0   \n",
       "\n",
       "    जर हो, किती वर्ष पासून? _275706  हाड ठिसूळ होणे_275707  \\\n",
       "ID                                                           \n",
       "A1                                0                      0   \n",
       "A2                                0                      0   \n",
       "A3                                0                      0   \n",
       "A4                                0                      0   \n",
       "A5                                0                      0   \n",
       "\n",
       "    जर हो, किती वर्ष पासून? _275708  धन्यवाद सबमिट करा_275709  \n",
       "ID                                                             \n",
       "A1                                0                         0  \n",
       "A2                                0                         0  \n",
       "A3                                0                         0  \n",
       "A4                                0                         0  \n",
       "A5                                0                         0  \n",
       "\n",
       "[5 rows x 183 columns]"
      ]
     },
     "execution_count": 238,
     "metadata": {},
     "output_type": "execute_result"
    }
   ],
   "source": [
    "\n",
    "data = pd.read_csv(\"D:/data/CRF Final Data/oscar/main oscar.csv\")\n",
    "data = data.set_index(\"ID\")\n",
    "data.head()"
   ]
  },
  {
   "cell_type": "code",
   "execution_count": 239,
   "metadata": {
    "scrolled": true
   },
   "outputs": [
    {
     "data": {
      "text/plain": [
       "((798, 182), (798,))"
      ]
     },
     "execution_count": 239,
     "metadata": {},
     "output_type": "execute_result"
    }
   ],
   "source": [
    "X = data.drop('target', axis = 1)\n",
    "y = data['target']\n",
    "\n",
    "X.shape, y.shape"
   ]
  },
  {
   "cell_type": "code",
   "execution_count": 240,
   "metadata": {},
   "outputs": [],
   "source": [
    "X_train, X_test, y_train, y_test = train_test_split(X, y, test_size = 0.2, random_state = 0, stratify = y)"
   ]
  },
  {
   "cell_type": "markdown",
   "metadata": {},
   "source": [
    "# Remove constant, quasi constant, and duplicate features"
   ]
  },
  {
   "cell_type": "code",
   "execution_count": 241,
   "metadata": {},
   "outputs": [],
   "source": [
    "\n",
    "constant_filter = VarianceThreshold(threshold=0.01)\n",
    "constant_filter.fit(X_train)\n",
    "X_train_filter = constant_filter.transform(X_train)\n",
    "X_test_filter = constant_filter.transform(X_test)"
   ]
  },
  {
   "cell_type": "code",
   "execution_count": 242,
   "metadata": {},
   "outputs": [],
   "source": [
    "X_train_T = X_train_filter.T\n",
    "X_test_T = X_test_filter.T"
   ]
  },
  {
   "cell_type": "code",
   "execution_count": 243,
   "metadata": {},
   "outputs": [],
   "source": [
    "\n",
    "X_train_T = pd.DataFrame(X_train_T)\n",
    "X_test_T = pd.DataFrame(X_test_T)"
   ]
  },
  {
   "cell_type": "code",
   "execution_count": 244,
   "metadata": {},
   "outputs": [
    {
     "data": {
      "text/plain": [
       "0"
      ]
     },
     "execution_count": 244,
     "metadata": {},
     "output_type": "execute_result"
    }
   ],
   "source": [
    "X_train_T.duplicated().sum()"
   ]
  },
  {
   "cell_type": "code",
   "execution_count": 245,
   "metadata": {},
   "outputs": [],
   "source": [
    "duplicated_features = X_train_T.duplicated()"
   ]
  },
  {
   "cell_type": "code",
   "execution_count": 246,
   "metadata": {},
   "outputs": [],
   "source": [
    "features_to_keep = [not index for index in duplicated_features]"
   ]
  },
  {
   "cell_type": "code",
   "execution_count": 247,
   "metadata": {},
   "outputs": [],
   "source": [
    "X_train_unique = X_train_T[features_to_keep].T\n",
    "X_test_unique = X_test_T[features_to_keep].T"
   ]
  },
  {
   "cell_type": "code",
   "execution_count": 248,
   "metadata": {},
   "outputs": [
    {
     "data": {
      "text/plain": [
       "((638, 146), (160, 146))"
      ]
     },
     "execution_count": 248,
     "metadata": {},
     "output_type": "execute_result"
    }
   ],
   "source": [
    "X_train_unique.shape, X_test_unique.shape"
   ]
  },
  {
   "cell_type": "markdown",
   "metadata": {},
   "source": [
    "#  Calculate the MI"
   ]
  },
  {
   "cell_type": "code",
   "execution_count": 250,
   "metadata": {},
   "outputs": [],
   "source": [
    "mi = mutual_info_classif(X_train_unique, y_train)"
   ]
  },
  {
   "cell_type": "code",
   "execution_count": 251,
   "metadata": {},
   "outputs": [
    {
     "data": {
      "text/plain": [
       "146"
      ]
     },
     "execution_count": 251,
     "metadata": {},
     "output_type": "execute_result"
    }
   ],
   "source": [
    "\n",
    "len(mi)"
   ]
  },
  {
   "cell_type": "code",
   "execution_count": 252,
   "metadata": {},
   "outputs": [
    {
     "data": {
      "text/plain": [
       "array([0.04457389, 0.        , 0.        , 0.01796351, 0.        ,\n",
       "       0.        , 0.03831029, 0.        , 0.        , 0.03780724,\n",
       "       0.        , 0.01147739, 0.        , 0.        , 0.        ,\n",
       "       0.        , 0.        , 0.00999056, 0.        , 0.01233551,\n",
       "       0.02433023, 0.        , 0.        , 0.00231767, 0.03607632,\n",
       "       0.02712013, 0.        , 0.00539094, 0.00765592, 0.0089219 ,\n",
       "       0.        , 0.02280313, 0.        , 0.        , 0.0063868 ,\n",
       "       0.01218397, 0.00513583, 0.01294174, 0.00062142, 0.        ,\n",
       "       0.        , 0.0124049 , 0.        , 0.        , 0.00169732,\n",
       "       0.        , 0.        , 0.00102559, 0.        , 0.01924888,\n",
       "       0.        , 0.01936802, 0.01302256, 0.01739635, 0.0040047 ,\n",
       "       0.        , 0.        , 0.        , 0.0106622 , 0.01603654,\n",
       "       0.        , 0.00844628, 0.        , 0.        , 0.        ,\n",
       "       0.00620047, 0.        , 0.        , 0.        , 0.        ,\n",
       "       0.00639256, 0.        , 0.02520835, 0.        , 0.04079298,\n",
       "       0.        , 0.0070696 , 0.        , 0.03349781, 0.00609671,\n",
       "       0.01498554, 0.        , 0.        , 0.        , 0.01025256,\n",
       "       0.        , 0.00948413, 0.        , 0.01035861, 0.00766197,\n",
       "       0.00984004, 0.        , 0.        , 0.01805078, 0.        ,\n",
       "       0.        , 0.00438837, 0.0025621 , 0.        , 0.        ,\n",
       "       0.00945039, 0.        , 0.        , 0.01601767, 0.00203205,\n",
       "       0.0192815 , 0.        , 0.        , 0.        , 0.00645596,\n",
       "       0.        , 0.00114163, 0.00133587, 0.00781881, 0.        ,\n",
       "       0.03182575, 0.01551491, 0.        , 0.002931  , 0.        ,\n",
       "       0.00398445, 0.        , 0.02170388, 0.        , 0.01168498,\n",
       "       0.        , 0.00503123, 0.01467214, 0.        , 0.00175689,\n",
       "       0.00699683, 0.        , 0.        , 0.00747484, 0.00851047,\n",
       "       0.        , 0.00437334, 0.00316821, 0.        , 0.        ,\n",
       "       0.        , 0.        , 0.00417541, 0.00307518, 0.02916364,\n",
       "       0.01403022])"
      ]
     },
     "execution_count": 252,
     "metadata": {},
     "output_type": "execute_result"
    }
   ],
   "source": [
    "mi"
   ]
  },
  {
   "cell_type": "code",
   "execution_count": 253,
   "metadata": {},
   "outputs": [],
   "source": [
    "mi = pd.Series(mi)\n",
    "mi.index = X_train_unique.columns"
   ]
  },
  {
   "cell_type": "code",
   "execution_count": 254,
   "metadata": {},
   "outputs": [],
   "source": [
    "\n",
    "mi.sort_values(ascending=False, inplace = True)"
   ]
  },
  {
   "cell_type": "code",
   "execution_count": 255,
   "metadata": {},
   "outputs": [
    {
     "data": {
      "text/plain": [
       "<matplotlib.axes._subplots.AxesSubplot at 0x2ed9873e508>"
      ]
     },
     "execution_count": 255,
     "metadata": {},
     "output_type": "execute_result"
    },
    {
     "data": {
      "image/png": "[encoded data removed]",
      "text/plain": [
       "<Figure size 1152x360 with 1 Axes>"
      ]
     },
     "metadata": {
      "needs_background": "light"
     },
     "output_type": "display_data"
    }
   ],
   "source": [
    "mi.plot.bar(figsize = (16,5))"
   ]
  },
  {
   "cell_type": "code",
   "execution_count": 256,
   "metadata": {},
   "outputs": [
    {
     "data": {
      "text/plain": [
       "Int64Index([0, 12, 22, 34, 40, 41, 49, 62, 94, 99, 103, 117, 126, 134, 136], dtype='int64')"
      ]
     },
     "execution_count": 256,
     "metadata": {},
     "output_type": "execute_result"
    }
   ],
   "source": [
    "sel = SelectPercentile(mutual_info_classif, percentile=10).fit(X_train_unique, y_train)\n",
    "X_train_unique.columns[sel.get_support()]\n"
   ]
  },
  {
   "cell_type": "code",
   "execution_count": 257,
   "metadata": {},
   "outputs": [
    {
     "name": "stdout",
     "output_type": "stream",
     "text": [
      "Help on SelectPercentile in module sklearn.feature_selection._univariate_selection object:\n",
      "\n",
      "class SelectPercentile(_BaseFilter)\n",
      " |  SelectPercentile(score_func=<function f_classif at 0x000002ED96F5CC18>, percentile=10)\n",
      " |  \n",
      " |  Select features according to a percentile of the highest scores.\n",
      " |  \n",
      " |  Read more in the :ref:`User Guide <univariate_feature_selection>`.\n",
      " |  \n",
      " |  Parameters\n",
      " |  ----------\n",
      " |  score_func : callable\n",
      " |      Function taking two arrays X and y, and returning a pair of arrays\n",
      " |      (scores, pvalues) or a single array with scores.\n",
      " |      Default is f_classif (see below \"See also\"). The default function only\n",
      " |      works with classification tasks.\n",
      " |  \n",
      " |  percentile : int, optional, default=10\n",
      " |      Percent of features to keep.\n",
      " |  \n",
      " |  Attributes\n",
      " |  ----------\n",
      " |  scores_ : array-like of shape (n_features,)\n",
      " |      Scores of features.\n",
      " |  \n",
      " |  pvalues_ : array-like of shape (n_features,)\n",
      " |      p-values of feature scores, None if `score_func` returned only scores.\n",
      " |  \n",
      " |  Examples\n",
      " |  --------\n",
      " |  >>> from sklearn.datasets import load_digits\n",
      " |  >>> from sklearn.feature_selection import SelectPercentile, chi2\n",
      " |  >>> X, y = load_digits(return_X_y=True)\n",
      " |  >>> X.shape\n",
      " |  (1797, 64)\n",
      " |  >>> X_new = SelectPercentile(chi2, percentile=10).fit_transform(X, y)\n",
      " |  >>> X_new.shape\n",
      " |  (1797, 7)\n",
      " |  \n",
      " |  Notes\n",
      " |  -----\n",
      " |  Ties between features with equal scores will be broken in an unspecified\n",
      " |  way.\n",
      " |  \n",
      " |  See also\n",
      " |  --------\n",
      " |  f_classif: ANOVA F-value between label/feature for classification tasks.\n",
      " |  mutual_info_classif: Mutual information for a discrete target.\n",
      " |  chi2: Chi-squared stats of non-negative features for classification tasks.\n",
      " |  f_regression: F-value between label/feature for regression tasks.\n",
      " |  mutual_info_regression: Mutual information for a continuous target.\n",
      " |  SelectKBest: Select features based on the k highest scores.\n",
      " |  SelectFpr: Select features based on a false positive rate test.\n",
      " |  SelectFdr: Select features based on an estimated false discovery rate.\n",
      " |  SelectFwe: Select features based on family-wise error rate.\n",
      " |  GenericUnivariateSelect: Univariate feature selector with configurable mode.\n",
      " |  \n",
      " |  Method resolution order:\n",
      " |      SelectPercentile\n",
      " |      _BaseFilter\n",
      " |      sklearn.feature_selection._base.SelectorMixin\n",
      " |      sklearn.base.TransformerMixin\n",
      " |      sklearn.base.BaseEstimator\n",
      " |      builtins.object\n",
      " |  \n",
      " |  Methods defined here:\n",
      " |  \n",
      " |  __init__(self, score_func=<function f_classif at 0x000002ED96F5CC18>, percentile=10)\n",
      " |      Initialize self.  See help(type(self)) for accurate signature.\n",
      " |  \n",
      " |  ----------------------------------------------------------------------\n",
      " |  Data and other attributes defined here:\n",
      " |  \n",
      " |  __abstractmethods__ = frozenset()\n",
      " |  \n",
      " |  ----------------------------------------------------------------------\n",
      " |  Methods inherited from _BaseFilter:\n",
      " |  \n",
      " |  fit(self, X, y)\n",
      " |      Run score function on (X, y) and get the appropriate features.\n",
      " |      \n",
      " |      Parameters\n",
      " |      ----------\n",
      " |      X : array-like of shape (n_samples, n_features)\n",
      " |          The training input samples.\n",
      " |      \n",
      " |      y : array-like of shape (n_samples,)\n",
      " |          The target values (class labels in classification, real numbers in\n",
      " |          regression).\n",
      " |      \n",
      " |      Returns\n",
      " |      -------\n",
      " |      self : object\n",
      " |  \n",
      " |  ----------------------------------------------------------------------\n",
      " |  Methods inherited from sklearn.feature_selection._base.SelectorMixin:\n",
      " |  \n",
      " |  get_support(self, indices=False)\n",
      " |      Get a mask, or integer index, of the features selected\n",
      " |      \n",
      " |      Parameters\n",
      " |      ----------\n",
      " |      indices : boolean (default False)\n",
      " |          If True, the return value will be an array of integers, rather\n",
      " |          than a boolean mask.\n",
      " |      \n",
      " |      Returns\n",
      " |      -------\n",
      " |      support : array\n",
      " |          An index that selects the retained features from a feature vector.\n",
      " |          If `indices` is False, this is a boolean array of shape\n",
      " |          [# input features], in which an element is True iff its\n",
      " |          corresponding feature is selected for retention. If `indices` is\n",
      " |          True, this is an integer array of shape [# output features] whose\n",
      " |          values are indices into the input feature vector.\n",
      " |  \n",
      " |  inverse_transform(self, X)\n",
      " |      Reverse the transformation operation\n",
      " |      \n",
      " |      Parameters\n",
      " |      ----------\n",
      " |      X : array of shape [n_samples, n_selected_features]\n",
      " |          The input samples.\n",
      " |      \n",
      " |      Returns\n",
      " |      -------\n",
      " |      X_r : array of shape [n_samples, n_original_features]\n",
      " |          `X` with columns of zeros inserted where features would have\n",
      " |          been removed by :meth:`transform`.\n",
      " |  \n",
      " |  transform(self, X)\n",
      " |      Reduce X to the selected features.\n",
      " |      \n",
      " |      Parameters\n",
      " |      ----------\n",
      " |      X : array of shape [n_samples, n_features]\n",
      " |          The input samples.\n",
      " |      \n",
      " |      Returns\n",
      " |      -------\n",
      " |      X_r : array of shape [n_samples, n_selected_features]\n",
      " |          The input samples with only the selected features.\n",
      " |  \n",
      " |  ----------------------------------------------------------------------\n",
      " |  Methods inherited from sklearn.base.TransformerMixin:\n",
      " |  \n",
      " |  fit_transform(self, X, y=None, **fit_params)\n",
      " |      Fit to data, then transform it.\n",
      " |      \n",
      " |      Fits transformer to X and y with optional parameters fit_params\n",
      " |      and returns a transformed version of X.\n",
      " |      \n",
      " |      Parameters\n",
      " |      ----------\n",
      " |      X : numpy array of shape [n_samples, n_features]\n",
      " |          Training set.\n",
      " |      \n",
      " |      y : numpy array of shape [n_samples]\n",
      " |          Target values.\n",
      " |      \n",
      " |      **fit_params : dict\n",
      " |          Additional fit parameters.\n",
      " |      \n",
      " |      Returns\n",
      " |      -------\n",
      " |      X_new : numpy array of shape [n_samples, n_features_new]\n",
      " |          Transformed array.\n",
      " |  \n",
      " |  ----------------------------------------------------------------------\n",
      " |  Data descriptors inherited from sklearn.base.TransformerMixin:\n",
      " |  \n",
      " |  __dict__\n",
      " |      dictionary for instance variables (if defined)\n",
      " |  \n",
      " |  __weakref__\n",
      " |      list of weak references to the object (if defined)\n",
      " |  \n",
      " |  ----------------------------------------------------------------------\n",
      " |  Methods inherited from sklearn.base.BaseEstimator:\n",
      " |  \n",
      " |  __getstate__(self)\n",
      " |  \n",
      " |  __repr__(self, N_CHAR_MAX=700)\n",
      " |      Return repr(self).\n",
      " |  \n",
      " |  __setstate__(self, state)\n",
      " |  \n",
      " |  get_params(self, deep=True)\n",
      " |      Get parameters for this estimator.\n",
      " |      \n",
      " |      Parameters\n",
      " |      ----------\n",
      " |      deep : bool, default=True\n",
      " |          If True, will return the parameters for this estimator and\n",
      " |          contained subobjects that are estimators.\n",
      " |      \n",
      " |      Returns\n",
      " |      -------\n",
      " |      params : mapping of string to any\n",
      " |          Parameter names mapped to their values.\n",
      " |  \n",
      " |  set_params(self, **params)\n",
      " |      Set the parameters of this estimator.\n",
      " |      \n",
      " |      The method works on simple estimators as well as on nested objects\n",
      " |      (such as pipelines). The latter have parameters of the form\n",
      " |      ``<component>__<parameter>`` so that it's possible to update each\n",
      " |      component of a nested object.\n",
      " |      \n",
      " |      Parameters\n",
      " |      ----------\n",
      " |      **params : dict\n",
      " |          Estimator parameters.\n",
      " |      \n",
      " |      Returns\n",
      " |      -------\n",
      " |      self : object\n",
      " |          Estimator instance.\n",
      "\n"
     ]
    }
   ],
   "source": [
    "help(sel)"
   ]
  },
  {
   "cell_type": "code",
   "execution_count": 258,
   "metadata": {},
   "outputs": [],
   "source": [
    "X_train_mi = sel.transform(X_train_unique)\n",
    "X_test_mi = sel.transform(X_test_unique)"
   ]
  },
  {
   "cell_type": "code",
   "execution_count": 259,
   "metadata": {},
   "outputs": [
    {
     "data": {
      "text/plain": [
       "(638, 15)"
      ]
     },
     "execution_count": 259,
     "metadata": {},
     "output_type": "execute_result"
    }
   ],
   "source": [
    "X_train_mi.shape"
   ]
  },
  {
   "cell_type": "markdown",
   "metadata": {},
   "source": [
    "# Build the model and compare the performance"
   ]
  },
  {
   "cell_type": "code",
   "execution_count": 260,
   "metadata": {},
   "outputs": [],
   "source": [
    "\n",
    "def run_randomForest(X_train, X_test, y_train, y_test):\n",
    "    clf = RandomForestClassifier(n_estimators=100, random_state=0, n_jobs=-1)\n",
    "    clf.fit(X_train, y_train)\n",
    "    y_pred = clf.predict(X_test)\n",
    "    print('Accuracy on test set: ')\n",
    "    print(accuracy_score(y_test, y_pred))"
   ]
  },
  {
   "cell_type": "code",
   "execution_count": 261,
   "metadata": {},
   "outputs": [
    {
     "name": "stdout",
     "output_type": "stream",
     "text": [
      "Accuracy on test set: \n",
      "0.83125\n",
      "Wall time: 490 ms\n"
     ]
    }
   ],
   "source": [
    "\n",
    "%%time\n",
    "run_randomForest(X_train_mi, X_test_mi, y_train, y_test)"
   ]
  },
  {
   "cell_type": "code",
   "execution_count": 262,
   "metadata": {},
   "outputs": [
    {
     "name": "stdout",
     "output_type": "stream",
     "text": [
      "Accuracy on test set: \n",
      "0.84375\n",
      "Wall time: 479 ms\n"
     ]
    }
   ],
   "source": [
    "%%time\n",
    "run_randomForest(X_train, X_test, y_train, y_test)"
   ]
  },
  {
   "cell_type": "markdown",
   "metadata": {},
   "source": [
    "# Mutual Information Gain in Regression"
   ]
  },
  {
   "cell_type": "code",
   "execution_count": 263,
   "metadata": {},
   "outputs": [],
   "source": [
    "\n",
    "from sklearn.datasets import load_boston\n",
    "from sklearn.linear_model import LinearRegression\n",
    "from sklearn.metrics import mean_absolute_error, mean_squared_error, r2_score"
   ]
  },
  {
   "cell_type": "code",
   "execution_count": 264,
   "metadata": {},
   "outputs": [],
   "source": [
    "\n",
    "boston = load_boston()"
   ]
  },
  {
   "cell_type": "code",
   "execution_count": 265,
   "metadata": {},
   "outputs": [
    {
     "data": {
      "text/html": [
       "<div>\n",
       "<style scoped>\n",
       "    .dataframe tbody tr th:only-of-type {\n",
       "        vertical-align: middle;\n",
       "    }\n",
       "\n",
       "    .dataframe tbody tr th {\n",
       "        vertical-align: top;\n",
       "    }\n",
       "\n",
       "    .dataframe thead th {\n",
       "        text-align: right;\n",
       "    }\n",
       "</style>\n",
       "<table border=\"1\" class=\"dataframe\">\n",
       "  <thead>\n",
       "    <tr style=\"text-align: right;\">\n",
       "      <th></th>\n",
       "      <th>CRIM</th>\n",
       "      <th>ZN</th>\n",
       "      <th>INDUS</th>\n",
       "      <th>CHAS</th>\n",
       "      <th>NOX</th>\n",
       "      <th>RM</th>\n",
       "      <th>AGE</th>\n",
       "      <th>DIS</th>\n",
       "      <th>RAD</th>\n",
       "      <th>TAX</th>\n",
       "      <th>PTRATIO</th>\n",
       "      <th>B</th>\n",
       "      <th>LSTAT</th>\n",
       "    </tr>\n",
       "  </thead>\n",
       "  <tbody>\n",
       "    <tr>\n",
       "      <th>0</th>\n",
       "      <td>0.00632</td>\n",
       "      <td>18.0</td>\n",
       "      <td>2.31</td>\n",
       "      <td>0.0</td>\n",
       "      <td>0.538</td>\n",
       "      <td>6.575</td>\n",
       "      <td>65.2</td>\n",
       "      <td>4.0900</td>\n",
       "      <td>1.0</td>\n",
       "      <td>296.0</td>\n",
       "      <td>15.3</td>\n",
       "      <td>396.90</td>\n",
       "      <td>4.98</td>\n",
       "    </tr>\n",
       "    <tr>\n",
       "      <th>1</th>\n",
       "      <td>0.02731</td>\n",
       "      <td>0.0</td>\n",
       "      <td>7.07</td>\n",
       "      <td>0.0</td>\n",
       "      <td>0.469</td>\n",
       "      <td>6.421</td>\n",
       "      <td>78.9</td>\n",
       "      <td>4.9671</td>\n",
       "      <td>2.0</td>\n",
       "      <td>242.0</td>\n",
       "      <td>17.8</td>\n",
       "      <td>396.90</td>\n",
       "      <td>9.14</td>\n",
       "    </tr>\n",
       "    <tr>\n",
       "      <th>2</th>\n",
       "      <td>0.02729</td>\n",
       "      <td>0.0</td>\n",
       "      <td>7.07</td>\n",
       "      <td>0.0</td>\n",
       "      <td>0.469</td>\n",
       "      <td>7.185</td>\n",
       "      <td>61.1</td>\n",
       "      <td>4.9671</td>\n",
       "      <td>2.0</td>\n",
       "      <td>242.0</td>\n",
       "      <td>17.8</td>\n",
       "      <td>392.83</td>\n",
       "      <td>4.03</td>\n",
       "    </tr>\n",
       "    <tr>\n",
       "      <th>3</th>\n",
       "      <td>0.03237</td>\n",
       "      <td>0.0</td>\n",
       "      <td>2.18</td>\n",
       "      <td>0.0</td>\n",
       "      <td>0.458</td>\n",
       "      <td>6.998</td>\n",
       "      <td>45.8</td>\n",
       "      <td>6.0622</td>\n",
       "      <td>3.0</td>\n",
       "      <td>222.0</td>\n",
       "      <td>18.7</td>\n",
       "      <td>394.63</td>\n",
       "      <td>2.94</td>\n",
       "    </tr>\n",
       "    <tr>\n",
       "      <th>4</th>\n",
       "      <td>0.06905</td>\n",
       "      <td>0.0</td>\n",
       "      <td>2.18</td>\n",
       "      <td>0.0</td>\n",
       "      <td>0.458</td>\n",
       "      <td>7.147</td>\n",
       "      <td>54.2</td>\n",
       "      <td>6.0622</td>\n",
       "      <td>3.0</td>\n",
       "      <td>222.0</td>\n",
       "      <td>18.7</td>\n",
       "      <td>396.90</td>\n",
       "      <td>5.33</td>\n",
       "    </tr>\n",
       "  </tbody>\n",
       "</table>\n",
       "</div>"
      ],
      "text/plain": [
       "      CRIM    ZN  INDUS  CHAS    NOX     RM   AGE     DIS  RAD    TAX  \\\n",
       "0  0.00632  18.0   2.31   0.0  0.538  6.575  65.2  4.0900  1.0  296.0   \n",
       "1  0.02731   0.0   7.07   0.0  0.469  6.421  78.9  4.9671  2.0  242.0   \n",
       "2  0.02729   0.0   7.07   0.0  0.469  7.185  61.1  4.9671  2.0  242.0   \n",
       "3  0.03237   0.0   2.18   0.0  0.458  6.998  45.8  6.0622  3.0  222.0   \n",
       "4  0.06905   0.0   2.18   0.0  0.458  7.147  54.2  6.0622  3.0  222.0   \n",
       "\n",
       "   PTRATIO       B  LSTAT  \n",
       "0     15.3  396.90   4.98  \n",
       "1     17.8  396.90   9.14  \n",
       "2     17.8  392.83   4.03  \n",
       "3     18.7  394.63   2.94  \n",
       "4     18.7  396.90   5.33  "
      ]
     },
     "execution_count": 265,
     "metadata": {},
     "output_type": "execute_result"
    }
   ],
   "source": [
    "X = pd.DataFrame(data = boston.data, columns=boston.feature_names)\n",
    "X.head()"
   ]
  },
  {
   "cell_type": "code",
   "execution_count": 266,
   "metadata": {},
   "outputs": [],
   "source": [
    "\n",
    "y = boston.target"
   ]
  },
  {
   "cell_type": "code",
   "execution_count": 267,
   "metadata": {},
   "outputs": [],
   "source": [
    "X_train, X_test, y_train, y_test = train_test_split(X, y, test_size = 0.2, random_state = 0)"
   ]
  },
  {
   "cell_type": "code",
   "execution_count": 268,
   "metadata": {},
   "outputs": [],
   "source": [
    "mi = mutual_info_regression(X_train, y_train)\n",
    "mi = pd.Series(mi)\n",
    "mi.index = X_train.columns\n",
    "mi.sort_values(ascending=False, inplace = True)"
   ]
  },
  {
   "cell_type": "code",
   "execution_count": 269,
   "metadata": {},
   "outputs": [
    {
     "data": {
      "text/plain": [
       "LSTAT      0.676846\n",
       "RM         0.562647\n",
       "INDUS      0.524260\n",
       "PTRATIO    0.508287\n",
       "NOX        0.454087\n",
       "TAX        0.393550\n",
       "CRIM       0.364208\n",
       "AGE        0.343378\n",
       "DIS        0.321242\n",
       "RAD        0.225308\n",
       "ZN         0.197137\n",
       "B          0.153478\n",
       "CHAS       0.015378\n",
       "dtype: float64"
      ]
     },
     "execution_count": 269,
     "metadata": {},
     "output_type": "execute_result"
    }
   ],
   "source": [
    "mi"
   ]
  },
  {
   "cell_type": "code",
   "execution_count": 270,
   "metadata": {},
   "outputs": [
    {
     "data": {
      "text/plain": [
       "<matplotlib.axes._subplots.AxesSubplot at 0x2ed940abc08>"
      ]
     },
     "execution_count": 270,
     "metadata": {},
     "output_type": "execute_result"
    },
    {
     "data": {
      "image/png": "[encoded data removed]",
      "text/plain": [
       "<Figure size 432x288 with 1 Axes>"
      ]
     },
     "metadata": {
      "needs_background": "light"
     },
     "output_type": "display_data"
    }
   ],
   "source": [
    "mi.plot.bar()"
   ]
  },
  {
   "cell_type": "code",
   "execution_count": 271,
   "metadata": {},
   "outputs": [
    {
     "data": {
      "text/plain": [
       "Index(['CRIM', 'INDUS', 'NOX', 'RM', 'AGE', 'DIS', 'TAX', 'PTRATIO', 'LSTAT'], dtype='object')"
      ]
     },
     "execution_count": 271,
     "metadata": {},
     "output_type": "execute_result"
    }
   ],
   "source": [
    "sel = SelectKBest(mutual_info_regression, k = 9).fit(X_train, y_train)\n",
    "X_train.columns[sel.get_support()]"
   ]
  },
  {
   "cell_type": "code",
   "execution_count": 272,
   "metadata": {},
   "outputs": [],
   "source": [
    "\n",
    "model = LinearRegression()\n",
    "model.fit(X_train, y_train)\n",
    "y_predict = model.predict(X_test)"
   ]
  },
  {
   "cell_type": "code",
   "execution_count": 273,
   "metadata": {},
   "outputs": [
    {
     "data": {
      "text/plain": [
       "0.5892223849182514"
      ]
     },
     "execution_count": 273,
     "metadata": {},
     "output_type": "execute_result"
    }
   ],
   "source": [
    "r2_score(y_test, y_predict)"
   ]
  },
  {
   "cell_type": "code",
   "execution_count": 274,
   "metadata": {},
   "outputs": [
    {
     "data": {
      "text/plain": [
       "5.78350931508513"
      ]
     },
     "execution_count": 274,
     "metadata": {},
     "output_type": "execute_result"
    }
   ],
   "source": [
    "np.sqrt(mean_squared_error(y_test, y_predict))"
   ]
  },
  {
   "cell_type": "code",
   "execution_count": 275,
   "metadata": {},
   "outputs": [
    {
     "data": {
      "text/plain": [
       "9.188011545278203"
      ]
     },
     "execution_count": 275,
     "metadata": {},
     "output_type": "execute_result"
    }
   ],
   "source": [
    "np.std(y)"
   ]
  },
  {
   "cell_type": "code",
   "execution_count": 276,
   "metadata": {},
   "outputs": [
    {
     "data": {
      "text/plain": [
       "(404, 9)"
      ]
     },
     "execution_count": 276,
     "metadata": {},
     "output_type": "execute_result"
    }
   ],
   "source": [
    "X_train_9 = sel.transform(X_train)\n",
    "X_train_9.shape"
   ]
  },
  {
   "cell_type": "code",
   "execution_count": 277,
   "metadata": {},
   "outputs": [],
   "source": [
    "X_test_9 = sel.transform(X_test)"
   ]
  },
  {
   "cell_type": "code",
   "execution_count": 278,
   "metadata": {},
   "outputs": [
    {
     "name": "stdout",
     "output_type": "stream",
     "text": [
      "r2_score\n"
     ]
    },
    {
     "data": {
      "text/plain": [
       "0.5317127606961575"
      ]
     },
     "execution_count": 278,
     "metadata": {},
     "output_type": "execute_result"
    }
   ],
   "source": [
    "model = LinearRegression()\n",
    "model.fit(X_train_9, y_train)\n",
    "y_predict = model.predict(X_test_9)\n",
    "print('r2_score')\n",
    "r2_score(y_test, y_predict)"
   ]
  },
  {
   "cell_type": "code",
   "execution_count": 280,
   "metadata": {},
   "outputs": [
    {
     "name": "stdout",
     "output_type": "stream",
     "text": [
      "rmse\n"
     ]
    },
    {
     "data": {
      "text/plain": [
       "6.175103151293748"
      ]
     },
     "execution_count": 280,
     "metadata": {},
     "output_type": "execute_result"
    }
   ],
   "source": [
    "print('rmse')\n",
    "np.sqrt(mean_squared_error(y_test, y_predict))"
   ]
  },
  {
   "cell_type": "markdown",
   "metadata": {},
   "source": [
    "# Feature Selection Based on Univariate ROC_AUC for Classification and MSE for Regression"
   ]
  },
  {
   "cell_type": "code",
   "execution_count": 281,
   "metadata": {},
   "outputs": [],
   "source": [
    "import numpy as np\n",
    "import pandas as pd\n",
    "import matplotlib.pyplot as plt\n",
    "import seaborn as sns\n",
    "\n",
    "from sklearn.model_selection import train_test_split\n",
    "from sklearn.ensemble import RandomForestClassifier\n",
    "from sklearn.metrics import accuracy_score, roc_auc_score\n",
    "from sklearn.feature_selection import VarianceThreshold\n",
    "\n"
   ]
  },
  {
   "cell_type": "code",
   "execution_count": 282,
   "metadata": {},
   "outputs": [
    {
     "data": {
      "text/html": [
       "<div>\n",
       "<style scoped>\n",
       "    .dataframe tbody tr th:only-of-type {\n",
       "        vertical-align: middle;\n",
       "    }\n",
       "\n",
       "    .dataframe tbody tr th {\n",
       "        vertical-align: top;\n",
       "    }\n",
       "\n",
       "    .dataframe thead th {\n",
       "        text-align: right;\n",
       "    }\n",
       "</style>\n",
       "<table border=\"1\" class=\"dataframe\">\n",
       "  <thead>\n",
       "    <tr style=\"text-align: right;\">\n",
       "      <th></th>\n",
       "      <th>Unnamed: 0</th>\n",
       "      <th>target</th>\n",
       "      <th>peakflow</th>\n",
       "      <th>वय_275546</th>\n",
       "      <th>लिंग: _275544</th>\n",
       "      <th>शिक्षण_275545</th>\n",
       "      <th>आपल्या घरातील कुटुंबातील सदस्यांची संख्या? _275550</th>\n",
       "      <th>घराविषयीची माहिती 0 तुमचे घर कोणत्या प्रकारचे आहे ?_275549</th>\n",
       "      <th>तुमच्या घरात किती खोल्या आहेत?_275551</th>\n",
       "      <th>तुमच्या घराला एकूण किती खिडक्या आहेत ?_275552</th>\n",
       "      <th>...</th>\n",
       "      <th>जर हो, किती वर्ष पासून? _275700</th>\n",
       "      <th>हृदय रोग_275701</th>\n",
       "      <th>जर हो, किती वर्ष पासून? _275702</th>\n",
       "      <th>थाइरोइड विकार_275703</th>\n",
       "      <th>जर हो, किती वर्ष पासून? _275704</th>\n",
       "      <th>चिंता आणि निराशा_275705</th>\n",
       "      <th>जर हो, किती वर्ष पासून? _275706</th>\n",
       "      <th>हाड ठिसूळ होणे_275707</th>\n",
       "      <th>जर हो, किती वर्ष पासून? _275708</th>\n",
       "      <th>धन्यवाद सबमिट करा_275709</th>\n",
       "    </tr>\n",
       "    <tr>\n",
       "      <th>ID</th>\n",
       "      <th></th>\n",
       "      <th></th>\n",
       "      <th></th>\n",
       "      <th></th>\n",
       "      <th></th>\n",
       "      <th></th>\n",
       "      <th></th>\n",
       "      <th></th>\n",
       "      <th></th>\n",
       "      <th></th>\n",
       "      <th></th>\n",
       "      <th></th>\n",
       "      <th></th>\n",
       "      <th></th>\n",
       "      <th></th>\n",
       "      <th></th>\n",
       "      <th></th>\n",
       "      <th></th>\n",
       "      <th></th>\n",
       "      <th></th>\n",
       "      <th></th>\n",
       "    </tr>\n",
       "  </thead>\n",
       "  <tbody>\n",
       "    <tr>\n",
       "      <th>A1</th>\n",
       "      <td>0</td>\n",
       "      <td>1</td>\n",
       "      <td>210</td>\n",
       "      <td>37</td>\n",
       "      <td>2</td>\n",
       "      <td>1</td>\n",
       "      <td>4</td>\n",
       "      <td>2</td>\n",
       "      <td>2</td>\n",
       "      <td>3</td>\n",
       "      <td>...</td>\n",
       "      <td>0</td>\n",
       "      <td>0</td>\n",
       "      <td>0</td>\n",
       "      <td>0</td>\n",
       "      <td>0</td>\n",
       "      <td>0</td>\n",
       "      <td>0</td>\n",
       "      <td>0</td>\n",
       "      <td>0</td>\n",
       "      <td>0</td>\n",
       "    </tr>\n",
       "    <tr>\n",
       "      <th>A2</th>\n",
       "      <td>1</td>\n",
       "      <td>0</td>\n",
       "      <td>550</td>\n",
       "      <td>33</td>\n",
       "      <td>2</td>\n",
       "      <td>3</td>\n",
       "      <td>4</td>\n",
       "      <td>2</td>\n",
       "      <td>2</td>\n",
       "      <td>3</td>\n",
       "      <td>...</td>\n",
       "      <td>0</td>\n",
       "      <td>0</td>\n",
       "      <td>0</td>\n",
       "      <td>0</td>\n",
       "      <td>0</td>\n",
       "      <td>0</td>\n",
       "      <td>0</td>\n",
       "      <td>0</td>\n",
       "      <td>0</td>\n",
       "      <td>0</td>\n",
       "    </tr>\n",
       "    <tr>\n",
       "      <th>A3</th>\n",
       "      <td>2</td>\n",
       "      <td>0</td>\n",
       "      <td>290</td>\n",
       "      <td>19</td>\n",
       "      <td>1</td>\n",
       "      <td>4</td>\n",
       "      <td>4</td>\n",
       "      <td>2</td>\n",
       "      <td>2</td>\n",
       "      <td>3</td>\n",
       "      <td>...</td>\n",
       "      <td>0</td>\n",
       "      <td>0</td>\n",
       "      <td>0</td>\n",
       "      <td>0</td>\n",
       "      <td>0</td>\n",
       "      <td>0</td>\n",
       "      <td>0</td>\n",
       "      <td>0</td>\n",
       "      <td>0</td>\n",
       "      <td>0</td>\n",
       "    </tr>\n",
       "    <tr>\n",
       "      <th>A4</th>\n",
       "      <td>3</td>\n",
       "      <td>0</td>\n",
       "      <td>340</td>\n",
       "      <td>44</td>\n",
       "      <td>2</td>\n",
       "      <td>3</td>\n",
       "      <td>4</td>\n",
       "      <td>2</td>\n",
       "      <td>3</td>\n",
       "      <td>3</td>\n",
       "      <td>...</td>\n",
       "      <td>0</td>\n",
       "      <td>0</td>\n",
       "      <td>0</td>\n",
       "      <td>0</td>\n",
       "      <td>0</td>\n",
       "      <td>0</td>\n",
       "      <td>0</td>\n",
       "      <td>0</td>\n",
       "      <td>0</td>\n",
       "      <td>0</td>\n",
       "    </tr>\n",
       "    <tr>\n",
       "      <th>A5</th>\n",
       "      <td>4</td>\n",
       "      <td>0</td>\n",
       "      <td>420</td>\n",
       "      <td>38</td>\n",
       "      <td>2</td>\n",
       "      <td>3</td>\n",
       "      <td>5</td>\n",
       "      <td>2</td>\n",
       "      <td>3</td>\n",
       "      <td>3</td>\n",
       "      <td>...</td>\n",
       "      <td>0</td>\n",
       "      <td>0</td>\n",
       "      <td>0</td>\n",
       "      <td>0</td>\n",
       "      <td>0</td>\n",
       "      <td>0</td>\n",
       "      <td>0</td>\n",
       "      <td>0</td>\n",
       "      <td>0</td>\n",
       "      <td>0</td>\n",
       "    </tr>\n",
       "  </tbody>\n",
       "</table>\n",
       "<p>5 rows × 183 columns</p>\n",
       "</div>"
      ],
      "text/plain": [
       "    Unnamed: 0  target  peakflow  वय_275546  लिंग: _275544  शिक्षण_275545  \\\n",
       "ID                                                                          \n",
       "A1           0       1       210         37              2              1   \n",
       "A2           1       0       550         33              2              3   \n",
       "A3           2       0       290         19              1              4   \n",
       "A4           3       0       340         44              2              3   \n",
       "A5           4       0       420         38              2              3   \n",
       "\n",
       "    आपल्या घरातील कुटुंबातील सदस्यांची संख्या? _275550  \\\n",
       "ID                                                       \n",
       "A1                                                  4    \n",
       "A2                                                  4    \n",
       "A3                                                  4    \n",
       "A4                                                  4    \n",
       "A5                                                  5    \n",
       "\n",
       "    घराविषयीची माहिती 0 तुमचे घर कोणत्या प्रकारचे आहे ?_275549  \\\n",
       "ID                                                               \n",
       "A1                                                  2            \n",
       "A2                                                  2            \n",
       "A3                                                  2            \n",
       "A4                                                  2            \n",
       "A5                                                  2            \n",
       "\n",
       "    तुमच्या घरात किती खोल्या आहेत?_275551  \\\n",
       "ID                                          \n",
       "A1                                      2   \n",
       "A2                                      2   \n",
       "A3                                      2   \n",
       "A4                                      3   \n",
       "A5                                      3   \n",
       "\n",
       "    तुमच्या घराला एकूण किती खिडक्या आहेत ?_275552  ...  \\\n",
       "ID                                                 ...   \n",
       "A1                                              3  ...   \n",
       "A2                                              3  ...   \n",
       "A3                                              3  ...   \n",
       "A4                                              3  ...   \n",
       "A5                                              3  ...   \n",
       "\n",
       "    जर हो, किती वर्ष पासून? _275700  हृदय रोग_275701  \\\n",
       "ID                                                     \n",
       "A1                                0                0   \n",
       "A2                                0                0   \n",
       "A3                                0                0   \n",
       "A4                                0                0   \n",
       "A5                                0                0   \n",
       "\n",
       "    जर हो, किती वर्ष पासून? _275702  थाइरोइड विकार_275703  \\\n",
       "ID                                                          \n",
       "A1                                0                     0   \n",
       "A2                                0                     0   \n",
       "A3                                0                     0   \n",
       "A4                                0                     0   \n",
       "A5                                0                     0   \n",
       "\n",
       "    जर हो, किती वर्ष पासून? _275704  चिंता आणि निराशा_275705  \\\n",
       "ID                                                             \n",
       "A1                                0                        0   \n",
       "A2                                0                        0   \n",
       "A3                                0                        0   \n",
       "A4                                0                        0   \n",
       "A5                                0                        0   \n",
       "\n",
       "    जर हो, किती वर्ष पासून? _275706  हाड ठिसूळ होणे_275707  \\\n",
       "ID                                                           \n",
       "A1                                0                      0   \n",
       "A2                                0                      0   \n",
       "A3                                0                      0   \n",
       "A4                                0                      0   \n",
       "A5                                0                      0   \n",
       "\n",
       "    जर हो, किती वर्ष पासून? _275708  धन्यवाद सबमिट करा_275709  \n",
       "ID                                                             \n",
       "A1                                0                         0  \n",
       "A2                                0                         0  \n",
       "A3                                0                         0  \n",
       "A4                                0                         0  \n",
       "A5                                0                         0  \n",
       "\n",
       "[5 rows x 183 columns]"
      ]
     },
     "execution_count": 282,
     "metadata": {},
     "output_type": "execute_result"
    }
   ],
   "source": [
    "\n",
    "data = pd.read_csv(\"D:/data/CRF Final Data/oscar/main oscar.csv\")\n",
    "data = data.set_index(\"ID\")\n",
    "data.head()"
   ]
  },
  {
   "cell_type": "code",
   "execution_count": 284,
   "metadata": {},
   "outputs": [
    {
     "data": {
      "text/plain": [
       "((798, 182), (798,))"
      ]
     },
     "execution_count": 284,
     "metadata": {},
     "output_type": "execute_result"
    }
   ],
   "source": [
    "X = data.drop('target', axis = 1)\n",
    "y = data['target']\n",
    "\n",
    "X.shape, y.shape"
   ]
  },
  {
   "cell_type": "code",
   "execution_count": 285,
   "metadata": {},
   "outputs": [],
   "source": [
    "X_train, X_test, y_train, y_test = train_test_split(X, y, test_size = 0.2, random_state = 0, stratify = y)"
   ]
  },
  {
   "cell_type": "markdown",
   "metadata": {},
   "source": [
    "# Remove Constant, Quasi Constant and Duplicate Features"
   ]
  },
  {
   "cell_type": "code",
   "execution_count": 286,
   "metadata": {},
   "outputs": [],
   "source": [
    "#remove constant and quasi constant features\n",
    "constant_filter = VarianceThreshold(threshold=0.01)\n",
    "constant_filter.fit(X_train)\n",
    "X_train_filter = constant_filter.transform(X_train)\n",
    "X_test_filter = constant_filter.transform(X_test)"
   ]
  },
  {
   "cell_type": "code",
   "execution_count": 287,
   "metadata": {},
   "outputs": [
    {
     "data": {
      "text/plain": [
       "((638, 146), (160, 146))"
      ]
     },
     "execution_count": 287,
     "metadata": {},
     "output_type": "execute_result"
    }
   ],
   "source": [
    "X_train_filter.shape, X_test_filter.shape"
   ]
  },
  {
   "cell_type": "code",
   "execution_count": 288,
   "metadata": {},
   "outputs": [],
   "source": [
    "\n",
    "#remove duplicate features\n",
    "X_train_T = X_train_filter.T\n",
    "X_test_T = X_test_filter.T"
   ]
  },
  {
   "cell_type": "code",
   "execution_count": 289,
   "metadata": {},
   "outputs": [],
   "source": [
    "\n",
    "X_train_T = pd.DataFrame(X_train_T)\n",
    "X_test_T = pd.DataFrame(X_test_T)"
   ]
  },
  {
   "cell_type": "code",
   "execution_count": 290,
   "metadata": {},
   "outputs": [
    {
     "data": {
      "text/plain": [
       "0"
      ]
     },
     "execution_count": 290,
     "metadata": {},
     "output_type": "execute_result"
    }
   ],
   "source": [
    "\n",
    "X_train_T.duplicated().sum()"
   ]
  },
  {
   "cell_type": "code",
   "execution_count": 291,
   "metadata": {},
   "outputs": [],
   "source": [
    "duplicated_features = X_train_T.duplicated()"
   ]
  },
  {
   "cell_type": "code",
   "execution_count": 292,
   "metadata": {},
   "outputs": [],
   "source": [
    "features_to_keep = [not index for index in duplicated_features]\n",
    "\n",
    "X_train_unique = X_train_T[features_to_keep].T\n",
    "X_test_unique = X_test_T[features_to_keep].T"
   ]
  },
  {
   "cell_type": "code",
   "execution_count": 293,
   "metadata": {},
   "outputs": [
    {
     "data": {
      "text/plain": [
       "((638, 146), (638, 182))"
      ]
     },
     "execution_count": 293,
     "metadata": {},
     "output_type": "execute_result"
    }
   ],
   "source": [
    "\n",
    "X_train_unique.shape, X_train.shape"
   ]
  },
  {
   "cell_type": "code",
   "execution_count": 294,
   "metadata": {},
   "outputs": [],
   "source": [
    "roc_auc = []\n",
    "for feature in X_train_unique.columns:\n",
    "    clf = RandomForestClassifier(n_estimators=100, random_state=0)\n",
    "    clf.fit(X_train_unique[feature].to_frame(), y_train)\n",
    "    y_pred = clf.predict(X_test_unique[feature].to_frame())\n",
    "    roc_auc.append(roc_auc_score(y_test, y_pred))"
   ]
  },
  {
   "cell_type": "code",
   "execution_count": 295,
   "metadata": {},
   "outputs": [
    {
     "name": "stdout",
     "output_type": "stream",
     "text": [
      "[0.5733333333333335, 0.5014814814814815, 0.48518518518518516, 0.5, 0.5, 0.5, 0.5, 0.5, 0.5, 0.5, 0.5, 0.5, 0.5, 0.5, 0.5, 0.5, 0.5, 0.5, 0.5, 0.5, 0.5, 0.5, 0.5, 0.5, 0.5, 0.5, 0.5, 0.5, 0.5, 0.5, 0.5, 0.5, 0.5162962962962963, 0.5, 0.5, 0.5, 0.5, 0.5, 0.4962962962962963, 0.4925925925925926, 0.5, 0.5, 0.5, 0.4962962962962963, 0.5, 0.4962962962962963, 0.4962962962962963, 0.4962962962962963, 0.5, 0.4962962962962963, 0.5, 0.4962962962962963, 0.5, 0.4925925925925926, 0.4962962962962963, 0.5, 0.5, 0.4962962962962963, 0.5, 0.5, 0.5, 0.4962962962962963, 0.5, 0.4925925925925926, 0.5, 0.5, 0.5, 0.5, 0.5, 0.5, 0.5, 0.5, 0.5, 0.4962962962962963, 0.5, 0.5, 0.5, 0.52, 0.5, 0.5, 0.5, 0.5, 0.5, 0.5, 0.5, 0.5, 0.5, 0.5, 0.5, 0.5, 0.5, 0.5, 0.5, 0.5, 0.5, 0.5, 0.5, 0.4962962962962963, 0.5, 0.5, 0.5, 0.5, 0.5, 0.5, 0.5, 0.5, 0.5, 0.5, 0.5, 0.5, 0.5, 0.5, 0.4962962962962963, 0.5, 0.5, 0.5, 0.5, 0.5, 0.52, 0.5, 0.5, 0.5, 0.5, 0.5, 0.5, 0.5, 0.5, 0.5, 0.5, 0.5, 0.5, 0.5, 0.5, 0.5, 0.5, 0.5, 0.5, 0.5, 0.4962962962962963, 0.5, 0.5, 0.5, 0.5, 0.4888888888888889, 0.5, 0.4962962962962963]\n"
     ]
    }
   ],
   "source": [
    "print(roc_auc)"
   ]
  },
  {
   "cell_type": "code",
   "execution_count": 296,
   "metadata": {},
   "outputs": [],
   "source": [
    "roc_values = pd.Series(roc_auc)\n",
    "roc_values.index = X_train_unique.columns\n",
    "roc_values.sort_values(ascending =False, inplace = True)"
   ]
  },
  {
   "cell_type": "code",
   "execution_count": 297,
   "metadata": {},
   "outputs": [
    {
     "data": {
      "text/plain": [
       "0      0.573333\n",
       "118    0.520000\n",
       "77     0.520000\n",
       "32     0.516296\n",
       "1      0.501481\n",
       "         ...   \n",
       "53     0.492593\n",
       "63     0.492593\n",
       "39     0.492593\n",
       "143    0.488889\n",
       "2      0.485185\n",
       "Length: 146, dtype: float64"
      ]
     },
     "execution_count": 297,
     "metadata": {},
     "output_type": "execute_result"
    }
   ],
   "source": [
    "roc_values"
   ]
  },
  {
   "cell_type": "code",
   "execution_count": 298,
   "metadata": {},
   "outputs": [
    {
     "data": {
      "text/plain": [
       "<matplotlib.axes._subplots.AxesSubplot at 0x2ed9181d7c8>"
      ]
     },
     "execution_count": 298,
     "metadata": {},
     "output_type": "execute_result"
    },
    {
     "data": {
      "image/png": "[encoded data removed]",
      "text/plain": [
       "<Figure size 432x288 with 1 Axes>"
      ]
     },
     "metadata": {
      "needs_background": "light"
     },
     "output_type": "display_data"
    }
   ],
   "source": [
    "roc_values.plot.bar()"
   ]
  },
  {
   "cell_type": "code",
   "execution_count": 299,
   "metadata": {},
   "outputs": [
    {
     "data": {
      "text/plain": [
       "0      0.573333\n",
       "118    0.520000\n",
       "77     0.520000\n",
       "32     0.516296\n",
       "1      0.501481\n",
       "dtype: float64"
      ]
     },
     "execution_count": 299,
     "metadata": {},
     "output_type": "execute_result"
    }
   ],
   "source": [
    "sel = roc_values[roc_values>0.5]\n",
    "sel"
   ]
  },
  {
   "cell_type": "code",
   "execution_count": 300,
   "metadata": {},
   "outputs": [],
   "source": [
    "\n",
    "X_train_roc = X_train_unique[sel.index]\n",
    "X_test_roc = X_test_unique[sel.index]"
   ]
  },
  {
   "cell_type": "code",
   "execution_count": 301,
   "metadata": {},
   "outputs": [],
   "source": [
    "def run_randomForest(X_train, X_test, y_train, y_test):\n",
    "    clf = RandomForestClassifier(n_estimators=100, random_state=0, n_jobs=-1)\n",
    "    clf.fit(X_train, y_train)\n",
    "    y_pred = clf.predict(X_test)\n",
    "    print('Accuracy on test set: ', accuracy_score(y_test, y_pred))"
   ]
  },
  {
   "cell_type": "code",
   "execution_count": 302,
   "metadata": {},
   "outputs": [
    {
     "name": "stdout",
     "output_type": "stream",
     "text": [
      "Accuracy on test set:  0.81875\n",
      "Wall time: 481 ms\n"
     ]
    }
   ],
   "source": [
    "%%time\n",
    "run_randomForest(X_train_roc, X_test_roc, y_train, y_test)"
   ]
  },
  {
   "cell_type": "code",
   "execution_count": 303,
   "metadata": {},
   "outputs": [
    {
     "data": {
      "text/plain": [
       "(638, 5)"
      ]
     },
     "execution_count": 303,
     "metadata": {},
     "output_type": "execute_result"
    }
   ],
   "source": [
    "X_train_roc.shape"
   ]
  },
  {
   "cell_type": "code",
   "execution_count": 304,
   "metadata": {},
   "outputs": [
    {
     "name": "stdout",
     "output_type": "stream",
     "text": [
      "Accuracy on test set:  0.84375\n",
      "Wall time: 487 ms\n"
     ]
    }
   ],
   "source": [
    "%%time\n",
    "run_randomForest(X_train, X_test, y_train, y_test)"
   ]
  },
  {
   "cell_type": "markdown",
   "metadata": {},
   "source": [
    "# Feature Selection using RMSE in Regression"
   ]
  },
  {
   "cell_type": "code",
   "execution_count": 305,
   "metadata": {},
   "outputs": [],
   "source": [
    "from sklearn.datasets import load_boston\n",
    "from sklearn.linear_model import LinearRegression\n",
    "from sklearn.metrics import mean_absolute_error, mean_squared_error, r2_score"
   ]
  },
  {
   "cell_type": "code",
   "execution_count": 306,
   "metadata": {},
   "outputs": [
    {
     "data": {
      "text/html": [
       "<div>\n",
       "<style scoped>\n",
       "    .dataframe tbody tr th:only-of-type {\n",
       "        vertical-align: middle;\n",
       "    }\n",
       "\n",
       "    .dataframe tbody tr th {\n",
       "        vertical-align: top;\n",
       "    }\n",
       "\n",
       "    .dataframe thead th {\n",
       "        text-align: right;\n",
       "    }\n",
       "</style>\n",
       "<table border=\"1\" class=\"dataframe\">\n",
       "  <thead>\n",
       "    <tr style=\"text-align: right;\">\n",
       "      <th></th>\n",
       "      <th>CRIM</th>\n",
       "      <th>ZN</th>\n",
       "      <th>INDUS</th>\n",
       "      <th>CHAS</th>\n",
       "      <th>NOX</th>\n",
       "      <th>RM</th>\n",
       "      <th>AGE</th>\n",
       "      <th>DIS</th>\n",
       "      <th>RAD</th>\n",
       "      <th>TAX</th>\n",
       "      <th>PTRATIO</th>\n",
       "      <th>B</th>\n",
       "      <th>LSTAT</th>\n",
       "    </tr>\n",
       "  </thead>\n",
       "  <tbody>\n",
       "    <tr>\n",
       "      <th>0</th>\n",
       "      <td>0.00632</td>\n",
       "      <td>18.0</td>\n",
       "      <td>2.31</td>\n",
       "      <td>0.0</td>\n",
       "      <td>0.538</td>\n",
       "      <td>6.575</td>\n",
       "      <td>65.2</td>\n",
       "      <td>4.0900</td>\n",
       "      <td>1.0</td>\n",
       "      <td>296.0</td>\n",
       "      <td>15.3</td>\n",
       "      <td>396.90</td>\n",
       "      <td>4.98</td>\n",
       "    </tr>\n",
       "    <tr>\n",
       "      <th>1</th>\n",
       "      <td>0.02731</td>\n",
       "      <td>0.0</td>\n",
       "      <td>7.07</td>\n",
       "      <td>0.0</td>\n",
       "      <td>0.469</td>\n",
       "      <td>6.421</td>\n",
       "      <td>78.9</td>\n",
       "      <td>4.9671</td>\n",
       "      <td>2.0</td>\n",
       "      <td>242.0</td>\n",
       "      <td>17.8</td>\n",
       "      <td>396.90</td>\n",
       "      <td>9.14</td>\n",
       "    </tr>\n",
       "    <tr>\n",
       "      <th>2</th>\n",
       "      <td>0.02729</td>\n",
       "      <td>0.0</td>\n",
       "      <td>7.07</td>\n",
       "      <td>0.0</td>\n",
       "      <td>0.469</td>\n",
       "      <td>7.185</td>\n",
       "      <td>61.1</td>\n",
       "      <td>4.9671</td>\n",
       "      <td>2.0</td>\n",
       "      <td>242.0</td>\n",
       "      <td>17.8</td>\n",
       "      <td>392.83</td>\n",
       "      <td>4.03</td>\n",
       "    </tr>\n",
       "    <tr>\n",
       "      <th>3</th>\n",
       "      <td>0.03237</td>\n",
       "      <td>0.0</td>\n",
       "      <td>2.18</td>\n",
       "      <td>0.0</td>\n",
       "      <td>0.458</td>\n",
       "      <td>6.998</td>\n",
       "      <td>45.8</td>\n",
       "      <td>6.0622</td>\n",
       "      <td>3.0</td>\n",
       "      <td>222.0</td>\n",
       "      <td>18.7</td>\n",
       "      <td>394.63</td>\n",
       "      <td>2.94</td>\n",
       "    </tr>\n",
       "    <tr>\n",
       "      <th>4</th>\n",
       "      <td>0.06905</td>\n",
       "      <td>0.0</td>\n",
       "      <td>2.18</td>\n",
       "      <td>0.0</td>\n",
       "      <td>0.458</td>\n",
       "      <td>7.147</td>\n",
       "      <td>54.2</td>\n",
       "      <td>6.0622</td>\n",
       "      <td>3.0</td>\n",
       "      <td>222.0</td>\n",
       "      <td>18.7</td>\n",
       "      <td>396.90</td>\n",
       "      <td>5.33</td>\n",
       "    </tr>\n",
       "  </tbody>\n",
       "</table>\n",
       "</div>"
      ],
      "text/plain": [
       "      CRIM    ZN  INDUS  CHAS    NOX     RM   AGE     DIS  RAD    TAX  \\\n",
       "0  0.00632  18.0   2.31   0.0  0.538  6.575  65.2  4.0900  1.0  296.0   \n",
       "1  0.02731   0.0   7.07   0.0  0.469  6.421  78.9  4.9671  2.0  242.0   \n",
       "2  0.02729   0.0   7.07   0.0  0.469  7.185  61.1  4.9671  2.0  242.0   \n",
       "3  0.03237   0.0   2.18   0.0  0.458  6.998  45.8  6.0622  3.0  222.0   \n",
       "4  0.06905   0.0   2.18   0.0  0.458  7.147  54.2  6.0622  3.0  222.0   \n",
       "\n",
       "   PTRATIO       B  LSTAT  \n",
       "0     15.3  396.90   4.98  \n",
       "1     17.8  396.90   9.14  \n",
       "2     17.8  392.83   4.03  \n",
       "3     18.7  394.63   2.94  \n",
       "4     18.7  396.90   5.33  "
      ]
     },
     "execution_count": 306,
     "metadata": {},
     "output_type": "execute_result"
    }
   ],
   "source": [
    "X = pd.DataFrame(boston.data, columns=boston.feature_names)\n",
    "X.head()"
   ]
  },
  {
   "cell_type": "code",
   "execution_count": 307,
   "metadata": {},
   "outputs": [],
   "source": [
    "y = boston.target"
   ]
  },
  {
   "cell_type": "code",
   "execution_count": 308,
   "metadata": {},
   "outputs": [],
   "source": [
    "X_train, X_test, y_train, y_test = train_test_split(X, y, test_size = 0.2, random_state = 0)"
   ]
  },
  {
   "cell_type": "code",
   "execution_count": 309,
   "metadata": {},
   "outputs": [],
   "source": [
    "mse = []\n",
    "for feature in X_train.columns:\n",
    "    clf = LinearRegression()\n",
    "    clf.fit(X_train[feature].to_frame(), y_train)\n",
    "    y_pred = clf.predict(X_test[feature].to_frame())\n",
    "    mse.append(mean_squared_error(y_test, y_pred))"
   ]
  },
  {
   "cell_type": "code",
   "execution_count": 310,
   "metadata": {},
   "outputs": [
    {
     "data": {
      "text/plain": [
       "[76.38674157646072,\n",
       " 84.66034377707906,\n",
       " 77.02905244667242,\n",
       " 79.36120219345942,\n",
       " 76.95375968209433,\n",
       " 46.90735162739531,\n",
       " 80.3915476111525,\n",
       " 82.61874125667717,\n",
       " 82.46499985731934,\n",
       " 78.30831374720842,\n",
       " 81.79497121208001,\n",
       " 77.75285601192718,\n",
       " 46.336305360025925]"
      ]
     },
     "execution_count": 310,
     "metadata": {},
     "output_type": "execute_result"
    }
   ],
   "source": [
    "mse"
   ]
  },
  {
   "cell_type": "code",
   "execution_count": 311,
   "metadata": {},
   "outputs": [
    {
     "ename": "AttributeError",
     "evalue": "'list' object has no attribute 'plot'",
     "output_type": "error",
     "traceback": [
      "\u001b[1;31m---------------------------------------------------------------------------\u001b[0m",
      "\u001b[1;31mAttributeError\u001b[0m                            Traceback (most recent call last)",
      "\u001b[1;32m<ipython-input-311-b41456025c1c>\u001b[0m in \u001b[0;36m<module>\u001b[1;34m\u001b[0m\n\u001b[1;32m----> 1\u001b[1;33m \u001b[0mmse\u001b[0m\u001b[1;33m.\u001b[0m\u001b[0mplot\u001b[0m\u001b[1;33m.\u001b[0m\u001b[0mbar\u001b[0m\u001b[1;33m(\u001b[0m\u001b[1;33m)\u001b[0m\u001b[1;33m\u001b[0m\u001b[1;33m\u001b[0m\u001b[0m\n\u001b[0m",
      "\u001b[1;31mAttributeError\u001b[0m: 'list' object has no attribute 'plot'"
     ]
    }
   ],
   "source": [
    "mse.plot.bar()"
   ]
  },
  {
   "cell_type": "code",
   "execution_count": 312,
   "metadata": {},
   "outputs": [],
   "source": [
    "X_train_2 = X_train[['RM', 'LSTAT']]\n",
    "X_test_2 = X_test[['RM', 'LSTAT']]"
   ]
  },
  {
   "cell_type": "code",
   "execution_count": 313,
   "metadata": {},
   "outputs": [
    {
     "name": "stdout",
     "output_type": "stream",
     "text": [
      "r2_score:  0.5409084827186417\n",
      "rmse:  6.114172522817781\n",
      "sd of house price:  9.188011545278203\n",
      "Wall time: 4.73 ms\n"
     ]
    }
   ],
   "source": [
    "%%time\n",
    "model = LinearRegression()\n",
    "model.fit(X_train_2, y_train)\n",
    "y_pred = model.predict(X_test_2)\n",
    "print('r2_score: ', r2_score(y_test, y_pred))\n",
    "print('rmse: ', np.sqrt(mean_squared_error(y_test, y_pred)))\n",
    "print('sd of house price: ', np.std(y))"
   ]
  },
  {
   "cell_type": "code",
   "execution_count": 314,
   "metadata": {},
   "outputs": [
    {
     "name": "stdout",
     "output_type": "stream",
     "text": [
      "r2_score:  0.5892223849182514\n",
      "rmse:  5.78350931508513\n",
      "sd of house price:  9.188011545278203\n",
      "Wall time: 8.33 ms\n"
     ]
    }
   ],
   "source": [
    "%%time\n",
    "model = LinearRegression()\n",
    "model.fit(X_train, y_train)\n",
    "y_pred = model.predict(X_test)\n",
    "print('r2_score: ', r2_score(y_test, y_pred))\n",
    "print('rmse: ', np.sqrt(mean_squared_error(y_test, y_pred)))\n",
    "print('sd of house price: ', np.std(y))"
   ]
  },
  {
   "cell_type": "markdown",
   "metadata": {},
   "source": [
    "# Classification Problem"
   ]
  },
  {
   "cell_type": "code",
   "execution_count": 1,
   "metadata": {},
   "outputs": [
    {
     "name": "stderr",
     "output_type": "stream",
     "text": [
      "c:\\python37\\lib\\site-packages\\statsmodels\\tools\\_testing.py:19: FutureWarning: pandas.util.testing is deprecated. Use the functions in the public API at pandas.testing instead.\n",
      "  import pandas.util.testing as tm\n"
     ]
    }
   ],
   "source": [
    "import numpy as np\n",
    "import pandas as pd\n",
    "import matplotlib.pyplot as plt\n",
    "import seaborn as sns\n",
    "from sklearn.model_selection import train_test_split\n",
    "from sklearn.ensemble import RandomForestClassifier\n",
    "from sklearn.metrics import accuracy_score\n",
    "from sklearn.feature_selection import VarianceThreshold\n",
    "from sklearn.feature_selection import f_classif, f_regression\n",
    "from sklearn.feature_selection import SelectKBest, SelectPercentile"
   ]
  },
  {
   "cell_type": "code",
   "execution_count": 2,
   "metadata": {},
   "outputs": [
    {
     "data": {
      "text/html": [
       "<div>\n",
       "<style scoped>\n",
       "    .dataframe tbody tr th:only-of-type {\n",
       "        vertical-align: middle;\n",
       "    }\n",
       "\n",
       "    .dataframe tbody tr th {\n",
       "        vertical-align: top;\n",
       "    }\n",
       "\n",
       "    .dataframe thead th {\n",
       "        text-align: right;\n",
       "    }\n",
       "</style>\n",
       "<table border=\"1\" class=\"dataframe\">\n",
       "  <thead>\n",
       "    <tr style=\"text-align: right;\">\n",
       "      <th></th>\n",
       "      <th>Unnamed: 0</th>\n",
       "      <th>target</th>\n",
       "      <th>peakflow</th>\n",
       "      <th>वय_275546</th>\n",
       "      <th>लिंग: _275544</th>\n",
       "      <th>शिक्षण_275545</th>\n",
       "      <th>आपल्या घरातील कुटुंबातील सदस्यांची संख्या? _275550</th>\n",
       "      <th>घराविषयीची माहिती 0 तुमचे घर कोणत्या प्रकारचे आहे ?_275549</th>\n",
       "      <th>तुमच्या घरात किती खोल्या आहेत?_275551</th>\n",
       "      <th>तुमच्या घराला एकूण किती खिडक्या आहेत ?_275552</th>\n",
       "      <th>...</th>\n",
       "      <th>जर हो, किती वर्ष पासून? _275700</th>\n",
       "      <th>हृदय रोग_275701</th>\n",
       "      <th>जर हो, किती वर्ष पासून? _275702</th>\n",
       "      <th>थाइरोइड विकार_275703</th>\n",
       "      <th>जर हो, किती वर्ष पासून? _275704</th>\n",
       "      <th>चिंता आणि निराशा_275705</th>\n",
       "      <th>जर हो, किती वर्ष पासून? _275706</th>\n",
       "      <th>हाड ठिसूळ होणे_275707</th>\n",
       "      <th>जर हो, किती वर्ष पासून? _275708</th>\n",
       "      <th>धन्यवाद सबमिट करा_275709</th>\n",
       "    </tr>\n",
       "    <tr>\n",
       "      <th>ID</th>\n",
       "      <th></th>\n",
       "      <th></th>\n",
       "      <th></th>\n",
       "      <th></th>\n",
       "      <th></th>\n",
       "      <th></th>\n",
       "      <th></th>\n",
       "      <th></th>\n",
       "      <th></th>\n",
       "      <th></th>\n",
       "      <th></th>\n",
       "      <th></th>\n",
       "      <th></th>\n",
       "      <th></th>\n",
       "      <th></th>\n",
       "      <th></th>\n",
       "      <th></th>\n",
       "      <th></th>\n",
       "      <th></th>\n",
       "      <th></th>\n",
       "      <th></th>\n",
       "    </tr>\n",
       "  </thead>\n",
       "  <tbody>\n",
       "    <tr>\n",
       "      <th>A1</th>\n",
       "      <td>0</td>\n",
       "      <td>1</td>\n",
       "      <td>210</td>\n",
       "      <td>37</td>\n",
       "      <td>2</td>\n",
       "      <td>1</td>\n",
       "      <td>4</td>\n",
       "      <td>2</td>\n",
       "      <td>2</td>\n",
       "      <td>3</td>\n",
       "      <td>...</td>\n",
       "      <td>0</td>\n",
       "      <td>0</td>\n",
       "      <td>0</td>\n",
       "      <td>0</td>\n",
       "      <td>0</td>\n",
       "      <td>0</td>\n",
       "      <td>0</td>\n",
       "      <td>0</td>\n",
       "      <td>0</td>\n",
       "      <td>0</td>\n",
       "    </tr>\n",
       "    <tr>\n",
       "      <th>A2</th>\n",
       "      <td>1</td>\n",
       "      <td>0</td>\n",
       "      <td>550</td>\n",
       "      <td>33</td>\n",
       "      <td>2</td>\n",
       "      <td>3</td>\n",
       "      <td>4</td>\n",
       "      <td>2</td>\n",
       "      <td>2</td>\n",
       "      <td>3</td>\n",
       "      <td>...</td>\n",
       "      <td>0</td>\n",
       "      <td>0</td>\n",
       "      <td>0</td>\n",
       "      <td>0</td>\n",
       "      <td>0</td>\n",
       "      <td>0</td>\n",
       "      <td>0</td>\n",
       "      <td>0</td>\n",
       "      <td>0</td>\n",
       "      <td>0</td>\n",
       "    </tr>\n",
       "    <tr>\n",
       "      <th>A3</th>\n",
       "      <td>2</td>\n",
       "      <td>0</td>\n",
       "      <td>290</td>\n",
       "      <td>19</td>\n",
       "      <td>1</td>\n",
       "      <td>4</td>\n",
       "      <td>4</td>\n",
       "      <td>2</td>\n",
       "      <td>2</td>\n",
       "      <td>3</td>\n",
       "      <td>...</td>\n",
       "      <td>0</td>\n",
       "      <td>0</td>\n",
       "      <td>0</td>\n",
       "      <td>0</td>\n",
       "      <td>0</td>\n",
       "      <td>0</td>\n",
       "      <td>0</td>\n",
       "      <td>0</td>\n",
       "      <td>0</td>\n",
       "      <td>0</td>\n",
       "    </tr>\n",
       "    <tr>\n",
       "      <th>A4</th>\n",
       "      <td>3</td>\n",
       "      <td>0</td>\n",
       "      <td>340</td>\n",
       "      <td>44</td>\n",
       "      <td>2</td>\n",
       "      <td>3</td>\n",
       "      <td>4</td>\n",
       "      <td>2</td>\n",
       "      <td>3</td>\n",
       "      <td>3</td>\n",
       "      <td>...</td>\n",
       "      <td>0</td>\n",
       "      <td>0</td>\n",
       "      <td>0</td>\n",
       "      <td>0</td>\n",
       "      <td>0</td>\n",
       "      <td>0</td>\n",
       "      <td>0</td>\n",
       "      <td>0</td>\n",
       "      <td>0</td>\n",
       "      <td>0</td>\n",
       "    </tr>\n",
       "    <tr>\n",
       "      <th>A5</th>\n",
       "      <td>4</td>\n",
       "      <td>0</td>\n",
       "      <td>420</td>\n",
       "      <td>38</td>\n",
       "      <td>2</td>\n",
       "      <td>3</td>\n",
       "      <td>5</td>\n",
       "      <td>2</td>\n",
       "      <td>3</td>\n",
       "      <td>3</td>\n",
       "      <td>...</td>\n",
       "      <td>0</td>\n",
       "      <td>0</td>\n",
       "      <td>0</td>\n",
       "      <td>0</td>\n",
       "      <td>0</td>\n",
       "      <td>0</td>\n",
       "      <td>0</td>\n",
       "      <td>0</td>\n",
       "      <td>0</td>\n",
       "      <td>0</td>\n",
       "    </tr>\n",
       "  </tbody>\n",
       "</table>\n",
       "<p>5 rows × 183 columns</p>\n",
       "</div>"
      ],
      "text/plain": [
       "    Unnamed: 0  target  peakflow  वय_275546  लिंग: _275544  शिक्षण_275545  \\\n",
       "ID                                                                          \n",
       "A1           0       1       210         37              2              1   \n",
       "A2           1       0       550         33              2              3   \n",
       "A3           2       0       290         19              1              4   \n",
       "A4           3       0       340         44              2              3   \n",
       "A5           4       0       420         38              2              3   \n",
       "\n",
       "    आपल्या घरातील कुटुंबातील सदस्यांची संख्या? _275550  \\\n",
       "ID                                                       \n",
       "A1                                                  4    \n",
       "A2                                                  4    \n",
       "A3                                                  4    \n",
       "A4                                                  4    \n",
       "A5                                                  5    \n",
       "\n",
       "    घराविषयीची माहिती 0 तुमचे घर कोणत्या प्रकारचे आहे ?_275549  \\\n",
       "ID                                                               \n",
       "A1                                                  2            \n",
       "A2                                                  2            \n",
       "A3                                                  2            \n",
       "A4                                                  2            \n",
       "A5                                                  2            \n",
       "\n",
       "    तुमच्या घरात किती खोल्या आहेत?_275551  \\\n",
       "ID                                          \n",
       "A1                                      2   \n",
       "A2                                      2   \n",
       "A3                                      2   \n",
       "A4                                      3   \n",
       "A5                                      3   \n",
       "\n",
       "    तुमच्या घराला एकूण किती खिडक्या आहेत ?_275552  ...  \\\n",
       "ID                                                 ...   \n",
       "A1                                              3  ...   \n",
       "A2                                              3  ...   \n",
       "A3                                              3  ...   \n",
       "A4                                              3  ...   \n",
       "A5                                              3  ...   \n",
       "\n",
       "    जर हो, किती वर्ष पासून? _275700  हृदय रोग_275701  \\\n",
       "ID                                                     \n",
       "A1                                0                0   \n",
       "A2                                0                0   \n",
       "A3                                0                0   \n",
       "A4                                0                0   \n",
       "A5                                0                0   \n",
       "\n",
       "    जर हो, किती वर्ष पासून? _275702  थाइरोइड विकार_275703  \\\n",
       "ID                                                          \n",
       "A1                                0                     0   \n",
       "A2                                0                     0   \n",
       "A3                                0                     0   \n",
       "A4                                0                     0   \n",
       "A5                                0                     0   \n",
       "\n",
       "    जर हो, किती वर्ष पासून? _275704  चिंता आणि निराशा_275705  \\\n",
       "ID                                                             \n",
       "A1                                0                        0   \n",
       "A2                                0                        0   \n",
       "A3                                0                        0   \n",
       "A4                                0                        0   \n",
       "A5                                0                        0   \n",
       "\n",
       "    जर हो, किती वर्ष पासून? _275706  हाड ठिसूळ होणे_275707  \\\n",
       "ID                                                           \n",
       "A1                                0                      0   \n",
       "A2                                0                      0   \n",
       "A3                                0                      0   \n",
       "A4                                0                      0   \n",
       "A5                                0                      0   \n",
       "\n",
       "    जर हो, किती वर्ष पासून? _275708  धन्यवाद सबमिट करा_275709  \n",
       "ID                                                             \n",
       "A1                                0                         0  \n",
       "A2                                0                         0  \n",
       "A3                                0                         0  \n",
       "A4                                0                         0  \n",
       "A5                                0                         0  \n",
       "\n",
       "[5 rows x 183 columns]"
      ]
     },
     "execution_count": 2,
     "metadata": {},
     "output_type": "execute_result"
    }
   ],
   "source": [
    "data = pd.read_csv(\"D:/data/CRF Final Data/oscar/main oscar.csv\")\n",
    "data = data.set_index(\"ID\")\n",
    "data.head()"
   ]
  },
  {
   "cell_type": "code",
   "execution_count": 3,
   "metadata": {},
   "outputs": [
    {
     "data": {
      "text/plain": [
       "((798, 182), (798,))"
      ]
     },
     "execution_count": 3,
     "metadata": {},
     "output_type": "execute_result"
    }
   ],
   "source": [
    "X = data.drop('target', axis = 1)\n",
    "y = data['target']\n",
    "\n",
    "X.shape, y.shape"
   ]
  },
  {
   "cell_type": "code",
   "execution_count": 4,
   "metadata": {},
   "outputs": [],
   "source": [
    "X_train, X_test, y_train, y_test = train_test_split(X, y, test_size = 0.2, random_state = 0, stratify = y)"
   ]
  },
  {
   "cell_type": "markdown",
   "metadata": {},
   "source": [
    "\n",
    "# Remove Constant, Quasi Constant, and Correlated Features"
   ]
  },
  {
   "cell_type": "code",
   "execution_count": 5,
   "metadata": {},
   "outputs": [],
   "source": [
    "\n",
    "#remove constant and quasi constant features\n",
    "constant_filter = VarianceThreshold(threshold=0.01)\n",
    "constant_filter.fit(X_train)\n",
    "X_train_filter = constant_filter.transform(X_train)\n",
    "X_test_filter = constant_filter.transform(X_test)"
   ]
  },
  {
   "cell_type": "code",
   "execution_count": 6,
   "metadata": {},
   "outputs": [
    {
     "data": {
      "text/plain": [
       "((638, 146), (160, 146))"
      ]
     },
     "execution_count": 6,
     "metadata": {},
     "output_type": "execute_result"
    }
   ],
   "source": [
    "X_train_filter.shape, X_test_filter.shape"
   ]
  },
  {
   "cell_type": "code",
   "execution_count": 7,
   "metadata": {},
   "outputs": [],
   "source": [
    "\n",
    "#remove duplicate features\n",
    "X_train_T = X_train_filter.T\n",
    "X_test_T = X_test_filter.T"
   ]
  },
  {
   "cell_type": "code",
   "execution_count": 8,
   "metadata": {},
   "outputs": [],
   "source": [
    "X_train_T = pd.DataFrame(X_train_T)\n",
    "X_test_T = pd.DataFrame(X_test_T)"
   ]
  },
  {
   "cell_type": "code",
   "execution_count": 9,
   "metadata": {},
   "outputs": [
    {
     "data": {
      "text/plain": [
       "0"
      ]
     },
     "execution_count": 9,
     "metadata": {},
     "output_type": "execute_result"
    }
   ],
   "source": [
    "X_train_T.duplicated().sum()"
   ]
  },
  {
   "cell_type": "code",
   "execution_count": 10,
   "metadata": {},
   "outputs": [],
   "source": [
    "duplicated_features = X_train_T.duplicated()"
   ]
  },
  {
   "cell_type": "code",
   "execution_count": 11,
   "metadata": {},
   "outputs": [],
   "source": [
    "features_to_keep = [not index for index in duplicated_features]\n",
    "\n",
    "X_train_unique = X_train_T[features_to_keep].T\n",
    "X_test_unique = X_test_T[features_to_keep].T"
   ]
  },
  {
   "cell_type": "code",
   "execution_count": 12,
   "metadata": {},
   "outputs": [
    {
     "data": {
      "text/plain": [
       "((638, 146), (638, 182))"
      ]
     },
     "execution_count": 12,
     "metadata": {},
     "output_type": "execute_result"
    }
   ],
   "source": [
    "\n",
    "X_train_unique.shape, X_train.shape"
   ]
  },
  {
   "cell_type": "code",
   "execution_count": 13,
   "metadata": {},
   "outputs": [
    {
     "data": {
      "text/plain": [
       "(array([7.31764955e-01, 2.95018859e-01, 1.35457537e+00, 3.46215371e-02,\n",
       "        3.79270901e-01, 1.71424534e-02, 2.95675355e+00, 3.87111176e+00,\n",
       "        6.57358922e-01, 2.80465935e-01, 5.78849727e-01, 8.44099110e-01,\n",
       "        5.60138374e-01, 1.31335183e+00, 1.61066880e-01, 1.97579956e-03,\n",
       "        8.04246888e-03, 8.74547600e-01, 8.94375622e-01, 4.07392546e-01,\n",
       "        1.32978056e+00, 5.62807153e-01, 5.92868145e-01, 5.58856237e-01,\n",
       "        1.07756519e+00, 3.53551536e+00, 9.22961204e+00, 7.55597640e-01,\n",
       "        2.73976823e-01, 6.58256099e-01, 1.52459613e+00, 4.46358261e+00,\n",
       "        5.31288498e+00, 3.46405349e+00, 6.45734524e+00, 3.77677793e+00,\n",
       "        1.99252745e-01, 5.45492180e+00, 3.35925804e+00, 8.83787836e-02,\n",
       "        1.52262209e+00, 1.11896116e+00, 2.72583554e-01, 1.75729893e+00,\n",
       "        2.82785528e+00, 5.35316614e+00, 1.81677513e-01, 5.07174110e-01,\n",
       "        3.47705054e+00, 2.30172390e+00, 4.33571040e-01, 1.38473463e+00,\n",
       "        1.46949757e-01, 3.00820962e+00, 4.10672224e+00, 1.64584081e-02,\n",
       "        1.28013876e-01, 2.23803663e-01, 3.78158128e+00, 8.36803340e-01,\n",
       "        5.51467746e+00, 3.52827644e+00, 1.89376687e+00, 4.92034316e-01,\n",
       "        5.82546466e-02, 3.27735873e-02, 1.21322031e-01, 4.38132557e-02,\n",
       "        3.09138558e+00, 2.93437907e+00, 1.32774656e+00, 1.23665951e+00,\n",
       "        2.84093570e+00, 6.50116749e-01, 3.33553707e+00, 2.11334823e+00,\n",
       "        1.88328310e+00, 4.89008180e-01, 1.87842137e-01, 4.22500924e-01,\n",
       "        3.35751567e-01, 5.21075393e+00, 1.56507111e+00, 3.15685682e+00,\n",
       "        1.52413181e-01, 1.63781187e+00, 2.23177666e+00, 1.26398194e-02,\n",
       "        2.56881588e+00, 6.46752029e-02, 2.36933475e-03, 5.25590624e-01,\n",
       "        1.10566670e+00, 4.15691470e-01, 6.32995604e-01, 7.72902141e-01,\n",
       "        7.11697330e-01, 3.90638029e-02, 1.62163068e+00, 2.98529072e+00,\n",
       "        1.51940591e+00, 1.67052472e-01, 1.40398216e+00, 3.00565004e+00,\n",
       "        4.17091822e+00, 1.85602054e+00, 6.40253473e-01, 4.88762605e+00,\n",
       "        5.29771028e+00, 1.13973680e+01, 1.17349731e+01, 8.60688333e-01,\n",
       "        1.65851982e-01, 1.85271586e+00, 2.49262664e-05, 9.19955315e-01,\n",
       "        1.52163600e-01, 2.85883416e+00, 4.31575810e+00, 4.04084830e+00,\n",
       "        2.42764574e+00, 5.49514147e-01, 7.90115460e+00, 9.39533673e-04,\n",
       "        2.21645674e+00, 3.19002877e-01, 2.64806429e+00, 2.81535852e+00,\n",
       "        5.25590624e-01, 7.93438237e+00, 2.93263830e+00, 2.81535852e+00,\n",
       "        3.55014982e+00, 1.71619407e+00, 6.09750347e+00, 3.34081956e+00,\n",
       "        6.54667004e-04, 4.34769587e-02, 3.00348303e-01, 5.23520100e-01,\n",
       "        6.72472734e-02, 4.51037276e-01, 3.42688490e+00, 6.61634990e-02,\n",
       "        1.69200859e+00, 1.74334578e+00]),\n",
       " array([3.92633836e-01, 5.87212439e-01, 2.44916261e-01, 8.52450267e-01,\n",
       "        5.38214025e-01, 8.95872724e-01, 8.60060181e-02, 4.95581204e-02,\n",
       "        4.17797180e-01, 5.96580797e-01, 4.47045521e-01, 3.58575346e-01,\n",
       "        4.54481167e-01, 2.52219688e-01, 6.88310967e-01, 9.64559685e-01,\n",
       "        9.28569892e-01, 3.50054340e-01, 3.44653452e-01, 5.23525674e-01,\n",
       "        2.49277458e-01, 4.53408838e-01, 4.41598055e-01, 4.54997754e-01,\n",
       "        2.99637367e-01, 6.05244374e-02, 2.47891579e-03, 3.85037668e-01,\n",
       "        6.00858798e-01, 4.17479802e-01, 2.17381265e-01, 3.50138645e-02,\n",
       "        2.14893717e-02, 6.31775643e-02, 1.12858693e-02, 5.24094395e-02,\n",
       "        6.55476624e-01, 1.98232165e-02, 6.72954763e-02, 7.66345475e-01,\n",
       "        2.17678903e-01, 2.90543856e-01, 6.01785730e-01, 1.85437728e-01,\n",
       "        9.31329195e-02, 2.10025963e-02, 6.70079777e-01, 4.76625885e-01,\n",
       "        6.26859412e-02, 1.29727375e-01, 5.10480162e-01, 2.39736532e-01,\n",
       "        7.01595589e-01, 8.33282601e-02, 4.31298567e-02, 8.97959775e-01,\n",
       "        7.20618981e-01, 6.36319195e-01, 5.22601296e-02, 3.60659300e-01,\n",
       "        1.91628364e-02, 6.07876988e-02, 1.69262011e-01, 4.83277825e-01,\n",
       "        8.09353909e-01, 8.56397961e-01, 7.27720301e-01, 8.34268462e-01,\n",
       "        7.91887181e-02, 8.71993578e-02, 2.49639432e-01, 2.66535995e-01,\n",
       "        9.23812044e-02, 4.20372324e-01, 6.82669049e-02, 1.46512787e-01,\n",
       "        1.70445251e-01, 4.84625726e-01, 6.64865645e-01, 5.15926467e-01,\n",
       "        5.62497004e-01, 2.27767930e-02, 2.11384252e-01, 7.60865450e-02,\n",
       "        6.96370543e-01, 2.01092582e-01, 1.35694245e-01, 9.10520361e-01,\n",
       "        1.09485779e-01, 7.99335805e-01, 9.61192933e-01, 4.68733212e-01,\n",
       "        2.93425207e-01, 5.19327266e-01, 4.26555464e-01, 3.79652779e-01,\n",
       "        3.99198094e-01, 8.43385467e-01, 2.03329780e-01, 8.45096248e-02,\n",
       "        2.18164867e-01, 6.82882349e-01, 2.36500532e-01, 8.34593030e-02,\n",
       "        4.15354123e-02, 1.73567043e-01, 4.23917796e-01, 2.74049354e-02,\n",
       "        2.16757735e-02, 7.80271124e-04, 6.52849863e-04, 3.53898073e-01,\n",
       "        6.83961935e-01, 1.73949915e-01, 9.96018047e-01, 3.37851179e-01,\n",
       "        6.96606863e-01, 9.13632903e-02, 3.81616432e-02, 4.48332303e-02,\n",
       "        1.19709259e-01, 4.58789901e-01, 5.09244313e-03, 9.75556836e-01,\n",
       "        1.37041790e-01, 5.72406647e-01, 1.04171357e-01, 9.38573218e-02,\n",
       "        4.68733212e-01, 5.00091567e-03, 8.72929516e-02, 9.38573218e-02,\n",
       "        5.99959255e-02, 1.90656646e-01, 1.37988707e-02, 6.80492814e-02,\n",
       "        9.79595211e-01, 8.34896526e-01, 5.83856442e-01, 4.69609984e-01,\n",
       "        7.95471652e-01, 5.02086640e-01, 6.46063748e-02, 7.97090084e-01,\n",
       "        1.93807497e-01, 1.87190410e-01]))"
      ]
     },
     "execution_count": 13,
     "metadata": {},
     "output_type": "execute_result"
    }
   ],
   "source": [
    "sel = f_classif(X_train_unique, y_train)\n",
    "sel"
   ]
  },
  {
   "cell_type": "code",
   "execution_count": 14,
   "metadata": {},
   "outputs": [],
   "source": [
    "p_values = pd.Series(sel[1])\n",
    "p_values.index = X_train_unique.columns\n",
    "p_values.sort_values(ascending = True, inplace = True)"
   ]
  },
  {
   "cell_type": "code",
   "execution_count": 15,
   "metadata": {},
   "outputs": [
    {
     "data": {
      "text/plain": [
       "<matplotlib.axes._subplots.AxesSubplot at 0x22318242988>"
      ]
     },
     "execution_count": 15,
     "metadata": {},
     "output_type": "execute_result"
    },
    {
     "data": {
      "image/png": "[encoded data removed]",
      "text/plain": [
       "<Figure size 1152x360 with 1 Axes>"
      ]
     },
     "metadata": {
      "needs_background": "light"
     },
     "output_type": "display_data"
    }
   ],
   "source": [
    "p_values.plot.bar(figsize = (16, 5))"
   ]
  },
  {
   "cell_type": "code",
   "execution_count": 16,
   "metadata": {},
   "outputs": [],
   "source": [
    "p_values = p_values[p_values<0.05]"
   ]
  },
  {
   "cell_type": "code",
   "execution_count": 17,
   "metadata": {},
   "outputs": [
    {
     "data": {
      "text/plain": [
       "Int64Index([110, 109,  26, 129, 122,  34, 134,  60,  37,  45,  32, 108,  81,\n",
       "            107,  31, 118, 104,  54, 119,   7],\n",
       "           dtype='int64')"
      ]
     },
     "execution_count": 17,
     "metadata": {},
     "output_type": "execute_result"
    }
   ],
   "source": [
    "\n",
    "p_values.index"
   ]
  },
  {
   "cell_type": "code",
   "execution_count": 18,
   "metadata": {},
   "outputs": [],
   "source": [
    "X_train_p = X_train_unique[p_values.index]\n",
    "X_test_p = X_test_unique[p_values.index]"
   ]
  },
  {
   "cell_type": "markdown",
   "metadata": {},
   "source": [
    "# Build the classifiers and compare the performance"
   ]
  },
  {
   "cell_type": "code",
   "execution_count": 19,
   "metadata": {},
   "outputs": [],
   "source": [
    "def run_randomForest(X_train, X_test, y_train, y_test):\n",
    "    clf = RandomForestClassifier(n_estimators=100, random_state=0, n_jobs = -1)\n",
    "    clf.fit(X_train, y_train)\n",
    "    y_pred = clf.predict(X_test)\n",
    "    print('Accuracy: ', accuracy_score(y_test, y_pred))"
   ]
  },
  {
   "cell_type": "code",
   "execution_count": 20,
   "metadata": {},
   "outputs": [
    {
     "name": "stdout",
     "output_type": "stream",
     "text": [
      "Accuracy:  0.83125\n",
      "Wall time: 549 ms\n"
     ]
    }
   ],
   "source": [
    "%%time\n",
    "run_randomForest(X_train_p, X_test_p, y_train, y_test)"
   ]
  },
  {
   "cell_type": "code",
   "execution_count": 21,
   "metadata": {},
   "outputs": [
    {
     "name": "stdout",
     "output_type": "stream",
     "text": [
      "Accuracy:  0.84375\n",
      "Wall time: 500 ms\n"
     ]
    }
   ],
   "source": [
    "%%time\n",
    "run_randomForest(X_train, X_test, y_train, y_test)"
   ]
  },
  {
   "cell_type": "markdown",
   "metadata": {},
   "source": [
    "# Chi Square (χ2) Test"
   ]
  },
  {
   "cell_type": "code",
   "execution_count": 22,
   "metadata": {},
   "outputs": [],
   "source": [
    "import numpy as np\n",
    "import pandas as pd\n",
    "import seaborn as sns\n",
    "import matplotlib.pyplot as plt\n",
    "%matplotlib inline\n",
    "\n",
    "from sklearn.model_selection import train_test_split\n",
    "from sklearn.ensemble import RandomForestClassifier\n",
    "\n",
    "from sklearn.feature_selection import chi2\n",
    "from sklearn.feature_selection import SelectKBest, SelectPercentile\n",
    "from sklearn.metrics import accuracy_score"
   ]
  },
  {
   "cell_type": "code",
   "execution_count": 23,
   "metadata": {},
   "outputs": [
    {
     "data": {
      "text/html": [
       "<div>\n",
       "<style scoped>\n",
       "    .dataframe tbody tr th:only-of-type {\n",
       "        vertical-align: middle;\n",
       "    }\n",
       "\n",
       "    .dataframe tbody tr th {\n",
       "        vertical-align: top;\n",
       "    }\n",
       "\n",
       "    .dataframe thead th {\n",
       "        text-align: right;\n",
       "    }\n",
       "</style>\n",
       "<table border=\"1\" class=\"dataframe\">\n",
       "  <thead>\n",
       "    <tr style=\"text-align: right;\">\n",
       "      <th></th>\n",
       "      <th>Unnamed: 0</th>\n",
       "      <th>target</th>\n",
       "      <th>peakflow</th>\n",
       "      <th>वय_275546</th>\n",
       "      <th>लिंग: _275544</th>\n",
       "      <th>शिक्षण_275545</th>\n",
       "      <th>आपल्या घरातील कुटुंबातील सदस्यांची संख्या? _275550</th>\n",
       "      <th>घराविषयीची माहिती 0 तुमचे घर कोणत्या प्रकारचे आहे ?_275549</th>\n",
       "      <th>तुमच्या घरात किती खोल्या आहेत?_275551</th>\n",
       "      <th>तुमच्या घराला एकूण किती खिडक्या आहेत ?_275552</th>\n",
       "      <th>...</th>\n",
       "      <th>जर हो, किती वर्ष पासून? _275700</th>\n",
       "      <th>हृदय रोग_275701</th>\n",
       "      <th>जर हो, किती वर्ष पासून? _275702</th>\n",
       "      <th>थाइरोइड विकार_275703</th>\n",
       "      <th>जर हो, किती वर्ष पासून? _275704</th>\n",
       "      <th>चिंता आणि निराशा_275705</th>\n",
       "      <th>जर हो, किती वर्ष पासून? _275706</th>\n",
       "      <th>हाड ठिसूळ होणे_275707</th>\n",
       "      <th>जर हो, किती वर्ष पासून? _275708</th>\n",
       "      <th>धन्यवाद सबमिट करा_275709</th>\n",
       "    </tr>\n",
       "    <tr>\n",
       "      <th>ID</th>\n",
       "      <th></th>\n",
       "      <th></th>\n",
       "      <th></th>\n",
       "      <th></th>\n",
       "      <th></th>\n",
       "      <th></th>\n",
       "      <th></th>\n",
       "      <th></th>\n",
       "      <th></th>\n",
       "      <th></th>\n",
       "      <th></th>\n",
       "      <th></th>\n",
       "      <th></th>\n",
       "      <th></th>\n",
       "      <th></th>\n",
       "      <th></th>\n",
       "      <th></th>\n",
       "      <th></th>\n",
       "      <th></th>\n",
       "      <th></th>\n",
       "      <th></th>\n",
       "    </tr>\n",
       "  </thead>\n",
       "  <tbody>\n",
       "    <tr>\n",
       "      <th>A1</th>\n",
       "      <td>0</td>\n",
       "      <td>1</td>\n",
       "      <td>210</td>\n",
       "      <td>37</td>\n",
       "      <td>2</td>\n",
       "      <td>1</td>\n",
       "      <td>4</td>\n",
       "      <td>2</td>\n",
       "      <td>2</td>\n",
       "      <td>3</td>\n",
       "      <td>...</td>\n",
       "      <td>0</td>\n",
       "      <td>0</td>\n",
       "      <td>0</td>\n",
       "      <td>0</td>\n",
       "      <td>0</td>\n",
       "      <td>0</td>\n",
       "      <td>0</td>\n",
       "      <td>0</td>\n",
       "      <td>0</td>\n",
       "      <td>0</td>\n",
       "    </tr>\n",
       "    <tr>\n",
       "      <th>A2</th>\n",
       "      <td>1</td>\n",
       "      <td>0</td>\n",
       "      <td>550</td>\n",
       "      <td>33</td>\n",
       "      <td>2</td>\n",
       "      <td>3</td>\n",
       "      <td>4</td>\n",
       "      <td>2</td>\n",
       "      <td>2</td>\n",
       "      <td>3</td>\n",
       "      <td>...</td>\n",
       "      <td>0</td>\n",
       "      <td>0</td>\n",
       "      <td>0</td>\n",
       "      <td>0</td>\n",
       "      <td>0</td>\n",
       "      <td>0</td>\n",
       "      <td>0</td>\n",
       "      <td>0</td>\n",
       "      <td>0</td>\n",
       "      <td>0</td>\n",
       "    </tr>\n",
       "    <tr>\n",
       "      <th>A3</th>\n",
       "      <td>2</td>\n",
       "      <td>0</td>\n",
       "      <td>290</td>\n",
       "      <td>19</td>\n",
       "      <td>1</td>\n",
       "      <td>4</td>\n",
       "      <td>4</td>\n",
       "      <td>2</td>\n",
       "      <td>2</td>\n",
       "      <td>3</td>\n",
       "      <td>...</td>\n",
       "      <td>0</td>\n",
       "      <td>0</td>\n",
       "      <td>0</td>\n",
       "      <td>0</td>\n",
       "      <td>0</td>\n",
       "      <td>0</td>\n",
       "      <td>0</td>\n",
       "      <td>0</td>\n",
       "      <td>0</td>\n",
       "      <td>0</td>\n",
       "    </tr>\n",
       "    <tr>\n",
       "      <th>A4</th>\n",
       "      <td>3</td>\n",
       "      <td>0</td>\n",
       "      <td>340</td>\n",
       "      <td>44</td>\n",
       "      <td>2</td>\n",
       "      <td>3</td>\n",
       "      <td>4</td>\n",
       "      <td>2</td>\n",
       "      <td>3</td>\n",
       "      <td>3</td>\n",
       "      <td>...</td>\n",
       "      <td>0</td>\n",
       "      <td>0</td>\n",
       "      <td>0</td>\n",
       "      <td>0</td>\n",
       "      <td>0</td>\n",
       "      <td>0</td>\n",
       "      <td>0</td>\n",
       "      <td>0</td>\n",
       "      <td>0</td>\n",
       "      <td>0</td>\n",
       "    </tr>\n",
       "    <tr>\n",
       "      <th>A5</th>\n",
       "      <td>4</td>\n",
       "      <td>0</td>\n",
       "      <td>420</td>\n",
       "      <td>38</td>\n",
       "      <td>2</td>\n",
       "      <td>3</td>\n",
       "      <td>5</td>\n",
       "      <td>2</td>\n",
       "      <td>3</td>\n",
       "      <td>3</td>\n",
       "      <td>...</td>\n",
       "      <td>0</td>\n",
       "      <td>0</td>\n",
       "      <td>0</td>\n",
       "      <td>0</td>\n",
       "      <td>0</td>\n",
       "      <td>0</td>\n",
       "      <td>0</td>\n",
       "      <td>0</td>\n",
       "      <td>0</td>\n",
       "      <td>0</td>\n",
       "    </tr>\n",
       "  </tbody>\n",
       "</table>\n",
       "<p>5 rows × 183 columns</p>\n",
       "</div>"
      ],
      "text/plain": [
       "    Unnamed: 0  target  peakflow  वय_275546  लिंग: _275544  शिक्षण_275545  \\\n",
       "ID                                                                          \n",
       "A1           0       1       210         37              2              1   \n",
       "A2           1       0       550         33              2              3   \n",
       "A3           2       0       290         19              1              4   \n",
       "A4           3       0       340         44              2              3   \n",
       "A5           4       0       420         38              2              3   \n",
       "\n",
       "    आपल्या घरातील कुटुंबातील सदस्यांची संख्या? _275550  \\\n",
       "ID                                                       \n",
       "A1                                                  4    \n",
       "A2                                                  4    \n",
       "A3                                                  4    \n",
       "A4                                                  4    \n",
       "A5                                                  5    \n",
       "\n",
       "    घराविषयीची माहिती 0 तुमचे घर कोणत्या प्रकारचे आहे ?_275549  \\\n",
       "ID                                                               \n",
       "A1                                                  2            \n",
       "A2                                                  2            \n",
       "A3                                                  2            \n",
       "A4                                                  2            \n",
       "A5                                                  2            \n",
       "\n",
       "    तुमच्या घरात किती खोल्या आहेत?_275551  \\\n",
       "ID                                          \n",
       "A1                                      2   \n",
       "A2                                      2   \n",
       "A3                                      2   \n",
       "A4                                      3   \n",
       "A5                                      3   \n",
       "\n",
       "    तुमच्या घराला एकूण किती खिडक्या आहेत ?_275552  ...  \\\n",
       "ID                                                 ...   \n",
       "A1                                              3  ...   \n",
       "A2                                              3  ...   \n",
       "A3                                              3  ...   \n",
       "A4                                              3  ...   \n",
       "A5                                              3  ...   \n",
       "\n",
       "    जर हो, किती वर्ष पासून? _275700  हृदय रोग_275701  \\\n",
       "ID                                                     \n",
       "A1                                0                0   \n",
       "A2                                0                0   \n",
       "A3                                0                0   \n",
       "A4                                0                0   \n",
       "A5                                0                0   \n",
       "\n",
       "    जर हो, किती वर्ष पासून? _275702  थाइरोइड विकार_275703  \\\n",
       "ID                                                          \n",
       "A1                                0                     0   \n",
       "A2                                0                     0   \n",
       "A3                                0                     0   \n",
       "A4                                0                     0   \n",
       "A5                                0                     0   \n",
       "\n",
       "    जर हो, किती वर्ष पासून? _275704  चिंता आणि निराशा_275705  \\\n",
       "ID                                                             \n",
       "A1                                0                        0   \n",
       "A2                                0                        0   \n",
       "A3                                0                        0   \n",
       "A4                                0                        0   \n",
       "A5                                0                        0   \n",
       "\n",
       "    जर हो, किती वर्ष पासून? _275706  हाड ठिसूळ होणे_275707  \\\n",
       "ID                                                           \n",
       "A1                                0                      0   \n",
       "A2                                0                      0   \n",
       "A3                                0                      0   \n",
       "A4                                0                      0   \n",
       "A5                                0                      0   \n",
       "\n",
       "    जर हो, किती वर्ष पासून? _275708  धन्यवाद सबमिट करा_275709  \n",
       "ID                                                             \n",
       "A1                                0                         0  \n",
       "A2                                0                         0  \n",
       "A3                                0                         0  \n",
       "A4                                0                         0  \n",
       "A5                                0                         0  \n",
       "\n",
       "[5 rows x 183 columns]"
      ]
     },
     "execution_count": 23,
     "metadata": {},
     "output_type": "execute_result"
    }
   ],
   "source": [
    "data = pd.read_csv(\"D:/data/CRF Final Data/oscar/main oscar.csv\")\n",
    "data = data.set_index(\"ID\")\n",
    "data.head()"
   ]
  },
  {
   "cell_type": "code",
   "execution_count": 24,
   "metadata": {},
   "outputs": [
    {
     "data": {
      "text/plain": [
       "((798, 182), (798,))"
      ]
     },
     "execution_count": 24,
     "metadata": {},
     "output_type": "execute_result"
    }
   ],
   "source": [
    "X = data.drop('target', axis = 1)\n",
    "y = data['target']\n",
    "\n",
    "X.shape, y.shape"
   ]
  },
  {
   "cell_type": "code",
   "execution_count": 25,
   "metadata": {},
   "outputs": [],
   "source": [
    "X_train, X_test, y_train, y_test = train_test_split(X, y, test_size = 0.2, random_state = 0)"
   ]
  },
  {
   "cell_type": "code",
   "execution_count": 26,
   "metadata": {},
   "outputs": [],
   "source": [
    "\n",
    "f_score = chi2(X_train, y_train)"
   ]
  },
  {
   "cell_type": "code",
   "execution_count": 27,
   "metadata": {},
   "outputs": [
    {
     "data": {
      "text/plain": [
       "(array([1.26939254e+01, 3.67695360e+00, 6.13923587e+00, 5.01155260e-03,\n",
       "        1.00320758e-02, 1.73459424e-02, 2.05959332e-01, 1.60166528e+00,\n",
       "        2.13760732e-01, 2.43780754e-01, 1.10192355e-01, 7.90490881e-02,\n",
       "        4.70797169e+00, 4.30769604e-02, 1.57816267e-03, 0.00000000e+00,\n",
       "        4.04228291e-01, 1.15514019e+01, 1.23214953e+01, 4.23062000e+01,\n",
       "        1.22049899e+01, 0.00000000e+00, 1.92523364e+00, 2.31028037e+00,\n",
       "        1.61719626e+01, 6.68056075e+01, 7.50841121e+00, 1.55825243e+01,\n",
       "        1.03883495e+02, 1.35467925e+01, 3.40765672e+02, 3.85046729e+00,\n",
       "        1.92523364e-01, 1.57869159e+01, 9.95250280e-01, 2.71457944e+01,\n",
       "        0.00000000e+00, 2.62353780e+00, 4.44466261e+01, 3.65040063e+00,\n",
       "        0.00000000e+00, 8.71955358e+00, 4.78368042e+01, 2.88184375e+00,\n",
       "        0.00000000e+00, 9.72153833e+00, 4.73612963e+01, 7.54417494e-01,\n",
       "        0.00000000e+00, 6.93084112e+00, 8.85607477e+00, 2.50280374e+00,\n",
       "        0.00000000e+00, 3.27378036e+00, 7.10353325e+00, 5.05223361e-01,\n",
       "        4.04228291e-01, 2.71845055e+00, 2.11985930e+01, 0.00000000e+00,\n",
       "        5.46144735e+01, 3.19538456e+01, 0.00000000e+00, 5.73068639e+01,\n",
       "        1.47102442e+01, 2.21037991e-02, 0.00000000e+00, 4.40673857e+01,\n",
       "        9.50747241e+01, 0.00000000e+00, 5.25259051e+00, 5.57591784e-01,\n",
       "        6.04170220e+00, 2.65766885e+00, 8.49318669e-01, 0.00000000e+00,\n",
       "        4.71293538e+00, 2.67459962e+01, 0.00000000e+00, 1.63727848e+00,\n",
       "        6.54057887e+00, 0.00000000e+00, 1.67925099e-01, 3.69318594e+00,\n",
       "        0.00000000e+00, 3.86462209e-02, 2.32283822e-01, 0.00000000e+00,\n",
       "        3.30615964e+00, 1.12568940e+02, 0.00000000e+00, 9.83641046e-01,\n",
       "        2.94726062e+01, 0.00000000e+00, 3.55241684e+00, 2.11932991e+01,\n",
       "        0.00000000e+00, 4.56708909e+00, 8.72451070e+01, 4.64265747e+00,\n",
       "        1.28419089e+02, 1.78594113e-02, 1.69334906e+00, 6.00234461e+01,\n",
       "        4.02920679e+01, 1.92523364e-01, 3.38669812e+00, 1.38349548e-02,\n",
       "        3.57188225e-02, 1.03587786e+00, 5.75270456e-01, 1.45830001e+00,\n",
       "        1.30764212e-01, 2.64230737e-02, 1.01440313e+00, 1.34766355e+00,\n",
       "        2.50280374e+00, 1.54018692e+00, 1.92523364e+00,            nan,\n",
       "        1.15514019e+00,            nan, 2.83618973e-02, 6.09809844e-01,\n",
       "        3.85046729e-01, 1.31289500e+04, 2.74224337e-02, 1.15699574e+00,\n",
       "        1.41812177e+00, 7.70093458e-01, 1.92523364e+00, 9.62616822e-01,\n",
       "        3.84572370e-01, 7.24588943e-01, 2.87635228e-01, 8.42038936e-01,\n",
       "        8.30835391e+00, 9.28531494e+00, 6.09809844e-01, 2.52437792e+03,\n",
       "        2.04874007e+00, 9.48645840e-01, 2.47098419e+01, 3.14520292e+01,\n",
       "        3.29458307e-01, 6.74711914e-02, 5.45678277e+00, 1.76600652e-03,\n",
       "        8.35137608e+00, 4.04228291e-01, 3.68970666e+00, 7.28216920e+01,\n",
       "        1.37415887e+00, 4.88621558e-01, 1.83376654e+01, 1.01887246e+01,\n",
       "        3.01402657e+00, 1.09959681e+00, 7.22551066e-01, 2.19638871e-01,\n",
       "        5.23804857e+00, 3.06614645e-01, 6.93563543e+00, 2.39562135e+00,\n",
       "        6.74711914e-02, 6.16181276e+00, 6.16074766e+00, 6.12851276e+00,\n",
       "                   nan, 1.82289050e+00, 1.35094917e+01, 4.83924629e-03,\n",
       "        1.03994472e-01, 9.62616822e-01, 2.31028037e+00, 1.68407787e-01,\n",
       "        5.12522791e+00, 9.48645840e-01, 4.10501177e+00, 5.80237728e-02,\n",
       "        1.83427867e-01,            nan]),\n",
       " array([3.66845355e-04, 5.51695646e-02, 1.32214435e-02, 9.43563044e-01,\n",
       "        9.20217103e-01, 8.95218425e-01, 6.49953043e-01, 2.05667376e-01,\n",
       "        6.43835614e-01, 6.21488691e-01, 7.39925249e-01, 7.78590217e-01,\n",
       "        3.00230544e-02, 8.35580427e-01, 9.68311497e-01, 1.00000000e+00,\n",
       "        5.24913631e-01, 6.76981933e-04, 4.47771852e-04, 7.80447534e-11,\n",
       "        4.76618600e-04, 1.00000000e+00, 1.65280853e-01, 1.28520866e-01,\n",
       "        5.78439635e-05, 2.99644559e-16, 6.14115187e-03, 7.89812078e-05,\n",
       "        2.14569493e-24, 2.32688741e-04, 4.34631739e-76, 4.97321332e-02,\n",
       "        6.60824689e-01, 7.08910603e-05, 3.18462537e-01, 1.88675196e-07,\n",
       "        1.00000000e+00, 1.05289458e-01, 2.61387052e-11, 5.60557262e-02,\n",
       "        1.00000000e+00, 3.14815119e-03, 4.63214297e-12, 8.95833945e-02,\n",
       "        1.00000000e+00, 1.82121016e-03, 5.90369158e-12, 3.85081220e-01,\n",
       "        1.00000000e+00, 8.47218352e-03, 2.92115066e-03, 1.13643817e-01,\n",
       "        1.00000000e+00, 7.03952326e-02, 7.69321515e-03, 4.77213970e-01,\n",
       "        5.24913631e-01, 9.91942639e-02, 4.14068380e-06, 1.00000000e+00,\n",
       "        1.46651589e-13, 1.57879509e-08, 1.00000000e+00, 3.72851733e-14,\n",
       "        1.25363364e-04, 8.81811301e-01, 1.00000000e+00, 3.17263371e-11,\n",
       "        1.83332683e-22, 1.00000000e+00, 2.19141229e-02, 4.55232180e-01,\n",
       "        1.39718064e-02, 1.03051665e-01, 3.56745154e-01, 1.00000000e+00,\n",
       "        2.99364934e-02, 2.32031999e-07, 1.00000000e+00, 2.00699281e-01,\n",
       "        1.05441034e-02, 1.00000000e+00, 6.81962460e-01, 5.46351629e-02,\n",
       "        1.00000000e+00, 8.44151198e-01, 6.29835556e-01, 1.00000000e+00,\n",
       "        6.90206138e-02, 2.68176128e-26, 1.00000000e+00, 3.21301541e-01,\n",
       "        5.67126550e-08, 1.00000000e+00, 5.94587870e-02, 4.15213680e-06,\n",
       "        1.00000000e+00, 3.25919008e-02, 9.58721711e-21, 3.11866737e-02,\n",
       "        9.08774295e-30, 8.93687958e-01, 1.93160077e-01, 9.37341009e-15,\n",
       "        2.18695106e-10, 6.60824689e-01, 6.57244433e-02, 9.06367105e-01,\n",
       "        8.50097332e-01, 3.08782114e-01, 4.48172145e-01, 2.27200801e-01,\n",
       "        7.17640990e-01, 8.70871374e-01, 3.13850292e-01, 2.45686994e-01,\n",
       "        1.13643817e-01, 2.14589985e-01, 1.65280853e-01,            nan,\n",
       "        2.82475708e-01,            nan, 8.66260813e-01, 4.34859416e-01,\n",
       "        5.34914611e-01, 0.00000000e+00, 8.68473949e-01, 2.82089471e-01,\n",
       "        2.33712798e-01, 3.80188142e-01, 1.65280853e-01, 3.26528451e-01,\n",
       "        5.35166283e-01, 3.94642766e-01, 5.91739932e-01, 3.58814285e-01,\n",
       "        3.94631408e-03, 2.30998202e-03, 4.34859416e-01, 0.00000000e+00,\n",
       "        1.52332208e-01, 3.30064227e-01, 6.66429875e-07, 2.04428854e-08,\n",
       "        5.65978231e-01, 7.95054945e-01, 1.94925047e-02, 9.66479661e-01,\n",
       "        3.85395343e-03, 5.24913631e-01, 5.47492441e-02, 1.41908514e-17,\n",
       "        2.41098616e-01, 4.84542841e-01, 1.85012917e-05, 1.41302018e-03,\n",
       "        8.25470017e-02, 2.94354605e-01, 3.95308386e-01, 6.39315218e-01,\n",
       "        2.20980480e-02, 5.79765043e-01, 8.44950396e-03, 1.21675396e-01,\n",
       "        7.95054945e-01, 1.30537362e-02, 1.30615987e-02, 1.33018721e-02,\n",
       "                   nan, 1.76969598e-01, 2.37359821e-04, 9.44540141e-01,\n",
       "        7.47087770e-01, 3.26528451e-01, 1.28520866e-01, 6.81530752e-01,\n",
       "        2.35804738e-02, 3.30064227e-01, 4.27562938e-02, 8.09647161e-01,\n",
       "        6.68443787e-01,            nan]))"
      ]
     },
     "execution_count": 27,
     "metadata": {},
     "output_type": "execute_result"
    }
   ],
   "source": [
    "f_score"
   ]
  },
  {
   "cell_type": "code",
   "execution_count": 28,
   "metadata": {},
   "outputs": [],
   "source": [
    "\n",
    "p_values = pd.Series(f_score[1], index = X_train.columns)\n",
    "p_values.sort_values(ascending = True, inplace = True)"
   ]
  },
  {
   "cell_type": "code",
   "execution_count": 29,
   "metadata": {},
   "outputs": [
    {
     "data": {
      "text/plain": [
       "तुम्हाला सपाट जमिनीवर सुमारे किती मीटर चालल्यानंतर दम लागतो ?_275674                 0.000000e+00\n",
       "तुमचा खोकला दिवसभरात कोणत्यावेळी सर्वात जास्त प्रमाणात होता / आहे ?_276711_दुपारी    0.000000e+00\n",
       "जर हो, किती वर्षे पासून धूम्रपान करत आहे?_275573                                     4.346317e-76\n",
       "जर होय, तर 'दमा' हा आजार तुम्हाला किती वर्षापासून आहे ?_275651                       9.087743e-30\n",
       "किती वर्षे.4                                                                         2.681761e-26\n",
       "                                                                                         ...     \n",
       "Row No.10                                                                            1.000000e+00\n",
       "तुमचा खोकला वर्षातील कोणत्या ऋतूत अधिक वाढत होता / आहे ?_275668_उन्हाळा                       NaN\n",
       "तुमचा खोकला वर्षातील कोणत्या ऋतूत अधिक वाढत होता / आहे ?_275668_कोणत्याही नाही                NaN\n",
       "सहरुग्ण परिस्थिती_275717                                                                      NaN\n",
       "धन्यवाद सबमिट करा_275709                                                                      NaN\n",
       "Length: 182, dtype: float64"
      ]
     },
     "execution_count": 29,
     "metadata": {},
     "output_type": "execute_result"
    }
   ],
   "source": [
    "p_values"
   ]
  },
  {
   "cell_type": "code",
   "execution_count": 30,
   "metadata": {},
   "outputs": [
    {
     "data": {
      "text/plain": [
       "<matplotlib.axes._subplots.AxesSubplot at 0x2231a7a5d48>"
      ]
     },
     "execution_count": 30,
     "metadata": {},
     "output_type": "execute_result"
    },
    {
     "name": "stderr",
     "output_type": "stream",
     "text": [
      "c:\\python37\\lib\\site-packages\\matplotlib\\backends\\backend_agg.py:211: RuntimeWarning: Glyph 2340 missing from current font.\n",
      "  font.set_text(s, 0.0, flags=flags)\n",
      "c:\\python37\\lib\\site-packages\\matplotlib\\backends\\backend_agg.py:211: RuntimeWarning: Glyph 2369 missing from current font.\n",
      "  font.set_text(s, 0.0, flags=flags)\n",
      "c:\\python37\\lib\\site-packages\\matplotlib\\backends\\backend_agg.py:211: RuntimeWarning: Glyph 2350 missing from current font.\n",
      "  font.set_text(s, 0.0, flags=flags)\n",
      "c:\\python37\\lib\\site-packages\\matplotlib\\backends\\backend_agg.py:211: RuntimeWarning: Glyph 2381 missing from current font.\n",
      "  font.set_text(s, 0.0, flags=flags)\n",
      "c:\\python37\\lib\\site-packages\\matplotlib\\backends\\backend_agg.py:211: RuntimeWarning: Glyph 2361 missing from current font.\n",
      "  font.set_text(s, 0.0, flags=flags)\n",
      "c:\\python37\\lib\\site-packages\\matplotlib\\backends\\backend_agg.py:211: RuntimeWarning: Glyph 2366 missing from current font.\n",
      "  font.set_text(s, 0.0, flags=flags)\n",
      "c:\\python37\\lib\\site-packages\\matplotlib\\backends\\backend_agg.py:211: RuntimeWarning: Glyph 2354 missing from current font.\n",
      "  font.set_text(s, 0.0, flags=flags)\n",
      "c:\\python37\\lib\\site-packages\\matplotlib\\backends\\backend_agg.py:211: RuntimeWarning: Glyph 2360 missing from current font.\n",
      "  font.set_text(s, 0.0, flags=flags)\n",
      "c:\\python37\\lib\\site-packages\\matplotlib\\backends\\backend_agg.py:211: RuntimeWarning: Glyph 2346 missing from current font.\n",
      "  font.set_text(s, 0.0, flags=flags)\n",
      "c:\\python37\\lib\\site-packages\\matplotlib\\backends\\backend_agg.py:211: RuntimeWarning: Glyph 2335 missing from current font.\n",
      "  font.set_text(s, 0.0, flags=flags)\n",
      "c:\\python37\\lib\\site-packages\\matplotlib\\backends\\backend_agg.py:211: RuntimeWarning: Glyph 2332 missing from current font.\n",
      "  font.set_text(s, 0.0, flags=flags)\n",
      "c:\\python37\\lib\\site-packages\\matplotlib\\backends\\backend_agg.py:211: RuntimeWarning: Glyph 2367 missing from current font.\n",
      "  font.set_text(s, 0.0, flags=flags)\n",
      "c:\\python37\\lib\\site-packages\\matplotlib\\backends\\backend_agg.py:211: RuntimeWarning: Glyph 2344 missing from current font.\n",
      "  font.set_text(s, 0.0, flags=flags)\n",
      "c:\\python37\\lib\\site-packages\\matplotlib\\backends\\backend_agg.py:211: RuntimeWarning: Glyph 2368 missing from current font.\n",
      "  font.set_text(s, 0.0, flags=flags)\n",
      "c:\\python37\\lib\\site-packages\\matplotlib\\backends\\backend_agg.py:211: RuntimeWarning: Glyph 2357 missing from current font.\n",
      "  font.set_text(s, 0.0, flags=flags)\n",
      "c:\\python37\\lib\\site-packages\\matplotlib\\backends\\backend_agg.py:211: RuntimeWarning: Glyph 2352 missing from current font.\n",
      "  font.set_text(s, 0.0, flags=flags)\n",
      "c:\\python37\\lib\\site-packages\\matplotlib\\backends\\backend_agg.py:211: RuntimeWarning: Glyph 2375 missing from current font.\n",
      "  font.set_text(s, 0.0, flags=flags)\n",
      "c:\\python37\\lib\\site-packages\\matplotlib\\backends\\backend_agg.py:211: RuntimeWarning: Glyph 2325 missing from current font.\n",
      "  font.set_text(s, 0.0, flags=flags)\n",
      "c:\\python37\\lib\\site-packages\\matplotlib\\backends\\backend_agg.py:211: RuntimeWarning: Glyph 2330 missing from current font.\n",
      "  font.set_text(s, 0.0, flags=flags)\n",
      "c:\\python37\\lib\\site-packages\\matplotlib\\backends\\backend_agg.py:211: RuntimeWarning: Glyph 2351 missing from current font.\n",
      "  font.set_text(s, 0.0, flags=flags)\n",
      "c:\\python37\\lib\\site-packages\\matplotlib\\backends\\backend_agg.py:211: RuntimeWarning: Glyph 2306 missing from current font.\n",
      "  font.set_text(s, 0.0, flags=flags)\n",
      "c:\\python37\\lib\\site-packages\\matplotlib\\backends\\backend_agg.py:211: RuntimeWarning: Glyph 2342 missing from current font.\n",
      "  font.set_text(s, 0.0, flags=flags)\n",
      "c:\\python37\\lib\\site-packages\\matplotlib\\backends\\backend_agg.py:211: RuntimeWarning: Glyph 2327 missing from current font.\n",
      "  font.set_text(s, 0.0, flags=flags)\n",
      "c:\\python37\\lib\\site-packages\\matplotlib\\backends\\backend_agg.py:211: RuntimeWarning: Glyph 2379 missing from current font.\n",
      "  font.set_text(s, 0.0, flags=flags)\n",
      "c:\\python37\\lib\\site-packages\\matplotlib\\backends\\backend_agg.py:211: RuntimeWarning: Glyph 2326 missing from current font.\n",
      "  font.set_text(s, 0.0, flags=flags)\n",
      "c:\\python37\\lib\\site-packages\\matplotlib\\backends\\backend_agg.py:211: RuntimeWarning: Glyph 2349 missing from current font.\n",
      "  font.set_text(s, 0.0, flags=flags)\n",
      "c:\\python37\\lib\\site-packages\\matplotlib\\backends\\backend_agg.py:211: RuntimeWarning: Glyph 2339 missing from current font.\n",
      "  font.set_text(s, 0.0, flags=flags)\n",
      "c:\\python37\\lib\\site-packages\\matplotlib\\backends\\backend_agg.py:211: RuntimeWarning: Glyph 2355 missing from current font.\n",
      "  font.set_text(s, 0.0, flags=flags)\n",
      "c:\\python37\\lib\\site-packages\\matplotlib\\backends\\backend_agg.py:211: RuntimeWarning: Glyph 2310 missing from current font.\n",
      "  font.set_text(s, 0.0, flags=flags)\n",
      "c:\\python37\\lib\\site-packages\\matplotlib\\backends\\backend_agg.py:211: RuntimeWarning: Glyph 2359 missing from current font.\n",
      "  font.set_text(s, 0.0, flags=flags)\n",
      "c:\\python37\\lib\\site-packages\\matplotlib\\backends\\backend_agg.py:211: RuntimeWarning: Glyph 2370 missing from current font.\n",
      "  font.set_text(s, 0.0, flags=flags)\n",
      "c:\\python37\\lib\\site-packages\\matplotlib\\backends\\backend_agg.py:211: RuntimeWarning: Glyph 2343 missing from current font.\n",
      "  font.set_text(s, 0.0, flags=flags)\n",
      "c:\\python37\\lib\\site-packages\\matplotlib\\backends\\backend_agg.py:211: RuntimeWarning: Glyph 2348 missing from current font.\n",
      "  font.set_text(s, 0.0, flags=flags)\n",
      "c:\\python37\\lib\\site-packages\\matplotlib\\backends\\backend_agg.py:211: RuntimeWarning: Glyph 2337 missing from current font.\n",
      "  font.set_text(s, 0.0, flags=flags)\n",
      "c:\\python37\\lib\\site-packages\\matplotlib\\backends\\backend_agg.py:211: RuntimeWarning: Glyph 2311 missing from current font.\n",
      "  font.set_text(s, 0.0, flags=flags)\n",
      "c:\\python37\\lib\\site-packages\\matplotlib\\backends\\backend_agg.py:211: RuntimeWarning: Glyph 2313 missing from current font.\n",
      "  font.set_text(s, 0.0, flags=flags)\n",
      "c:\\python37\\lib\\site-packages\\matplotlib\\backends\\backend_agg.py:211: RuntimeWarning: Glyph 2333 missing from current font.\n",
      "  font.set_text(s, 0.0, flags=flags)\n",
      "c:\\python37\\lib\\site-packages\\matplotlib\\backends\\backend_agg.py:211: RuntimeWarning: Glyph 2315 missing from current font.\n",
      "  font.set_text(s, 0.0, flags=flags)\n",
      "c:\\python37\\lib\\site-packages\\matplotlib\\backends\\backend_agg.py:211: RuntimeWarning: Glyph 2338 missing from current font.\n",
      "  font.set_text(s, 0.0, flags=flags)\n",
      "c:\\python37\\lib\\site-packages\\matplotlib\\backends\\backend_agg.py:211: RuntimeWarning: Glyph 2328 missing from current font.\n",
      "  font.set_text(s, 0.0, flags=flags)\n",
      "c:\\python37\\lib\\site-packages\\matplotlib\\backends\\backend_agg.py:211: RuntimeWarning: Glyph 2307 missing from current font.\n",
      "  font.set_text(s, 0.0, flags=flags)\n",
      "c:\\python37\\lib\\site-packages\\matplotlib\\backends\\backend_agg.py:211: RuntimeWarning: Glyph 2331 missing from current font.\n",
      "  font.set_text(s, 0.0, flags=flags)\n",
      "c:\\python37\\lib\\site-packages\\matplotlib\\backends\\backend_agg.py:211: RuntimeWarning: Glyph 2336 missing from current font.\n",
      "  font.set_text(s, 0.0, flags=flags)\n",
      "c:\\python37\\lib\\site-packages\\matplotlib\\backends\\backend_agg.py:211: RuntimeWarning: Glyph 2323 missing from current font.\n",
      "  font.set_text(s, 0.0, flags=flags)\n",
      "c:\\python37\\lib\\site-packages\\matplotlib\\backends\\backend_agg.py:211: RuntimeWarning: Glyph 2358 missing from current font.\n",
      "  font.set_text(s, 0.0, flags=flags)\n",
      "c:\\python37\\lib\\site-packages\\matplotlib\\backends\\backend_agg.py:211: RuntimeWarning: Glyph 2341 missing from current font.\n",
      "  font.set_text(s, 0.0, flags=flags)\n",
      "c:\\python37\\lib\\site-packages\\matplotlib\\backends\\backend_agg.py:211: RuntimeWarning: Glyph 2309 missing from current font.\n",
      "  font.set_text(s, 0.0, flags=flags)\n",
      "c:\\python37\\lib\\site-packages\\matplotlib\\backends\\backend_agg.py:211: RuntimeWarning: Glyph 2377 missing from current font.\n",
      "  font.set_text(s, 0.0, flags=flags)\n",
      "c:\\python37\\lib\\site-packages\\matplotlib\\backends\\backend_agg.py:211: RuntimeWarning: Glyph 2312 missing from current font.\n",
      "  font.set_text(s, 0.0, flags=flags)\n",
      "c:\\python37\\lib\\site-packages\\matplotlib\\backends\\backend_agg.py:211: RuntimeWarning: Glyph 2371 missing from current font.\n",
      "  font.set_text(s, 0.0, flags=flags)\n",
      "c:\\python37\\lib\\site-packages\\matplotlib\\backends\\backend_agg.py:211: RuntimeWarning: Glyph 2376 missing from current font.\n",
      "  font.set_text(s, 0.0, flags=flags)\n",
      "c:\\python37\\lib\\site-packages\\matplotlib\\backends\\backend_agg.py:211: RuntimeWarning: Glyph 2347 missing from current font.\n",
      "  font.set_text(s, 0.0, flags=flags)\n",
      "c:\\python37\\lib\\site-packages\\matplotlib\\backends\\backend_agg.py:211: RuntimeWarning: Glyph 2320 missing from current font.\n",
      "  font.set_text(s, 0.0, flags=flags)\n",
      "c:\\python37\\lib\\site-packages\\matplotlib\\backends\\backend_agg.py:211: RuntimeWarning: Glyph 2373 missing from current font.\n",
      "  font.set_text(s, 0.0, flags=flags)\n",
      "c:\\python37\\lib\\site-packages\\matplotlib\\backends\\backend_agg.py:211: RuntimeWarning: Glyph 2319 missing from current font.\n",
      "  font.set_text(s, 0.0, flags=flags)\n"
     ]
    },
    {
     "name": "stderr",
     "output_type": "stream",
     "text": [
      "c:\\python37\\lib\\site-packages\\matplotlib\\backends\\backend_agg.py:211: RuntimeWarning: Glyph 2353 missing from current font.\n",
      "  font.set_text(s, 0.0, flags=flags)\n",
      "c:\\python37\\lib\\site-packages\\matplotlib\\backends\\backend_agg.py:211: RuntimeWarning: Glyph 2407 missing from current font.\n",
      "  font.set_text(s, 0.0, flags=flags)\n",
      "c:\\python37\\lib\\site-packages\\matplotlib\\backends\\backend_agg.py:211: RuntimeWarning: Glyph 2406 missing from current font.\n",
      "  font.set_text(s, 0.0, flags=flags)\n",
      "c:\\python37\\lib\\site-packages\\matplotlib\\backends\\backend_agg.py:180: RuntimeWarning: Glyph 2340 missing from current font.\n",
      "  font.set_text(s, 0, flags=flags)\n",
      "c:\\python37\\lib\\site-packages\\matplotlib\\backends\\backend_agg.py:180: RuntimeWarning: Glyph 2369 missing from current font.\n",
      "  font.set_text(s, 0, flags=flags)\n",
      "c:\\python37\\lib\\site-packages\\matplotlib\\backends\\backend_agg.py:180: RuntimeWarning: Glyph 2350 missing from current font.\n",
      "  font.set_text(s, 0, flags=flags)\n",
      "c:\\python37\\lib\\site-packages\\matplotlib\\backends\\backend_agg.py:180: RuntimeWarning: Glyph 2381 missing from current font.\n",
      "  font.set_text(s, 0, flags=flags)\n",
      "c:\\python37\\lib\\site-packages\\matplotlib\\backends\\backend_agg.py:180: RuntimeWarning: Glyph 2361 missing from current font.\n",
      "  font.set_text(s, 0, flags=flags)\n",
      "c:\\python37\\lib\\site-packages\\matplotlib\\backends\\backend_agg.py:180: RuntimeWarning: Glyph 2366 missing from current font.\n",
      "  font.set_text(s, 0, flags=flags)\n",
      "c:\\python37\\lib\\site-packages\\matplotlib\\backends\\backend_agg.py:180: RuntimeWarning: Glyph 2354 missing from current font.\n",
      "  font.set_text(s, 0, flags=flags)\n",
      "c:\\python37\\lib\\site-packages\\matplotlib\\backends\\backend_agg.py:180: RuntimeWarning: Glyph 2360 missing from current font.\n",
      "  font.set_text(s, 0, flags=flags)\n",
      "c:\\python37\\lib\\site-packages\\matplotlib\\backends\\backend_agg.py:180: RuntimeWarning: Glyph 2346 missing from current font.\n",
      "  font.set_text(s, 0, flags=flags)\n",
      "c:\\python37\\lib\\site-packages\\matplotlib\\backends\\backend_agg.py:180: RuntimeWarning: Glyph 2335 missing from current font.\n",
      "  font.set_text(s, 0, flags=flags)\n",
      "c:\\python37\\lib\\site-packages\\matplotlib\\backends\\backend_agg.py:180: RuntimeWarning: Glyph 2332 missing from current font.\n",
      "  font.set_text(s, 0, flags=flags)\n",
      "c:\\python37\\lib\\site-packages\\matplotlib\\backends\\backend_agg.py:180: RuntimeWarning: Glyph 2367 missing from current font.\n",
      "  font.set_text(s, 0, flags=flags)\n",
      "c:\\python37\\lib\\site-packages\\matplotlib\\backends\\backend_agg.py:180: RuntimeWarning: Glyph 2344 missing from current font.\n",
      "  font.set_text(s, 0, flags=flags)\n",
      "c:\\python37\\lib\\site-packages\\matplotlib\\backends\\backend_agg.py:180: RuntimeWarning: Glyph 2368 missing from current font.\n",
      "  font.set_text(s, 0, flags=flags)\n",
      "c:\\python37\\lib\\site-packages\\matplotlib\\backends\\backend_agg.py:180: RuntimeWarning: Glyph 2357 missing from current font.\n",
      "  font.set_text(s, 0, flags=flags)\n",
      "c:\\python37\\lib\\site-packages\\matplotlib\\backends\\backend_agg.py:180: RuntimeWarning: Glyph 2352 missing from current font.\n",
      "  font.set_text(s, 0, flags=flags)\n",
      "c:\\python37\\lib\\site-packages\\matplotlib\\backends\\backend_agg.py:180: RuntimeWarning: Glyph 2375 missing from current font.\n",
      "  font.set_text(s, 0, flags=flags)\n",
      "c:\\python37\\lib\\site-packages\\matplotlib\\backends\\backend_agg.py:180: RuntimeWarning: Glyph 2325 missing from current font.\n",
      "  font.set_text(s, 0, flags=flags)\n",
      "c:\\python37\\lib\\site-packages\\matplotlib\\backends\\backend_agg.py:180: RuntimeWarning: Glyph 2330 missing from current font.\n",
      "  font.set_text(s, 0, flags=flags)\n",
      "c:\\python37\\lib\\site-packages\\matplotlib\\backends\\backend_agg.py:180: RuntimeWarning: Glyph 2351 missing from current font.\n",
      "  font.set_text(s, 0, flags=flags)\n",
      "c:\\python37\\lib\\site-packages\\matplotlib\\backends\\backend_agg.py:180: RuntimeWarning: Glyph 2306 missing from current font.\n",
      "  font.set_text(s, 0, flags=flags)\n",
      "c:\\python37\\lib\\site-packages\\matplotlib\\backends\\backend_agg.py:180: RuntimeWarning: Glyph 2342 missing from current font.\n",
      "  font.set_text(s, 0, flags=flags)\n",
      "c:\\python37\\lib\\site-packages\\matplotlib\\backends\\backend_agg.py:180: RuntimeWarning: Glyph 2327 missing from current font.\n",
      "  font.set_text(s, 0, flags=flags)\n",
      "c:\\python37\\lib\\site-packages\\matplotlib\\backends\\backend_agg.py:180: RuntimeWarning: Glyph 2379 missing from current font.\n",
      "  font.set_text(s, 0, flags=flags)\n",
      "c:\\python37\\lib\\site-packages\\matplotlib\\backends\\backend_agg.py:180: RuntimeWarning: Glyph 2326 missing from current font.\n",
      "  font.set_text(s, 0, flags=flags)\n",
      "c:\\python37\\lib\\site-packages\\matplotlib\\backends\\backend_agg.py:180: RuntimeWarning: Glyph 2349 missing from current font.\n",
      "  font.set_text(s, 0, flags=flags)\n",
      "c:\\python37\\lib\\site-packages\\matplotlib\\backends\\backend_agg.py:180: RuntimeWarning: Glyph 2339 missing from current font.\n",
      "  font.set_text(s, 0, flags=flags)\n",
      "c:\\python37\\lib\\site-packages\\matplotlib\\backends\\backend_agg.py:180: RuntimeWarning: Glyph 2355 missing from current font.\n",
      "  font.set_text(s, 0, flags=flags)\n",
      "c:\\python37\\lib\\site-packages\\matplotlib\\backends\\backend_agg.py:180: RuntimeWarning: Glyph 2310 missing from current font.\n",
      "  font.set_text(s, 0, flags=flags)\n",
      "c:\\python37\\lib\\site-packages\\matplotlib\\backends\\backend_agg.py:180: RuntimeWarning: Glyph 2359 missing from current font.\n",
      "  font.set_text(s, 0, flags=flags)\n",
      "c:\\python37\\lib\\site-packages\\matplotlib\\backends\\backend_agg.py:180: RuntimeWarning: Glyph 2370 missing from current font.\n",
      "  font.set_text(s, 0, flags=flags)\n",
      "c:\\python37\\lib\\site-packages\\matplotlib\\backends\\backend_agg.py:180: RuntimeWarning: Glyph 2343 missing from current font.\n",
      "  font.set_text(s, 0, flags=flags)\n",
      "c:\\python37\\lib\\site-packages\\matplotlib\\backends\\backend_agg.py:180: RuntimeWarning: Glyph 2348 missing from current font.\n",
      "  font.set_text(s, 0, flags=flags)\n",
      "c:\\python37\\lib\\site-packages\\matplotlib\\backends\\backend_agg.py:180: RuntimeWarning: Glyph 2337 missing from current font.\n",
      "  font.set_text(s, 0, flags=flags)\n",
      "c:\\python37\\lib\\site-packages\\matplotlib\\backends\\backend_agg.py:180: RuntimeWarning: Glyph 2311 missing from current font.\n",
      "  font.set_text(s, 0, flags=flags)\n",
      "c:\\python37\\lib\\site-packages\\matplotlib\\backends\\backend_agg.py:180: RuntimeWarning: Glyph 2313 missing from current font.\n",
      "  font.set_text(s, 0, flags=flags)\n",
      "c:\\python37\\lib\\site-packages\\matplotlib\\backends\\backend_agg.py:180: RuntimeWarning: Glyph 2333 missing from current font.\n",
      "  font.set_text(s, 0, flags=flags)\n",
      "c:\\python37\\lib\\site-packages\\matplotlib\\backends\\backend_agg.py:180: RuntimeWarning: Glyph 2315 missing from current font.\n",
      "  font.set_text(s, 0, flags=flags)\n",
      "c:\\python37\\lib\\site-packages\\matplotlib\\backends\\backend_agg.py:180: RuntimeWarning: Glyph 2338 missing from current font.\n",
      "  font.set_text(s, 0, flags=flags)\n",
      "c:\\python37\\lib\\site-packages\\matplotlib\\backends\\backend_agg.py:180: RuntimeWarning: Glyph 2328 missing from current font.\n",
      "  font.set_text(s, 0, flags=flags)\n",
      "c:\\python37\\lib\\site-packages\\matplotlib\\backends\\backend_agg.py:180: RuntimeWarning: Glyph 2307 missing from current font.\n",
      "  font.set_text(s, 0, flags=flags)\n",
      "c:\\python37\\lib\\site-packages\\matplotlib\\backends\\backend_agg.py:180: RuntimeWarning: Glyph 2331 missing from current font.\n",
      "  font.set_text(s, 0, flags=flags)\n",
      "c:\\python37\\lib\\site-packages\\matplotlib\\backends\\backend_agg.py:180: RuntimeWarning: Glyph 2336 missing from current font.\n",
      "  font.set_text(s, 0, flags=flags)\n",
      "c:\\python37\\lib\\site-packages\\matplotlib\\backends\\backend_agg.py:180: RuntimeWarning: Glyph 2323 missing from current font.\n",
      "  font.set_text(s, 0, flags=flags)\n",
      "c:\\python37\\lib\\site-packages\\matplotlib\\backends\\backend_agg.py:180: RuntimeWarning: Glyph 2358 missing from current font.\n",
      "  font.set_text(s, 0, flags=flags)\n",
      "c:\\python37\\lib\\site-packages\\matplotlib\\backends\\backend_agg.py:180: RuntimeWarning: Glyph 2341 missing from current font.\n",
      "  font.set_text(s, 0, flags=flags)\n",
      "c:\\python37\\lib\\site-packages\\matplotlib\\backends\\backend_agg.py:180: RuntimeWarning: Glyph 2309 missing from current font.\n",
      "  font.set_text(s, 0, flags=flags)\n",
      "c:\\python37\\lib\\site-packages\\matplotlib\\backends\\backend_agg.py:180: RuntimeWarning: Glyph 2377 missing from current font.\n",
      "  font.set_text(s, 0, flags=flags)\n",
      "c:\\python37\\lib\\site-packages\\matplotlib\\backends\\backend_agg.py:180: RuntimeWarning: Glyph 2312 missing from current font.\n",
      "  font.set_text(s, 0, flags=flags)\n",
      "c:\\python37\\lib\\site-packages\\matplotlib\\backends\\backend_agg.py:180: RuntimeWarning: Glyph 2371 missing from current font.\n",
      "  font.set_text(s, 0, flags=flags)\n",
      "c:\\python37\\lib\\site-packages\\matplotlib\\backends\\backend_agg.py:180: RuntimeWarning: Glyph 2376 missing from current font.\n",
      "  font.set_text(s, 0, flags=flags)\n",
      "c:\\python37\\lib\\site-packages\\matplotlib\\backends\\backend_agg.py:180: RuntimeWarning: Glyph 2347 missing from current font.\n",
      "  font.set_text(s, 0, flags=flags)\n",
      "c:\\python37\\lib\\site-packages\\matplotlib\\backends\\backend_agg.py:180: RuntimeWarning: Glyph 2320 missing from current font.\n",
      "  font.set_text(s, 0, flags=flags)\n",
      "c:\\python37\\lib\\site-packages\\matplotlib\\backends\\backend_agg.py:180: RuntimeWarning: Glyph 2373 missing from current font.\n",
      "  font.set_text(s, 0, flags=flags)\n",
      "c:\\python37\\lib\\site-packages\\matplotlib\\backends\\backend_agg.py:180: RuntimeWarning: Glyph 2319 missing from current font.\n",
      "  font.set_text(s, 0, flags=flags)\n"
     ]
    },
    {
     "name": "stderr",
     "output_type": "stream",
     "text": [
      "c:\\python37\\lib\\site-packages\\matplotlib\\backends\\backend_agg.py:180: RuntimeWarning: Glyph 2353 missing from current font.\n",
      "  font.set_text(s, 0, flags=flags)\n",
      "c:\\python37\\lib\\site-packages\\matplotlib\\backends\\backend_agg.py:180: RuntimeWarning: Glyph 2407 missing from current font.\n",
      "  font.set_text(s, 0, flags=flags)\n",
      "c:\\python37\\lib\\site-packages\\matplotlib\\backends\\backend_agg.py:180: RuntimeWarning: Glyph 2406 missing from current font.\n",
      "  font.set_text(s, 0, flags=flags)\n"
     ]
    },
    {
     "data": {
      "image/png": "[encoded data removed]",
      "text/plain": [
       "<Figure size 432x288 with 1 Axes>"
      ]
     },
     "metadata": {
      "needs_background": "light"
     },
     "output_type": "display_data"
    }
   ],
   "source": [
    "p_values.plot.bar()"
   ]
  },
  {
   "cell_type": "markdown",
   "metadata": {},
   "source": [
    "# Step Forward, Step Backward and Exhaustive Feature Selection | Wrapper Method"
   ]
  },
  {
   "cell_type": "markdown",
   "metadata": {},
   "source": [
    "## Step Forward Selection (SFS)"
   ]
  },
  {
   "cell_type": "code",
   "execution_count": 1,
   "metadata": {},
   "outputs": [
    {
     "name": "stderr",
     "output_type": "stream",
     "text": [
      "c:\\python37\\lib\\site-packages\\statsmodels\\tools\\_testing.py:19: FutureWarning: pandas.util.testing is deprecated. Use the functions in the public API at pandas.testing instead.\n",
      "  import pandas.util.testing as tm\n"
     ]
    }
   ],
   "source": [
    "import numpy as np\n",
    "import pandas as pd\n",
    "import seaborn as sns\n",
    "import matplotlib.pyplot as plt\n",
    "%matplotlib inline\n",
    "from sklearn.model_selection import train_test_split\n",
    "from sklearn.ensemble import RandomForestRegressor, RandomForestClassifier\n",
    "from sklearn.metrics import roc_auc_score\n",
    "from mlxtend.feature_selection import SequentialFeatureSelector as SFS\n",
    "from sklearn.datasets import load_wine\n",
    "from sklearn.preprocessing import StandardScaler"
   ]
  },
  {
   "cell_type": "code",
   "execution_count": 2,
   "metadata": {},
   "outputs": [],
   "source": [
    "data = load_wine()"
   ]
  },
  {
   "cell_type": "code",
   "execution_count": 3,
   "metadata": {},
   "outputs": [
    {
     "data": {
      "text/plain": [
       "dict_keys(['data', 'target', 'target_names', 'DESCR', 'feature_names'])"
      ]
     },
     "execution_count": 3,
     "metadata": {},
     "output_type": "execute_result"
    }
   ],
   "source": [
    "data.keys()"
   ]
  },
  {
   "cell_type": "code",
   "execution_count": 4,
   "metadata": {},
   "outputs": [],
   "source": [
    "\n",
    "X = pd.DataFrame(data.data)\n",
    "y = data.target"
   ]
  },
  {
   "cell_type": "code",
   "execution_count": 5,
   "metadata": {},
   "outputs": [
    {
     "data": {
      "text/plain": [
       "0     0\n",
       "1     0\n",
       "2     0\n",
       "3     0\n",
       "4     0\n",
       "5     0\n",
       "6     0\n",
       "7     0\n",
       "8     0\n",
       "9     0\n",
       "10    0\n",
       "11    0\n",
       "12    0\n",
       "dtype: int64"
      ]
     },
     "execution_count": 5,
     "metadata": {},
     "output_type": "execute_result"
    }
   ],
   "source": [
    "X.isnull().sum()"
   ]
  },
  {
   "cell_type": "code",
   "execution_count": 6,
   "metadata": {},
   "outputs": [
    {
     "data": {
      "text/plain": [
       "((142, 13), (36, 13))"
      ]
     },
     "execution_count": 6,
     "metadata": {},
     "output_type": "execute_result"
    }
   ],
   "source": [
    "X_train, X_test, y_train, y_test = train_test_split(X, y, test_size = 0.2, random_state = 0)\n",
    "X_train.shape, X_test.shape"
   ]
  },
  {
   "cell_type": "code",
   "execution_count": 7,
   "metadata": {},
   "outputs": [
    {
     "name": "stderr",
     "output_type": "stream",
     "text": [
      "[Parallel(n_jobs=-1)]: Using backend LokyBackend with 8 concurrent workers.\n",
      "[Parallel(n_jobs=-1)]: Done   5 out of  13 | elapsed:    3.6s remaining:    5.8s\n",
      "[Parallel(n_jobs=-1)]: Done  13 out of  13 | elapsed:    5.2s finished\n",
      "\n",
      "[2020-01-29 10:10:02] Features: 1/7 -- score: 0.7674603174603174[Parallel(n_jobs=-1)]: Using backend LokyBackend with 8 concurrent workers.\n",
      "[Parallel(n_jobs=-1)]: Done   4 out of  12 | elapsed:    1.6s remaining:    3.4s\n",
      "[Parallel(n_jobs=-1)]: Done  12 out of  12 | elapsed:    3.3s finished\n",
      "\n",
      "[2020-01-29 10:10:05] Features: 2/7 -- score: 0.9718253968253968[Parallel(n_jobs=-1)]: Using backend LokyBackend with 8 concurrent workers.\n",
      "[Parallel(n_jobs=-1)]: Done   2 out of  11 | elapsed:    1.5s remaining:    7.2s\n",
      "[Parallel(n_jobs=-1)]: Done   8 out of  11 | elapsed:    1.7s remaining:    0.6s\n",
      "[Parallel(n_jobs=-1)]: Done  11 out of  11 | elapsed:    3.2s finished\n",
      "\n",
      "[2020-01-29 10:10:09] Features: 3/7 -- score: 0.9859126984126985[Parallel(n_jobs=-1)]: Using backend LokyBackend with 8 concurrent workers.\n",
      "[Parallel(n_jobs=-1)]: Done   7 out of  10 | elapsed:    1.7s remaining:    0.7s\n",
      "[Parallel(n_jobs=-1)]: Done  10 out of  10 | elapsed:    2.9s finished\n",
      "\n",
      "[2020-01-29 10:10:12] Features: 4/7 -- score: 0.9789682539682539[Parallel(n_jobs=-1)]: Using backend LokyBackend with 8 concurrent workers.\n",
      "[Parallel(n_jobs=-1)]: Done   4 out of   9 | elapsed:    1.7s remaining:    2.2s\n",
      "[Parallel(n_jobs=-1)]: Done   9 out of   9 | elapsed:    2.8s remaining:    0.0s\n",
      "[Parallel(n_jobs=-1)]: Done   9 out of   9 | elapsed:    2.8s finished\n",
      "\n",
      "[2020-01-29 10:10:14] Features: 5/7 -- score: 0.9720238095238095[Parallel(n_jobs=-1)]: Using backend LokyBackend with 8 concurrent workers.\n",
      "[Parallel(n_jobs=-1)]: Done   3 out of   8 | elapsed:    1.4s remaining:    2.5s\n",
      "[Parallel(n_jobs=-1)]: Done   8 out of   8 | elapsed:    1.6s remaining:    0.0s\n",
      "[Parallel(n_jobs=-1)]: Done   8 out of   8 | elapsed:    1.6s finished\n",
      "\n",
      "[2020-01-29 10:10:16] Features: 6/7 -- score: 0.9789682539682539[Parallel(n_jobs=-1)]: Using backend LokyBackend with 8 concurrent workers.\n",
      "[Parallel(n_jobs=-1)]: Done   4 out of   7 | elapsed:    1.6s remaining:    1.2s\n",
      "[Parallel(n_jobs=-1)]: Done   7 out of   7 | elapsed:    1.6s finished\n",
      "\n",
      "[2020-01-29 10:10:18] Features: 7/7 -- score: 0.9791666666666666"
     ]
    }
   ],
   "source": [
    "sfs = SFS(RandomForestClassifier(n_estimators=100, random_state=0, n_jobs = -1),\n",
    "         k_features = 7,\n",
    "          forward= True,\n",
    "          floating = False,\n",
    "          verbose= 2,\n",
    "          scoring= 'accuracy',\n",
    "          cv = 4,\n",
    "          n_jobs= -1\n",
    "         ).fit(X_train, y_train)"
   ]
  },
  {
   "cell_type": "code",
   "execution_count": 8,
   "metadata": {},
   "outputs": [
    {
     "data": {
      "text/plain": [
       "(0, 2, 4, 6, 8, 9, 12)"
      ]
     },
     "execution_count": 8,
     "metadata": {},
     "output_type": "execute_result"
    }
   ],
   "source": [
    "sfs.k_feature_names_"
   ]
  },
  {
   "cell_type": "code",
   "execution_count": 9,
   "metadata": {},
   "outputs": [
    {
     "data": {
      "text/plain": [
       "(0, 2, 4, 6, 8, 9, 12)"
      ]
     },
     "execution_count": 9,
     "metadata": {},
     "output_type": "execute_result"
    }
   ],
   "source": [
    "sfs.k_feature_idx_"
   ]
  },
  {
   "cell_type": "code",
   "execution_count": 10,
   "metadata": {},
   "outputs": [
    {
     "data": {
      "text/plain": [
       "0.9791666666666666"
      ]
     },
     "execution_count": 10,
     "metadata": {},
     "output_type": "execute_result"
    }
   ],
   "source": [
    "sfs.k_score_"
   ]
  },
  {
   "cell_type": "code",
   "execution_count": 11,
   "metadata": {},
   "outputs": [
    {
     "data": {
      "text/html": [
       "<div>\n",
       "<style scoped>\n",
       "    .dataframe tbody tr th:only-of-type {\n",
       "        vertical-align: middle;\n",
       "    }\n",
       "\n",
       "    .dataframe tbody tr th {\n",
       "        vertical-align: top;\n",
       "    }\n",
       "\n",
       "    .dataframe thead th {\n",
       "        text-align: right;\n",
       "    }\n",
       "</style>\n",
       "<table border=\"1\" class=\"dataframe\">\n",
       "  <thead>\n",
       "    <tr style=\"text-align: right;\">\n",
       "      <th></th>\n",
       "      <th>feature_idx</th>\n",
       "      <th>cv_scores</th>\n",
       "      <th>avg_score</th>\n",
       "      <th>feature_names</th>\n",
       "      <th>ci_bound</th>\n",
       "      <th>std_dev</th>\n",
       "      <th>std_err</th>\n",
       "    </tr>\n",
       "  </thead>\n",
       "  <tbody>\n",
       "    <tr>\n",
       "      <th>1</th>\n",
       "      <td>(6,)</td>\n",
       "      <td>[0.7222222222222222, 0.8333333333333334, 0.742...</td>\n",
       "      <td>0.76746</td>\n",
       "      <td>(6,)</td>\n",
       "      <td>0.0670901</td>\n",
       "      <td>0.0418533</td>\n",
       "      <td>0.024164</td>\n",
       "    </tr>\n",
       "    <tr>\n",
       "      <th>2</th>\n",
       "      <td>(6, 9)</td>\n",
       "      <td>[0.9444444444444444, 1.0, 0.9714285714285714, ...</td>\n",
       "      <td>0.971825</td>\n",
       "      <td>(6, 9)</td>\n",
       "      <td>0.031492</td>\n",
       "      <td>0.0196459</td>\n",
       "      <td>0.0113425</td>\n",
       "    </tr>\n",
       "    <tr>\n",
       "      <th>3</th>\n",
       "      <td>(4, 6, 9)</td>\n",
       "      <td>[0.9722222222222222, 1.0, 0.9714285714285714, ...</td>\n",
       "      <td>0.985913</td>\n",
       "      <td>(4, 6, 9)</td>\n",
       "      <td>0.0225862</td>\n",
       "      <td>0.0140901</td>\n",
       "      <td>0.00813492</td>\n",
       "    </tr>\n",
       "    <tr>\n",
       "      <th>4</th>\n",
       "      <td>(4, 6, 9, 12)</td>\n",
       "      <td>[0.9722222222222222, 0.9722222222222222, 0.971...</td>\n",
       "      <td>0.978968</td>\n",
       "      <td>(4, 6, 9, 12)</td>\n",
       "      <td>0.0194714</td>\n",
       "      <td>0.012147</td>\n",
       "      <td>0.00701308</td>\n",
       "    </tr>\n",
       "    <tr>\n",
       "      <th>5</th>\n",
       "      <td>(2, 4, 6, 9, 12)</td>\n",
       "      <td>[0.9444444444444444, 0.9722222222222222, 0.971...</td>\n",
       "      <td>0.972024</td>\n",
       "      <td>(2, 4, 6, 9, 12)</td>\n",
       "      <td>0.0314903</td>\n",
       "      <td>0.0196449</td>\n",
       "      <td>0.011342</td>\n",
       "    </tr>\n",
       "    <tr>\n",
       "      <th>6</th>\n",
       "      <td>(2, 4, 6, 8, 9, 12)</td>\n",
       "      <td>[0.9722222222222222, 0.9722222222222222, 0.971...</td>\n",
       "      <td>0.978968</td>\n",
       "      <td>(2, 4, 6, 8, 9, 12)</td>\n",
       "      <td>0.0194714</td>\n",
       "      <td>0.012147</td>\n",
       "      <td>0.00701308</td>\n",
       "    </tr>\n",
       "    <tr>\n",
       "      <th>7</th>\n",
       "      <td>(0, 2, 4, 6, 8, 9, 12)</td>\n",
       "      <td>[0.9444444444444444, 0.9722222222222222, 1.0, ...</td>\n",
       "      <td>0.979167</td>\n",
       "      <td>(0, 2, 4, 6, 8, 9, 12)</td>\n",
       "      <td>0.0369201</td>\n",
       "      <td>0.0230321</td>\n",
       "      <td>0.0132976</td>\n",
       "    </tr>\n",
       "  </tbody>\n",
       "</table>\n",
       "</div>"
      ],
      "text/plain": [
       "              feature_idx                                          cv_scores  \\\n",
       "1                    (6,)  [0.7222222222222222, 0.8333333333333334, 0.742...   \n",
       "2                  (6, 9)  [0.9444444444444444, 1.0, 0.9714285714285714, ...   \n",
       "3               (4, 6, 9)  [0.9722222222222222, 1.0, 0.9714285714285714, ...   \n",
       "4           (4, 6, 9, 12)  [0.9722222222222222, 0.9722222222222222, 0.971...   \n",
       "5        (2, 4, 6, 9, 12)  [0.9444444444444444, 0.9722222222222222, 0.971...   \n",
       "6     (2, 4, 6, 8, 9, 12)  [0.9722222222222222, 0.9722222222222222, 0.971...   \n",
       "7  (0, 2, 4, 6, 8, 9, 12)  [0.9444444444444444, 0.9722222222222222, 1.0, ...   \n",
       "\n",
       "  avg_score           feature_names   ci_bound    std_dev     std_err  \n",
       "1   0.76746                    (6,)  0.0670901  0.0418533    0.024164  \n",
       "2  0.971825                  (6, 9)   0.031492  0.0196459   0.0113425  \n",
       "3  0.985913               (4, 6, 9)  0.0225862  0.0140901  0.00813492  \n",
       "4  0.978968           (4, 6, 9, 12)  0.0194714   0.012147  0.00701308  \n",
       "5  0.972024        (2, 4, 6, 9, 12)  0.0314903  0.0196449    0.011342  \n",
       "6  0.978968     (2, 4, 6, 8, 9, 12)  0.0194714   0.012147  0.00701308  \n",
       "7  0.979167  (0, 2, 4, 6, 8, 9, 12)  0.0369201  0.0230321   0.0132976  "
      ]
     },
     "execution_count": 11,
     "metadata": {},
     "output_type": "execute_result"
    }
   ],
   "source": [
    "pd.DataFrame.from_dict(sfs.get_metric_dict()).T"
   ]
  },
  {
   "cell_type": "code",
   "execution_count": 12,
   "metadata": {},
   "outputs": [
    {
     "name": "stderr",
     "output_type": "stream",
     "text": [
      "[Parallel(n_jobs=-1)]: Using backend LokyBackend with 8 concurrent workers.\n",
      "[Parallel(n_jobs=-1)]: Done   5 out of  13 | elapsed:    1.7s remaining:    2.7s\n",
      "[Parallel(n_jobs=-1)]: Done  13 out of  13 | elapsed:    3.3s finished\n",
      "\n",
      "[2020-01-29 10:11:12] Features: 1/8 -- score: 0.7674603174603174[Parallel(n_jobs=-1)]: Using backend LokyBackend with 8 concurrent workers.\n",
      "[Parallel(n_jobs=-1)]: Done   4 out of  12 | elapsed:    1.7s remaining:    3.4s\n",
      "[Parallel(n_jobs=-1)]: Done  12 out of  12 | elapsed:    3.3s finished\n",
      "\n",
      "[2020-01-29 10:11:16] Features: 2/8 -- score: 0.9718253968253968[Parallel(n_jobs=-1)]: Using backend LokyBackend with 8 concurrent workers.\n",
      "[Parallel(n_jobs=-1)]: Done   2 out of  11 | elapsed:    1.6s remaining:    7.6s\n",
      "[Parallel(n_jobs=-1)]: Done   8 out of  11 | elapsed:    1.6s remaining:    0.6s\n",
      "[Parallel(n_jobs=-1)]: Done  11 out of  11 | elapsed:    3.3s finished\n",
      "\n",
      "[2020-01-29 10:11:19] Features: 3/8 -- score: 0.9859126984126985[Parallel(n_jobs=-1)]: Using backend LokyBackend with 8 concurrent workers.\n",
      "[Parallel(n_jobs=-1)]: Done   7 out of  10 | elapsed:    1.7s remaining:    0.7s\n",
      "[Parallel(n_jobs=-1)]: Done  10 out of  10 | elapsed:    2.8s finished\n",
      "\n",
      "[2020-01-29 10:11:22] Features: 4/8 -- score: 0.9789682539682539[Parallel(n_jobs=-1)]: Using backend LokyBackend with 8 concurrent workers.\n",
      "[Parallel(n_jobs=-1)]: Done   4 out of   9 | elapsed:    1.6s remaining:    2.0s\n",
      "[Parallel(n_jobs=-1)]: Done   9 out of   9 | elapsed:    2.5s remaining:    0.0s\n",
      "[Parallel(n_jobs=-1)]: Done   9 out of   9 | elapsed:    2.5s finished\n",
      "\n",
      "[2020-01-29 10:11:25] Features: 5/8 -- score: 0.9720238095238095[Parallel(n_jobs=-1)]: Using backend LokyBackend with 8 concurrent workers.\n",
      "[Parallel(n_jobs=-1)]: Done   3 out of   8 | elapsed:    1.6s remaining:    2.7s\n",
      "[Parallel(n_jobs=-1)]: Done   8 out of   8 | elapsed:    1.7s remaining:    0.0s\n",
      "[Parallel(n_jobs=-1)]: Done   8 out of   8 | elapsed:    1.7s finished\n",
      "\n",
      "[2020-01-29 10:11:27] Features: 6/8 -- score: 0.9789682539682539[Parallel(n_jobs=-1)]: Using backend LokyBackend with 8 concurrent workers.\n",
      "[Parallel(n_jobs=-1)]: Done   4 out of   7 | elapsed:    1.6s remaining:    1.2s\n",
      "[Parallel(n_jobs=-1)]: Done   7 out of   7 | elapsed:    1.6s finished\n",
      "\n",
      "[2020-01-29 10:11:28] Features: 7/8 -- score: 0.9791666666666666[Parallel(n_jobs=-1)]: Using backend LokyBackend with 8 concurrent workers.\n",
      "[Parallel(n_jobs=-1)]: Done   3 out of   6 | elapsed:    1.5s remaining:    1.5s\n",
      "[Parallel(n_jobs=-1)]: Done   6 out of   6 | elapsed:    1.5s finished\n",
      "\n",
      "[2020-01-29 10:11:30] Features: 8/8 -- score: 0.9791666666666666"
     ]
    }
   ],
   "source": [
    "sfs = SFS(RandomForestClassifier(n_estimators=100, random_state=0, n_jobs = -1),\n",
    "         k_features = (1, 8),\n",
    "          forward= True,\n",
    "          floating = False,\n",
    "          verbose= 2,\n",
    "          scoring= 'accuracy',\n",
    "          cv = 4,\n",
    "          n_jobs= -1\n",
    "         ).fit(X_train, y_train)"
   ]
  },
  {
   "cell_type": "code",
   "execution_count": 13,
   "metadata": {},
   "outputs": [
    {
     "data": {
      "text/plain": [
       "0.9859126984126985"
      ]
     },
     "execution_count": 13,
     "metadata": {},
     "output_type": "execute_result"
    }
   ],
   "source": [
    "sfs.k_score_"
   ]
  },
  {
   "cell_type": "code",
   "execution_count": 14,
   "metadata": {},
   "outputs": [
    {
     "data": {
      "text/plain": [
       "(4, 6, 9)"
      ]
     },
     "execution_count": 14,
     "metadata": {},
     "output_type": "execute_result"
    }
   ],
   "source": [
    "sfs.k_feature_names_"
   ]
  },
  {
   "cell_type": "markdown",
   "metadata": {},
   "source": [
    "# Step Backward Selection (SBS)"
   ]
  },
  {
   "cell_type": "code",
   "execution_count": 15,
   "metadata": {},
   "outputs": [
    {
     "name": "stderr",
     "output_type": "stream",
     "text": [
      "[Parallel(n_jobs=-1)]: Using backend LokyBackend with 8 concurrent workers.\n",
      "[Parallel(n_jobs=-1)]: Done   5 out of  13 | elapsed:    1.5s remaining:    2.4s\n",
      "[Parallel(n_jobs=-1)]: Done  13 out of  13 | elapsed:    3.1s finished\n",
      "\n",
      "[2020-01-29 10:15:43] Features: 12/1 -- score: 0.9861111111111112[Parallel(n_jobs=-1)]: Using backend LokyBackend with 8 concurrent workers.\n",
      "[Parallel(n_jobs=-1)]: Done   4 out of  12 | elapsed:    1.6s remaining:    3.3s\n",
      "[Parallel(n_jobs=-1)]: Done  12 out of  12 | elapsed:    3.3s finished\n",
      "\n",
      "[2020-01-29 10:15:47] Features: 11/1 -- score: 0.9861111111111112[Parallel(n_jobs=-1)]: Using backend LokyBackend with 8 concurrent workers.\n",
      "[Parallel(n_jobs=-1)]: Done   2 out of  11 | elapsed:    1.7s remaining:    7.8s\n",
      "[Parallel(n_jobs=-1)]: Done   8 out of  11 | elapsed:    1.7s remaining:    0.6s\n",
      "[Parallel(n_jobs=-1)]: Done  11 out of  11 | elapsed:    3.3s finished\n",
      "\n",
      "[2020-01-29 10:15:50] Features: 10/1 -- score: 0.9791666666666666[Parallel(n_jobs=-1)]: Using backend LokyBackend with 8 concurrent workers.\n",
      "[Parallel(n_jobs=-1)]: Done   7 out of  10 | elapsed:    1.6s remaining:    0.6s\n",
      "[Parallel(n_jobs=-1)]: Done  10 out of  10 | elapsed:    3.0s finished\n",
      "\n",
      "[2020-01-29 10:15:53] Features: 9/1 -- score: 0.9861111111111112[Parallel(n_jobs=-1)]: Using backend LokyBackend with 8 concurrent workers.\n",
      "[Parallel(n_jobs=-1)]: Done   4 out of   9 | elapsed:    1.7s remaining:    2.2s\n",
      "[Parallel(n_jobs=-1)]: Done   9 out of   9 | elapsed:    2.8s remaining:    0.0s\n",
      "[Parallel(n_jobs=-1)]: Done   9 out of   9 | elapsed:    2.8s finished\n",
      "\n",
      "[2020-01-29 10:15:56] Features: 8/1 -- score: 0.9859126984126985[Parallel(n_jobs=-1)]: Using backend LokyBackend with 8 concurrent workers.\n",
      "[Parallel(n_jobs=-1)]: Done   3 out of   8 | elapsed:    1.5s remaining:    2.5s\n",
      "[Parallel(n_jobs=-1)]: Done   8 out of   8 | elapsed:    1.6s remaining:    0.0s\n",
      "[Parallel(n_jobs=-1)]: Done   8 out of   8 | elapsed:    1.6s finished\n",
      "\n",
      "[2020-01-29 10:15:58] Features: 7/1 -- score: 0.978968253968254[Parallel(n_jobs=-1)]: Using backend LokyBackend with 8 concurrent workers.\n",
      "[Parallel(n_jobs=-1)]: Done   4 out of   7 | elapsed:    1.6s remaining:    1.2s\n",
      "[Parallel(n_jobs=-1)]: Done   7 out of   7 | elapsed:    1.6s finished\n",
      "\n",
      "[2020-01-29 10:16:00] Features: 6/1 -- score: 0.9859126984126985[Parallel(n_jobs=-1)]: Using backend LokyBackend with 8 concurrent workers.\n",
      "[Parallel(n_jobs=-1)]: Done   3 out of   6 | elapsed:    1.5s remaining:    1.5s\n",
      "[Parallel(n_jobs=-1)]: Done   6 out of   6 | elapsed:    1.5s finished\n",
      "\n",
      "[2020-01-29 10:16:01] Features: 5/1 -- score: 0.9789682539682539[Parallel(n_jobs=-1)]: Using backend LokyBackend with 8 concurrent workers.\n",
      "[Parallel(n_jobs=-1)]: Done   2 out of   5 | elapsed:    1.5s remaining:    2.3s\n",
      "[Parallel(n_jobs=-1)]: Done   5 out of   5 | elapsed:    1.5s remaining:    0.0s\n",
      "[Parallel(n_jobs=-1)]: Done   5 out of   5 | elapsed:    1.5s finished\n",
      "\n",
      "[2020-01-29 10:16:03] Features: 4/1 -- score: 0.9718253968253968[Parallel(n_jobs=-1)]: Using backend LokyBackend with 8 concurrent workers.\n",
      "[Parallel(n_jobs=-1)]: Done   4 out of   4 | elapsed:    1.6s remaining:    0.0s\n",
      "[Parallel(n_jobs=-1)]: Done   4 out of   4 | elapsed:    1.6s finished\n",
      "\n",
      "[2020-01-29 10:16:04] Features: 3/1 -- score: 0.9718253968253968[Parallel(n_jobs=-1)]: Using backend LokyBackend with 8 concurrent workers.\n",
      "[Parallel(n_jobs=-1)]: Done   3 out of   3 | elapsed:    1.4s finished\n",
      "\n",
      "[2020-01-29 10:16:06] Features: 2/1 -- score: 0.9718253968253968[Parallel(n_jobs=-1)]: Using backend LokyBackend with 8 concurrent workers.\n",
      "[Parallel(n_jobs=-1)]: Done   2 out of   2 | elapsed:    1.0s finished\n",
      "\n",
      "[2020-01-29 10:16:07] Features: 1/1 -- score: 0.7674603174603174"
     ]
    }
   ],
   "source": [
    "sfs = SFS(RandomForestClassifier(n_estimators=100, random_state=0, n_jobs = -1),\n",
    "         k_features = (1, 8),\n",
    "          forward= False,\n",
    "          floating = False,\n",
    "          verbose= 2,\n",
    "          scoring= 'accuracy',\n",
    "          cv = 4,\n",
    "          n_jobs= -1\n",
    "         ).fit(X_train, y_train)"
   ]
  },
  {
   "cell_type": "code",
   "execution_count": 16,
   "metadata": {},
   "outputs": [],
   "source": [
    "sbs = sfs"
   ]
  },
  {
   "cell_type": "code",
   "execution_count": 17,
   "metadata": {},
   "outputs": [
    {
     "data": {
      "text/plain": [
       "0.9859126984126985"
      ]
     },
     "execution_count": 17,
     "metadata": {},
     "output_type": "execute_result"
    }
   ],
   "source": [
    "sbs.k_score_"
   ]
  },
  {
   "cell_type": "code",
   "execution_count": 18,
   "metadata": {},
   "outputs": [
    {
     "data": {
      "text/plain": [
       "(0, 1, 2, 3, 4, 6, 7, 9)"
      ]
     },
     "execution_count": 18,
     "metadata": {},
     "output_type": "execute_result"
    }
   ],
   "source": [
    "sbs.k_feature_names_"
   ]
  },
  {
   "cell_type": "markdown",
   "metadata": {},
   "source": [
    "# Exhaustive Feature Selection (EFS)"
   ]
  },
  {
   "cell_type": "code",
   "execution_count": 19,
   "metadata": {},
   "outputs": [],
   "source": [
    "from mlxtend.feature_selection import ExhaustiveFeatureSelector as EFS"
   ]
  },
  {
   "cell_type": "code",
   "execution_count": 20,
   "metadata": {},
   "outputs": [
    {
     "name": "stderr",
     "output_type": "stream",
     "text": [
      "Features: 2002/2002"
     ]
    }
   ],
   "source": [
    "efs = EFS(RandomForestClassifier(n_estimators=100, random_state=0, n_jobs=-1),\n",
    "         min_features= 4,\n",
    "          max_features= 5,\n",
    "          scoring='accuracy',\n",
    "          cv = None,\n",
    "          n_jobs=-1\n",
    "         ).fit(X_train, y_train)"
   ]
  },
  {
   "cell_type": "code",
   "execution_count": 21,
   "metadata": {},
   "outputs": [
    {
     "data": {
      "text/plain": [
       "2002"
      ]
     },
     "execution_count": 21,
     "metadata": {},
     "output_type": "execute_result"
    }
   ],
   "source": [
    "715 + 1287"
   ]
  },
  {
   "cell_type": "code",
   "execution_count": 22,
   "metadata": {},
   "outputs": [
    {
     "name": "stdout",
     "output_type": "stream",
     "text": [
      "Help on ExhaustiveFeatureSelector in module mlxtend.feature_selection.exhaustive_feature_selector object:\n",
      "\n",
      "class ExhaustiveFeatureSelector(sklearn.base.BaseEstimator, sklearn.base.MetaEstimatorMixin)\n",
      " |  ExhaustiveFeatureSelector(estimator, min_features=1, max_features=1, print_progress=True, scoring='accuracy', cv=5, n_jobs=1, pre_dispatch='2*n_jobs', clone_estimator=True)\n",
      " |  \n",
      " |  Exhaustive Feature Selection for Classification and Regression.\n",
      " |     (new in v0.4.3)\n",
      " |  \n",
      " |  Parameters\n",
      " |  ----------\n",
      " |  estimator : scikit-learn classifier or regressor\n",
      " |  min_features : int (default: 1)\n",
      " |      Minumum number of features to select\n",
      " |  max_features : int (default: 1)\n",
      " |      Maximum number of features to select\n",
      " |  print_progress : bool (default: True)\n",
      " |      Prints progress as the number of epochs\n",
      " |      to stderr.\n",
      " |  scoring : str, (default='accuracy')\n",
      " |      Scoring metric in {accuracy, f1, precision, recall, roc_auc}\n",
      " |      for classifiers,\n",
      " |      {'mean_absolute_error', 'mean_squared_error',\n",
      " |      'median_absolute_error', 'r2'} for regressors,\n",
      " |      or a callable object or function with\n",
      " |      signature ``scorer(estimator, X, y)``.\n",
      " |  cv : int (default: 5)\n",
      " |      Scikit-learn cross-validation generator or `int`.\n",
      " |      If estimator is a classifier (or y consists of integer class labels),\n",
      " |      stratified k-fold is performed, and regular k-fold cross-validation\n",
      " |      otherwise.\n",
      " |      No cross-validation if cv is None, False, or 0.\n",
      " |  n_jobs : int (default: 1)\n",
      " |      The number of CPUs to use for evaluating different feature subsets\n",
      " |      in parallel. -1 means 'all CPUs'.\n",
      " |  pre_dispatch : int, or string (default: '2*n_jobs')\n",
      " |      Controls the number of jobs that get dispatched\n",
      " |      during parallel execution if `n_jobs > 1` or `n_jobs=-1`.\n",
      " |      Reducing this number can be useful to avoid an explosion of\n",
      " |      memory consumption when more jobs get dispatched than CPUs can process.\n",
      " |      This parameter can be:\n",
      " |      None, in which case all the jobs are immediately created and spawned.\n",
      " |          Use this for lightweight and fast-running jobs,\n",
      " |          to avoid delays due to on-demand spawning of the jobs\n",
      " |      An int, giving the exact number of total jobs that are spawned\n",
      " |      A string, giving an expression as a function\n",
      " |          of n_jobs, as in `2*n_jobs`\n",
      " |  clone_estimator : bool (default: True)\n",
      " |      Clones estimator if True; works with the original estimator instance\n",
      " |      if False. Set to False if the estimator doesn't\n",
      " |      implement scikit-learn's set_params and get_params methods.\n",
      " |      In addition, it is required to set cv=0, and n_jobs=1.\n",
      " |  \n",
      " |  Attributes\n",
      " |  ----------\n",
      " |  best_idx_ : array-like, shape = [n_predictions]\n",
      " |      Feature Indices of the selected feature subsets.\n",
      " |  best_feature_names_ : array-like, shape = [n_predictions]\n",
      " |      Feature names of the selected feature subsets. If pandas\n",
      " |      DataFrames are used in the `fit` method, the feature\n",
      " |      names correspond to the column names. Otherwise, the\n",
      " |      feature names are string representation of the feature\n",
      " |      array indices. New in v 0.13.0.\n",
      " |  best_score_ : float\n",
      " |      Cross validation average score of the selected subset.\n",
      " |  subsets_ : dict\n",
      " |      A dictionary of selected feature subsets during the\n",
      " |      exhaustive selection, where the dictionary keys are\n",
      " |      the lengths k of these feature subsets. The dictionary\n",
      " |      values are dictionaries themselves with the following\n",
      " |      keys: 'feature_idx' (tuple of indices of the feature subset)\n",
      " |            'feature_names' (tuple of feature names of the feat. subset)\n",
      " |            'cv_scores' (list individual cross-validation scores)\n",
      " |            'avg_score' (average cross-validation score)\n",
      " |      Note that if pandas\n",
      " |      DataFrames are used in the `fit` method, the 'feature_names'\n",
      " |      correspond to the column names. Otherwise, the\n",
      " |      feature names are string representation of the feature\n",
      " |      array indices. The 'feature_names' is new in v 0.13.0.\n",
      " |  \n",
      " |  Examples\n",
      " |  -----------\n",
      " |  For usage examples, please see\n",
      " |  http://rasbt.github.io/mlxtend/user_guide/feature_selection/ExhaustiveFeatureSelector/\n",
      " |  \n",
      " |  Method resolution order:\n",
      " |      ExhaustiveFeatureSelector\n",
      " |      sklearn.base.BaseEstimator\n",
      " |      sklearn.base.MetaEstimatorMixin\n",
      " |      builtins.object\n",
      " |  \n",
      " |  Methods defined here:\n",
      " |  \n",
      " |  __init__(self, estimator, min_features=1, max_features=1, print_progress=True, scoring='accuracy', cv=5, n_jobs=1, pre_dispatch='2*n_jobs', clone_estimator=True)\n",
      " |      Initialize self.  See help(type(self)) for accurate signature.\n",
      " |  \n",
      " |  fit(self, X, y, custom_feature_names=None, groups=None, **fit_params)\n",
      " |      Perform feature selection and learn model from training data.\n",
      " |      \n",
      " |      Parameters\n",
      " |      ----------\n",
      " |      X : {array-like, sparse matrix}, shape = [n_samples, n_features]\n",
      " |          Training vectors, where n_samples is the number of samples and\n",
      " |          n_features is the number of features.\n",
      " |          New in v 0.13.0: pandas DataFrames are now also accepted as\n",
      " |          argument for X.\n",
      " |      y : array-like, shape = [n_samples]\n",
      " |          Target values.\n",
      " |      custom_feature_names : None or tuple (default: tuple)\n",
      " |          Custom feature names for `self.k_feature_names` and\n",
      " |          `self.subsets_[i]['feature_names']`.\n",
      " |          (new in v 0.13.0)\n",
      " |      groups : array-like, with shape (n_samples,), optional\n",
      " |          Group labels for the samples used while splitting the dataset into\n",
      " |          train/test set. Passed to the fit method of the cross-validator.\n",
      " |      fit_params : dict of string -> object, optional\n",
      " |          Parameters to pass to to the fit method of classifier.\n",
      " |      \n",
      " |      Returns\n",
      " |      -------\n",
      " |      self : object\n",
      " |  \n",
      " |  fit_transform(self, X, y, groups=None, **fit_params)\n",
      " |      Fit to training data and return the best selected features from X.\n",
      " |      \n",
      " |      Parameters\n",
      " |      ----------\n",
      " |      X : {array-like, sparse matrix}, shape = [n_samples, n_features]\n",
      " |          Training vectors, where n_samples is the number of samples and\n",
      " |          n_features is the number of features.\n",
      " |          New in v 0.13.0: pandas DataFrames are now also accepted as\n",
      " |          argument for X.\n",
      " |      y : array-like, shape = [n_samples]\n",
      " |          Target values.\n",
      " |      groups : array-like, with shape (n_samples,), optional\n",
      " |          Group labels for the samples used while splitting the dataset into\n",
      " |          train/test set. Passed to the fit method of the cross-validator.\n",
      " |      fit_params : dict of string -> object, optional\n",
      " |          Parameters to pass to to the fit method of classifier.\n",
      " |      \n",
      " |      Returns\n",
      " |      -------\n",
      " |      Feature subset of X, shape={n_samples, k_features}\n",
      " |  \n",
      " |  get_metric_dict(self, confidence_interval=0.95)\n",
      " |      Return metric dictionary\n",
      " |      \n",
      " |      Parameters\n",
      " |      ----------\n",
      " |      confidence_interval : float (default: 0.95)\n",
      " |          A positive float between 0.0 and 1.0 to compute the confidence\n",
      " |          interval bounds of the CV score averages.\n",
      " |      \n",
      " |      Returns\n",
      " |      ----------\n",
      " |      Dictionary with items where each dictionary value is a list\n",
      " |      with the number of iterations (number of feature subsets) as\n",
      " |      its length. The dictionary keys corresponding to these lists\n",
      " |      are as follows:\n",
      " |          'feature_idx': tuple of the indices of the feature subset\n",
      " |          'cv_scores': list with individual CV scores\n",
      " |          'avg_score': of CV average scores\n",
      " |          'std_dev': standard deviation of the CV score average\n",
      " |          'std_err': standard error of the CV score average\n",
      " |          'ci_bound': confidence interval bound of the CV score average\n",
      " |  \n",
      " |  transform(self, X)\n",
      " |      Return the best selected features from X.\n",
      " |      \n",
      " |      Parameters\n",
      " |      ----------\n",
      " |      X : {array-like, sparse matrix}, shape = [n_samples, n_features]\n",
      " |          Training vectors, where n_samples is the number of samples and\n",
      " |          n_features is the number of features.\n",
      " |          New in v 0.13.0: pandas DataFrames are now also accepted as\n",
      " |          argument for X.\n",
      " |      \n",
      " |      Returns\n",
      " |      -------\n",
      " |      Feature subset of X, shape={n_samples, k_features}\n",
      " |  \n",
      " |  ----------------------------------------------------------------------\n",
      " |  Methods inherited from sklearn.base.BaseEstimator:\n",
      " |  \n",
      " |  __getstate__(self)\n",
      " |  \n",
      " |  __repr__(self, N_CHAR_MAX=700)\n",
      " |      Return repr(self).\n",
      " |  \n",
      " |  __setstate__(self, state)\n",
      " |  \n",
      " |  get_params(self, deep=True)\n",
      " |      Get parameters for this estimator.\n",
      " |      \n",
      " |      Parameters\n",
      " |      ----------\n",
      " |      deep : bool, default=True\n",
      " |          If True, will return the parameters for this estimator and\n",
      " |          contained subobjects that are estimators.\n",
      " |      \n",
      " |      Returns\n",
      " |      -------\n",
      " |      params : mapping of string to any\n",
      " |          Parameter names mapped to their values.\n",
      " |  \n",
      " |  set_params(self, **params)\n",
      " |      Set the parameters of this estimator.\n",
      " |      \n",
      " |      The method works on simple estimators as well as on nested objects\n",
      " |      (such as pipelines). The latter have parameters of the form\n",
      " |      ``<component>__<parameter>`` so that it's possible to update each\n",
      " |      component of a nested object.\n",
      " |      \n",
      " |      Parameters\n",
      " |      ----------\n",
      " |      **params : dict\n",
      " |          Estimator parameters.\n",
      " |      \n",
      " |      Returns\n",
      " |      -------\n",
      " |      self : object\n",
      " |          Estimator instance.\n",
      " |  \n",
      " |  ----------------------------------------------------------------------\n",
      " |  Data descriptors inherited from sklearn.base.BaseEstimator:\n",
      " |  \n",
      " |  __dict__\n",
      " |      dictionary for instance variables (if defined)\n",
      " |  \n",
      " |  __weakref__\n",
      " |      list of weak references to the object (if defined)\n",
      "\n"
     ]
    }
   ],
   "source": [
    "help(efs)"
   ]
  },
  {
   "cell_type": "code",
   "execution_count": 23,
   "metadata": {},
   "outputs": [
    {
     "data": {
      "text/plain": [
       "1.0"
      ]
     },
     "execution_count": 23,
     "metadata": {},
     "output_type": "execute_result"
    }
   ],
   "source": [
    "efs.best_score_"
   ]
  },
  {
   "cell_type": "code",
   "execution_count": 24,
   "metadata": {},
   "outputs": [
    {
     "data": {
      "text/plain": [
       "(0, 1, 2, 3)"
      ]
     },
     "execution_count": 24,
     "metadata": {},
     "output_type": "execute_result"
    }
   ],
   "source": [
    "efs.best_feature_names_"
   ]
  },
  {
   "cell_type": "code",
   "execution_count": 25,
   "metadata": {},
   "outputs": [
    {
     "data": {
      "text/plain": [
       "(0, 1, 2, 3)"
      ]
     },
     "execution_count": 25,
     "metadata": {},
     "output_type": "execute_result"
    }
   ],
   "source": [
    "efs.best_idx_"
   ]
  },
  {
   "cell_type": "code",
   "execution_count": 26,
   "metadata": {},
   "outputs": [],
   "source": [
    "from mlxtend.plotting import plot_sequential_feature_selection as plot_sfs"
   ]
  },
  {
   "cell_type": "code",
   "execution_count": 27,
   "metadata": {},
   "outputs": [
    {
     "name": "stderr",
     "output_type": "stream",
     "text": [
      "c:\\python37\\lib\\site-packages\\numpy\\core\\_methods.py:217: RuntimeWarning: Degrees of freedom <= 0 for slice\n",
      "  keepdims=keepdims)\n",
      "c:\\python37\\lib\\site-packages\\numpy\\core\\_methods.py:209: RuntimeWarning: invalid value encountered in double_scalars\n",
      "  ret = ret.dtype.type(ret / rcount)\n"
     ]
    },
    {
     "data": {
      "text/plain": [
       "(<Figure size 432x288 with 1 Axes>,\n",
       " <matplotlib.axes._subplots.AxesSubplot at 0x146feced308>)"
      ]
     },
     "execution_count": 27,
     "metadata": {},
     "output_type": "execute_result"
    },
    {
     "data": {
      "image/png": "[encoded data removed]",
      "text/plain": [
       "<Figure size 432x288 with 1 Axes>"
      ]
     },
     "metadata": {
      "needs_background": "light"
     },
     "output_type": "display_data"
    }
   ],
   "source": [
    "plot_sfs(efs.get_metric_dict(), kind='std_dev')"
   ]
  },
  {
   "cell_type": "code",
   "execution_count": 28,
   "metadata": {},
   "outputs": [
    {
     "data": {
      "text/html": [
       "<div>\n",
       "<style scoped>\n",
       "    .dataframe tbody tr th:only-of-type {\n",
       "        vertical-align: middle;\n",
       "    }\n",
       "\n",
       "    .dataframe tbody tr th {\n",
       "        vertical-align: top;\n",
       "    }\n",
       "\n",
       "    .dataframe thead th {\n",
       "        text-align: right;\n",
       "    }\n",
       "</style>\n",
       "<table border=\"1\" class=\"dataframe\">\n",
       "  <thead>\n",
       "    <tr style=\"text-align: right;\">\n",
       "      <th></th>\n",
       "      <th>Unnamed: 0</th>\n",
       "      <th>target</th>\n",
       "      <th>peakflow</th>\n",
       "      <th>वय_275546</th>\n",
       "      <th>लिंग: _275544</th>\n",
       "      <th>शिक्षण_275545</th>\n",
       "      <th>आपल्या घरातील कुटुंबातील सदस्यांची संख्या? _275550</th>\n",
       "      <th>घराविषयीची माहिती 0 तुमचे घर कोणत्या प्रकारचे आहे ?_275549</th>\n",
       "      <th>तुमच्या घरात किती खोल्या आहेत?_275551</th>\n",
       "      <th>तुमच्या घराला एकूण किती खिडक्या आहेत ?_275552</th>\n",
       "      <th>...</th>\n",
       "      <th>जर हो, किती वर्ष पासून? _275700</th>\n",
       "      <th>हृदय रोग_275701</th>\n",
       "      <th>जर हो, किती वर्ष पासून? _275702</th>\n",
       "      <th>थाइरोइड विकार_275703</th>\n",
       "      <th>जर हो, किती वर्ष पासून? _275704</th>\n",
       "      <th>चिंता आणि निराशा_275705</th>\n",
       "      <th>जर हो, किती वर्ष पासून? _275706</th>\n",
       "      <th>हाड ठिसूळ होणे_275707</th>\n",
       "      <th>जर हो, किती वर्ष पासून? _275708</th>\n",
       "      <th>धन्यवाद सबमिट करा_275709</th>\n",
       "    </tr>\n",
       "    <tr>\n",
       "      <th>ID</th>\n",
       "      <th></th>\n",
       "      <th></th>\n",
       "      <th></th>\n",
       "      <th></th>\n",
       "      <th></th>\n",
       "      <th></th>\n",
       "      <th></th>\n",
       "      <th></th>\n",
       "      <th></th>\n",
       "      <th></th>\n",
       "      <th></th>\n",
       "      <th></th>\n",
       "      <th></th>\n",
       "      <th></th>\n",
       "      <th></th>\n",
       "      <th></th>\n",
       "      <th></th>\n",
       "      <th></th>\n",
       "      <th></th>\n",
       "      <th></th>\n",
       "      <th></th>\n",
       "    </tr>\n",
       "  </thead>\n",
       "  <tbody>\n",
       "    <tr>\n",
       "      <th>A1</th>\n",
       "      <td>0</td>\n",
       "      <td>1</td>\n",
       "      <td>210</td>\n",
       "      <td>37</td>\n",
       "      <td>2</td>\n",
       "      <td>1</td>\n",
       "      <td>4</td>\n",
       "      <td>2</td>\n",
       "      <td>2</td>\n",
       "      <td>3</td>\n",
       "      <td>...</td>\n",
       "      <td>0</td>\n",
       "      <td>0</td>\n",
       "      <td>0</td>\n",
       "      <td>0</td>\n",
       "      <td>0</td>\n",
       "      <td>0</td>\n",
       "      <td>0</td>\n",
       "      <td>0</td>\n",
       "      <td>0</td>\n",
       "      <td>0</td>\n",
       "    </tr>\n",
       "    <tr>\n",
       "      <th>A2</th>\n",
       "      <td>1</td>\n",
       "      <td>0</td>\n",
       "      <td>550</td>\n",
       "      <td>33</td>\n",
       "      <td>2</td>\n",
       "      <td>3</td>\n",
       "      <td>4</td>\n",
       "      <td>2</td>\n",
       "      <td>2</td>\n",
       "      <td>3</td>\n",
       "      <td>...</td>\n",
       "      <td>0</td>\n",
       "      <td>0</td>\n",
       "      <td>0</td>\n",
       "      <td>0</td>\n",
       "      <td>0</td>\n",
       "      <td>0</td>\n",
       "      <td>0</td>\n",
       "      <td>0</td>\n",
       "      <td>0</td>\n",
       "      <td>0</td>\n",
       "    </tr>\n",
       "    <tr>\n",
       "      <th>A3</th>\n",
       "      <td>2</td>\n",
       "      <td>0</td>\n",
       "      <td>290</td>\n",
       "      <td>19</td>\n",
       "      <td>1</td>\n",
       "      <td>4</td>\n",
       "      <td>4</td>\n",
       "      <td>2</td>\n",
       "      <td>2</td>\n",
       "      <td>3</td>\n",
       "      <td>...</td>\n",
       "      <td>0</td>\n",
       "      <td>0</td>\n",
       "      <td>0</td>\n",
       "      <td>0</td>\n",
       "      <td>0</td>\n",
       "      <td>0</td>\n",
       "      <td>0</td>\n",
       "      <td>0</td>\n",
       "      <td>0</td>\n",
       "      <td>0</td>\n",
       "    </tr>\n",
       "    <tr>\n",
       "      <th>A4</th>\n",
       "      <td>3</td>\n",
       "      <td>0</td>\n",
       "      <td>340</td>\n",
       "      <td>44</td>\n",
       "      <td>2</td>\n",
       "      <td>3</td>\n",
       "      <td>4</td>\n",
       "      <td>2</td>\n",
       "      <td>3</td>\n",
       "      <td>3</td>\n",
       "      <td>...</td>\n",
       "      <td>0</td>\n",
       "      <td>0</td>\n",
       "      <td>0</td>\n",
       "      <td>0</td>\n",
       "      <td>0</td>\n",
       "      <td>0</td>\n",
       "      <td>0</td>\n",
       "      <td>0</td>\n",
       "      <td>0</td>\n",
       "      <td>0</td>\n",
       "    </tr>\n",
       "    <tr>\n",
       "      <th>A5</th>\n",
       "      <td>4</td>\n",
       "      <td>0</td>\n",
       "      <td>420</td>\n",
       "      <td>38</td>\n",
       "      <td>2</td>\n",
       "      <td>3</td>\n",
       "      <td>5</td>\n",
       "      <td>2</td>\n",
       "      <td>3</td>\n",
       "      <td>3</td>\n",
       "      <td>...</td>\n",
       "      <td>0</td>\n",
       "      <td>0</td>\n",
       "      <td>0</td>\n",
       "      <td>0</td>\n",
       "      <td>0</td>\n",
       "      <td>0</td>\n",
       "      <td>0</td>\n",
       "      <td>0</td>\n",
       "      <td>0</td>\n",
       "      <td>0</td>\n",
       "    </tr>\n",
       "  </tbody>\n",
       "</table>\n",
       "<p>5 rows × 183 columns</p>\n",
       "</div>"
      ],
      "text/plain": [
       "    Unnamed: 0  target  peakflow  वय_275546  लिंग: _275544  शिक्षण_275545  \\\n",
       "ID                                                                          \n",
       "A1           0       1       210         37              2              1   \n",
       "A2           1       0       550         33              2              3   \n",
       "A3           2       0       290         19              1              4   \n",
       "A4           3       0       340         44              2              3   \n",
       "A5           4       0       420         38              2              3   \n",
       "\n",
       "    आपल्या घरातील कुटुंबातील सदस्यांची संख्या? _275550  \\\n",
       "ID                                                       \n",
       "A1                                                  4    \n",
       "A2                                                  4    \n",
       "A3                                                  4    \n",
       "A4                                                  4    \n",
       "A5                                                  5    \n",
       "\n",
       "    घराविषयीची माहिती 0 तुमचे घर कोणत्या प्रकारचे आहे ?_275549  \\\n",
       "ID                                                               \n",
       "A1                                                  2            \n",
       "A2                                                  2            \n",
       "A3                                                  2            \n",
       "A4                                                  2            \n",
       "A5                                                  2            \n",
       "\n",
       "    तुमच्या घरात किती खोल्या आहेत?_275551  \\\n",
       "ID                                          \n",
       "A1                                      2   \n",
       "A2                                      2   \n",
       "A3                                      2   \n",
       "A4                                      3   \n",
       "A5                                      3   \n",
       "\n",
       "    तुमच्या घराला एकूण किती खिडक्या आहेत ?_275552  ...  \\\n",
       "ID                                                 ...   \n",
       "A1                                              3  ...   \n",
       "A2                                              3  ...   \n",
       "A3                                              3  ...   \n",
       "A4                                              3  ...   \n",
       "A5                                              3  ...   \n",
       "\n",
       "    जर हो, किती वर्ष पासून? _275700  हृदय रोग_275701  \\\n",
       "ID                                                     \n",
       "A1                                0                0   \n",
       "A2                                0                0   \n",
       "A3                                0                0   \n",
       "A4                                0                0   \n",
       "A5                                0                0   \n",
       "\n",
       "    जर हो, किती वर्ष पासून? _275702  थाइरोइड विकार_275703  \\\n",
       "ID                                                          \n",
       "A1                                0                     0   \n",
       "A2                                0                     0   \n",
       "A3                                0                     0   \n",
       "A4                                0                     0   \n",
       "A5                                0                     0   \n",
       "\n",
       "    जर हो, किती वर्ष पासून? _275704  चिंता आणि निराशा_275705  \\\n",
       "ID                                                             \n",
       "A1                                0                        0   \n",
       "A2                                0                        0   \n",
       "A3                                0                        0   \n",
       "A4                                0                        0   \n",
       "A5                                0                        0   \n",
       "\n",
       "    जर हो, किती वर्ष पासून? _275706  हाड ठिसूळ होणे_275707  \\\n",
       "ID                                                           \n",
       "A1                                0                      0   \n",
       "A2                                0                      0   \n",
       "A3                                0                      0   \n",
       "A4                                0                      0   \n",
       "A5                                0                      0   \n",
       "\n",
       "    जर हो, किती वर्ष पासून? _275708  धन्यवाद सबमिट करा_275709  \n",
       "ID                                                             \n",
       "A1                                0                         0  \n",
       "A2                                0                         0  \n",
       "A3                                0                         0  \n",
       "A4                                0                         0  \n",
       "A5                                0                         0  \n",
       "\n",
       "[5 rows x 183 columns]"
      ]
     },
     "execution_count": 28,
     "metadata": {},
     "output_type": "execute_result"
    }
   ],
   "source": [
    "data = pd.read_csv(\"D:/data/CRF Final Data/oscar/main oscar.csv\")\n",
    "data = data.set_index(\"ID\")\n",
    "data.head()"
   ]
  },
  {
   "cell_type": "code",
   "execution_count": 29,
   "metadata": {},
   "outputs": [
    {
     "data": {
      "text/plain": [
       "((798, 182), (798,))"
      ]
     },
     "execution_count": 29,
     "metadata": {},
     "output_type": "execute_result"
    }
   ],
   "source": [
    "X = data.drop('target', axis = 1)\n",
    "y = data['target']\n",
    "\n",
    "X.shape, y.shape"
   ]
  },
  {
   "cell_type": "code",
   "execution_count": 30,
   "metadata": {},
   "outputs": [
    {
     "data": {
      "text/plain": [
       "((638, 182), (160, 182))"
      ]
     },
     "execution_count": 30,
     "metadata": {},
     "output_type": "execute_result"
    }
   ],
   "source": [
    "X_train, X_test, y_train, y_test = train_test_split(X, y, test_size = 0.2, random_state = 0)\n",
    "X_train.shape, X_test.shape"
   ]
  },
  {
   "cell_type": "code",
   "execution_count": 31,
   "metadata": {},
   "outputs": [
    {
     "name": "stderr",
     "output_type": "stream",
     "text": [
      "[Parallel(n_jobs=-1)]: Using backend LokyBackend with 8 concurrent workers.\n",
      "[Parallel(n_jobs=-1)]: Done  25 tasks      | elapsed:    7.0s\n",
      "[Parallel(n_jobs=-1)]: Done 146 tasks      | elapsed:   33.3s\n",
      "[Parallel(n_jobs=-1)]: Done 182 out of 182 | elapsed:   41.2s finished\n",
      "\n",
      "[2020-01-29 10:21:53] Features: 1/7 -- score: 0.8401336477987421[Parallel(n_jobs=-1)]: Using backend LokyBackend with 8 concurrent workers.\n",
      "[Parallel(n_jobs=-1)]: Done  25 tasks      | elapsed:    7.3s\n",
      "[Parallel(n_jobs=-1)]: Done 146 tasks      | elapsed:   36.5s\n",
      "[Parallel(n_jobs=-1)]: Done 181 out of 181 | elapsed:   45.3s finished\n",
      "\n",
      "[2020-01-29 10:22:38] Features: 2/7 -- score: 0.8448309748427674[Parallel(n_jobs=-1)]: Using backend LokyBackend with 8 concurrent workers.\n",
      "[Parallel(n_jobs=-1)]: Done  25 tasks      | elapsed:    7.5s\n",
      "[Parallel(n_jobs=-1)]: Done 146 tasks      | elapsed:   37.8s\n",
      "[Parallel(n_jobs=-1)]: Done 180 out of 180 | elapsed:   45.5s finished\n",
      "\n",
      "[2020-01-29 10:23:24] Features: 3/7 -- score: 0.8448309748427674[Parallel(n_jobs=-1)]: Using backend LokyBackend with 8 concurrent workers.\n",
      "[Parallel(n_jobs=-1)]: Done  25 tasks      | elapsed:    7.4s\n",
      "[Parallel(n_jobs=-1)]: Done 146 tasks      | elapsed:   36.8s\n",
      "[Parallel(n_jobs=-1)]: Done 179 out of 179 | elapsed:   44.3s finished\n",
      "\n",
      "[2020-01-29 10:24:08] Features: 4/7 -- score: 0.8448309748427674[Parallel(n_jobs=-1)]: Using backend LokyBackend with 8 concurrent workers.\n",
      "[Parallel(n_jobs=-1)]: Done  25 tasks      | elapsed:    7.3s\n",
      "[Parallel(n_jobs=-1)]: Done 146 tasks      | elapsed:   36.5s\n",
      "[Parallel(n_jobs=-1)]: Done 178 out of 178 | elapsed:   44.0s finished\n",
      "\n",
      "[2020-01-29 10:24:52] Features: 5/7 -- score: 0.8448309748427674[Parallel(n_jobs=-1)]: Using backend LokyBackend with 8 concurrent workers.\n",
      "[Parallel(n_jobs=-1)]: Done  25 tasks      | elapsed:    7.1s\n",
      "[Parallel(n_jobs=-1)]: Done 146 tasks      | elapsed:   36.6s\n",
      "[Parallel(n_jobs=-1)]: Done 177 out of 177 | elapsed:   44.0s finished\n",
      "\n",
      "[2020-01-29 10:25:36] Features: 6/7 -- score: 0.8464033018867925[Parallel(n_jobs=-1)]: Using backend LokyBackend with 8 concurrent workers.\n",
      "[Parallel(n_jobs=-1)]: Done  25 tasks      | elapsed:    7.4s\n",
      "[Parallel(n_jobs=-1)]: Done 146 tasks      | elapsed:   38.6s\n",
      "[Parallel(n_jobs=-1)]: Done 176 out of 176 | elapsed:   45.2s finished\n",
      "\n",
      "[2020-01-29 10:26:22] Features: 7/7 -- score: 0.8464033018867925"
     ]
    }
   ],
   "source": [
    "sfs = SFS(RandomForestClassifier(n_estimators=100, random_state=0, n_jobs = -1),\n",
    "         k_features = 7,\n",
    "          forward= True,\n",
    "          floating = False,\n",
    "          verbose= 2,\n",
    "          scoring= 'accuracy',\n",
    "          cv = 4,\n",
    "          n_jobs= -1\n",
    "         ).fit(X_train, y_train)"
   ]
  },
  {
   "cell_type": "code",
   "execution_count": 32,
   "metadata": {},
   "outputs": [
    {
     "data": {
      "text/plain": [
       "('Row No',\n",
       " 'सिगारेट',\n",
       " 'सिगारेट संख्या / दर दिवशी',\n",
       " 'तुमच्या घरात, घराच्या आतमध्ये कोणी धूम्रपान करतात का ?_275576',\n",
       " 'तुम्हाला बालपणी वारंवार श्वसनमार्गाचा संसर्ग झाले आहे का ? _275658',\n",
       " 'तुम्हाला किती वर्षापासून दम लागतो ?_275680',\n",
       " '\\n\\nश्वास घेताना घरघरणे अथवा शिट्टीसारखा आवाज 0  \\n\\nश्वासोच्छवासाच्या दरम्यान तुम्हाला कधी तुमच्या छातीतून घरघर अथवा शिट्टीसारखा आवाज ऐकू आला आहे का ? _275716')"
      ]
     },
     "execution_count": 32,
     "metadata": {},
     "output_type": "execute_result"
    }
   ],
   "source": [
    "sfs.k_feature_names_"
   ]
  },
  {
   "cell_type": "code",
   "execution_count": 33,
   "metadata": {},
   "outputs": [],
   "source": [
    "from mlxtend.feature_selection import ExhaustiveFeatureSelector as EFS"
   ]
  },
  {
   "cell_type": "code",
   "execution_count": null,
   "metadata": {},
   "outputs": [],
   "source": [
    "\n",
    "efs = EFS(RandomForestClassifier(n_estimators=100, random_state=0, n_jobs=-1),\n",
    "         min_features= 4,\n",
    "          max_features= 5,\n",
    "          scoring='accuracy',\n",
    "          cv = None,\n",
    "          n_jobs=-1\n",
    "         ).fit(X_train, y_train)"
   ]
  },
  {
   "cell_type": "code",
   "execution_count": null,
   "metadata": {},
   "outputs": [],
   "source": [
    "efs.best_score_"
   ]
  },
  {
   "cell_type": "code",
   "execution_count": null,
   "metadata": {},
   "outputs": [],
   "source": [
    "efs.best_feature_names_"
   ]
  },
  {
   "cell_type": "code",
   "execution_count": null,
   "metadata": {},
   "outputs": [],
   "source": [
    "efs.best_idx_"
   ]
  },
  {
   "cell_type": "code",
   "execution_count": null,
   "metadata": {},
   "outputs": [],
   "source": [
    "from mlxtend.plotting import plot_sequential_feature_selection as plot_sfs"
   ]
  },
  {
   "cell_type": "code",
   "execution_count": null,
   "metadata": {},
   "outputs": [],
   "source": [
    "\n",
    "plot_sfs(efs.get_metric_dict(), kind='std_dev')"
   ]
  },
  {
   "cell_type": "code",
   "execution_count": null,
   "metadata": {},
   "outputs": [],
   "source": []
  }
 ],
 "metadata": {
  "kernelspec": {
   "display_name": "Python 3",
   "language": "python",
   "name": "python3"
  },
  "language_info": {
   "codemirror_mode": {
    "name": "ipython",
    "version": 3
   },
   "file_extension": ".py",
   "mimetype": "text/x-python",
   "name": "python",
   "nbconvert_exporter": "python",
   "pygments_lexer": "ipython3",
   "version": "3.7.4"
  }
 },
 "nbformat": 4,
 "nbformat_minor": 4
}
