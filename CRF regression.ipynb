{
 "cells": [
  {
   "cell_type": "code",
   "execution_count": 1,
   "metadata": {},
   "outputs": [],
   "source": [
    "import pandas as pd\n",
    "\n",
    "df = pd.read_excel(\"D:/data/CRF Final Data/1st projectn.xlsx\")"
   ]
  },
  {
   "cell_type": "code",
   "execution_count": 2,
   "metadata": {},
   "outputs": [
    {
     "data": {
      "text/plain": [
       "<bound method IndexOpsMixin.tolist of Index(['PatientID', 'Height', 'Weight', 'Smoker', 'FVC', 'FEV1', 'Waist _cir',\n",
       "       'Coughwithoutcold', 'SeasonalCough', 'ChronicCough',\n",
       "       'YearsChronicCough', 'Phlegmwithoutcold', 'SeasonalPhlegm',\n",
       "       'ChronicPhlegm', 'YearsChronicPhlegm', 'Complex Carbohydrates',\n",
       "       'High Carbohydrate', 'High quality Protein Score ',\n",
       "       'Low Quality Protein Score', 'iron score', 'antioxidant score',\n",
       "       'percent'],\n",
       "      dtype='object')>"
      ]
     },
     "execution_count": 2,
     "metadata": {},
     "output_type": "execute_result"
    }
   ],
   "source": [
    "df.columns.tolist"
   ]
  },
  {
   "cell_type": "code",
   "execution_count": 3,
   "metadata": {},
   "outputs": [],
   "source": [
    "df.percent = df.FEV1 / df.FVC"
   ]
  },
  {
   "cell_type": "code",
   "execution_count": 4,
   "metadata": {},
   "outputs": [
    {
     "data": {
      "text/plain": [
       "0      0.987578\n",
       "1      0.879689\n",
       "2      1.120642\n",
       "3      1.543022\n",
       "4      0.936867\n",
       "         ...   \n",
       "298    0.975159\n",
       "299    0.870635\n",
       "300    0.873569\n",
       "301    0.834641\n",
       "302    0.842492\n",
       "Name: percent, Length: 303, dtype: float64"
      ]
     },
     "execution_count": 4,
     "metadata": {},
     "output_type": "execute_result"
    }
   ],
   "source": [
    "df.percent"
   ]
  },
  {
   "cell_type": "code",
   "execution_count": 5,
   "metadata": {},
   "outputs": [
    {
     "data": {
      "text/plain": [
       "22"
      ]
     },
     "execution_count": 5,
     "metadata": {},
     "output_type": "execute_result"
    }
   ],
   "source": [
    "X = df.iloc[:, 1:-1].values\n",
    "y = df.iloc[:, -1].values\n",
    "\n",
    "len(df.columns)"
   ]
  },
  {
   "cell_type": "code",
   "execution_count": 6,
   "metadata": {},
   "outputs": [],
   "source": [
    "from sklearn.model_selection import train_test_split\n",
    "X_train, X_test, y_train, y_test = train_test_split(X, y, test_size=0.2, random_state=0)"
   ]
  },
  {
   "cell_type": "code",
   "execution_count": 7,
   "metadata": {},
   "outputs": [],
   "source": [
    "from sklearn.preprocessing import StandardScaler\n",
    "sc_X = StandardScaler()\n",
    "X_train = sc_X.fit_transform(X_train)\n",
    "X_test = sc_X.transform(X_test)"
   ]
  },
  {
   "cell_type": "code",
   "execution_count": 9,
   "metadata": {},
   "outputs": [
    {
     "data": {
      "text/plain": [
       "LinearRegression(copy_X=True, fit_intercept=True, n_jobs=None, normalize=False)"
      ]
     },
     "execution_count": 9,
     "metadata": {},
     "output_type": "execute_result"
    }
   ],
   "source": [
    "from sklearn.linear_model import LinearRegression\n",
    "classifier = LinearRegression()\n",
    "classifier.fit(X_train, y_train)"
   ]
  },
  {
   "cell_type": "code",
   "execution_count": 10,
   "metadata": {},
   "outputs": [],
   "source": [
    "y_pred = classifier.predict(X_test)"
   ]
  },
  {
   "cell_type": "code",
   "execution_count": 15,
   "metadata": {},
   "outputs": [
    {
     "name": "stdout",
     "output_type": "stream",
     "text": [
      "                            OLS Regression Results                            \n",
      "==============================================================================\n",
      "Dep. Variable:                      y   R-squared:                       0.930\n",
      "Model:                            OLS   Adj. R-squared:                  0.925\n",
      "Method:                 Least Squares   F-statistic:                     196.9\n",
      "Date:                Tue, 31 Dec 2019   Prob (F-statistic):          8.56e-151\n",
      "Time:                        14:44:48   Log-Likelihood:                 677.41\n",
      "No. Observations:                 303   AIC:                            -1315.\n",
      "Df Residuals:                     283   BIC:                            -1241.\n",
      "Df Model:                          19                                         \n",
      "Covariance Type:            nonrobust                                         \n",
      "==============================================================================\n",
      "                 coef    std err          t      P>|t|      [0.025      0.975]\n",
      "------------------------------------------------------------------------------\n",
      "x1          6.905e-05      0.000      0.223      0.823      -0.001       0.001\n",
      "x2             0.0005      0.000      2.212      0.028    6.05e-05       0.001\n",
      "const          0.8949      0.044     20.124      0.000       0.807       0.982\n",
      "x3            -0.2857      0.005    -54.625      0.000      -0.296      -0.275\n",
      "x4             0.3196      0.006     53.839      0.000       0.308       0.331\n",
      "x5            -0.0005      0.000     -2.066      0.040      -0.001   -2.48e-05\n",
      "x6            -0.0032      0.004     -0.721      0.472      -0.012       0.006\n",
      "x7             0.0022      0.006      0.341      0.734      -0.010       0.015\n",
      "x8            -0.0027      0.008     -0.339      0.735      -0.019       0.013\n",
      "x9             0.0047      0.006      0.750      0.454      -0.008       0.017\n",
      "x10            0.0121      0.006      1.987      0.048       0.000       0.024\n",
      "x11            0.0025      0.008      0.317      0.752      -0.013       0.018\n",
      "x12           -0.0102      0.008     -1.223      0.223      -0.027       0.006\n",
      "x13           -0.0083      0.005     -1.734      0.084      -0.018       0.001\n",
      "x14        -2.484e-05   4.88e-05     -0.509      0.611      -0.000    7.11e-05\n",
      "x15         1.167e-05   3.32e-05      0.352      0.725   -5.36e-05     7.7e-05\n",
      "x16        -7.747e-05   4.57e-05     -1.694      0.091      -0.000    1.25e-05\n",
      "x17         7.886e-05    7.9e-05      0.999      0.319   -7.66e-05       0.000\n",
      "x18        -9.744e-05    7.1e-05     -1.373      0.171      -0.000    4.23e-05\n",
      "x19            0.0001   4.73e-05      2.445      0.015    2.26e-05       0.000\n",
      "==============================================================================\n",
      "Omnibus:                      219.717   Durbin-Watson:                   2.056\n",
      "Prob(Omnibus):                  0.000   Jarque-Bera (JB):             4293.988\n",
      "Skew:                           2.686   Prob(JB):                         0.00\n",
      "Kurtosis:                      20.643   Cond. No.                     8.30e+03\n",
      "==============================================================================\n",
      "\n",
      "Warnings:\n",
      "[1] Standard Errors assume that the covariance matrix of the errors is correctly specified.\n",
      "[2] The condition number is large, 8.3e+03. This might indicate that there are\n",
      "strong multicollinearity or other numerical problems.\n"
     ]
    }
   ],
   "source": [
    "import numpy as np\n",
    "import statsmodels.api as sm\n",
    "import matplotlib.pyplot as plt\n",
    "from statsmodels.sandbox.regression.predstd import wls_prediction_std\n",
    "\n",
    "np.random.seed(9876789)\n",
    "\n",
    "model = sm.OLS(y, X)\n",
    "results = model.fit()\n",
    "print(results.summary())"
   ]
  },
  {
   "cell_type": "code",
   "execution_count": null,
   "metadata": {},
   "outputs": [],
   "source": []
  }
 ],
 "metadata": {
  "kernelspec": {
   "display_name": "Python 3",
   "language": "python",
   "name": "python3"
  },
  "language_info": {
   "codemirror_mode": {
    "name": "ipython",
    "version": 3
   },
   "file_extension": ".py",
   "mimetype": "text/x-python",
   "name": "python",
   "nbconvert_exporter": "python",
   "pygments_lexer": "ipython3",
   "version": "3.7.5"
  }
 },
 "nbformat": 4,
 "nbformat_minor": 2
}
