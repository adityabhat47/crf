{
 "cells": [
  {
   "cell_type": "code",
   "execution_count": 1,
   "metadata": {},
   "outputs": [
    {
     "name": "stderr",
     "output_type": "stream",
     "text": [
      "c:\\python37\\lib\\site-packages\\statsmodels\\tools\\_testing.py:19: FutureWarning: pandas.util.testing is deprecated. Use the functions in the public API at pandas.testing instead.\n",
      "  import pandas.util.testing as tm\n"
     ]
    }
   ],
   "source": [
    "import pandas as pd\n",
    "import numpy as np\n",
    "import seaborn as sns\n",
    "import matplotlib.pyplot as plt\n",
    "%matplotlib inline\n",
    "from sklearn.model_selection import train_test_split\n",
    "from sklearn.ensemble import RandomForestClassifier\n",
    "from sklearn.metrics import accuracy_score, roc_auc_score\n",
    "from sklearn.feature_selection import VarianceThreshold\n",
    "from sklearn.preprocessing import StandardScaler"
   ]
  },
  {
   "cell_type": "code",
   "execution_count": 2,
   "metadata": {},
   "outputs": [
    {
     "data": {
      "text/html": [
       "<div>\n",
       "<style scoped>\n",
       "    .dataframe tbody tr th:only-of-type {\n",
       "        vertical-align: middle;\n",
       "    }\n",
       "\n",
       "    .dataframe tbody tr th {\n",
       "        vertical-align: top;\n",
       "    }\n",
       "\n",
       "    .dataframe thead th {\n",
       "        text-align: right;\n",
       "    }\n",
       "</style>\n",
       "<table border=\"1\" class=\"dataframe\">\n",
       "  <thead>\n",
       "    <tr style=\"text-align: right;\">\n",
       "      <th></th>\n",
       "      <th>Unnamed: 0</th>\n",
       "      <th>target</th>\n",
       "      <th>peakflow</th>\n",
       "      <th>वय_275546</th>\n",
       "      <th>लिंग: _275544</th>\n",
       "      <th>शिक्षण_275545</th>\n",
       "      <th>आपल्या घरातील कुटुंबातील सदस्यांची संख्या? _275550</th>\n",
       "      <th>घराविषयीची माहिती 0 तुमचे घर कोणत्या प्रकारचे आहे ?_275549</th>\n",
       "      <th>तुमच्या घरात किती खोल्या आहेत?_275551</th>\n",
       "      <th>तुमच्या घराला एकूण किती खिडक्या आहेत ?_275552</th>\n",
       "      <th>...</th>\n",
       "      <th>जर हो, किती वर्ष पासून? _275700</th>\n",
       "      <th>हृदय रोग_275701</th>\n",
       "      <th>जर हो, किती वर्ष पासून? _275702</th>\n",
       "      <th>थाइरोइड विकार_275703</th>\n",
       "      <th>जर हो, किती वर्ष पासून? _275704</th>\n",
       "      <th>चिंता आणि निराशा_275705</th>\n",
       "      <th>जर हो, किती वर्ष पासून? _275706</th>\n",
       "      <th>हाड ठिसूळ होणे_275707</th>\n",
       "      <th>जर हो, किती वर्ष पासून? _275708</th>\n",
       "      <th>धन्यवाद सबमिट करा_275709</th>\n",
       "    </tr>\n",
       "    <tr>\n",
       "      <th>ID</th>\n",
       "      <th></th>\n",
       "      <th></th>\n",
       "      <th></th>\n",
       "      <th></th>\n",
       "      <th></th>\n",
       "      <th></th>\n",
       "      <th></th>\n",
       "      <th></th>\n",
       "      <th></th>\n",
       "      <th></th>\n",
       "      <th></th>\n",
       "      <th></th>\n",
       "      <th></th>\n",
       "      <th></th>\n",
       "      <th></th>\n",
       "      <th></th>\n",
       "      <th></th>\n",
       "      <th></th>\n",
       "      <th></th>\n",
       "      <th></th>\n",
       "      <th></th>\n",
       "    </tr>\n",
       "  </thead>\n",
       "  <tbody>\n",
       "    <tr>\n",
       "      <th>A1</th>\n",
       "      <td>0</td>\n",
       "      <td>1</td>\n",
       "      <td>210</td>\n",
       "      <td>37</td>\n",
       "      <td>2</td>\n",
       "      <td>1</td>\n",
       "      <td>4</td>\n",
       "      <td>2</td>\n",
       "      <td>2</td>\n",
       "      <td>3</td>\n",
       "      <td>...</td>\n",
       "      <td>0</td>\n",
       "      <td>0</td>\n",
       "      <td>0</td>\n",
       "      <td>0</td>\n",
       "      <td>0</td>\n",
       "      <td>0</td>\n",
       "      <td>0</td>\n",
       "      <td>0</td>\n",
       "      <td>0</td>\n",
       "      <td>0</td>\n",
       "    </tr>\n",
       "    <tr>\n",
       "      <th>A2</th>\n",
       "      <td>1</td>\n",
       "      <td>0</td>\n",
       "      <td>550</td>\n",
       "      <td>33</td>\n",
       "      <td>2</td>\n",
       "      <td>3</td>\n",
       "      <td>4</td>\n",
       "      <td>2</td>\n",
       "      <td>2</td>\n",
       "      <td>3</td>\n",
       "      <td>...</td>\n",
       "      <td>0</td>\n",
       "      <td>0</td>\n",
       "      <td>0</td>\n",
       "      <td>0</td>\n",
       "      <td>0</td>\n",
       "      <td>0</td>\n",
       "      <td>0</td>\n",
       "      <td>0</td>\n",
       "      <td>0</td>\n",
       "      <td>0</td>\n",
       "    </tr>\n",
       "    <tr>\n",
       "      <th>A3</th>\n",
       "      <td>2</td>\n",
       "      <td>0</td>\n",
       "      <td>290</td>\n",
       "      <td>19</td>\n",
       "      <td>1</td>\n",
       "      <td>4</td>\n",
       "      <td>4</td>\n",
       "      <td>2</td>\n",
       "      <td>2</td>\n",
       "      <td>3</td>\n",
       "      <td>...</td>\n",
       "      <td>0</td>\n",
       "      <td>0</td>\n",
       "      <td>0</td>\n",
       "      <td>0</td>\n",
       "      <td>0</td>\n",
       "      <td>0</td>\n",
       "      <td>0</td>\n",
       "      <td>0</td>\n",
       "      <td>0</td>\n",
       "      <td>0</td>\n",
       "    </tr>\n",
       "    <tr>\n",
       "      <th>A4</th>\n",
       "      <td>3</td>\n",
       "      <td>0</td>\n",
       "      <td>340</td>\n",
       "      <td>44</td>\n",
       "      <td>2</td>\n",
       "      <td>3</td>\n",
       "      <td>4</td>\n",
       "      <td>2</td>\n",
       "      <td>3</td>\n",
       "      <td>3</td>\n",
       "      <td>...</td>\n",
       "      <td>0</td>\n",
       "      <td>0</td>\n",
       "      <td>0</td>\n",
       "      <td>0</td>\n",
       "      <td>0</td>\n",
       "      <td>0</td>\n",
       "      <td>0</td>\n",
       "      <td>0</td>\n",
       "      <td>0</td>\n",
       "      <td>0</td>\n",
       "    </tr>\n",
       "    <tr>\n",
       "      <th>A5</th>\n",
       "      <td>4</td>\n",
       "      <td>0</td>\n",
       "      <td>420</td>\n",
       "      <td>38</td>\n",
       "      <td>2</td>\n",
       "      <td>3</td>\n",
       "      <td>5</td>\n",
       "      <td>2</td>\n",
       "      <td>3</td>\n",
       "      <td>3</td>\n",
       "      <td>...</td>\n",
       "      <td>0</td>\n",
       "      <td>0</td>\n",
       "      <td>0</td>\n",
       "      <td>0</td>\n",
       "      <td>0</td>\n",
       "      <td>0</td>\n",
       "      <td>0</td>\n",
       "      <td>0</td>\n",
       "      <td>0</td>\n",
       "      <td>0</td>\n",
       "    </tr>\n",
       "  </tbody>\n",
       "</table>\n",
       "<p>5 rows × 183 columns</p>\n",
       "</div>"
      ],
      "text/plain": [
       "    Unnamed: 0  target  peakflow  वय_275546  लिंग: _275544  शिक्षण_275545  \\\n",
       "ID                                                                          \n",
       "A1           0       1       210         37              2              1   \n",
       "A2           1       0       550         33              2              3   \n",
       "A3           2       0       290         19              1              4   \n",
       "A4           3       0       340         44              2              3   \n",
       "A5           4       0       420         38              2              3   \n",
       "\n",
       "    आपल्या घरातील कुटुंबातील सदस्यांची संख्या? _275550  \\\n",
       "ID                                                       \n",
       "A1                                                  4    \n",
       "A2                                                  4    \n",
       "A3                                                  4    \n",
       "A4                                                  4    \n",
       "A5                                                  5    \n",
       "\n",
       "    घराविषयीची माहिती 0 तुमचे घर कोणत्या प्रकारचे आहे ?_275549  \\\n",
       "ID                                                               \n",
       "A1                                                  2            \n",
       "A2                                                  2            \n",
       "A3                                                  2            \n",
       "A4                                                  2            \n",
       "A5                                                  2            \n",
       "\n",
       "    तुमच्या घरात किती खोल्या आहेत?_275551  \\\n",
       "ID                                          \n",
       "A1                                      2   \n",
       "A2                                      2   \n",
       "A3                                      2   \n",
       "A4                                      3   \n",
       "A5                                      3   \n",
       "\n",
       "    तुमच्या घराला एकूण किती खिडक्या आहेत ?_275552  ...  \\\n",
       "ID                                                 ...   \n",
       "A1                                              3  ...   \n",
       "A2                                              3  ...   \n",
       "A3                                              3  ...   \n",
       "A4                                              3  ...   \n",
       "A5                                              3  ...   \n",
       "\n",
       "    जर हो, किती वर्ष पासून? _275700  हृदय रोग_275701  \\\n",
       "ID                                                     \n",
       "A1                                0                0   \n",
       "A2                                0                0   \n",
       "A3                                0                0   \n",
       "A4                                0                0   \n",
       "A5                                0                0   \n",
       "\n",
       "    जर हो, किती वर्ष पासून? _275702  थाइरोइड विकार_275703  \\\n",
       "ID                                                          \n",
       "A1                                0                     0   \n",
       "A2                                0                     0   \n",
       "A3                                0                     0   \n",
       "A4                                0                     0   \n",
       "A5                                0                     0   \n",
       "\n",
       "    जर हो, किती वर्ष पासून? _275704  चिंता आणि निराशा_275705  \\\n",
       "ID                                                             \n",
       "A1                                0                        0   \n",
       "A2                                0                        0   \n",
       "A3                                0                        0   \n",
       "A4                                0                        0   \n",
       "A5                                0                        0   \n",
       "\n",
       "    जर हो, किती वर्ष पासून? _275706  हाड ठिसूळ होणे_275707  \\\n",
       "ID                                                           \n",
       "A1                                0                      0   \n",
       "A2                                0                      0   \n",
       "A3                                0                      0   \n",
       "A4                                0                      0   \n",
       "A5                                0                      0   \n",
       "\n",
       "    जर हो, किती वर्ष पासून? _275708  धन्यवाद सबमिट करा_275709  \n",
       "ID                                                             \n",
       "A1                                0                         0  \n",
       "A2                                0                         0  \n",
       "A3                                0                         0  \n",
       "A4                                0                         0  \n",
       "A5                                0                         0  \n",
       "\n",
       "[5 rows x 183 columns]"
      ]
     },
     "execution_count": 2,
     "metadata": {},
     "output_type": "execute_result"
    }
   ],
   "source": [
    "data = pd.read_csv(\"D:/data/CRF Final Data/oscar/main oscar.csv\")\n",
    "data = data.set_index(\"ID\")\n",
    "data.head()"
   ]
  },
  {
   "cell_type": "code",
   "execution_count": 3,
   "metadata": {},
   "outputs": [
    {
     "data": {
      "text/plain": [
       "((798, 182), (798,))"
      ]
     },
     "execution_count": 3,
     "metadata": {},
     "output_type": "execute_result"
    }
   ],
   "source": [
    "X = data.drop('target', axis = 1)\n",
    "y = data['target']\n",
    "\n",
    "X.shape, y.shape"
   ]
  },
  {
   "cell_type": "code",
   "execution_count": 4,
   "metadata": {},
   "outputs": [],
   "source": [
    "X_train, X_test, y_train, y_test = train_test_split(X, y, test_size = 0.2, random_state = 0, stratify = y)"
   ]
  },
  {
   "cell_type": "markdown",
   "metadata": {},
   "source": [
    "\n",
    "# Remove Constant, Quasi Constant and Duplicate Features"
   ]
  },
  {
   "cell_type": "code",
   "execution_count": 5,
   "metadata": {},
   "outputs": [],
   "source": [
    "#remove constant and quasi constant features\n",
    "constant_filter = VarianceThreshold(threshold=0.01)\n",
    "constant_filter.fit(X_train)\n",
    "X_train_filter = constant_filter.transform(X_train)\n",
    "X_test_filter = constant_filter.transform(X_test)"
   ]
  },
  {
   "cell_type": "code",
   "execution_count": 6,
   "metadata": {},
   "outputs": [
    {
     "data": {
      "text/plain": [
       "array([[319, 400,  34, ...,   0,   0,   0],\n",
       "       [570, 300,  45, ...,   0,   0,   0],\n",
       "       [638, 260,  37, ...,   0,   0,   0],\n",
       "       ...,\n",
       "       [571, 270,  43, ...,   0,   1,   2],\n",
       "       [786, 250,  77, ...,   5,   1,   4],\n",
       "       [686, 460,  62, ...,   0,   0,   0]], dtype=int64)"
      ]
     },
     "execution_count": 6,
     "metadata": {},
     "output_type": "execute_result"
    }
   ],
   "source": [
    "X_train_filter"
   ]
  },
  {
   "cell_type": "code",
   "execution_count": 7,
   "metadata": {},
   "outputs": [
    {
     "data": {
      "text/plain": [
       "((638, 146), (160, 146))"
      ]
     },
     "execution_count": 7,
     "metadata": {},
     "output_type": "execute_result"
    }
   ],
   "source": [
    "X_train_filter.shape, X_test_filter.shape"
   ]
  },
  {
   "cell_type": "code",
   "execution_count": 8,
   "metadata": {},
   "outputs": [],
   "source": [
    "\n",
    "#remove duplicate features\n",
    "X_train_T = X_train_filter.T\n",
    "X_test_T = X_test_filter.T"
   ]
  },
  {
   "cell_type": "code",
   "execution_count": 9,
   "metadata": {},
   "outputs": [
    {
     "data": {
      "text/plain": [
       "array([[319, 570, 638, ..., 571, 786, 686],\n",
       "       [400, 300, 260, ..., 270, 250, 460],\n",
       "       [ 34,  45,  37, ...,  43,  77,  62],\n",
       "       ...,\n",
       "       [  0,   0,   0, ...,   0,   5,   0],\n",
       "       [  0,   0,   0, ...,   1,   1,   0],\n",
       "       [  0,   0,   0, ...,   2,   4,   0]], dtype=int64)"
      ]
     },
     "execution_count": 9,
     "metadata": {},
     "output_type": "execute_result"
    }
   ],
   "source": [
    "X_train_T"
   ]
  },
  {
   "cell_type": "code",
   "execution_count": 10,
   "metadata": {},
   "outputs": [],
   "source": [
    "X_train_T = pd.DataFrame(X_train_T)\n",
    "X_test_T = pd.DataFrame(X_test_T)"
   ]
  },
  {
   "cell_type": "code",
   "execution_count": 11,
   "metadata": {},
   "outputs": [
    {
     "data": {
      "text/plain": [
       "0"
      ]
     },
     "execution_count": 11,
     "metadata": {},
     "output_type": "execute_result"
    }
   ],
   "source": [
    "X_train_T.duplicated().sum()"
   ]
  },
  {
   "cell_type": "code",
   "execution_count": 12,
   "metadata": {},
   "outputs": [],
   "source": [
    "\n",
    "duplicated_features = X_train_T.duplicated()"
   ]
  },
  {
   "cell_type": "code",
   "execution_count": 13,
   "metadata": {},
   "outputs": [],
   "source": [
    "features_to_keep = [not index for index in duplicated_features]\n",
    "\n",
    "X_train_unique = X_train_T[features_to_keep].T\n",
    "X_test_unique = X_test_T[features_to_keep].T"
   ]
  },
  {
   "cell_type": "code",
   "execution_count": 14,
   "metadata": {},
   "outputs": [],
   "source": [
    "scaler = StandardScaler().fit(X_train_unique)\n",
    "X_train_unique = scaler.transform(X_train_unique)\n",
    "X_test_unique = scaler.transform(X_test_unique)"
   ]
  },
  {
   "cell_type": "code",
   "execution_count": 15,
   "metadata": {},
   "outputs": [],
   "source": [
    "X_train_unique = pd.DataFrame(X_train_unique)\n",
    "X_test_unique = pd.DataFrame(X_test_unique)"
   ]
  },
  {
   "cell_type": "code",
   "execution_count": 16,
   "metadata": {},
   "outputs": [
    {
     "data": {
      "text/plain": [
       "((638, 146), (160, 146))"
      ]
     },
     "execution_count": 16,
     "metadata": {},
     "output_type": "execute_result"
    }
   ],
   "source": [
    "\n",
    "X_train_unique.shape, X_test_unique.shape"
   ]
  },
  {
   "cell_type": "markdown",
   "metadata": {},
   "source": [
    "# Removal of correlated Feature"
   ]
  },
  {
   "cell_type": "code",
   "execution_count": 17,
   "metadata": {},
   "outputs": [],
   "source": [
    "corrmat = X_train_unique.corr()"
   ]
  },
  {
   "cell_type": "code",
   "execution_count": 18,
   "metadata": {},
   "outputs": [
    {
     "name": "stdout",
     "output_type": "stream",
     "text": [
      "correlated features:  42\n"
     ]
    }
   ],
   "source": [
    "def get_correlation(data, threshold):\n",
    "    corr_col = set()\n",
    "    corrmat = data.corr()\n",
    "    for i in range(len(corrmat.columns)):\n",
    "        for j in range(i):\n",
    "            if abs(corrmat.iloc[i, j]) > threshold:\n",
    "                colname = corrmat.columns[i]\n",
    "                corr_col.add(colname)\n",
    "    return corr_col\n",
    "\n",
    "corr_features = get_correlation(X_train_unique, 0.70)\n",
    "print('correlated features: ', len(set(corr_features)) )"
   ]
  },
  {
   "cell_type": "code",
   "execution_count": 19,
   "metadata": {},
   "outputs": [],
   "source": [
    "X_train_uncorr = X_train_unique.drop(labels=corr_features, axis = 1)\n",
    "X_test_uncorr = X_test_unique.drop(labels = corr_features, axis = 1)"
   ]
  },
  {
   "cell_type": "code",
   "execution_count": 20,
   "metadata": {},
   "outputs": [
    {
     "data": {
      "text/plain": [
       "((638, 104), (160, 104))"
      ]
     },
     "execution_count": 20,
     "metadata": {},
     "output_type": "execute_result"
    }
   ],
   "source": [
    "X_train_uncorr.shape, X_test_uncorr.shape"
   ]
  },
  {
   "cell_type": "markdown",
   "metadata": {},
   "source": [
    "# Feature Dimention Reduction by LDA or Is it a Classifier"
   ]
  },
  {
   "cell_type": "code",
   "execution_count": 21,
   "metadata": {},
   "outputs": [],
   "source": [
    "from sklearn.discriminant_analysis import LinearDiscriminantAnalysis as LDA"
   ]
  },
  {
   "cell_type": "code",
   "execution_count": 22,
   "metadata": {},
   "outputs": [],
   "source": [
    "lda = LDA(n_components=1)\n",
    "X_train_lda = lda.fit_transform(X_train_uncorr, y_train)\n",
    "X_test_lda = lda.transform(X_test_uncorr)"
   ]
  },
  {
   "cell_type": "code",
   "execution_count": 23,
   "metadata": {},
   "outputs": [
    {
     "data": {
      "text/plain": [
       "((638, 1), (160, 1))"
      ]
     },
     "execution_count": 23,
     "metadata": {},
     "output_type": "execute_result"
    }
   ],
   "source": [
    "X_train_lda.shape, X_test_lda.shape"
   ]
  },
  {
   "cell_type": "code",
   "execution_count": 48,
   "metadata": {},
   "outputs": [],
   "source": [
    "from sklearn.metrics import accuracy_score, classification_report, confusion_matrix\n",
    "def run_randomForest(X_train, X_test, y_train, y_test):\n",
    "    clf = RandomForestClassifier(n_estimators=100, random_state=0, n_jobs=-1)\n",
    "    clf.fit(X_train, y_train)\n",
    "    y_pred = clf.predict(X_test)\n",
    "    print('Accuracy on test set: ')\n",
    "    print(\"Accuracy: \", accuracy_score(y_test, y_pred))\n",
    "    print(classification_report(y_test, y_pred))\n",
    "    print(confusion_matrix(y_test, y_pred))\n",
    "    \n",
    "    "
   ]
  },
  {
   "cell_type": "code",
   "execution_count": 49,
   "metadata": {},
   "outputs": [
    {
     "name": "stdout",
     "output_type": "stream",
     "text": [
      "Accuracy on test set: \n",
      "Accuracy:  0.69375\n",
      "              precision    recall  f1-score   support\n",
      "\n",
      "           0       0.84      0.79      0.81       135\n",
      "           1       0.12      0.16      0.14        25\n",
      "\n",
      "    accuracy                           0.69       160\n",
      "   macro avg       0.48      0.48      0.48       160\n",
      "weighted avg       0.72      0.69      0.71       160\n",
      "\n",
      "[[107  28]\n",
      " [ 21   4]]\n",
      "Wall time: 578 ms\n"
     ]
    }
   ],
   "source": [
    "\n",
    "%%time\n",
    "run_randomForest(X_train_lda, X_test_lda, y_train, y_test)"
   ]
  },
  {
   "cell_type": "code",
   "execution_count": 50,
   "metadata": {},
   "outputs": [
    {
     "name": "stdout",
     "output_type": "stream",
     "text": [
      "Accuracy on test set: \n",
      "Accuracy:  0.84375\n",
      "              precision    recall  f1-score   support\n",
      "\n",
      "           0       0.84      1.00      0.92       135\n",
      "           1       0.00      0.00      0.00        25\n",
      "\n",
      "    accuracy                           0.84       160\n",
      "   macro avg       0.42      0.50      0.46       160\n",
      "weighted avg       0.71      0.84      0.77       160\n",
      "\n",
      "[[135   0]\n",
      " [ 25   0]]\n",
      "Wall time: 637 ms\n"
     ]
    },
    {
     "name": "stderr",
     "output_type": "stream",
     "text": [
      "c:\\python37\\lib\\site-packages\\sklearn\\metrics\\_classification.py:1272: UndefinedMetricWarning: Precision and F-score are ill-defined and being set to 0.0 in labels with no predicted samples. Use `zero_division` parameter to control this behavior.\n",
      "  _warn_prf(average, modifier, msg_start, len(result))\n"
     ]
    }
   ],
   "source": [
    "%%time\n",
    "run_randomForest(X_train_uncorr, X_test_uncorr, y_train, y_test)"
   ]
  },
  {
   "cell_type": "code",
   "execution_count": 51,
   "metadata": {},
   "outputs": [
    {
     "name": "stdout",
     "output_type": "stream",
     "text": [
      "Accuracy on test set: \n",
      "Accuracy:  0.84375\n",
      "              precision    recall  f1-score   support\n",
      "\n",
      "           0       0.84      1.00      0.92       135\n",
      "           1       0.00      0.00      0.00        25\n",
      "\n",
      "    accuracy                           0.84       160\n",
      "   macro avg       0.42      0.50      0.46       160\n",
      "weighted avg       0.71      0.84      0.77       160\n",
      "\n",
      "[[135   0]\n",
      " [ 25   0]]\n",
      "Wall time: 647 ms\n"
     ]
    },
    {
     "name": "stderr",
     "output_type": "stream",
     "text": [
      "c:\\python37\\lib\\site-packages\\sklearn\\metrics\\_classification.py:1272: UndefinedMetricWarning: Precision and F-score are ill-defined and being set to 0.0 in labels with no predicted samples. Use `zero_division` parameter to control this behavior.\n",
      "  _warn_prf(average, modifier, msg_start, len(result))\n"
     ]
    }
   ],
   "source": [
    "%%time\n",
    "run_randomForest(X_train, X_test, y_train, y_test)"
   ]
  },
  {
   "cell_type": "markdown",
   "metadata": {},
   "source": [
    "# Feature Reduction by PCA?"
   ]
  },
  {
   "cell_type": "code",
   "execution_count": 52,
   "metadata": {},
   "outputs": [],
   "source": [
    "\n",
    "from sklearn.decomposition import PCA"
   ]
  },
  {
   "cell_type": "code",
   "execution_count": 53,
   "metadata": {},
   "outputs": [
    {
     "data": {
      "text/plain": [
       "PCA(copy=True, iterated_power='auto', n_components=10, random_state=42,\n",
       "    svd_solver='auto', tol=0.0, whiten=False)"
      ]
     },
     "execution_count": 53,
     "metadata": {},
     "output_type": "execute_result"
    }
   ],
   "source": [
    "pca = PCA(n_components=10, random_state=42)\n",
    "pca.fit(X_train_uncorr)"
   ]
  },
  {
   "cell_type": "code",
   "execution_count": 54,
   "metadata": {},
   "outputs": [
    {
     "data": {
      "text/plain": [
       "((638, 10), (160, 10))"
      ]
     },
     "execution_count": 54,
     "metadata": {},
     "output_type": "execute_result"
    }
   ],
   "source": [
    "X_train_pca = pca.transform(X_train_uncorr)\n",
    "X_test_pca = pca.transform(X_test_uncorr)\n",
    "X_train_pca.shape, X_test_pca.shape"
   ]
  },
  {
   "cell_type": "code",
   "execution_count": 55,
   "metadata": {},
   "outputs": [
    {
     "name": "stdout",
     "output_type": "stream",
     "text": [
      "Accuracy on test set: \n",
      "Accuracy:  0.84375\n",
      "              precision    recall  f1-score   support\n",
      "\n",
      "           0       0.84      1.00      0.92       135\n",
      "           1       0.00      0.00      0.00        25\n",
      "\n",
      "    accuracy                           0.84       160\n",
      "   macro avg       0.42      0.50      0.46       160\n",
      "weighted avg       0.71      0.84      0.77       160\n",
      "\n",
      "[[135   0]\n",
      " [ 25   0]]\n",
      "Wall time: 565 ms\n"
     ]
    },
    {
     "name": "stderr",
     "output_type": "stream",
     "text": [
      "c:\\python37\\lib\\site-packages\\sklearn\\metrics\\_classification.py:1272: UndefinedMetricWarning: Precision and F-score are ill-defined and being set to 0.0 in labels with no predicted samples. Use `zero_division` parameter to control this behavior.\n",
      "  _warn_prf(average, modifier, msg_start, len(result))\n"
     ]
    }
   ],
   "source": [
    "%%time\n",
    "run_randomForest(X_train_pca, X_test_pca, y_train, y_test)"
   ]
  },
  {
   "cell_type": "code",
   "execution_count": 56,
   "metadata": {},
   "outputs": [
    {
     "name": "stdout",
     "output_type": "stream",
     "text": [
      "Accuracy on test set: \n",
      "Accuracy:  0.84375\n",
      "              precision    recall  f1-score   support\n",
      "\n",
      "           0       0.84      1.00      0.92       135\n",
      "           1       0.00      0.00      0.00        25\n",
      "\n",
      "    accuracy                           0.84       160\n",
      "   macro avg       0.42      0.50      0.46       160\n",
      "weighted avg       0.71      0.84      0.77       160\n",
      "\n",
      "[[135   0]\n",
      " [ 25   0]]\n",
      "Wall time: 689 ms\n"
     ]
    },
    {
     "name": "stderr",
     "output_type": "stream",
     "text": [
      "c:\\python37\\lib\\site-packages\\sklearn\\metrics\\_classification.py:1272: UndefinedMetricWarning: Precision and F-score are ill-defined and being set to 0.0 in labels with no predicted samples. Use `zero_division` parameter to control this behavior.\n",
      "  _warn_prf(average, modifier, msg_start, len(result))\n"
     ]
    }
   ],
   "source": [
    "\n",
    "%%time\n",
    "run_randomForest(X_train, X_test, y_train, y_test)"
   ]
  },
  {
   "cell_type": "code",
   "execution_count": 57,
   "metadata": {},
   "outputs": [
    {
     "data": {
      "text/plain": [
       "(638, 104)"
      ]
     },
     "execution_count": 57,
     "metadata": {},
     "output_type": "execute_result"
    }
   ],
   "source": [
    "X_train_uncorr.shape"
   ]
  },
  {
   "cell_type": "code",
   "execution_count": 58,
   "metadata": {},
   "outputs": [
    {
     "name": "stdout",
     "output_type": "stream",
     "text": [
      "Selected Components:  1\n",
      "Accuracy on test set: \n",
      "Accuracy:  0.74375\n",
      "              precision    recall  f1-score   support\n",
      "\n",
      "           0       0.85      0.84      0.85       135\n",
      "           1       0.19      0.20      0.20        25\n",
      "\n",
      "    accuracy                           0.74       160\n",
      "   macro avg       0.52      0.52      0.52       160\n",
      "weighted avg       0.75      0.74      0.75       160\n",
      "\n",
      "[[114  21]\n",
      " [ 20   5]]\n",
      "\n",
      "Selected Components:  2\n",
      "Accuracy on test set: \n",
      "Accuracy:  0.80625\n",
      "              precision    recall  f1-score   support\n",
      "\n",
      "           0       0.85      0.94      0.89       135\n",
      "           1       0.20      0.08      0.11        25\n",
      "\n",
      "    accuracy                           0.81       160\n",
      "   macro avg       0.52      0.51      0.50       160\n",
      "weighted avg       0.75      0.81      0.77       160\n",
      "\n",
      "[[127   8]\n",
      " [ 23   2]]\n",
      "\n",
      "Selected Components:  3\n",
      "Accuracy on test set: \n",
      "Accuracy:  0.83125\n",
      "              precision    recall  f1-score   support\n",
      "\n",
      "           0       0.85      0.98      0.91       135\n",
      "           1       0.25      0.04      0.07        25\n",
      "\n",
      "    accuracy                           0.83       160\n",
      "   macro avg       0.55      0.51      0.49       160\n",
      "weighted avg       0.75      0.83      0.78       160\n",
      "\n",
      "[[132   3]\n",
      " [ 24   1]]\n",
      "\n",
      "Selected Components:  4\n",
      "Accuracy on test set: \n",
      "Accuracy:  0.85\n",
      "              precision    recall  f1-score   support\n",
      "\n",
      "           0       0.85      0.99      0.92       135\n",
      "           1       0.67      0.08      0.14        25\n",
      "\n",
      "    accuracy                           0.85       160\n",
      "   macro avg       0.76      0.54      0.53       160\n",
      "weighted avg       0.82      0.85      0.80       160\n",
      "\n",
      "[[134   1]\n",
      " [ 23   2]]\n",
      "\n",
      "Selected Components:  5\n",
      "Accuracy on test set: \n",
      "Accuracy:  0.8375\n",
      "              precision    recall  f1-score   support\n",
      "\n",
      "           0       0.85      0.99      0.91       135\n",
      "           1       0.33      0.04      0.07        25\n",
      "\n",
      "    accuracy                           0.84       160\n",
      "   macro avg       0.59      0.51      0.49       160\n",
      "weighted avg       0.77      0.84      0.78       160\n",
      "\n",
      "[[133   2]\n",
      " [ 24   1]]\n",
      "\n",
      "Selected Components:  6\n",
      "Accuracy on test set: \n",
      "Accuracy:  0.84375\n",
      "              precision    recall  f1-score   support\n",
      "\n",
      "           0       0.85      0.99      0.91       135\n",
      "           1       0.50      0.08      0.14        25\n",
      "\n",
      "    accuracy                           0.84       160\n",
      "   macro avg       0.68      0.53      0.53       160\n",
      "weighted avg       0.80      0.84      0.79       160\n",
      "\n",
      "[[133   2]\n",
      " [ 23   2]]\n",
      "\n",
      "Selected Components:  7\n",
      "Accuracy on test set: \n",
      "Accuracy:  0.85625\n",
      "              precision    recall  f1-score   support\n",
      "\n",
      "           0       0.86      0.99      0.92       135\n",
      "           1       0.75      0.12      0.21        25\n",
      "\n",
      "    accuracy                           0.86       160\n",
      "   macro avg       0.80      0.56      0.56       160\n",
      "weighted avg       0.84      0.86      0.81       160\n",
      "\n",
      "[[134   1]\n",
      " [ 22   3]]\n",
      "\n",
      "Selected Components:  8\n",
      "Accuracy on test set: \n",
      "Accuracy:  0.84375\n",
      "              precision    recall  f1-score   support\n",
      "\n",
      "           0       0.84      1.00      0.92       135\n",
      "           1       0.00      0.00      0.00        25\n",
      "\n",
      "    accuracy                           0.84       160\n",
      "   macro avg       0.42      0.50      0.46       160\n",
      "weighted avg       0.71      0.84      0.77       160\n",
      "\n",
      "[[135   0]\n",
      " [ 25   0]]\n",
      "\n",
      "Selected Components:  9\n"
     ]
    },
    {
     "name": "stderr",
     "output_type": "stream",
     "text": [
      "c:\\python37\\lib\\site-packages\\sklearn\\metrics\\_classification.py:1272: UndefinedMetricWarning: Precision and F-score are ill-defined and being set to 0.0 in labels with no predicted samples. Use `zero_division` parameter to control this behavior.\n",
      "  _warn_prf(average, modifier, msg_start, len(result))\n"
     ]
    },
    {
     "name": "stdout",
     "output_type": "stream",
     "text": [
      "Accuracy on test set: \n",
      "Accuracy:  0.8375\n",
      "              precision    recall  f1-score   support\n",
      "\n",
      "           0       0.84      0.99      0.91       135\n",
      "           1       0.00      0.00      0.00        25\n",
      "\n",
      "    accuracy                           0.84       160\n",
      "   macro avg       0.42      0.50      0.46       160\n",
      "weighted avg       0.71      0.84      0.77       160\n",
      "\n",
      "[[134   1]\n",
      " [ 25   0]]\n",
      "\n",
      "Selected Components:  10\n",
      "Accuracy on test set: \n",
      "Accuracy:  0.84375\n",
      "              precision    recall  f1-score   support\n",
      "\n",
      "           0       0.84      1.00      0.92       135\n",
      "           1       0.00      0.00      0.00        25\n",
      "\n",
      "    accuracy                           0.84       160\n",
      "   macro avg       0.42      0.50      0.46       160\n",
      "weighted avg       0.71      0.84      0.77       160\n",
      "\n",
      "[[135   0]\n",
      " [ 25   0]]\n",
      "\n",
      "Selected Components:  11\n"
     ]
    },
    {
     "name": "stderr",
     "output_type": "stream",
     "text": [
      "c:\\python37\\lib\\site-packages\\sklearn\\metrics\\_classification.py:1272: UndefinedMetricWarning: Precision and F-score are ill-defined and being set to 0.0 in labels with no predicted samples. Use `zero_division` parameter to control this behavior.\n",
      "  _warn_prf(average, modifier, msg_start, len(result))\n"
     ]
    },
    {
     "name": "stdout",
     "output_type": "stream",
     "text": [
      "Accuracy on test set: \n",
      "Accuracy:  0.85625\n",
      "              precision    recall  f1-score   support\n",
      "\n",
      "           0       0.85      1.00      0.92       135\n",
      "           1       1.00      0.08      0.15        25\n",
      "\n",
      "    accuracy                           0.86       160\n",
      "   macro avg       0.93      0.54      0.53       160\n",
      "weighted avg       0.88      0.86      0.80       160\n",
      "\n",
      "[[135   0]\n",
      " [ 23   2]]\n",
      "\n",
      "Selected Components:  12\n",
      "Accuracy on test set: \n",
      "Accuracy:  0.84375\n",
      "              precision    recall  f1-score   support\n",
      "\n",
      "           0       0.84      1.00      0.92       135\n",
      "           1       0.00      0.00      0.00        25\n",
      "\n",
      "    accuracy                           0.84       160\n",
      "   macro avg       0.42      0.50      0.46       160\n",
      "weighted avg       0.71      0.84      0.77       160\n",
      "\n",
      "[[135   0]\n",
      " [ 25   0]]\n",
      "\n",
      "Selected Components:  13\n"
     ]
    },
    {
     "name": "stderr",
     "output_type": "stream",
     "text": [
      "c:\\python37\\lib\\site-packages\\sklearn\\metrics\\_classification.py:1272: UndefinedMetricWarning: Precision and F-score are ill-defined and being set to 0.0 in labels with no predicted samples. Use `zero_division` parameter to control this behavior.\n",
      "  _warn_prf(average, modifier, msg_start, len(result))\n"
     ]
    },
    {
     "name": "stdout",
     "output_type": "stream",
     "text": [
      "Accuracy on test set: \n",
      "Accuracy:  0.85\n",
      "              precision    recall  f1-score   support\n",
      "\n",
      "           0       0.85      1.00      0.92       135\n",
      "           1       1.00      0.04      0.08        25\n",
      "\n",
      "    accuracy                           0.85       160\n",
      "   macro avg       0.92      0.52      0.50       160\n",
      "weighted avg       0.87      0.85      0.79       160\n",
      "\n",
      "[[135   0]\n",
      " [ 24   1]]\n",
      "\n",
      "Selected Components:  14\n",
      "Accuracy on test set: \n",
      "Accuracy:  0.8375\n",
      "              precision    recall  f1-score   support\n",
      "\n",
      "           0       0.84      0.99      0.91       135\n",
      "           1       0.00      0.00      0.00        25\n",
      "\n",
      "    accuracy                           0.84       160\n",
      "   macro avg       0.42      0.50      0.46       160\n",
      "weighted avg       0.71      0.84      0.77       160\n",
      "\n",
      "[[134   1]\n",
      " [ 25   0]]\n",
      "\n",
      "Selected Components:  15\n",
      "Accuracy on test set: \n",
      "Accuracy:  0.84375\n",
      "              precision    recall  f1-score   support\n",
      "\n",
      "           0       0.84      1.00      0.92       135\n",
      "           1       0.00      0.00      0.00        25\n",
      "\n",
      "    accuracy                           0.84       160\n",
      "   macro avg       0.42      0.50      0.46       160\n",
      "weighted avg       0.71      0.84      0.77       160\n",
      "\n",
      "[[135   0]\n",
      " [ 25   0]]\n",
      "\n",
      "Selected Components:  16\n"
     ]
    },
    {
     "name": "stderr",
     "output_type": "stream",
     "text": [
      "c:\\python37\\lib\\site-packages\\sklearn\\metrics\\_classification.py:1272: UndefinedMetricWarning: Precision and F-score are ill-defined and being set to 0.0 in labels with no predicted samples. Use `zero_division` parameter to control this behavior.\n",
      "  _warn_prf(average, modifier, msg_start, len(result))\n"
     ]
    },
    {
     "name": "stdout",
     "output_type": "stream",
     "text": [
      "Accuracy on test set: \n",
      "Accuracy:  0.85\n",
      "              precision    recall  f1-score   support\n",
      "\n",
      "           0       0.85      1.00      0.92       135\n",
      "           1       1.00      0.04      0.08        25\n",
      "\n",
      "    accuracy                           0.85       160\n",
      "   macro avg       0.92      0.52      0.50       160\n",
      "weighted avg       0.87      0.85      0.79       160\n",
      "\n",
      "[[135   0]\n",
      " [ 24   1]]\n",
      "\n",
      "Selected Components:  17\n",
      "Accuracy on test set: \n",
      "Accuracy:  0.85\n",
      "              precision    recall  f1-score   support\n",
      "\n",
      "           0       0.85      1.00      0.92       135\n",
      "           1       1.00      0.04      0.08        25\n",
      "\n",
      "    accuracy                           0.85       160\n",
      "   macro avg       0.92      0.52      0.50       160\n",
      "weighted avg       0.87      0.85      0.79       160\n",
      "\n",
      "[[135   0]\n",
      " [ 24   1]]\n",
      "\n",
      "Selected Components:  18\n",
      "Accuracy on test set: \n",
      "Accuracy:  0.84375\n",
      "              precision    recall  f1-score   support\n",
      "\n",
      "           0       0.85      0.99      0.91       135\n",
      "           1       0.50      0.04      0.07        25\n",
      "\n",
      "    accuracy                           0.84       160\n",
      "   macro avg       0.67      0.52      0.49       160\n",
      "weighted avg       0.79      0.84      0.78       160\n",
      "\n",
      "[[134   1]\n",
      " [ 24   1]]\n",
      "\n",
      "Selected Components:  19\n",
      "Accuracy on test set: \n",
      "Accuracy:  0.84375\n",
      "              precision    recall  f1-score   support\n",
      "\n",
      "           0       0.84      1.00      0.92       135\n",
      "           1       0.00      0.00      0.00        25\n",
      "\n",
      "    accuracy                           0.84       160\n",
      "   macro avg       0.42      0.50      0.46       160\n",
      "weighted avg       0.71      0.84      0.77       160\n",
      "\n",
      "[[135   0]\n",
      " [ 25   0]]\n",
      "\n",
      "Selected Components:  20\n"
     ]
    },
    {
     "name": "stderr",
     "output_type": "stream",
     "text": [
      "c:\\python37\\lib\\site-packages\\sklearn\\metrics\\_classification.py:1272: UndefinedMetricWarning: Precision and F-score are ill-defined and being set to 0.0 in labels with no predicted samples. Use `zero_division` parameter to control this behavior.\n",
      "  _warn_prf(average, modifier, msg_start, len(result))\n"
     ]
    },
    {
     "name": "stdout",
     "output_type": "stream",
     "text": [
      "Accuracy on test set: \n",
      "Accuracy:  0.85\n",
      "              precision    recall  f1-score   support\n",
      "\n",
      "           0       0.85      1.00      0.92       135\n",
      "           1       1.00      0.04      0.08        25\n",
      "\n",
      "    accuracy                           0.85       160\n",
      "   macro avg       0.92      0.52      0.50       160\n",
      "weighted avg       0.87      0.85      0.79       160\n",
      "\n",
      "[[135   0]\n",
      " [ 24   1]]\n",
      "\n",
      "Selected Components:  21\n",
      "Accuracy on test set: \n",
      "Accuracy:  0.85\n",
      "              precision    recall  f1-score   support\n",
      "\n",
      "           0       0.85      0.99      0.92       135\n",
      "           1       0.67      0.08      0.14        25\n",
      "\n",
      "    accuracy                           0.85       160\n",
      "   macro avg       0.76      0.54      0.53       160\n",
      "weighted avg       0.82      0.85      0.80       160\n",
      "\n",
      "[[134   1]\n",
      " [ 23   2]]\n",
      "\n",
      "Selected Components:  22\n",
      "Accuracy on test set: \n",
      "Accuracy:  0.85\n",
      "              precision    recall  f1-score   support\n",
      "\n",
      "           0       0.85      1.00      0.92       135\n",
      "           1       1.00      0.04      0.08        25\n",
      "\n",
      "    accuracy                           0.85       160\n",
      "   macro avg       0.92      0.52      0.50       160\n",
      "weighted avg       0.87      0.85      0.79       160\n",
      "\n",
      "[[135   0]\n",
      " [ 24   1]]\n",
      "\n",
      "Selected Components:  23\n",
      "Accuracy on test set: \n",
      "Accuracy:  0.85\n",
      "              precision    recall  f1-score   support\n",
      "\n",
      "           0       0.85      1.00      0.92       135\n",
      "           1       1.00      0.04      0.08        25\n",
      "\n",
      "    accuracy                           0.85       160\n",
      "   macro avg       0.92      0.52      0.50       160\n",
      "weighted avg       0.87      0.85      0.79       160\n",
      "\n",
      "[[135   0]\n",
      " [ 24   1]]\n",
      "\n",
      "Selected Components:  24\n",
      "Accuracy on test set: \n",
      "Accuracy:  0.85\n",
      "              precision    recall  f1-score   support\n",
      "\n",
      "           0       0.85      1.00      0.92       135\n",
      "           1       1.00      0.04      0.08        25\n",
      "\n",
      "    accuracy                           0.85       160\n",
      "   macro avg       0.92      0.52      0.50       160\n",
      "weighted avg       0.87      0.85      0.79       160\n",
      "\n",
      "[[135   0]\n",
      " [ 24   1]]\n",
      "\n",
      "Selected Components:  25\n",
      "Accuracy on test set: \n",
      "Accuracy:  0.84375\n",
      "              precision    recall  f1-score   support\n",
      "\n",
      "           0       0.84      1.00      0.92       135\n",
      "           1       0.00      0.00      0.00        25\n",
      "\n",
      "    accuracy                           0.84       160\n",
      "   macro avg       0.42      0.50      0.46       160\n",
      "weighted avg       0.71      0.84      0.77       160\n",
      "\n",
      "[[135   0]\n",
      " [ 25   0]]\n",
      "\n",
      "Selected Components:  26\n"
     ]
    },
    {
     "name": "stderr",
     "output_type": "stream",
     "text": [
      "c:\\python37\\lib\\site-packages\\sklearn\\metrics\\_classification.py:1272: UndefinedMetricWarning: Precision and F-score are ill-defined and being set to 0.0 in labels with no predicted samples. Use `zero_division` parameter to control this behavior.\n",
      "  _warn_prf(average, modifier, msg_start, len(result))\n"
     ]
    },
    {
     "name": "stdout",
     "output_type": "stream",
     "text": [
      "Accuracy on test set: \n",
      "Accuracy:  0.85\n",
      "              precision    recall  f1-score   support\n",
      "\n",
      "           0       0.85      0.99      0.92       135\n",
      "           1       0.67      0.08      0.14        25\n",
      "\n",
      "    accuracy                           0.85       160\n",
      "   macro avg       0.76      0.54      0.53       160\n",
      "weighted avg       0.82      0.85      0.80       160\n",
      "\n",
      "[[134   1]\n",
      " [ 23   2]]\n",
      "\n",
      "Selected Components:  27\n",
      "Accuracy on test set: \n",
      "Accuracy:  0.85\n",
      "              precision    recall  f1-score   support\n",
      "\n",
      "           0       0.85      1.00      0.92       135\n",
      "           1       1.00      0.04      0.08        25\n",
      "\n",
      "    accuracy                           0.85       160\n",
      "   macro avg       0.92      0.52      0.50       160\n",
      "weighted avg       0.87      0.85      0.79       160\n",
      "\n",
      "[[135   0]\n",
      " [ 24   1]]\n",
      "\n",
      "Selected Components:  28\n",
      "Accuracy on test set: \n",
      "Accuracy:  0.8625\n",
      "              precision    recall  f1-score   support\n",
      "\n",
      "           0       0.86      1.00      0.92       135\n",
      "           1       1.00      0.12      0.21        25\n",
      "\n",
      "    accuracy                           0.86       160\n",
      "   macro avg       0.93      0.56      0.57       160\n",
      "weighted avg       0.88      0.86      0.81       160\n",
      "\n",
      "[[135   0]\n",
      " [ 22   3]]\n",
      "\n",
      "Selected Components:  29\n",
      "Accuracy on test set: \n",
      "Accuracy:  0.85\n",
      "              precision    recall  f1-score   support\n",
      "\n",
      "           0       0.85      1.00      0.92       135\n",
      "           1       1.00      0.04      0.08        25\n",
      "\n",
      "    accuracy                           0.85       160\n",
      "   macro avg       0.92      0.52      0.50       160\n",
      "weighted avg       0.87      0.85      0.79       160\n",
      "\n",
      "[[135   0]\n",
      " [ 24   1]]\n",
      "\n"
     ]
    }
   ],
   "source": [
    "for component in range(1,30):\n",
    "    pca = PCA(n_components=component, random_state=42)\n",
    "    pca.fit(X_train_uncorr)\n",
    "    X_train_pca = pca.transform(X_train_uncorr)\n",
    "    X_test_pca = pca.transform(X_test_uncorr)\n",
    "    print('Selected Components: ', component)\n",
    "    run_randomForest(X_train_pca, X_test_pca, y_train, y_test)\n",
    "    print()"
   ]
  },
  {
   "cell_type": "markdown",
   "metadata": {},
   "source": [
    "# RIDGE LASSO"
   ]
  },
  {
   "cell_type": "code",
   "execution_count": 2,
   "metadata": {},
   "outputs": [
    {
     "name": "stderr",
     "output_type": "stream",
     "text": [
      "c:\\python37\\lib\\site-packages\\statsmodels\\tools\\_testing.py:19: FutureWarning: pandas.util.testing is deprecated. Use the functions in the public API at pandas.testing instead.\n",
      "  import pandas.util.testing as tm\n"
     ]
    }
   ],
   "source": [
    "\n",
    "import numpy as np\n",
    "import pandas as pd\n",
    "import seaborn as sns\n",
    "import matplotlib.pyplot as plt\n",
    "%matplotlib inline\n",
    "from sklearn.model_selection import train_test_split\n",
    "from sklearn.ensemble import RandomForestClassifier\n",
    "from sklearn.linear_model import Lasso, LogisticRegression\n",
    "from sklearn.feature_selection import SelectFromModel\n",
    "from sklearn.preprocessing import StandardScaler\n",
    "from sklearn.metrics import accuracy_score"
   ]
  },
  {
   "cell_type": "code",
   "execution_count": 3,
   "metadata": {},
   "outputs": [
    {
     "data": {
      "text/html": [
       "<div>\n",
       "<style scoped>\n",
       "    .dataframe tbody tr th:only-of-type {\n",
       "        vertical-align: middle;\n",
       "    }\n",
       "\n",
       "    .dataframe tbody tr th {\n",
       "        vertical-align: top;\n",
       "    }\n",
       "\n",
       "    .dataframe thead th {\n",
       "        text-align: right;\n",
       "    }\n",
       "</style>\n",
       "<table border=\"1\" class=\"dataframe\">\n",
       "  <thead>\n",
       "    <tr style=\"text-align: right;\">\n",
       "      <th></th>\n",
       "      <th>Unnamed: 0</th>\n",
       "      <th>target</th>\n",
       "      <th>peakflow</th>\n",
       "      <th>वय_275546</th>\n",
       "      <th>लिंग: _275544</th>\n",
       "      <th>शिक्षण_275545</th>\n",
       "      <th>आपल्या घरातील कुटुंबातील सदस्यांची संख्या? _275550</th>\n",
       "      <th>घराविषयीची माहिती 0 तुमचे घर कोणत्या प्रकारचे आहे ?_275549</th>\n",
       "      <th>तुमच्या घरात किती खोल्या आहेत?_275551</th>\n",
       "      <th>तुमच्या घराला एकूण किती खिडक्या आहेत ?_275552</th>\n",
       "      <th>...</th>\n",
       "      <th>जर हो, किती वर्ष पासून? _275700</th>\n",
       "      <th>हृदय रोग_275701</th>\n",
       "      <th>जर हो, किती वर्ष पासून? _275702</th>\n",
       "      <th>थाइरोइड विकार_275703</th>\n",
       "      <th>जर हो, किती वर्ष पासून? _275704</th>\n",
       "      <th>चिंता आणि निराशा_275705</th>\n",
       "      <th>जर हो, किती वर्ष पासून? _275706</th>\n",
       "      <th>हाड ठिसूळ होणे_275707</th>\n",
       "      <th>जर हो, किती वर्ष पासून? _275708</th>\n",
       "      <th>धन्यवाद सबमिट करा_275709</th>\n",
       "    </tr>\n",
       "    <tr>\n",
       "      <th>ID</th>\n",
       "      <th></th>\n",
       "      <th></th>\n",
       "      <th></th>\n",
       "      <th></th>\n",
       "      <th></th>\n",
       "      <th></th>\n",
       "      <th></th>\n",
       "      <th></th>\n",
       "      <th></th>\n",
       "      <th></th>\n",
       "      <th></th>\n",
       "      <th></th>\n",
       "      <th></th>\n",
       "      <th></th>\n",
       "      <th></th>\n",
       "      <th></th>\n",
       "      <th></th>\n",
       "      <th></th>\n",
       "      <th></th>\n",
       "      <th></th>\n",
       "      <th></th>\n",
       "    </tr>\n",
       "  </thead>\n",
       "  <tbody>\n",
       "    <tr>\n",
       "      <th>A1</th>\n",
       "      <td>0</td>\n",
       "      <td>1</td>\n",
       "      <td>210</td>\n",
       "      <td>37</td>\n",
       "      <td>2</td>\n",
       "      <td>1</td>\n",
       "      <td>4</td>\n",
       "      <td>2</td>\n",
       "      <td>2</td>\n",
       "      <td>3</td>\n",
       "      <td>...</td>\n",
       "      <td>0</td>\n",
       "      <td>0</td>\n",
       "      <td>0</td>\n",
       "      <td>0</td>\n",
       "      <td>0</td>\n",
       "      <td>0</td>\n",
       "      <td>0</td>\n",
       "      <td>0</td>\n",
       "      <td>0</td>\n",
       "      <td>0</td>\n",
       "    </tr>\n",
       "    <tr>\n",
       "      <th>A2</th>\n",
       "      <td>1</td>\n",
       "      <td>0</td>\n",
       "      <td>550</td>\n",
       "      <td>33</td>\n",
       "      <td>2</td>\n",
       "      <td>3</td>\n",
       "      <td>4</td>\n",
       "      <td>2</td>\n",
       "      <td>2</td>\n",
       "      <td>3</td>\n",
       "      <td>...</td>\n",
       "      <td>0</td>\n",
       "      <td>0</td>\n",
       "      <td>0</td>\n",
       "      <td>0</td>\n",
       "      <td>0</td>\n",
       "      <td>0</td>\n",
       "      <td>0</td>\n",
       "      <td>0</td>\n",
       "      <td>0</td>\n",
       "      <td>0</td>\n",
       "    </tr>\n",
       "    <tr>\n",
       "      <th>A3</th>\n",
       "      <td>2</td>\n",
       "      <td>0</td>\n",
       "      <td>290</td>\n",
       "      <td>19</td>\n",
       "      <td>1</td>\n",
       "      <td>4</td>\n",
       "      <td>4</td>\n",
       "      <td>2</td>\n",
       "      <td>2</td>\n",
       "      <td>3</td>\n",
       "      <td>...</td>\n",
       "      <td>0</td>\n",
       "      <td>0</td>\n",
       "      <td>0</td>\n",
       "      <td>0</td>\n",
       "      <td>0</td>\n",
       "      <td>0</td>\n",
       "      <td>0</td>\n",
       "      <td>0</td>\n",
       "      <td>0</td>\n",
       "      <td>0</td>\n",
       "    </tr>\n",
       "    <tr>\n",
       "      <th>A4</th>\n",
       "      <td>3</td>\n",
       "      <td>0</td>\n",
       "      <td>340</td>\n",
       "      <td>44</td>\n",
       "      <td>2</td>\n",
       "      <td>3</td>\n",
       "      <td>4</td>\n",
       "      <td>2</td>\n",
       "      <td>3</td>\n",
       "      <td>3</td>\n",
       "      <td>...</td>\n",
       "      <td>0</td>\n",
       "      <td>0</td>\n",
       "      <td>0</td>\n",
       "      <td>0</td>\n",
       "      <td>0</td>\n",
       "      <td>0</td>\n",
       "      <td>0</td>\n",
       "      <td>0</td>\n",
       "      <td>0</td>\n",
       "      <td>0</td>\n",
       "    </tr>\n",
       "    <tr>\n",
       "      <th>A5</th>\n",
       "      <td>4</td>\n",
       "      <td>0</td>\n",
       "      <td>420</td>\n",
       "      <td>38</td>\n",
       "      <td>2</td>\n",
       "      <td>3</td>\n",
       "      <td>5</td>\n",
       "      <td>2</td>\n",
       "      <td>3</td>\n",
       "      <td>3</td>\n",
       "      <td>...</td>\n",
       "      <td>0</td>\n",
       "      <td>0</td>\n",
       "      <td>0</td>\n",
       "      <td>0</td>\n",
       "      <td>0</td>\n",
       "      <td>0</td>\n",
       "      <td>0</td>\n",
       "      <td>0</td>\n",
       "      <td>0</td>\n",
       "      <td>0</td>\n",
       "    </tr>\n",
       "  </tbody>\n",
       "</table>\n",
       "<p>5 rows × 183 columns</p>\n",
       "</div>"
      ],
      "text/plain": [
       "    Unnamed: 0  target  peakflow  वय_275546  लिंग: _275544  शिक्षण_275545  \\\n",
       "ID                                                                          \n",
       "A1           0       1       210         37              2              1   \n",
       "A2           1       0       550         33              2              3   \n",
       "A3           2       0       290         19              1              4   \n",
       "A4           3       0       340         44              2              3   \n",
       "A5           4       0       420         38              2              3   \n",
       "\n",
       "    आपल्या घरातील कुटुंबातील सदस्यांची संख्या? _275550  \\\n",
       "ID                                                       \n",
       "A1                                                  4    \n",
       "A2                                                  4    \n",
       "A3                                                  4    \n",
       "A4                                                  4    \n",
       "A5                                                  5    \n",
       "\n",
       "    घराविषयीची माहिती 0 तुमचे घर कोणत्या प्रकारचे आहे ?_275549  \\\n",
       "ID                                                               \n",
       "A1                                                  2            \n",
       "A2                                                  2            \n",
       "A3                                                  2            \n",
       "A4                                                  2            \n",
       "A5                                                  2            \n",
       "\n",
       "    तुमच्या घरात किती खोल्या आहेत?_275551  \\\n",
       "ID                                          \n",
       "A1                                      2   \n",
       "A2                                      2   \n",
       "A3                                      2   \n",
       "A4                                      3   \n",
       "A5                                      3   \n",
       "\n",
       "    तुमच्या घराला एकूण किती खिडक्या आहेत ?_275552  ...  \\\n",
       "ID                                                 ...   \n",
       "A1                                              3  ...   \n",
       "A2                                              3  ...   \n",
       "A3                                              3  ...   \n",
       "A4                                              3  ...   \n",
       "A5                                              3  ...   \n",
       "\n",
       "    जर हो, किती वर्ष पासून? _275700  हृदय रोग_275701  \\\n",
       "ID                                                     \n",
       "A1                                0                0   \n",
       "A2                                0                0   \n",
       "A3                                0                0   \n",
       "A4                                0                0   \n",
       "A5                                0                0   \n",
       "\n",
       "    जर हो, किती वर्ष पासून? _275702  थाइरोइड विकार_275703  \\\n",
       "ID                                                          \n",
       "A1                                0                     0   \n",
       "A2                                0                     0   \n",
       "A3                                0                     0   \n",
       "A4                                0                     0   \n",
       "A5                                0                     0   \n",
       "\n",
       "    जर हो, किती वर्ष पासून? _275704  चिंता आणि निराशा_275705  \\\n",
       "ID                                                             \n",
       "A1                                0                        0   \n",
       "A2                                0                        0   \n",
       "A3                                0                        0   \n",
       "A4                                0                        0   \n",
       "A5                                0                        0   \n",
       "\n",
       "    जर हो, किती वर्ष पासून? _275706  हाड ठिसूळ होणे_275707  \\\n",
       "ID                                                           \n",
       "A1                                0                      0   \n",
       "A2                                0                      0   \n",
       "A3                                0                      0   \n",
       "A4                                0                      0   \n",
       "A5                                0                      0   \n",
       "\n",
       "    जर हो, किती वर्ष पासून? _275708  धन्यवाद सबमिट करा_275709  \n",
       "ID                                                             \n",
       "A1                                0                         0  \n",
       "A2                                0                         0  \n",
       "A3                                0                         0  \n",
       "A4                                0                         0  \n",
       "A5                                0                         0  \n",
       "\n",
       "[5 rows x 183 columns]"
      ]
     },
     "execution_count": 3,
     "metadata": {},
     "output_type": "execute_result"
    }
   ],
   "source": [
    "data = pd.read_csv(\"D:/data/CRF Final Data/oscar/main oscar.csv\")\n",
    "data = data.set_index(\"ID\")\n",
    "data.head()"
   ]
  },
  {
   "cell_type": "code",
   "execution_count": 4,
   "metadata": {},
   "outputs": [
    {
     "data": {
      "text/plain": [
       "((798, 182), (798,))"
      ]
     },
     "execution_count": 4,
     "metadata": {},
     "output_type": "execute_result"
    }
   ],
   "source": [
    "X = data.drop('target', axis = 1)\n",
    "y = data['target']\n",
    "\n",
    "X.shape, y.shape"
   ]
  },
  {
   "cell_type": "code",
   "execution_count": 5,
   "metadata": {},
   "outputs": [],
   "source": [
    "X_train, X_test, y_train, y_test = train_test_split(X, y, test_size = 0.33, random_state = 42)"
   ]
  },
  {
   "cell_type": "code",
   "execution_count": 6,
   "metadata": {},
   "outputs": [
    {
     "data": {
      "text/plain": [
       "SelectFromModel(estimator=LogisticRegression(C=0.05, class_weight=None,\n",
       "                                             dual=False, fit_intercept=True,\n",
       "                                             intercept_scaling=1, l1_ratio=None,\n",
       "                                             max_iter=100, multi_class='auto',\n",
       "                                             n_jobs=None, penalty='l1',\n",
       "                                             random_state=None,\n",
       "                                             solver='liblinear', tol=0.0001,\n",
       "                                             verbose=0, warm_start=False),\n",
       "                max_features=None, norm_order=1, prefit=False, threshold=None)"
      ]
     },
     "execution_count": 6,
     "metadata": {},
     "output_type": "execute_result"
    }
   ],
   "source": [
    "sel = SelectFromModel(LogisticRegression(C = 0.05, penalty = 'l1', solver = 'liblinear'))\n",
    "sel.fit(X_train, y_train)"
   ]
  },
  {
   "cell_type": "code",
   "execution_count": 7,
   "metadata": {},
   "outputs": [
    {
     "data": {
      "text/plain": [
       "array([ True,  True,  True, False, False,  True, False,  True, False,\n",
       "       False, False, False, False, False, False, False, False, False,\n",
       "       False, False, False, False, False, False, False,  True, False,\n",
       "       False, False, False,  True, False, False, False, False,  True,\n",
       "       False, False,  True, False, False, False, False, False, False,\n",
       "       False, False,  True, False, False, False, False, False, False,\n",
       "       False, False, False, False,  True, False,  True, False, False,\n",
       "       False, False, False, False, False,  True, False, False, False,\n",
       "       False, False, False, False, False,  True, False, False, False,\n",
       "       False, False,  True, False, False,  True, False, False, False,\n",
       "       False, False,  True, False, False,  True, False, False,  True,\n",
       "       False,  True, False, False, False, False, False, False, False,\n",
       "       False, False, False, False, False, False, False, False, False,\n",
       "       False, False, False, False, False, False, False, False,  True,\n",
       "       False, False, False, False, False, False, False, False, False,\n",
       "       False, False, False, False,  True, False, False, False,  True,\n",
       "       False, False, False, False, False, False, False,  True, False,\n",
       "       False, False, False, False, False, False, False, False, False,\n",
       "       False, False, False, False, False,  True, False, False, False,\n",
       "       False, False, False, False, False, False, False,  True, False,\n",
       "       False, False])"
      ]
     },
     "execution_count": 7,
     "metadata": {},
     "output_type": "execute_result"
    }
   ],
   "source": [
    "sel.get_support()"
   ]
  },
  {
   "cell_type": "code",
   "execution_count": 8,
   "metadata": {},
   "outputs": [
    {
     "data": {
      "text/plain": [
       "Index(['Unnamed: 0', 'peakflow', 'वय_275546',\n",
       "       'आपल्या घरातील कुटुंबातील सदस्यांची संख्या? _275550',\n",
       "       'तुमच्या घरात किती खोल्या आहेत?_275551', 'बिडी संख्या / दर महिना',\n",
       "       'जर हो, किती वर्षे पासून धूम्रपान करत आहे?_275573',\n",
       "       'जर होय, तर तुमच्या घरात, घराच्या आतमध्ये धूम्रपान किती वर्षांपासून करतात ?_275577',\n",
       "       'वापरलेले वर्षे', 'वापरलेले तास.2',\n",
       "       'तुम्ही स्वतः किती वर्षापसून स्वयंपाक करता / करत होता ?_275610',\n",
       "       'व्यवसाय', 'कालावधी.2', 'किती वर्षे', 'किती वर्षे.2', 'किती वर्षे.3',\n",
       "       'किती वर्षे.5', 'किती वर्षे.6', 'किती वर्षे.7',\n",
       "       'जर होय, तर 'दमा' हा आजार तुम्हाला किती वर्षापासून आहे ?_275651',\n",
       "       'तुमचा खोकला दिवसभरात कोणत्यावेळी सर्वात जास्त प्रमाणात होता / आहे ?_276711_दुपारी',\n",
       "       'तुम्हाला सपाट जमिनीवर सुमारे किती मीटर चालल्यानंतर दम लागतो ?_275674',\n",
       "       'जर होय, तर कोणत्या ऋतूत तुमचा दम वाढतो ?_275683_पावसाळी',\n",
       "       'तुम्हाला किती वर्षापासून दम लागतो ?_275680',\n",
       "       'तुमच्या कुटुंबात कधी कोणाला नमुद आजार झाला होता / आहे का ?_275723_कोणतेही नाही',\n",
       "       'जर हो, किती वर्ष पासून? _275706'],\n",
       "      dtype='object')"
      ]
     },
     "execution_count": 8,
     "metadata": {},
     "output_type": "execute_result"
    }
   ],
   "source": [
    "features = X_train.columns[sel.get_support()]\n",
    "features"
   ]
  },
  {
   "cell_type": "code",
   "execution_count": 9,
   "metadata": {},
   "outputs": [],
   "source": [
    "\n",
    "X_train_l1 = sel.transform(X_train)\n",
    "X_test_l1 = sel.transform(X_test)"
   ]
  },
  {
   "cell_type": "code",
   "execution_count": 10,
   "metadata": {},
   "outputs": [
    {
     "data": {
      "text/plain": [
       "((534, 26), (264, 26))"
      ]
     },
     "execution_count": 10,
     "metadata": {},
     "output_type": "execute_result"
    }
   ],
   "source": [
    "\n",
    "X_train_l1.shape, X_test_l1.shape"
   ]
  },
  {
   "cell_type": "code",
   "execution_count": 11,
   "metadata": {},
   "outputs": [],
   "source": [
    "from sklearn.metrics import accuracy_score, classification_report, confusion_matrix\n",
    "def run_randomForest(X_train, X_test, y_train, y_test):\n",
    "    clf = RandomForestClassifier(n_estimators=100, random_state=0, n_jobs = -1)\n",
    "    clf.fit(X_train, y_train)\n",
    "    y_pred = clf.predict(X_test)\n",
    "   \n",
    "    \n",
    "    print('Accuracy on test set: ')\n",
    "    print(\"Accuracy: \", accuracy_score(y_test, y_pred))\n",
    "    print(classification_report(y_test, y_pred))\n",
    "    print(confusion_matrix(y_test, y_pred))\n",
    "    \n",
    "    "
   ]
  },
  {
   "cell_type": "code",
   "execution_count": 12,
   "metadata": {},
   "outputs": [
    {
     "name": "stdout",
     "output_type": "stream",
     "text": [
      "Accuracy on test set: \n",
      "Accuracy:  0.8446969696969697\n",
      "              precision    recall  f1-score   support\n",
      "\n",
      "           0       0.86      0.98      0.91       224\n",
      "           1       0.43      0.07      0.13        40\n",
      "\n",
      "    accuracy                           0.84       264\n",
      "   macro avg       0.64      0.53      0.52       264\n",
      "weighted avg       0.79      0.84      0.80       264\n",
      "\n",
      "[[220   4]\n",
      " [ 37   3]]\n",
      "Wall time: 835 ms\n"
     ]
    }
   ],
   "source": [
    "%%time\n",
    "run_randomForest(X_train_l1, X_test_l1, y_train, y_test)"
   ]
  },
  {
   "cell_type": "code",
   "execution_count": 13,
   "metadata": {},
   "outputs": [
    {
     "name": "stdout",
     "output_type": "stream",
     "text": [
      "Accuracy on test set: \n",
      "Accuracy:  0.8560606060606061\n",
      "              precision    recall  f1-score   support\n",
      "\n",
      "           0       0.86      1.00      0.92       224\n",
      "           1       0.75      0.07      0.14        40\n",
      "\n",
      "    accuracy                           0.86       264\n",
      "   macro avg       0.80      0.54      0.53       264\n",
      "weighted avg       0.84      0.86      0.80       264\n",
      "\n",
      "[[223   1]\n",
      " [ 37   3]]\n",
      "Wall time: 610 ms\n"
     ]
    }
   ],
   "source": [
    "%%time\n",
    "run_randomForest(X_train, X_test, y_train, y_test)"
   ]
  },
  {
   "cell_type": "markdown",
   "metadata": {},
   "source": [
    "# Ridge Regression"
   ]
  },
  {
   "cell_type": "code",
   "execution_count": 15,
   "metadata": {},
   "outputs": [],
   "source": [
    "from sklearn.linear_model import RidgeClassifierCV"
   ]
  },
  {
   "cell_type": "code",
   "execution_count": 16,
   "metadata": {},
   "outputs": [
    {
     "data": {
      "text/plain": [
       "RidgeClassifierCV(alphas=array([ 10,  20,  50, 100, 200, 300]),\n",
       "                  class_weight=None, cv=10, fit_intercept=True, normalize=False,\n",
       "                  scoring=None, store_cv_values=False)"
      ]
     },
     "execution_count": 16,
     "metadata": {},
     "output_type": "execute_result"
    }
   ],
   "source": [
    "rr = RidgeClassifierCV(alphas=[10, 20, 50, 100, 200, 300], cv = 10 )\n",
    "rr.fit(X_train, y_train)"
   ]
  },
  {
   "cell_type": "code",
   "execution_count": 17,
   "metadata": {},
   "outputs": [
    {
     "data": {
      "text/plain": [
       "0.8409090909090909"
      ]
     },
     "execution_count": 17,
     "metadata": {},
     "output_type": "execute_result"
    }
   ],
   "source": [
    "rr.score(X_test, y_test)"
   ]
  },
  {
   "cell_type": "code",
   "execution_count": 18,
   "metadata": {},
   "outputs": [
    {
     "data": {
      "text/plain": [
       "array([[-1.89039320e-04, -8.58307210e-05,  4.74591322e-03,\n",
       "        -4.35851589e-03,  1.66619748e-02, -4.05704592e-03,\n",
       "        -1.46781738e-02, -3.00751452e-02,  1.60063565e-02,\n",
       "        -1.62577749e-02,  2.46589524e-02, -8.28171074e-03,\n",
       "         3.25767252e-02, -7.15768425e-04,  3.48836391e-03,\n",
       "         0.00000000e+00,  9.26357610e-04, -2.90109902e-03,\n",
       "         3.19459022e-03, -4.43898932e-03, -1.41606658e-02,\n",
       "         0.00000000e+00, -8.24374593e-04,  3.20111525e-03,\n",
       "        -3.44088498e-03, -1.17851975e-04,  3.65462939e-03,\n",
       "         7.64490709e-03,  5.09660473e-02,  9.81248153e-04,\n",
       "         1.44535256e-02, -1.06106523e-02, -1.87797150e-03,\n",
       "        -6.10518150e-03, -1.83024503e-04, -2.09210075e-02,\n",
       "         0.00000000e+00,  1.73597818e-03, -1.39017935e-03,\n",
       "        -1.08048102e-02,  0.00000000e+00, -1.87899151e-02,\n",
       "         3.00664579e-03, -5.00142717e-04,  0.00000000e+00,\n",
       "        -1.68001988e-02, -2.20943242e-04,  4.26449862e-02,\n",
       "         0.00000000e+00, -1.55976723e-02, -8.07154190e-03,\n",
       "         1.53437747e-03,  0.00000000e+00,  0.00000000e+00,\n",
       "         0.00000000e+00,  0.00000000e+00,  0.00000000e+00,\n",
       "         2.02519265e-03, -2.13897546e-03,  0.00000000e+00,\n",
       "         1.10841040e-03,  1.47814188e-03,  0.00000000e+00,\n",
       "         2.76963975e-03, -1.24102367e-02,  1.60311564e-02,\n",
       "         0.00000000e+00, -1.77897507e-04, -3.70178545e-03,\n",
       "         0.00000000e+00,  5.03012510e-03, -2.54153947e-03,\n",
       "        -1.51872517e-02, -5.47370025e-04, -1.35348645e-02,\n",
       "         0.00000000e+00, -1.52705651e-02, -1.06120535e-02,\n",
       "         0.00000000e+00, -6.34993481e-04,  7.18068544e-03,\n",
       "         0.00000000e+00, -9.61930970e-04,  6.74528648e-03,\n",
       "         0.00000000e+00, -4.22151940e-04,  6.24182401e-03,\n",
       "         0.00000000e+00, -2.26502393e-03, -1.28415043e-03,\n",
       "         0.00000000e+00, -2.93558347e-03,  9.13362227e-03,\n",
       "         0.00000000e+00, -1.58046051e-02, -5.31152027e-03,\n",
       "         0.00000000e+00, -8.34921675e-03, -1.08705763e-02,\n",
       "         1.42863014e-02,  2.51811238e-02, -1.60278301e-03,\n",
       "         2.98003481e-03,  4.47005222e-02,  2.68203133e-02,\n",
       "        -7.51253549e-04,  5.22141708e-03,  1.88585125e-03,\n",
       "         7.76500907e-03,  3.87917886e-02, -1.32606200e-02,\n",
       "         2.06533648e-02,  4.87545989e-03,  2.25993463e-02,\n",
       "        -1.78855673e-04, -2.08006620e-03, -2.96681318e-03,\n",
       "        -1.13637669e-03, -1.98930135e-03,  0.00000000e+00,\n",
       "         2.06908164e-03,  0.00000000e+00,  8.19352269e-03,\n",
       "         1.82197481e-03,  9.49757324e-04, -9.79600676e-06,\n",
       "         1.88354552e-02, -6.36615302e-03,  3.11266887e-03,\n",
       "        -1.75191624e-03, -3.35710378e-03, -1.23587625e-03,\n",
       "         2.73628285e-03,  5.42372804e-03, -1.81115110e-02,\n",
       "         1.01977271e-02, -3.09376792e-02,  1.53880961e-02,\n",
       "        -1.26025150e-02,  5.09275132e-05, -6.11058665e-03,\n",
       "         1.17058032e-02, -3.21695424e-02, -4.05428989e-02,\n",
       "        -5.16133830e-03, -4.79187861e-03, -2.33362569e-02,\n",
       "        -3.78012252e-03, -7.35222882e-03, -5.66503376e-03,\n",
       "         1.25244243e-03,  1.13827436e-02,  1.68032730e-03,\n",
       "        -5.64566069e-03, -6.78978266e-03,  3.68031521e-02,\n",
       "        -5.25691793e-03, -1.78239464e-03, -6.31831627e-03,\n",
       "         1.64561984e-02,  2.95402948e-02, -1.22828932e-02,\n",
       "        -9.50547885e-03,  3.87212441e-03,  1.92050729e-02,\n",
       "         3.94731202e-02, -2.86759909e-02, -7.66172494e-03,\n",
       "         0.00000000e+00,  7.98382065e-04,  2.07580039e-03,\n",
       "        -1.21470577e-02, -1.53594396e-02, -3.22146957e-03,\n",
       "        -4.08761383e-03, -6.41903924e-03, -3.02450731e-02,\n",
       "         1.99551309e-04,  5.54691447e-03, -7.33940511e-03,\n",
       "        -7.68543489e-03,  0.00000000e+00]])"
      ]
     },
     "execution_count": 18,
     "metadata": {},
     "output_type": "execute_result"
    }
   ],
   "source": [
    "\n",
    "rr.coef_"
   ]
  },
  {
   "cell_type": "code",
   "execution_count": 19,
   "metadata": {},
   "outputs": [
    {
     "data": {
      "text/plain": [
       "300"
      ]
     },
     "execution_count": 19,
     "metadata": {},
     "output_type": "execute_result"
    }
   ],
   "source": [
    "rr.alpha_"
   ]
  },
  {
   "cell_type": "code",
   "execution_count": 20,
   "metadata": {},
   "outputs": [
    {
     "data": {
      "text/plain": [
       "array([ 10,  20,  50, 100, 200, 300])"
      ]
     },
     "execution_count": 20,
     "metadata": {},
     "output_type": "execute_result"
    }
   ],
   "source": [
    "rr.alphas"
   ]
  },
  {
   "cell_type": "code",
   "execution_count": null,
   "metadata": {},
   "outputs": [],
   "source": []
  }
 ],
 "metadata": {
  "kernelspec": {
   "display_name": "Python 3",
   "language": "python",
   "name": "python3"
  },
  "language_info": {
   "codemirror_mode": {
    "name": "ipython",
    "version": 3
   },
   "file_extension": ".py",
   "mimetype": "text/x-python",
   "name": "python",
   "nbconvert_exporter": "python",
   "pygments_lexer": "ipython3",
   "version": "3.7.4"
  }
 },
 "nbformat": 4,
 "nbformat_minor": 4
}
