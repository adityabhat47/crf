{
 "cells": [
  {
   "cell_type": "code",
   "execution_count": 1,
   "metadata": {},
   "outputs": [],
   "source": [
    "def f(x):\n",
    "    return x%3==0;\n",
    "def sqr(x):\n",
    "    return x*x;\n",
    "\n",
    "\n",
    "\n",
    "def re(x,y):\n",
    "    return x + y;\n",
    "\n"
   ]
  },
  {
   "cell_type": "code",
   "execution_count": 5,
   "metadata": {},
   "outputs": [
    {
     "name": "stdout",
     "output_type": "stream",
     "text": [
      "[3, 6, 9]"
     ]
    }
   ],
   "source": [
    "a = range(1,10)\n",
    "b= filter(f,a)\n",
    "print(list(b),end=\"\")\n",
    "\n",
    "\n"
   ]
  },
  {
   "cell_type": "code",
   "execution_count": 4,
   "metadata": {},
   "outputs": [
    {
     "name": "stdout",
     "output_type": "stream",
     "text": [
      "[1, 4, 9, 16, 25, 36, 49, 64, 81]\n"
     ]
    }
   ],
   "source": [
    "c = map(sqr,a)\n",
    "print(list(c))"
   ]
  },
  {
   "cell_type": "code",
   "execution_count": 6,
   "metadata": {},
   "outputs": [],
   "source": [
    "class Pet(object):\n",
    "    \n",
    "    def __init__(self, name, species):\n",
    "        self.name = name\n",
    "        self.species = species\n",
    "\n",
    "    def getName(self):\n",
    "        return self.name\n",
    "\n",
    "    def getSpecies(self):\n",
    "        return self.species\n",
    "\n",
    "    def __str__(self):\n",
    "        return \"%s is a %s\" % (self.name, self.species)\n",
    "\n",
    "class Dog(Pet):\n",
    "    \n",
    "    def __init__(self, name, chases_cats):\n",
    "        Pet.__init__(self, name, \"Dog\")\n",
    "        self.chases_cats = chases_cats\n",
    "\n",
    "    def chasesCats(self):\n",
    "        return self.chases_cats\n",
    "\n",
    "class Cat(Pet):\n",
    "    def __init__(self, name, hates_dogs):\n",
    "        Pet.__init__(self, name, \"Cat\")\n",
    "        self.hates_dogs = hates_dogs\n",
    "\n",
    "    def hatesDogs(self):\n",
    "        return self.hates_dogs"
   ]
  },
  {
   "cell_type": "code",
   "execution_count": 9,
   "metadata": {},
   "outputs": [],
   "source": [
    "class MyClass:\n",
    "    def __init__(self,fname,lname):\n",
    "        self.fname=fname\n",
    "        self.lname=lname"
   ]
  },
  {
   "cell_type": "code",
   "execution_count": 13,
   "metadata": {},
   "outputs": [],
   "source": [
    "a = MyClass(\"aditya\",\"Bhat\")"
   ]
  },
  {
   "cell_type": "code",
   "execution_count": 15,
   "metadata": {},
   "outputs": [
    {
     "data": {
      "text/plain": [
       "'aditya'"
      ]
     },
     "execution_count": 15,
     "metadata": {},
     "output_type": "execute_result"
    }
   ],
   "source": [
    "a.fname"
   ]
  },
  {
   "cell_type": "code",
   "execution_count": 24,
   "metadata": {},
   "outputs": [
    {
     "data": {
      "text/plain": [
       "type"
      ]
     },
     "execution_count": 24,
     "metadata": {},
     "output_type": "execute_result"
    }
   ],
   "source": [
    "type(type)\n"
   ]
  },
  {
   "cell_type": "code",
   "execution_count": 1,
   "metadata": {},
   "outputs": [
    {
     "name": "stdout",
     "output_type": "stream",
     "text": [
      "Help on class dict in module builtins:\n",
      "\n",
      "class dict(object)\n",
      " |  dict() -> new empty dictionary\n",
      " |  dict(mapping) -> new dictionary initialized from a mapping object's\n",
      " |      (key, value) pairs\n",
      " |  dict(iterable) -> new dictionary initialized as if via:\n",
      " |      d = {}\n",
      " |      for k, v in iterable:\n",
      " |          d[k] = v\n",
      " |  dict(**kwargs) -> new dictionary initialized with the name=value pairs\n",
      " |      in the keyword argument list.  For example:  dict(one=1, two=2)\n",
      " |  \n",
      " |  Methods defined here:\n",
      " |  \n",
      " |  __contains__(self, key, /)\n",
      " |      True if the dictionary has the specified key, else False.\n",
      " |  \n",
      " |  __delitem__(self, key, /)\n",
      " |      Delete self[key].\n",
      " |  \n",
      " |  __eq__(self, value, /)\n",
      " |      Return self==value.\n",
      " |  \n",
      " |  __ge__(self, value, /)\n",
      " |      Return self>=value.\n",
      " |  \n",
      " |  __getattribute__(self, name, /)\n",
      " |      Return getattr(self, name).\n",
      " |  \n",
      " |  __getitem__(...)\n",
      " |      x.__getitem__(y) <==> x[y]\n",
      " |  \n",
      " |  __gt__(self, value, /)\n",
      " |      Return self>value.\n",
      " |  \n",
      " |  __init__(self, /, *args, **kwargs)\n",
      " |      Initialize self.  See help(type(self)) for accurate signature.\n",
      " |  \n",
      " |  __iter__(self, /)\n",
      " |      Implement iter(self).\n",
      " |  \n",
      " |  __le__(self, value, /)\n",
      " |      Return self<=value.\n",
      " |  \n",
      " |  __len__(self, /)\n",
      " |      Return len(self).\n",
      " |  \n",
      " |  __lt__(self, value, /)\n",
      " |      Return self<value.\n",
      " |  \n",
      " |  __ne__(self, value, /)\n",
      " |      Return self!=value.\n",
      " |  \n",
      " |  __repr__(self, /)\n",
      " |      Return repr(self).\n",
      " |  \n",
      " |  __setitem__(self, key, value, /)\n",
      " |      Set self[key] to value.\n",
      " |  \n",
      " |  __sizeof__(...)\n",
      " |      D.__sizeof__() -> size of D in memory, in bytes\n",
      " |  \n",
      " |  clear(...)\n",
      " |      D.clear() -> None.  Remove all items from D.\n",
      " |  \n",
      " |  copy(...)\n",
      " |      D.copy() -> a shallow copy of D\n",
      " |  \n",
      " |  get(self, key, default=None, /)\n",
      " |      Return the value for key if key is in the dictionary, else default.\n",
      " |  \n",
      " |  items(...)\n",
      " |      D.items() -> a set-like object providing a view on D's items\n",
      " |  \n",
      " |  keys(...)\n",
      " |      D.keys() -> a set-like object providing a view on D's keys\n",
      " |  \n",
      " |  pop(...)\n",
      " |      D.pop(k[,d]) -> v, remove specified key and return the corresponding value.\n",
      " |      If key is not found, d is returned if given, otherwise KeyError is raised\n",
      " |  \n",
      " |  popitem(...)\n",
      " |      D.popitem() -> (k, v), remove and return some (key, value) pair as a\n",
      " |      2-tuple; but raise KeyError if D is empty.\n",
      " |  \n",
      " |  setdefault(self, key, default=None, /)\n",
      " |      Insert key with a value of default if key is not in the dictionary.\n",
      " |      \n",
      " |      Return the value for key if key is in the dictionary, else default.\n",
      " |  \n",
      " |  update(...)\n",
      " |      D.update([E, ]**F) -> None.  Update D from dict/iterable E and F.\n",
      " |      If E is present and has a .keys() method, then does:  for k in E: D[k] = E[k]\n",
      " |      If E is present and lacks a .keys() method, then does:  for k, v in E: D[k] = v\n",
      " |      In either case, this is followed by: for k in F:  D[k] = F[k]\n",
      " |  \n",
      " |  values(...)\n",
      " |      D.values() -> an object providing a view on D's values\n",
      " |  \n",
      " |  ----------------------------------------------------------------------\n",
      " |  Class methods defined here:\n",
      " |  \n",
      " |  fromkeys(iterable, value=None, /) from builtins.type\n",
      " |      Create a new dictionary with keys from iterable and values set to value.\n",
      " |  \n",
      " |  ----------------------------------------------------------------------\n",
      " |  Static methods defined here:\n",
      " |  \n",
      " |  __new__(*args, **kwargs) from builtins.type\n",
      " |      Create and return a new object.  See help(type) for accurate signature.\n",
      " |  \n",
      " |  ----------------------------------------------------------------------\n",
      " |  Data and other attributes defined here:\n",
      " |  \n",
      " |  __hash__ = None\n",
      "\n"
     ]
    }
   ],
   "source": [
    "help(dict)"
   ]
  },
  {
   "cell_type": "code",
   "execution_count": 23,
   "metadata": {},
   "outputs": [],
   "source": [
    "file = open('D:\\geeksfor geeks.txt')"
   ]
  },
  {
   "cell_type": "code",
   "execution_count": 24,
   "metadata": {},
   "outputs": [],
   "source": [
    "cont = file.read()"
   ]
  },
  {
   "cell_type": "code",
   "execution_count": 25,
   "metadata": {},
   "outputs": [
    {
     "name": "stdout",
     "output_type": "stream",
     "text": [
      "http://geeksforgeeks.org/python-merging-nested-lists/\n",
      "http://geeksforgeeks.org/python-program-to-delete-a-file/\n",
      "http://geeksforgeeks.org/python-find-most-common-element-in-each-column-in-a-2d-list/\n",
      "http://geeksforgeeks.org/interquartile-range-and-quartile-deviation-using-numpy-and-scipy/\n",
      "http://geeksforgeeks.org/univariate-linear-regression-in-python/\n",
      "http://geeksforgeeks.org/python-ways-to-print-list-without-quotes/\n",
      "http://geeksforgeeks.org/python-group-list-elements-based-on-frequency/\n",
      "http://geeksforgeeks.org/python-find-closest-number-to-k-in-given-list/\n",
      "http://geeksforgeeks.org/python-difference-between-two-dates-in-minutes-using-datetime-timedelta-method/\n",
      "http://geeksforgeeks.org/python-ways-to-join-pair-of-elements-in-list/\n",
      "http://geeksforgeeks.org/python-column-wise-sum-of-nested-list/-----------\n",
      "http://geeksforgeeks.org/python-convert-string-to-binary/\n",
      "http://geeksforgeeks.org/python-remove-unwanted-spaces-from-string/\n",
      "http://geeksforgeeks.org/python-get-matching-substrings-in-string/\n",
      "http://geeksforgeeks.org/python-insert-a-number-in-string/\n",
      "http://geeksforgeeks.org/python-lowercase-first-character-of-string/\n",
      "http://geeksforgeeks.org/python-deleting-all-occurrences-of-character/\n",
      "http://geeksforgeeks.org/python-prefix-extraction-before-specific-character/\n",
      "http://geeksforgeeks.org/python-convert-bytearray-to-hexadecimal-string/\n",
      "http://geeksforgeeks.org/python-frequency-of-substring-in-given-string/----------------------\n",
      "http://geeksforgeeks.org/python-remove-duplicate-tuples-from-list-of-tuples/\n",
      "http://geeksforgeeks.org/check-if-email-address-valid-or-not-in-python/\n",
      "http://geeksforgeeks.org/python-check-if-string-ends-with-any-string-in-given-list/\n",
      "http://geeksforgeeks.org/python-check-if-given-string-is-numeric-or-not/\n",
      "http://geeksforgeeks.org/python-add-comma-between-numbers/\n",
      "http://geeksforgeeks.org/python-splitting-text-and-number-in-string/\n",
      "http://geeksforgeeks.org/python-replace-multiple-characters-at-once/\n",
      "http://geeksforgeeks.org/python-return-lowercase-characters-from-given-string/\n",
      "http://geeksforgeeks.org/python-ways-to-split-strings-on-uppercase-characters/\n",
      "http://geeksforgeeks.org/python-background-subtraction-using-opencv/\n",
      "http://geeksforgeeks.org/python-ways-to-split-strings-using-newline-delimiter/--------------------------\n",
      "http://geeksforgeeks.org/python-check-if-string-is-a-valid-identifier/\n",
      "http://geeksforgeeks.org/python-convert-1d-list-to-2d-list-of-variable-length/\n",
      "http://geeksforgeeks.org/python-add-trailing-zeros-to-string/\n",
      "http://geeksforgeeks.org/how-to-get-the-permission-mask-of-a-file-in-python/\n",
      "http://geeksforgeeks.org/python-split-given-string-into-equal-halves/\n",
      "http://geeksforgeeks.org/python-pil-imageops-fit-method/\n",
      "http://geeksforgeeks.org/python-ways-to-count-number-of-substring-in-string/\n",
      "http://geeksforgeeks.org/python-mean-squared-error/\n",
      "http://geeksforgeeks.org/python-sympy-sqrt-method-2/\n",
      "http://geeksforgeeks.org/python-reverse-slicing-of-given-string/\n",
      "http://geeksforgeeks.org/python-pil-imageops-expand-method/\n",
      "http://geeksforgeeks.org/pyhton-pil-attributes/\n",
      "http://geeksforgeeks.org/python-ways-to-find-all-permutation-of-a-string/\n",
      "http://geeksforgeeks.org/python-check-for-spaces-in-string/--------------------------------------------\n",
      "http://geeksforgeeks.org/python-convert-stream-of-numbers-to-list/\n",
      "http://geeksforgeeks.org/python-removing-initial-word-from-string/\n",
      "http://geeksforgeeks.org/python-insert-character-after-every-character-pair/\n",
      "http://geeksforgeeks.org/python-visualize-missing-values-nan-values-using-missingno-library/\n",
      "http://geeksforgeeks.org/how-to-create-a-list-of-object-in-python-class/\n",
      "http://geeksforgeeks.org/python-get-numeric-prefix-of-given-string/\n",
      "http://geeksforgeeks.org/python-get-all-substrings-of-given-string/\n",
      "http://geeksforgeeks.org/python-check-numeric-suffix-in-string/\n",
      "http://geeksforgeeks.org/python-ways-to-check-if-given-string-contains-only-letter/\n",
      "http://geeksforgeeks.org/python-ways-to-sort-list-of-strings-in-case-insensitive-manner/\n",
      "http://geeksforgeeks.org/python-ways-to-concatenate-boolean-to-string/-------------------\n",
      "http://geeksforgeeks.org/python-search-key-from-value/\n",
      "http://geeksforgeeks.org/python-converting-string-content-to-dictionary/\n",
      "http://geeksforgeeks.org/python-ways-to-convert-boolean-values-to-integer/\n",
      "http://geeksforgeeks.org/python-remove-keys-from-dictionary-starting-with-k/\n",
      "http://geeksforgeeks.org/python-splitting-operators-in-string/\n",
      "http://geeksforgeeks.org/python-ways-to-check-string-contain-all-same-characters/\n",
      "http://geeksforgeeks.org/python-convert-list-of-strings-to-space-separated-string/\n",
      "http://geeksforgeeks.org/python-check-if-substring-is-part-of-list-of-strings/\n",
      "http://geeksforgeeks.org/python-insert-character-after-every-character-pair/\n",
      "http://geeksforgeeks.org/python-ways-to-determine-common-prefix-in-set-of-strings/\n",
      "http://geeksforgeeks.org/python-ways-to-find-nth-occurrence-of-substring-in-a-string/\n",
      "http://geeksforgeeks.org/python-ways-to-convert-hex-into-binary/\n",
      "http://geeksforgeeks.org/python-add-keys-to-nested-dictionary/---------------\n",
      "http://geeksforgeeks.org/python-sort-dictionary-keys-to-list/\n",
      "http://geeksforgeeks.org/python-list-value-merge-in-dictionary/\n",
      "http://geeksforgeeks.org/python-minimum-value-keys-in-dictionary/\n",
      "http://geeksforgeeks.org/python-check-for-none-values-in-given-dictionary/\n",
      "http://geeksforgeeks.org/python-iterate-through-value-lists-dictionary/-----------------------\n",
      "http://geeksforgeeks.org/python-grouping-dictionary-keys-by-value/\n",
      "http://geeksforgeeks.org/python-updating-value-list-in-dictionary/\n",
      "http://geeksforgeeks.org/python-selective-key-values-in-dictionary/\n",
      "http://geeksforgeeks.org/python-categorize-tuple-values-into-dictionary-value-list/-----------------\n",
      "\n",
      "\n",
      "http://geeksforgeeks.org/python-extract-key-value-of-dictionary-in-variables/\n",
      "http://geeksforgeeks.org/python-check-if-one-dictionary-is-subset-of-other/\n",
      "http://geeksforgeeks.org/python-type-conversion-of-dictionary-items/\n",
      "http://geeksforgeeks.org/python-segregating-keys-value-in-list-of-dictionaries/\n",
      "http://geeksforgeeks.org/python-get-unique-values-from-list-of-dictionary/\n",
      "http://geeksforgeeks.org/python-count-keys-with-particular-value-in-dictionary/\n",
      "http://geeksforgeeks.org/python-increment-value-in-dictionary/\n",
      "http://geeksforgeeks.org/python-get-first-k-items-in-dictionary/\n",
      "http://geeksforgeeks.org/python-sort-the-items-alphabetically-from-given-dictionary/\n",
      "http://geeksforgeeks.org/python-get-first-n-keyvalue-pairs-in-given-dictionary/\n",
      "http://geeksforgeeks.org/python-prefix-key-match-in-dictionary/\n",
      "http://geeksforgeeks.org/python-initialize-dictionary-with-multiple-keys/\n",
      "http://geeksforgeeks.org/python-check-if-key-has-non-none-value-in-dictionary/\n",
      "http://geeksforgeeks.org/python-split-given-dictionary-in-half/\n",
      "http://geeksforgeeks.org/python-merge-list-of-tuple-into-list-by-joining-the-strings/\n",
      "http://geeksforgeeks.org/python-merge-python-key-values-to-list/\n",
      "http://geeksforgeeks.org/python-perform-operation-on-each-key-dictionary/\n",
      "http://geeksforgeeks.org/python-subtraction-of-dictionaries/\n",
      "http://geeksforgeeks.org/python-initialize-dictionary-with-none-values/\n",
      "http://geeksforgeeks.org/python-convert-list-of-tuples-to-dictionary-value-lists/\n",
      "http://geeksforgeeks.org/python-merge-key-value-lists/\n",
      "http://geeksforgeeks.org/python-get-values-of-particular-key-in-list-of-dictionaries/\n",
      "http://geeksforgeeks.org/python-reversed-order-keys-in-dictionary/\n",
      "http://geeksforgeeks.org/python-find-the-closest-key-in-dictionary/\n",
      "http://geeksforgeeks.org/python-substring-key-match-in-dictionary/\n",
      "http://geeksforgeeks.org/python-convert-tuples-to-dictionary/\n",
      "http://geeksforgeeks.org/python-remove-multiple-keys-from-dictionary/\n"
     ]
    }
   ],
   "source": [
    "print(cont)"
   ]
  },
  {
   "cell_type": "code",
   "execution_count": 27,
   "metadata": {},
   "outputs": [],
   "source": [
    "file.close()"
   ]
  },
  {
   "cell_type": "code",
   "execution_count": 29,
   "metadata": {},
   "outputs": [],
   "source": [
    "file = open('D:\\geeksfor geeks.txt','r')"
   ]
  },
  {
   "cell_type": "code",
   "execution_count": 32,
   "metadata": {},
   "outputs": [
    {
     "data": {
      "text/plain": [
       "'//geek'"
      ]
     },
     "execution_count": 32,
     "metadata": {},
     "output_type": "execute_result"
    }
   ],
   "source": [
    "file.read(6)"
   ]
  },
  {
   "cell_type": "code",
   "execution_count": 34,
   "metadata": {},
   "outputs": [
    {
     "name": "stdout",
     "output_type": "stream",
     "text": [
      "o-de\n",
      "0\n",
      "lete\n",
      "1\n",
      "-a-f\n",
      "2\n",
      "ile/\n",
      "3\n",
      "\n",
      "htt\n",
      "4\n",
      "p://\n",
      "5\n",
      "geek\n",
      "6\n",
      "sfor\n",
      "7\n",
      "geek\n",
      "8\n",
      "s.or\n",
      "9\n",
      "g/py\n",
      "10\n",
      "thon\n",
      "11\n",
      "-fin\n",
      "12\n",
      "d-mo\n",
      "13\n",
      "st-c\n",
      "14\n",
      "ommo\n",
      "15\n",
      "n-el\n",
      "16\n",
      "emen\n",
      "17\n",
      "t-in\n",
      "18\n",
      "-eac\n",
      "19\n",
      "h-co\n",
      "20\n"
     ]
    }
   ],
   "source": [
    "for i in range(21):\n",
    "    print(file.read(4))\n",
    "    print(i)"
   ]
  },
  {
   "cell_type": "code",
   "execution_count": 35,
   "metadata": {},
   "outputs": [
    {
     "name": "stdout",
     "output_type": "stream",
     "text": [
      "re-reading\n",
      "\n",
      "finished\n"
     ]
    }
   ],
   "source": [
    "file = open('D:\\geeksfor geeks.txt','r')\n",
    "\n",
    "file.read()\n",
    "print(\"re-reading\")\n",
    "print(file.read())\n",
    "print(\"finished\")\n",
    "file.close()"
   ]
  },
  {
   "cell_type": "code",
   "execution_count": 36,
   "metadata": {},
   "outputs": [
    {
     "name": "stdout",
     "output_type": "stream",
     "text": [
      "7665\n"
     ]
    }
   ],
   "source": [
    "file = open('D:\\geeksfor geeks.txt','r')\n",
    "\n",
    "str = file.read()\n",
    "print(len(str))"
   ]
  },
  {
   "cell_type": "code",
   "execution_count": 37,
   "metadata": {},
   "outputs": [
    {
     "name": "stdout",
     "output_type": "stream",
     "text": [
      "['http://geeksforgeeks.org/python-merging-nested-lists/\\n', 'http://geeksforgeeks.org/python-program-to-delete-a-file/\\n', 'http://geeksforgeeks.org/python-find-most-common-element-in-each-column-in-a-2d-list/\\n', 'http://geeksforgeeks.org/interquartile-range-and-quartile-deviation-using-numpy-and-scipy/\\n', 'http://geeksforgeeks.org/univariate-linear-regression-in-python/\\n', 'http://geeksforgeeks.org/python-ways-to-print-list-without-quotes/\\n', 'http://geeksforgeeks.org/python-group-list-elements-based-on-frequency/\\n', 'http://geeksforgeeks.org/python-find-closest-number-to-k-in-given-list/\\n', 'http://geeksforgeeks.org/python-difference-between-two-dates-in-minutes-using-datetime-timedelta-method/\\n', 'http://geeksforgeeks.org/python-ways-to-join-pair-of-elements-in-list/\\n', 'http://geeksforgeeks.org/python-column-wise-sum-of-nested-list/-----------\\n', 'http://geeksforgeeks.org/python-convert-string-to-binary/\\n', 'http://geeksforgeeks.org/python-remove-unwanted-spaces-from-string/\\n', 'http://geeksforgeeks.org/python-get-matching-substrings-in-string/\\n', 'http://geeksforgeeks.org/python-insert-a-number-in-string/\\n', 'http://geeksforgeeks.org/python-lowercase-first-character-of-string/\\n', 'http://geeksforgeeks.org/python-deleting-all-occurrences-of-character/\\n', 'http://geeksforgeeks.org/python-prefix-extraction-before-specific-character/\\n', 'http://geeksforgeeks.org/python-convert-bytearray-to-hexadecimal-string/\\n', 'http://geeksforgeeks.org/python-frequency-of-substring-in-given-string/----------------------\\n', 'http://geeksforgeeks.org/python-remove-duplicate-tuples-from-list-of-tuples/\\n', 'http://geeksforgeeks.org/check-if-email-address-valid-or-not-in-python/\\n', 'http://geeksforgeeks.org/python-check-if-string-ends-with-any-string-in-given-list/\\n', 'http://geeksforgeeks.org/python-check-if-given-string-is-numeric-or-not/\\n', 'http://geeksforgeeks.org/python-add-comma-between-numbers/\\n', 'http://geeksforgeeks.org/python-splitting-text-and-number-in-string/\\n', 'http://geeksforgeeks.org/python-replace-multiple-characters-at-once/\\n', 'http://geeksforgeeks.org/python-return-lowercase-characters-from-given-string/\\n', 'http://geeksforgeeks.org/python-ways-to-split-strings-on-uppercase-characters/\\n', 'http://geeksforgeeks.org/python-background-subtraction-using-opencv/\\n', 'http://geeksforgeeks.org/python-ways-to-split-strings-using-newline-delimiter/--------------------------\\n', 'http://geeksforgeeks.org/python-check-if-string-is-a-valid-identifier/\\n', 'http://geeksforgeeks.org/python-convert-1d-list-to-2d-list-of-variable-length/\\n', 'http://geeksforgeeks.org/python-add-trailing-zeros-to-string/\\n', 'http://geeksforgeeks.org/how-to-get-the-permission-mask-of-a-file-in-python/\\n', 'http://geeksforgeeks.org/python-split-given-string-into-equal-halves/\\n', 'http://geeksforgeeks.org/python-pil-imageops-fit-method/\\n', 'http://geeksforgeeks.org/python-ways-to-count-number-of-substring-in-string/\\n', 'http://geeksforgeeks.org/python-mean-squared-error/\\n', 'http://geeksforgeeks.org/python-sympy-sqrt-method-2/\\n', 'http://geeksforgeeks.org/python-reverse-slicing-of-given-string/\\n', 'http://geeksforgeeks.org/python-pil-imageops-expand-method/\\n', 'http://geeksforgeeks.org/pyhton-pil-attributes/\\n', 'http://geeksforgeeks.org/python-ways-to-find-all-permutation-of-a-string/\\n', 'http://geeksforgeeks.org/python-check-for-spaces-in-string/--------------------------------------------\\n', 'http://geeksforgeeks.org/python-convert-stream-of-numbers-to-list/\\n', 'http://geeksforgeeks.org/python-removing-initial-word-from-string/\\n', 'http://geeksforgeeks.org/python-insert-character-after-every-character-pair/\\n', 'http://geeksforgeeks.org/python-visualize-missing-values-nan-values-using-missingno-library/\\n', 'http://geeksforgeeks.org/how-to-create-a-list-of-object-in-python-class/\\n', 'http://geeksforgeeks.org/python-get-numeric-prefix-of-given-string/\\n', 'http://geeksforgeeks.org/python-get-all-substrings-of-given-string/\\n', 'http://geeksforgeeks.org/python-check-numeric-suffix-in-string/\\n', 'http://geeksforgeeks.org/python-ways-to-check-if-given-string-contains-only-letter/\\n', 'http://geeksforgeeks.org/python-ways-to-sort-list-of-strings-in-case-insensitive-manner/\\n', 'http://geeksforgeeks.org/python-ways-to-concatenate-boolean-to-string/-------------------\\n', 'http://geeksforgeeks.org/python-search-key-from-value/\\n', 'http://geeksforgeeks.org/python-converting-string-content-to-dictionary/\\n', 'http://geeksforgeeks.org/python-ways-to-convert-boolean-values-to-integer/\\n', 'http://geeksforgeeks.org/python-remove-keys-from-dictionary-starting-with-k/\\n', 'http://geeksforgeeks.org/python-splitting-operators-in-string/\\n', 'http://geeksforgeeks.org/python-ways-to-check-string-contain-all-same-characters/\\n', 'http://geeksforgeeks.org/python-convert-list-of-strings-to-space-separated-string/\\n', 'http://geeksforgeeks.org/python-check-if-substring-is-part-of-list-of-strings/\\n', 'http://geeksforgeeks.org/python-insert-character-after-every-character-pair/\\n', 'http://geeksforgeeks.org/python-ways-to-determine-common-prefix-in-set-of-strings/\\n', 'http://geeksforgeeks.org/python-ways-to-find-nth-occurrence-of-substring-in-a-string/\\n', 'http://geeksforgeeks.org/python-ways-to-convert-hex-into-binary/\\n', 'http://geeksforgeeks.org/python-add-keys-to-nested-dictionary/---------------\\n', 'http://geeksforgeeks.org/python-sort-dictionary-keys-to-list/\\n', 'http://geeksforgeeks.org/python-list-value-merge-in-dictionary/\\n', 'http://geeksforgeeks.org/python-minimum-value-keys-in-dictionary/\\n', 'http://geeksforgeeks.org/python-check-for-none-values-in-given-dictionary/\\n', 'http://geeksforgeeks.org/python-iterate-through-value-lists-dictionary/-----------------------\\n', 'http://geeksforgeeks.org/python-grouping-dictionary-keys-by-value/\\n', 'http://geeksforgeeks.org/python-updating-value-list-in-dictionary/\\n', 'http://geeksforgeeks.org/python-selective-key-values-in-dictionary/\\n', 'http://geeksforgeeks.org/python-categorize-tuple-values-into-dictionary-value-list/-----------------\\n', '\\n', '\\n', 'http://geeksforgeeks.org/python-extract-key-value-of-dictionary-in-variables/\\n', 'http://geeksforgeeks.org/python-check-if-one-dictionary-is-subset-of-other/\\n', 'http://geeksforgeeks.org/python-type-conversion-of-dictionary-items/\\n', 'http://geeksforgeeks.org/python-segregating-keys-value-in-list-of-dictionaries/\\n', 'http://geeksforgeeks.org/python-get-unique-values-from-list-of-dictionary/\\n', 'http://geeksforgeeks.org/python-count-keys-with-particular-value-in-dictionary/\\n', 'http://geeksforgeeks.org/python-increment-value-in-dictionary/\\n', 'http://geeksforgeeks.org/python-get-first-k-items-in-dictionary/\\n', 'http://geeksforgeeks.org/python-sort-the-items-alphabetically-from-given-dictionary/\\n', 'http://geeksforgeeks.org/python-get-first-n-keyvalue-pairs-in-given-dictionary/\\n', 'http://geeksforgeeks.org/python-prefix-key-match-in-dictionary/\\n', 'http://geeksforgeeks.org/python-initialize-dictionary-with-multiple-keys/\\n', 'http://geeksforgeeks.org/python-check-if-key-has-non-none-value-in-dictionary/\\n', 'http://geeksforgeeks.org/python-split-given-dictionary-in-half/\\n', 'http://geeksforgeeks.org/python-merge-list-of-tuple-into-list-by-joining-the-strings/\\n', 'http://geeksforgeeks.org/python-merge-python-key-values-to-list/\\n', 'http://geeksforgeeks.org/python-perform-operation-on-each-key-dictionary/\\n', 'http://geeksforgeeks.org/python-subtraction-of-dictionaries/\\n', 'http://geeksforgeeks.org/python-initialize-dictionary-with-none-values/\\n', 'http://geeksforgeeks.org/python-convert-list-of-tuples-to-dictionary-value-lists/\\n', 'http://geeksforgeeks.org/python-merge-key-value-lists/\\n', 'http://geeksforgeeks.org/python-get-values-of-particular-key-in-list-of-dictionaries/\\n', 'http://geeksforgeeks.org/python-reversed-order-keys-in-dictionary/\\n', 'http://geeksforgeeks.org/python-find-the-closest-key-in-dictionary/\\n', 'http://geeksforgeeks.org/python-substring-key-match-in-dictionary/\\n', 'http://geeksforgeeks.org/python-convert-tuples-to-dictionary/\\n', 'http://geeksforgeeks.org/python-remove-multiple-keys-from-dictionary/']\n"
     ]
    }
   ],
   "source": [
    "file = open('D:\\geeksfor geeks.txt','r')\n",
    "print(file.readlines())"
   ]
  },
  {
   "cell_type": "code",
   "execution_count": 39,
   "metadata": {},
   "outputs": [
    {
     "name": "stdout",
     "output_type": "stream",
     "text": [
      "http://geeksforgeeks.org/python-merging-nested-lists/\n",
      "\n",
      "http://geeksforgeeks.org/python-program-to-delete-a-file/\n",
      "\n",
      "http://geeksforgeeks.org/python-find-most-common-element-in-each-column-in-a-2d-list/\n",
      "\n",
      "http://geeksforgeeks.org/interquartile-range-and-quartile-deviation-using-numpy-and-scipy/\n",
      "\n",
      "http://geeksforgeeks.org/univariate-linear-regression-in-python/\n",
      "\n",
      "http://geeksforgeeks.org/python-ways-to-print-list-without-quotes/\n",
      "\n",
      "http://geeksforgeeks.org/python-group-list-elements-based-on-frequency/\n",
      "\n",
      "http://geeksforgeeks.org/python-find-closest-number-to-k-in-given-list/\n",
      "\n",
      "http://geeksforgeeks.org/python-difference-between-two-dates-in-minutes-using-datetime-timedelta-method/\n",
      "\n",
      "http://geeksforgeeks.org/python-ways-to-join-pair-of-elements-in-list/\n",
      "\n",
      "http://geeksforgeeks.org/python-column-wise-sum-of-nested-list/-----------\n",
      "\n",
      "http://geeksforgeeks.org/python-convert-string-to-binary/\n",
      "\n",
      "http://geeksforgeeks.org/python-remove-unwanted-spaces-from-string/\n",
      "\n",
      "http://geeksforgeeks.org/python-get-matching-substrings-in-string/\n",
      "\n",
      "http://geeksforgeeks.org/python-insert-a-number-in-string/\n",
      "\n",
      "http://geeksforgeeks.org/python-lowercase-first-character-of-string/\n",
      "\n",
      "http://geeksforgeeks.org/python-deleting-all-occurrences-of-character/\n",
      "\n",
      "http://geeksforgeeks.org/python-prefix-extraction-before-specific-character/\n",
      "\n",
      "http://geeksforgeeks.org/python-convert-bytearray-to-hexadecimal-string/\n",
      "\n",
      "http://geeksforgeeks.org/python-frequency-of-substring-in-given-string/----------------------\n",
      "\n",
      "http://geeksforgeeks.org/python-remove-duplicate-tuples-from-list-of-tuples/\n",
      "\n",
      "http://geeksforgeeks.org/check-if-email-address-valid-or-not-in-python/\n",
      "\n",
      "http://geeksforgeeks.org/python-check-if-string-ends-with-any-string-in-given-list/\n",
      "\n",
      "http://geeksforgeeks.org/python-check-if-given-string-is-numeric-or-not/\n",
      "\n",
      "http://geeksforgeeks.org/python-add-comma-between-numbers/\n",
      "\n",
      "http://geeksforgeeks.org/python-splitting-text-and-number-in-string/\n",
      "\n",
      "http://geeksforgeeks.org/python-replace-multiple-characters-at-once/\n",
      "\n",
      "http://geeksforgeeks.org/python-return-lowercase-characters-from-given-string/\n",
      "\n",
      "http://geeksforgeeks.org/python-ways-to-split-strings-on-uppercase-characters/\n",
      "\n",
      "http://geeksforgeeks.org/python-background-subtraction-using-opencv/\n",
      "\n",
      "http://geeksforgeeks.org/python-ways-to-split-strings-using-newline-delimiter/--------------------------\n",
      "\n",
      "http://geeksforgeeks.org/python-check-if-string-is-a-valid-identifier/\n",
      "\n",
      "http://geeksforgeeks.org/python-convert-1d-list-to-2d-list-of-variable-length/\n",
      "\n",
      "http://geeksforgeeks.org/python-add-trailing-zeros-to-string/\n",
      "\n",
      "http://geeksforgeeks.org/how-to-get-the-permission-mask-of-a-file-in-python/\n",
      "\n",
      "http://geeksforgeeks.org/python-split-given-string-into-equal-halves/\n",
      "\n",
      "http://geeksforgeeks.org/python-pil-imageops-fit-method/\n",
      "\n",
      "http://geeksforgeeks.org/python-ways-to-count-number-of-substring-in-string/\n",
      "\n",
      "http://geeksforgeeks.org/python-mean-squared-error/\n",
      "\n",
      "http://geeksforgeeks.org/python-sympy-sqrt-method-2/\n",
      "\n",
      "http://geeksforgeeks.org/python-reverse-slicing-of-given-string/\n",
      "\n",
      "http://geeksforgeeks.org/python-pil-imageops-expand-method/\n",
      "\n",
      "http://geeksforgeeks.org/pyhton-pil-attributes/\n",
      "\n",
      "http://geeksforgeeks.org/python-ways-to-find-all-permutation-of-a-string/\n",
      "\n",
      "http://geeksforgeeks.org/python-check-for-spaces-in-string/--------------------------------------------\n",
      "\n",
      "http://geeksforgeeks.org/python-convert-stream-of-numbers-to-list/\n",
      "\n",
      "http://geeksforgeeks.org/python-removing-initial-word-from-string/\n",
      "\n",
      "http://geeksforgeeks.org/python-insert-character-after-every-character-pair/\n",
      "\n",
      "http://geeksforgeeks.org/python-visualize-missing-values-nan-values-using-missingno-library/\n",
      "\n",
      "http://geeksforgeeks.org/how-to-create-a-list-of-object-in-python-class/\n",
      "\n",
      "http://geeksforgeeks.org/python-get-numeric-prefix-of-given-string/\n",
      "\n",
      "http://geeksforgeeks.org/python-get-all-substrings-of-given-string/\n",
      "\n",
      "http://geeksforgeeks.org/python-check-numeric-suffix-in-string/\n",
      "\n",
      "http://geeksforgeeks.org/python-ways-to-check-if-given-string-contains-only-letter/\n",
      "\n",
      "http://geeksforgeeks.org/python-ways-to-sort-list-of-strings-in-case-insensitive-manner/\n",
      "\n",
      "http://geeksforgeeks.org/python-ways-to-concatenate-boolean-to-string/-------------------\n",
      "\n",
      "http://geeksforgeeks.org/python-search-key-from-value/\n",
      "\n",
      "http://geeksforgeeks.org/python-converting-string-content-to-dictionary/\n",
      "\n",
      "http://geeksforgeeks.org/python-ways-to-convert-boolean-values-to-integer/\n",
      "\n",
      "http://geeksforgeeks.org/python-remove-keys-from-dictionary-starting-with-k/\n",
      "\n",
      "http://geeksforgeeks.org/python-splitting-operators-in-string/\n",
      "\n",
      "http://geeksforgeeks.org/python-ways-to-check-string-contain-all-same-characters/\n",
      "\n",
      "http://geeksforgeeks.org/python-convert-list-of-strings-to-space-separated-string/\n",
      "\n",
      "http://geeksforgeeks.org/python-check-if-substring-is-part-of-list-of-strings/\n",
      "\n",
      "http://geeksforgeeks.org/python-insert-character-after-every-character-pair/\n",
      "\n",
      "http://geeksforgeeks.org/python-ways-to-determine-common-prefix-in-set-of-strings/\n",
      "\n",
      "http://geeksforgeeks.org/python-ways-to-find-nth-occurrence-of-substring-in-a-string/\n",
      "\n",
      "http://geeksforgeeks.org/python-ways-to-convert-hex-into-binary/\n",
      "\n",
      "http://geeksforgeeks.org/python-add-keys-to-nested-dictionary/---------------\n",
      "\n",
      "http://geeksforgeeks.org/python-sort-dictionary-keys-to-list/\n",
      "\n",
      "http://geeksforgeeks.org/python-list-value-merge-in-dictionary/\n",
      "\n",
      "http://geeksforgeeks.org/python-minimum-value-keys-in-dictionary/\n",
      "\n",
      "http://geeksforgeeks.org/python-check-for-none-values-in-given-dictionary/\n",
      "\n",
      "http://geeksforgeeks.org/python-iterate-through-value-lists-dictionary/-----------------------\n",
      "\n",
      "http://geeksforgeeks.org/python-grouping-dictionary-keys-by-value/\n",
      "\n",
      "http://geeksforgeeks.org/python-updating-value-list-in-dictionary/\n",
      "\n",
      "http://geeksforgeeks.org/python-selective-key-values-in-dictionary/\n",
      "\n",
      "http://geeksforgeeks.org/python-categorize-tuple-values-into-dictionary-value-list/-----------------\n",
      "\n",
      "\n",
      "\n",
      "\n",
      "\n",
      "http://geeksforgeeks.org/python-extract-key-value-of-dictionary-in-variables/\n",
      "\n",
      "http://geeksforgeeks.org/python-check-if-one-dictionary-is-subset-of-other/\n",
      "\n",
      "http://geeksforgeeks.org/python-type-conversion-of-dictionary-items/\n",
      "\n",
      "http://geeksforgeeks.org/python-segregating-keys-value-in-list-of-dictionaries/\n",
      "\n",
      "http://geeksforgeeks.org/python-get-unique-values-from-list-of-dictionary/\n",
      "\n",
      "http://geeksforgeeks.org/python-count-keys-with-particular-value-in-dictionary/\n",
      "\n",
      "http://geeksforgeeks.org/python-increment-value-in-dictionary/\n",
      "\n",
      "http://geeksforgeeks.org/python-get-first-k-items-in-dictionary/\n",
      "\n",
      "http://geeksforgeeks.org/python-sort-the-items-alphabetically-from-given-dictionary/\n",
      "\n",
      "http://geeksforgeeks.org/python-get-first-n-keyvalue-pairs-in-given-dictionary/\n",
      "\n",
      "http://geeksforgeeks.org/python-prefix-key-match-in-dictionary/\n",
      "\n",
      "http://geeksforgeeks.org/python-initialize-dictionary-with-multiple-keys/\n",
      "\n",
      "http://geeksforgeeks.org/python-check-if-key-has-non-none-value-in-dictionary/\n",
      "\n",
      "http://geeksforgeeks.org/python-split-given-dictionary-in-half/\n",
      "\n",
      "http://geeksforgeeks.org/python-merge-list-of-tuple-into-list-by-joining-the-strings/\n",
      "\n",
      "http://geeksforgeeks.org/python-merge-python-key-values-to-list/\n",
      "\n",
      "http://geeksforgeeks.org/python-perform-operation-on-each-key-dictionary/\n",
      "\n",
      "http://geeksforgeeks.org/python-subtraction-of-dictionaries/\n",
      "\n",
      "http://geeksforgeeks.org/python-initialize-dictionary-with-none-values/\n",
      "\n",
      "http://geeksforgeeks.org/python-convert-list-of-tuples-to-dictionary-value-lists/\n",
      "\n",
      "http://geeksforgeeks.org/python-merge-key-value-lists/\n",
      "\n",
      "http://geeksforgeeks.org/python-get-values-of-particular-key-in-list-of-dictionaries/\n",
      "\n",
      "http://geeksforgeeks.org/python-reversed-order-keys-in-dictionary/\n",
      "\n",
      "http://geeksforgeeks.org/python-find-the-closest-key-in-dictionary/\n",
      "\n",
      "http://geeksforgeeks.org/python-substring-key-match-in-dictionary/\n",
      "\n",
      "http://geeksforgeeks.org/python-convert-tuples-to-dictionary/\n",
      "\n",
      "http://geeksforgeeks.org/python-remove-multiple-keys-from-dictionary/\n"
     ]
    }
   ],
   "source": [
    "file = open('D:\\geeksfor geeks.txt','r')\n",
    "for line in file:\n",
    "    print(line)"
   ]
  },
  {
   "cell_type": "code",
   "execution_count": 40,
   "metadata": {},
   "outputs": [
    {
     "data": {
      "text/plain": [
       "107"
      ]
     },
     "execution_count": 40,
     "metadata": {},
     "output_type": "execute_result"
    }
   ],
   "source": [
    "len(open('D:\\geeksfor geeks.txt').readlines())"
   ]
  },
  {
   "cell_type": "code",
   "execution_count": 43,
   "metadata": {},
   "outputs": [
    {
     "name": "stdout",
     "output_type": "stream",
     "text": [
      "ff\n"
     ]
    }
   ],
   "source": [
    "assert 1==0+1\n",
    "print(\"ff\")"
   ]
  },
  {
   "cell_type": "code",
   "execution_count": 45,
   "metadata": {},
   "outputs": [
    {
     "name": "stdout",
     "output_type": "stream",
     "text": [
      "hi\n",
      "1\n"
     ]
    }
   ],
   "source": [
    "def sf():\n",
    "    print(\"hi\")\n",
    "    return 1\n",
    "    \n",
    "v = sf()\n",
    "print(v)"
   ]
  },
  {
   "cell_type": "code",
   "execution_count": null,
   "metadata": {},
   "outputs": [],
   "source": []
  }
 ],
 "metadata": {
  "kernelspec": {
   "display_name": "Python 3",
   "language": "python",
   "name": "python3"
  },
  "language_info": {
   "codemirror_mode": {
    "name": "ipython",
    "version": 3
   },
   "file_extension": ".py",
   "mimetype": "text/x-python",
   "name": "python",
   "nbconvert_exporter": "python",
   "pygments_lexer": "ipython3",
   "version": "3.7.4"
  }
 },
 "nbformat": 4,
 "nbformat_minor": 4
}
