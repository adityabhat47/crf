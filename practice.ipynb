{
 "cells": [
  {
   "cell_type": "code",
   "execution_count": 12,
   "metadata": {},
   "outputs": [
    {
     "data": {
      "text/plain": [
       "[1, 2, 4, 5, 7, 8]"
      ]
     },
     "execution_count": 12,
     "metadata": {},
     "output_type": "execute_result"
    }
   ],
   "source": [
    "[n for n in [1, 2, 3,4,5,6,7,8,9] if n % 3]  "
   ]
  },
  {
   "cell_type": "code",
   "execution_count": 15,
   "metadata": {},
   "outputs": [
    {
     "data": {
      "text/plain": [
       "[[0, 0, 0, 0],\n",
       " [0, 0, 0, 1],\n",
       " [0, 0, 0, 2],\n",
       " [0, 0, 0, 3],\n",
       " [0, 0, 1, 0],\n",
       " [0, 0, 1, 1],\n",
       " [0, 0, 1, 2],\n",
       " [0, 0, 1, 3],\n",
       " [0, 0, 2, 0],\n",
       " [0, 0, 2, 1],\n",
       " [0, 0, 2, 2],\n",
       " [0, 0, 2, 3],\n",
       " [0, 0, 3, 0],\n",
       " [0, 0, 3, 1],\n",
       " [0, 0, 3, 2],\n",
       " [0, 0, 3, 3],\n",
       " [0, 0, 4, 0],\n",
       " [0, 0, 4, 1],\n",
       " [0, 0, 4, 2],\n",
       " [0, 0, 4, 3],\n",
       " [0, 0, 5, 0],\n",
       " [0, 0, 5, 1],\n",
       " [0, 0, 5, 2],\n",
       " [0, 0, 5, 3],\n",
       " [0, 1, 0, 0],\n",
       " [0, 1, 0, 1],\n",
       " [0, 1, 0, 2],\n",
       " [0, 1, 0, 3],\n",
       " [0, 1, 1, 0],\n",
       " [0, 1, 1, 1],\n",
       " [0, 1, 1, 2],\n",
       " [0, 1, 1, 3],\n",
       " [0, 1, 2, 0],\n",
       " [0, 1, 2, 1],\n",
       " [0, 1, 2, 2],\n",
       " [0, 1, 2, 3],\n",
       " [0, 1, 3, 0],\n",
       " [0, 1, 3, 1],\n",
       " [0, 1, 3, 2],\n",
       " [0, 1, 3, 3],\n",
       " [0, 1, 4, 0],\n",
       " [0, 1, 4, 1],\n",
       " [0, 1, 4, 2],\n",
       " [0, 1, 4, 3],\n",
       " [0, 1, 5, 0],\n",
       " [0, 1, 5, 1],\n",
       " [0, 1, 5, 2],\n",
       " [0, 1, 5, 3],\n",
       " [0, 2, 0, 0],\n",
       " [0, 2, 0, 1],\n",
       " [0, 2, 0, 2],\n",
       " [0, 2, 0, 3],\n",
       " [0, 2, 1, 0],\n",
       " [0, 2, 1, 1],\n",
       " [0, 2, 1, 2],\n",
       " [0, 2, 1, 3],\n",
       " [0, 2, 2, 0],\n",
       " [0, 2, 2, 1],\n",
       " [0, 2, 2, 2],\n",
       " [0, 2, 2, 3],\n",
       " [0, 2, 3, 0],\n",
       " [0, 2, 3, 1],\n",
       " [0, 2, 3, 2],\n",
       " [0, 2, 3, 3],\n",
       " [0, 2, 4, 0],\n",
       " [0, 2, 4, 1],\n",
       " [0, 2, 4, 2],\n",
       " [0, 2, 4, 3],\n",
       " [0, 2, 5, 0],\n",
       " [0, 2, 5, 1],\n",
       " [0, 2, 5, 2],\n",
       " [0, 2, 5, 3],\n",
       " [0, 3, 0, 0],\n",
       " [0, 3, 0, 1],\n",
       " [0, 3, 0, 2],\n",
       " [0, 3, 0, 3],\n",
       " [0, 3, 1, 0],\n",
       " [0, 3, 1, 1],\n",
       " [0, 3, 1, 2],\n",
       " [0, 3, 1, 3],\n",
       " [0, 3, 2, 0],\n",
       " [0, 3, 2, 1],\n",
       " [0, 3, 2, 2],\n",
       " [0, 3, 2, 3],\n",
       " [0, 3, 3, 0],\n",
       " [0, 3, 3, 1],\n",
       " [0, 3, 3, 2],\n",
       " [0, 3, 3, 3],\n",
       " [0, 3, 4, 0],\n",
       " [0, 3, 4, 1],\n",
       " [0, 3, 4, 2],\n",
       " [0, 3, 4, 3],\n",
       " [0, 3, 5, 0],\n",
       " [0, 3, 5, 1],\n",
       " [0, 3, 5, 2],\n",
       " [0, 3, 5, 3],\n",
       " [0, 4, 0, 0],\n",
       " [0, 4, 0, 1],\n",
       " [0, 4, 0, 2],\n",
       " [0, 4, 0, 3],\n",
       " [0, 4, 1, 0],\n",
       " [0, 4, 1, 1],\n",
       " [0, 4, 1, 2],\n",
       " [0, 4, 1, 3],\n",
       " [0, 4, 2, 0],\n",
       " [0, 4, 2, 1],\n",
       " [0, 4, 2, 2],\n",
       " [0, 4, 2, 3],\n",
       " [0, 4, 3, 0],\n",
       " [0, 4, 3, 1],\n",
       " [0, 4, 3, 2],\n",
       " [0, 4, 3, 3],\n",
       " [0, 4, 4, 0],\n",
       " [0, 4, 4, 1],\n",
       " [0, 4, 4, 2],\n",
       " [0, 4, 4, 3],\n",
       " [0, 4, 5, 0],\n",
       " [0, 4, 5, 1],\n",
       " [0, 4, 5, 2],\n",
       " [0, 4, 5, 3],\n",
       " [1, 0, 0, 0],\n",
       " [1, 0, 0, 1],\n",
       " [1, 0, 0, 2],\n",
       " [1, 0, 0, 3],\n",
       " [1, 0, 1, 0],\n",
       " [1, 0, 1, 1],\n",
       " [1, 0, 1, 2],\n",
       " [1, 0, 1, 3],\n",
       " [1, 0, 2, 0],\n",
       " [1, 0, 2, 1],\n",
       " [1, 0, 2, 2],\n",
       " [1, 0, 2, 3],\n",
       " [1, 0, 3, 0],\n",
       " [1, 0, 3, 1],\n",
       " [1, 0, 3, 2],\n",
       " [1, 0, 3, 3],\n",
       " [1, 0, 4, 0],\n",
       " [1, 0, 4, 1],\n",
       " [1, 0, 4, 2],\n",
       " [1, 0, 4, 3],\n",
       " [1, 0, 5, 0],\n",
       " [1, 0, 5, 1],\n",
       " [1, 0, 5, 2],\n",
       " [1, 0, 5, 3],\n",
       " [1, 1, 0, 0],\n",
       " [1, 1, 0, 1],\n",
       " [1, 1, 0, 2],\n",
       " [1, 1, 0, 3],\n",
       " [1, 1, 1, 0],\n",
       " [1, 1, 1, 1],\n",
       " [1, 1, 1, 2],\n",
       " [1, 1, 1, 3],\n",
       " [1, 1, 2, 0],\n",
       " [1, 1, 2, 1],\n",
       " [1, 1, 2, 2],\n",
       " [1, 1, 2, 3],\n",
       " [1, 1, 3, 0],\n",
       " [1, 1, 3, 1],\n",
       " [1, 1, 3, 2],\n",
       " [1, 1, 3, 3],\n",
       " [1, 1, 4, 0],\n",
       " [1, 1, 4, 1],\n",
       " [1, 1, 4, 2],\n",
       " [1, 1, 4, 3],\n",
       " [1, 1, 5, 0],\n",
       " [1, 1, 5, 1],\n",
       " [1, 1, 5, 2],\n",
       " [1, 1, 5, 3],\n",
       " [1, 2, 0, 0],\n",
       " [1, 2, 0, 1],\n",
       " [1, 2, 0, 2],\n",
       " [1, 2, 0, 3],\n",
       " [1, 2, 1, 0],\n",
       " [1, 2, 1, 1],\n",
       " [1, 2, 1, 2],\n",
       " [1, 2, 1, 3],\n",
       " [1, 2, 2, 0],\n",
       " [1, 2, 2, 1],\n",
       " [1, 2, 2, 2],\n",
       " [1, 2, 2, 3],\n",
       " [1, 2, 3, 0],\n",
       " [1, 2, 3, 1],\n",
       " [1, 2, 3, 2],\n",
       " [1, 2, 3, 3],\n",
       " [1, 2, 4, 0],\n",
       " [1, 2, 4, 1],\n",
       " [1, 2, 4, 2],\n",
       " [1, 2, 4, 3],\n",
       " [1, 2, 5, 0],\n",
       " [1, 2, 5, 1],\n",
       " [1, 2, 5, 2],\n",
       " [1, 2, 5, 3],\n",
       " [1, 3, 0, 0],\n",
       " [1, 3, 0, 1],\n",
       " [1, 3, 0, 2],\n",
       " [1, 3, 0, 3],\n",
       " [1, 3, 1, 0],\n",
       " [1, 3, 1, 1],\n",
       " [1, 3, 1, 2],\n",
       " [1, 3, 1, 3],\n",
       " [1, 3, 2, 0],\n",
       " [1, 3, 2, 1],\n",
       " [1, 3, 2, 2],\n",
       " [1, 3, 2, 3],\n",
       " [1, 3, 3, 0],\n",
       " [1, 3, 3, 1],\n",
       " [1, 3, 3, 2],\n",
       " [1, 3, 3, 3],\n",
       " [1, 3, 4, 0],\n",
       " [1, 3, 4, 1],\n",
       " [1, 3, 4, 2],\n",
       " [1, 3, 4, 3],\n",
       " [1, 3, 5, 0],\n",
       " [1, 3, 5, 1],\n",
       " [1, 3, 5, 2],\n",
       " [1, 3, 5, 3],\n",
       " [1, 4, 0, 0],\n",
       " [1, 4, 0, 1],\n",
       " [1, 4, 0, 2],\n",
       " [1, 4, 0, 3],\n",
       " [1, 4, 1, 0],\n",
       " [1, 4, 1, 1],\n",
       " [1, 4, 1, 2],\n",
       " [1, 4, 1, 3],\n",
       " [1, 4, 2, 0],\n",
       " [1, 4, 2, 1],\n",
       " [1, 4, 2, 2],\n",
       " [1, 4, 2, 3],\n",
       " [1, 4, 3, 0],\n",
       " [1, 4, 3, 1],\n",
       " [1, 4, 3, 2],\n",
       " [1, 4, 3, 3],\n",
       " [1, 4, 4, 0],\n",
       " [1, 4, 4, 1],\n",
       " [1, 4, 4, 2],\n",
       " [1, 4, 4, 3],\n",
       " [1, 4, 5, 0],\n",
       " [1, 4, 5, 1],\n",
       " [1, 4, 5, 2],\n",
       " [1, 4, 5, 3],\n",
       " [2, 0, 0, 0],\n",
       " [2, 0, 0, 1],\n",
       " [2, 0, 0, 2],\n",
       " [2, 0, 0, 3],\n",
       " [2, 0, 1, 0],\n",
       " [2, 0, 1, 1],\n",
       " [2, 0, 1, 2],\n",
       " [2, 0, 1, 3],\n",
       " [2, 0, 2, 0],\n",
       " [2, 0, 2, 1],\n",
       " [2, 0, 2, 2],\n",
       " [2, 0, 2, 3],\n",
       " [2, 0, 3, 0],\n",
       " [2, 0, 3, 1],\n",
       " [2, 0, 3, 2],\n",
       " [2, 0, 3, 3],\n",
       " [2, 0, 4, 0],\n",
       " [2, 0, 4, 1],\n",
       " [2, 0, 4, 2],\n",
       " [2, 0, 4, 3],\n",
       " [2, 0, 5, 0],\n",
       " [2, 0, 5, 1],\n",
       " [2, 0, 5, 2],\n",
       " [2, 0, 5, 3],\n",
       " [2, 1, 0, 0],\n",
       " [2, 1, 0, 1],\n",
       " [2, 1, 0, 2],\n",
       " [2, 1, 0, 3],\n",
       " [2, 1, 1, 0],\n",
       " [2, 1, 1, 1],\n",
       " [2, 1, 1, 2],\n",
       " [2, 1, 1, 3],\n",
       " [2, 1, 2, 0],\n",
       " [2, 1, 2, 1],\n",
       " [2, 1, 2, 2],\n",
       " [2, 1, 2, 3],\n",
       " [2, 1, 3, 0],\n",
       " [2, 1, 3, 1],\n",
       " [2, 1, 3, 2],\n",
       " [2, 1, 3, 3],\n",
       " [2, 1, 4, 0],\n",
       " [2, 1, 4, 1],\n",
       " [2, 1, 4, 2],\n",
       " [2, 1, 4, 3],\n",
       " [2, 1, 5, 0],\n",
       " [2, 1, 5, 1],\n",
       " [2, 1, 5, 2],\n",
       " [2, 1, 5, 3],\n",
       " [2, 2, 0, 0],\n",
       " [2, 2, 0, 1],\n",
       " [2, 2, 0, 2],\n",
       " [2, 2, 0, 3],\n",
       " [2, 2, 1, 0],\n",
       " [2, 2, 1, 1],\n",
       " [2, 2, 1, 2],\n",
       " [2, 2, 1, 3],\n",
       " [2, 2, 2, 0],\n",
       " [2, 2, 2, 1],\n",
       " [2, 2, 2, 2],\n",
       " [2, 2, 2, 3],\n",
       " [2, 2, 3, 0],\n",
       " [2, 2, 3, 1],\n",
       " [2, 2, 3, 2],\n",
       " [2, 2, 3, 3],\n",
       " [2, 2, 4, 0],\n",
       " [2, 2, 4, 1],\n",
       " [2, 2, 4, 2],\n",
       " [2, 2, 4, 3],\n",
       " [2, 2, 5, 0],\n",
       " [2, 2, 5, 1],\n",
       " [2, 2, 5, 2],\n",
       " [2, 2, 5, 3],\n",
       " [2, 3, 0, 0],\n",
       " [2, 3, 0, 1],\n",
       " [2, 3, 0, 2],\n",
       " [2, 3, 0, 3],\n",
       " [2, 3, 1, 0],\n",
       " [2, 3, 1, 1],\n",
       " [2, 3, 1, 2],\n",
       " [2, 3, 1, 3],\n",
       " [2, 3, 2, 0],\n",
       " [2, 3, 2, 1],\n",
       " [2, 3, 2, 2],\n",
       " [2, 3, 2, 3],\n",
       " [2, 3, 3, 0],\n",
       " [2, 3, 3, 1],\n",
       " [2, 3, 3, 2],\n",
       " [2, 3, 3, 3],\n",
       " [2, 3, 4, 0],\n",
       " [2, 3, 4, 1],\n",
       " [2, 3, 4, 2],\n",
       " [2, 3, 4, 3],\n",
       " [2, 3, 5, 0],\n",
       " [2, 3, 5, 1],\n",
       " [2, 3, 5, 2],\n",
       " [2, 3, 5, 3],\n",
       " [2, 4, 0, 0],\n",
       " [2, 4, 0, 1],\n",
       " [2, 4, 0, 2],\n",
       " [2, 4, 0, 3],\n",
       " [2, 4, 1, 0],\n",
       " [2, 4, 1, 1],\n",
       " [2, 4, 1, 2],\n",
       " [2, 4, 1, 3],\n",
       " [2, 4, 2, 0],\n",
       " [2, 4, 2, 1],\n",
       " [2, 4, 2, 2],\n",
       " [2, 4, 2, 3],\n",
       " [2, 4, 3, 0],\n",
       " [2, 4, 3, 1],\n",
       " [2, 4, 3, 2],\n",
       " [2, 4, 3, 3],\n",
       " [2, 4, 4, 0],\n",
       " [2, 4, 4, 1],\n",
       " [2, 4, 4, 2],\n",
       " [2, 4, 4, 3],\n",
       " [2, 4, 5, 0],\n",
       " [2, 4, 5, 1],\n",
       " [2, 4, 5, 2],\n",
       " [2, 4, 5, 3],\n",
       " [3, 0, 0, 0],\n",
       " [3, 0, 0, 1],\n",
       " [3, 0, 0, 2],\n",
       " [3, 0, 0, 3],\n",
       " [3, 0, 1, 0],\n",
       " [3, 0, 1, 1],\n",
       " [3, 0, 1, 2],\n",
       " [3, 0, 1, 3],\n",
       " [3, 0, 2, 0],\n",
       " [3, 0, 2, 1],\n",
       " [3, 0, 2, 2],\n",
       " [3, 0, 2, 3],\n",
       " [3, 0, 3, 0],\n",
       " [3, 0, 3, 1],\n",
       " [3, 0, 3, 2],\n",
       " [3, 0, 3, 3],\n",
       " [3, 0, 4, 0],\n",
       " [3, 0, 4, 1],\n",
       " [3, 0, 4, 2],\n",
       " [3, 0, 4, 3],\n",
       " [3, 0, 5, 0],\n",
       " [3, 0, 5, 1],\n",
       " [3, 0, 5, 2],\n",
       " [3, 0, 5, 3],\n",
       " [3, 1, 0, 0],\n",
       " [3, 1, 0, 1],\n",
       " [3, 1, 0, 2],\n",
       " [3, 1, 0, 3],\n",
       " [3, 1, 1, 0],\n",
       " [3, 1, 1, 1],\n",
       " [3, 1, 1, 2],\n",
       " [3, 1, 1, 3],\n",
       " [3, 1, 2, 0],\n",
       " [3, 1, 2, 1],\n",
       " [3, 1, 2, 2],\n",
       " [3, 1, 2, 3],\n",
       " [3, 1, 3, 0],\n",
       " [3, 1, 3, 1],\n",
       " [3, 1, 3, 2],\n",
       " [3, 1, 3, 3],\n",
       " [3, 1, 4, 0],\n",
       " [3, 1, 4, 1],\n",
       " [3, 1, 4, 2],\n",
       " [3, 1, 4, 3],\n",
       " [3, 1, 5, 0],\n",
       " [3, 1, 5, 1],\n",
       " [3, 1, 5, 2],\n",
       " [3, 1, 5, 3],\n",
       " [3, 2, 0, 0],\n",
       " [3, 2, 0, 1],\n",
       " [3, 2, 0, 2],\n",
       " [3, 2, 0, 3],\n",
       " [3, 2, 1, 0],\n",
       " [3, 2, 1, 1],\n",
       " [3, 2, 1, 2],\n",
       " [3, 2, 1, 3],\n",
       " [3, 2, 2, 0],\n",
       " [3, 2, 2, 1],\n",
       " [3, 2, 2, 2],\n",
       " [3, 2, 2, 3],\n",
       " [3, 2, 3, 0],\n",
       " [3, 2, 3, 1],\n",
       " [3, 2, 3, 2],\n",
       " [3, 2, 3, 3],\n",
       " [3, 2, 4, 0],\n",
       " [3, 2, 4, 1],\n",
       " [3, 2, 4, 2],\n",
       " [3, 2, 4, 3],\n",
       " [3, 2, 5, 0],\n",
       " [3, 2, 5, 1],\n",
       " [3, 2, 5, 2],\n",
       " [3, 2, 5, 3],\n",
       " [3, 3, 0, 0],\n",
       " [3, 3, 0, 1],\n",
       " [3, 3, 0, 2],\n",
       " [3, 3, 0, 3],\n",
       " [3, 3, 1, 0],\n",
       " [3, 3, 1, 1],\n",
       " [3, 3, 1, 2],\n",
       " [3, 3, 1, 3],\n",
       " [3, 3, 2, 0],\n",
       " [3, 3, 2, 1],\n",
       " [3, 3, 2, 2],\n",
       " [3, 3, 2, 3],\n",
       " [3, 3, 3, 0],\n",
       " [3, 3, 3, 1],\n",
       " [3, 3, 3, 2],\n",
       " [3, 3, 3, 3],\n",
       " [3, 3, 4, 0],\n",
       " [3, 3, 4, 1],\n",
       " [3, 3, 4, 2],\n",
       " [3, 3, 4, 3],\n",
       " [3, 3, 5, 0],\n",
       " [3, 3, 5, 1],\n",
       " [3, 3, 5, 2],\n",
       " [3, 3, 5, 3],\n",
       " [3, 4, 0, 0],\n",
       " [3, 4, 0, 1],\n",
       " [3, 4, 0, 2],\n",
       " [3, 4, 0, 3],\n",
       " [3, 4, 1, 0],\n",
       " [3, 4, 1, 1],\n",
       " [3, 4, 1, 2],\n",
       " [3, 4, 1, 3],\n",
       " [3, 4, 2, 0],\n",
       " [3, 4, 2, 1],\n",
       " [3, 4, 2, 2],\n",
       " [3, 4, 2, 3],\n",
       " [3, 4, 3, 0],\n",
       " [3, 4, 3, 1],\n",
       " [3, 4, 3, 2],\n",
       " [3, 4, 3, 3],\n",
       " [3, 4, 4, 0],\n",
       " [3, 4, 4, 1],\n",
       " [3, 4, 4, 2],\n",
       " [3, 4, 4, 3],\n",
       " [3, 4, 5, 0],\n",
       " [3, 4, 5, 1],\n",
       " [3, 4, 5, 2],\n",
       " [3, 4, 5, 3]]"
      ]
     },
     "execution_count": 15,
     "metadata": {},
     "output_type": "execute_result"
    }
   ],
   "source": [
    "[[m, n,o,p] for m in range(4) for n in range(5) for o in range(6) for p in range(4)]"
   ]
  },
  {
   "cell_type": "code",
   "execution_count": 16,
   "metadata": {},
   "outputs": [
    {
     "data": {
      "text/plain": [
       "[[1, 0], [2, 0], [1, 1], [2, 1]]"
      ]
     },
     "execution_count": 16,
     "metadata": {},
     "output_type": "execute_result"
    }
   ],
   "source": [
    "[[m, n] for n in [i for i in [0, 1]] for m in [1, 2]]"
   ]
  },
  {
   "cell_type": "code",
   "execution_count": 17,
   "metadata": {},
   "outputs": [
    {
     "data": {
      "text/plain": [
       "[[1, 0], [2, 0], [1, 1], [2, 1]]"
      ]
     },
     "execution_count": 17,
     "metadata": {},
     "output_type": "execute_result"
    }
   ],
   "source": [
    "[[m, n] for n in [0, 1] for m in [1, 2]]"
   ]
  },
  {
   "cell_type": "code",
   "execution_count": 22,
   "metadata": {},
   "outputs": [],
   "source": [
    "e = e = enumerate([1, 2, 3], start=0)"
   ]
  },
  {
   "cell_type": "code",
   "execution_count": 26,
   "metadata": {},
   "outputs": [
    {
     "name": "stdout",
     "output_type": "stream",
     "text": [
      "(5, 1)\n",
      "(6, 2)\n",
      "(7, 3)\n"
     ]
    }
   ],
   "source": [
    "for i in enumerate((1, 2, 3),start=5):\n",
    "    print (i)"
   ]
  },
  {
   "cell_type": "code",
   "execution_count": 27,
   "metadata": {},
   "outputs": [],
   "source": [
    "e = enumerate([1, 2])"
   ]
  },
  {
   "cell_type": "code",
   "execution_count": 28,
   "metadata": {},
   "outputs": [
    {
     "ename": "AttributeError",
     "evalue": "'enumerate' object has no attribute 'next'",
     "output_type": "error",
     "traceback": [
      "\u001b[1;31m---------------------------------------------------------------------------\u001b[0m",
      "\u001b[1;31mAttributeError\u001b[0m                            Traceback (most recent call last)",
      "\u001b[1;32m<ipython-input-28-0a2a662961ad>\u001b[0m in \u001b[0;36m<module>\u001b[1;34m\u001b[0m\n\u001b[1;32m----> 1\u001b[1;33m \u001b[0me\u001b[0m\u001b[1;33m.\u001b[0m\u001b[0mnext\u001b[0m\u001b[1;33m(\u001b[0m\u001b[1;33m)\u001b[0m\u001b[1;33m\u001b[0m\u001b[1;33m\u001b[0m\u001b[0m\n\u001b[0m",
      "\u001b[1;31mAttributeError\u001b[0m: 'enumerate' object has no attribute 'next'"
     ]
    }
   ],
   "source": [
    "e.next()"
   ]
  },
  {
   "cell_type": "code",
   "execution_count": 30,
   "metadata": {},
   "outputs": [
    {
     "data": {
      "text/plain": [
       "False"
      ]
     },
     "execution_count": 30,
     "metadata": {},
     "output_type": "execute_result"
    }
   ],
   "source": [
    "all((1, 1,0,5767,676,6767))"
   ]
  },
  {
   "cell_type": "code",
   "execution_count": 32,
   "metadata": {},
   "outputs": [
    {
     "data": {
      "text/plain": [
       "True"
      ]
     },
     "execution_count": 32,
     "metadata": {},
     "output_type": "execute_result"
    }
   ],
   "source": [
    " all(('False','False'))"
   ]
  },
  {
   "cell_type": "code",
   "execution_count": 33,
   "metadata": {},
   "outputs": [
    {
     "data": {
      "text/plain": [
       "[0, 10, 20, 30, 40, 50, 60, 70, 80, 90]"
      ]
     },
     "execution_count": 33,
     "metadata": {},
     "output_type": "execute_result"
    }
   ],
   "source": [
    "[y for y in range(100) if y % 2 == 0 if y % 5 == 0]"
   ]
  },
  {
   "cell_type": "code",
   "execution_count": 272,
   "metadata": {},
   "outputs": [
    {
     "ename": "NameError",
     "evalue": "name 'fname' is not defined",
     "output_type": "error",
     "traceback": [
      "\u001b[1;31m---------------------------------------------------------------------------\u001b[0m",
      "\u001b[1;31mNameError\u001b[0m                                 Traceback (most recent call last)",
      "\u001b[1;32m<ipython-input-272-fd4a840ca65b>\u001b[0m in \u001b[0;36m<module>\u001b[1;34m\u001b[0m\n\u001b[0;32m     35\u001b[0m \u001b[1;33m\u001b[0m\u001b[0m\n\u001b[0;32m     36\u001b[0m \u001b[1;33m\u001b[0m\u001b[0m\n\u001b[1;32m---> 37\u001b[1;33m \u001b[0memp_1\u001b[0m \u001b[1;33m=\u001b[0m \u001b[0mEmployee\u001b[0m\u001b[1;33m(\u001b[0m\u001b[1;34m'Corey'\u001b[0m\u001b[1;33m,\u001b[0m \u001b[1;34m'Schafer'\u001b[0m\u001b[1;33m,\u001b[0m \u001b[1;36m50000\u001b[0m\u001b[1;33m)\u001b[0m\u001b[1;33m\u001b[0m\u001b[1;33m\u001b[0m\u001b[0m\n\u001b[0m\u001b[0;32m     38\u001b[0m \u001b[0memp_2\u001b[0m \u001b[1;33m=\u001b[0m \u001b[0mEmployee\u001b[0m\u001b[1;33m(\u001b[0m\u001b[1;34m'Test'\u001b[0m\u001b[1;33m,\u001b[0m \u001b[1;34m'Employee'\u001b[0m\u001b[1;33m,\u001b[0m \u001b[1;36m60000\u001b[0m\u001b[1;33m)\u001b[0m\u001b[1;33m\u001b[0m\u001b[1;33m\u001b[0m\u001b[0m\n\u001b[0;32m     39\u001b[0m \u001b[1;33m\u001b[0m\u001b[0m\n",
      "\u001b[1;32m<ipython-input-272-fd4a840ca65b>\u001b[0m in \u001b[0;36m__init__\u001b[1;34m(self, first, last, pay)\u001b[0m\n\u001b[0;32m      9\u001b[0m         \u001b[0mself\u001b[0m\u001b[1;33m.\u001b[0m\u001b[0memail\u001b[0m \u001b[1;33m=\u001b[0m \u001b[0mfirst\u001b[0m \u001b[1;33m+\u001b[0m \u001b[1;34m'.'\u001b[0m \u001b[1;33m+\u001b[0m \u001b[0mlast\u001b[0m \u001b[1;33m+\u001b[0m \u001b[1;34m'@email.com'\u001b[0m\u001b[1;33m\u001b[0m\u001b[1;33m\u001b[0m\u001b[0m\n\u001b[0;32m     10\u001b[0m         \u001b[0mself\u001b[0m\u001b[1;33m.\u001b[0m\u001b[0mpay\u001b[0m \u001b[1;33m=\u001b[0m \u001b[0mpay\u001b[0m\u001b[1;33m\u001b[0m\u001b[1;33m\u001b[0m\u001b[0m\n\u001b[1;32m---> 11\u001b[1;33m         \u001b[0mself\u001b[0m\u001b[1;33m.\u001b[0m\u001b[0memail\u001b[0m \u001b[1;33m=\u001b[0m \u001b[0mfname\u001b[0m \u001b[1;33m+\u001b[0m \u001b[0mlname\u001b[0m \u001b[1;33m+\u001b[0m\u001b[1;34m\"@gmail.com\"\u001b[0m\u001b[1;33m\u001b[0m\u001b[1;33m\u001b[0m\u001b[0m\n\u001b[0m\u001b[0;32m     12\u001b[0m         \u001b[0mraise_amt\u001b[0m \u001b[1;33m=\u001b[0m \u001b[1;36m1.04\u001b[0m\u001b[1;33m\u001b[0m\u001b[1;33m\u001b[0m\u001b[0m\n\u001b[0;32m     13\u001b[0m         \u001b[0mEmployee\u001b[0m\u001b[1;33m.\u001b[0m\u001b[0mnum_of_emps\u001b[0m \u001b[1;33m+=\u001b[0m \u001b[1;36m1\u001b[0m\u001b[1;33m\u001b[0m\u001b[1;33m\u001b[0m\u001b[0m\n",
      "\u001b[1;31mNameError\u001b[0m: name 'fname' is not defined"
     ]
    }
   ],
   "source": [
    "class Employee:\n",
    "\n",
    "    num_of_emps = 0\n",
    "    raise_amt = 1.04\n",
    "\n",
    "    def __init__(self, first, last, pay):\n",
    "        self.first = first\n",
    "        self.last = last\n",
    "        self.email = first + '.' + last + '@email.com'\n",
    "        self.pay = pay\n",
    "        raise_amt = 1.04\n",
    "        Employee.num_of_emps += 1\n",
    "\n",
    "    def fullname(self):\n",
    "        return '{} {}'.format(self.first, self.last)\n",
    "\n",
    "    def apply_raise(self):\n",
    "        self.pay = int(self.pay * raise_amt)\n",
    "\n",
    "    @classmethod\n",
    "    def set_raise_amt(cls, amount):\n",
    "        cls.raise_amt = amount\n",
    "\n",
    "    @classmethod\n",
    "    def from_string(cls, emp_str):\n",
    "        first, last, pay = emp_str.split('-')\n",
    "        return cls(first, last, pay)\n",
    "\n",
    "    @staticmethod\n",
    "    def is_workday(day):\n",
    "        if day.weekday() == 5 or day.weekday() == 6:\n",
    "            return False\n",
    "        return True\n",
    "\n",
    "\n",
    "emp_1 = Employee('Corey', 'Schafer', 50000)\n",
    "emp_2 = Employee('Test', 'Employee', 60000)\n",
    "\n",
    "Employee.set_raise_amt(1.05)\n",
    "\n",
    "print(Employee.raise_amt)\n",
    "print(emp_1.raise_amt)\n",
    "print(emp_2.raise_amt)"
   ]
  },
  {
   "cell_type": "code",
   "execution_count": 11,
   "metadata": {},
   "outputs": [],
   "source": [
    "def scope_test():\n",
    "    def do_local():\n",
    "        spam = \"local spam\"\n",
    "\n",
    "    def do_nonlocal():\n",
    "        nonlocal spam\n",
    "        spam = \"nonlocal spam\"\n",
    "\n",
    "    def do_global():\n",
    "        global spam\n",
    "        spam = \"global spam\"\n",
    "\n",
    "    spam = \"test spam\"\n",
    "    do_local()\n",
    "    print(\"After local assignment:\", spam)\n",
    "    do_nonlocal()\n",
    "    print(\"After nonlocal assignment:\", spam)\n",
    "    do_global()\n",
    "    print(\"After global assignment:\", spam)\n"
   ]
  },
  {
   "cell_type": "code",
   "execution_count": 12,
   "metadata": {},
   "outputs": [
    {
     "name": "stdout",
     "output_type": "stream",
     "text": [
      "After local assignment: test spam\n",
      "After nonlocal assignment: nonlocal spam\n",
      "After global assignment: nonlocal spam\n"
     ]
    }
   ],
   "source": [
    "scope_test()"
   ]
  },
  {
   "cell_type": "code",
   "execution_count": 1,
   "metadata": {},
   "outputs": [
    {
     "data": {
      "text/plain": [
       "True"
      ]
     },
     "execution_count": 1,
     "metadata": {},
     "output_type": "execute_result"
    }
   ],
   "source": [
    "class Employee:\n",
    "    \n",
    "    increment = 1.5\n",
    "    no_of_employee = 0\n",
    "    \n",
    "    def __init__(self,fname,lname,salary):\n",
    "        self.fname = fname\n",
    "        self.lname = lname\n",
    "        self.salary = salary\n",
    "        #self.email = fname +lname+\"@gmail.com\"\n",
    "        Employee.no_of_employee +=1\n",
    "        \n",
    "    def increase(self):\n",
    "        self.salary = self.salary * self.increment\n",
    "     \n",
    "    @property\n",
    "    def email(self):\n",
    "        if self.fname==None:\n",
    "            return \"email not set\"\n",
    "            \n",
    "        \n",
    "        else:\n",
    "            return self.fname +\".\"+ self.lname + \"@gmail.com\"\n",
    "    \n",
    "    @email.setter\n",
    "    def email(self,given_email):\n",
    "        name_list =given_email.split(\"@\")[0].split('.')\n",
    "        self.fname =name_list[0]\n",
    "        self.lname = name_list[1]\n",
    "        \n",
    "    @email.deleter\n",
    "    def email(self):\n",
    "        self.fname=None\n",
    "        self.lname=None\n",
    "        \n",
    "        \n",
    "    @classmethod    \n",
    "    def change_increment(cls,ammount):\n",
    "        cls.increment = ammount\n",
    "        \n",
    "        \n",
    "    @classmethod\n",
    "    def from_string(cls,emp_string):\n",
    "        fname,lname,salary = emp_string.split(\"-\")\n",
    "        return cls(fname,lname,salary)\n",
    "    \n",
    "    @classmethod\n",
    "    def from_string1(cls,emp_string):\n",
    "        fname,lname,salary = emp_string.split(\"--\")\n",
    "        return cls(fname,lname,salary)\n",
    "    \n",
    "    @staticmethod\n",
    "    def is_open(day):\n",
    "        if day ==\"sunday\":\n",
    "            return False\n",
    "        else:\n",
    "            return True\n",
    "        \n",
    "    def __add__(self,other):\n",
    "        return self.salary - other.salary\n",
    "    \n",
    "    def __repr__(self):\n",
    "        return \"vijay profile\"\n",
    "    \n",
    "    def __str__(self):\n",
    "        return \"sting profile\"\n",
    "    \n",
    "    \n",
    "class Programmer(Employee):\n",
    "    def __init__(self,fname,lname,salary,prolang,exp):\n",
    "        super().__init__(fname,lname,salary)\n",
    "        self.prolang=prolang\n",
    "        self.exp=exp      \n",
    "        \n",
    "def increase(self):\n",
    "        self.salary = self.salary * (self.increment + 0.2)\n",
    "\n",
    "        \n",
    "\n",
    "harry = Programmer(\"harry\",\"code\",55555,\"python\",5)\n",
    "\n",
    "lovish = Employee.from_string1(\"lovish--jackson--60000\")\n",
    "\n",
    "harry.is_open('frfrr4')\n"
   ]
  },
  {
   "cell_type": "code",
   "execution_count": 449,
   "metadata": {},
   "outputs": [
    {
     "data": {
      "text/plain": [
       "mappingproxy({'__module__': '__main__',\n",
       "              'increment': 1.5,\n",
       "              'no_of_employee': 2,\n",
       "              '__init__': <function __main__.Employee.__init__(self, fname, lname, salary)>,\n",
       "              'increase': <function __main__.Employee.increase(self)>,\n",
       "              'email': <property at 0x1c6523a9b88>,\n",
       "              'change_increment': <classmethod at 0x1c6523a7438>,\n",
       "              'from_string': <classmethod at 0x1c6522aeb70>,\n",
       "              'from_string1': <classmethod at 0x1c652329e10>,\n",
       "              'is_open': <staticmethod at 0x1c652329048>,\n",
       "              '__add__': <function __main__.Employee.__add__(self, other)>,\n",
       "              '__repr__': <function __main__.Employee.__repr__(self)>,\n",
       "              '__str__': <function __main__.Employee.__str__(self)>,\n",
       "              '__dict__': <attribute '__dict__' of 'Employee' objects>,\n",
       "              '__weakref__': <attribute '__weakref__' of 'Employee' objects>,\n",
       "              '__doc__': None})"
      ]
     },
     "execution_count": 449,
     "metadata": {},
     "output_type": "execute_result"
    }
   ],
   "source": [
    "Employee.__dict__"
   ]
  },
  {
   "cell_type": "code",
   "execution_count": 450,
   "metadata": {},
   "outputs": [],
   "source": [
    "Employee.change_increment (5)"
   ]
  },
  {
   "cell_type": "code",
   "execution_count": 451,
   "metadata": {},
   "outputs": [],
   "source": [
    "harry.increase()"
   ]
  },
  {
   "cell_type": "code",
   "execution_count": 452,
   "metadata": {},
   "outputs": [
    {
     "data": {
      "text/plain": [
       "277775"
      ]
     },
     "execution_count": 452,
     "metadata": {},
     "output_type": "execute_result"
    }
   ],
   "source": [
    "harry.salary"
   ]
  },
  {
   "cell_type": "code",
   "execution_count": 453,
   "metadata": {},
   "outputs": [],
   "source": [
    "harr = Employee('harry','code',4444)"
   ]
  },
  {
   "cell_type": "code",
   "execution_count": 454,
   "metadata": {},
   "outputs": [
    {
     "data": {
      "text/plain": [
       "False"
      ]
     },
     "execution_count": 454,
     "metadata": {},
     "output_type": "execute_result"
    }
   ],
   "source": [
    "Employee.is_open('sunday')"
   ]
  },
  {
   "cell_type": "code",
   "execution_count": 455,
   "metadata": {},
   "outputs": [
    {
     "data": {
      "text/plain": [
       "True"
      ]
     },
     "execution_count": 455,
     "metadata": {},
     "output_type": "execute_result"
    }
   ],
   "source": [
    "lovish.is_open('ddds')"
   ]
  },
  {
   "cell_type": "code",
   "execution_count": 456,
   "metadata": {},
   "outputs": [
    {
     "name": "stdout",
     "output_type": "stream",
     "text": [
      "Help on class Programmer in module __main__:\n",
      "\n",
      "class Programmer(Employee)\n",
      " |  Programmer(fname, lname, salary, prolang, exp)\n",
      " |  \n",
      " |  Method resolution order:\n",
      " |      Programmer\n",
      " |      Employee\n",
      " |      builtins.object\n",
      " |  \n",
      " |  Methods defined here:\n",
      " |  \n",
      " |  __init__(self, fname, lname, salary, prolang, exp)\n",
      " |      Initialize self.  See help(type(self)) for accurate signature.\n",
      " |  \n",
      " |  ----------------------------------------------------------------------\n",
      " |  Methods inherited from Employee:\n",
      " |  \n",
      " |  __add__(self, other)\n",
      " |  \n",
      " |  __repr__(self)\n",
      " |      Return repr(self).\n",
      " |  \n",
      " |  __str__(self)\n",
      " |      Return str(self).\n",
      " |  \n",
      " |  increase(self)\n",
      " |  \n",
      " |  ----------------------------------------------------------------------\n",
      " |  Class methods inherited from Employee:\n",
      " |  \n",
      " |  change_increment(ammount) from builtins.type\n",
      " |  \n",
      " |  from_string(emp_string) from builtins.type\n",
      " |  \n",
      " |  from_string1(emp_string) from builtins.type\n",
      " |  \n",
      " |  ----------------------------------------------------------------------\n",
      " |  Static methods inherited from Employee:\n",
      " |  \n",
      " |  is_open(day)\n",
      " |  \n",
      " |  ----------------------------------------------------------------------\n",
      " |  Data descriptors inherited from Employee:\n",
      " |  \n",
      " |  __dict__\n",
      " |      dictionary for instance variables (if defined)\n",
      " |  \n",
      " |  __weakref__\n",
      " |      list of weak references to the object (if defined)\n",
      " |  \n",
      " |  email\n",
      " |  \n",
      " |  ----------------------------------------------------------------------\n",
      " |  Data and other attributes inherited from Employee:\n",
      " |  \n",
      " |  increment = 5\n",
      " |  \n",
      " |  no_of_employee = 3\n",
      "\n"
     ]
    }
   ],
   "source": [
    "help(Programmer)"
   ]
  },
  {
   "cell_type": "code",
   "execution_count": 457,
   "metadata": {},
   "outputs": [],
   "source": [
    "rohan = Employee(\"rohan\",'hirajkar',25000)\n",
    "vijay = Employee(\"vijay\",\"dodamani\",60000)\n"
   ]
  },
  {
   "cell_type": "code",
   "execution_count": 458,
   "metadata": {},
   "outputs": [
    {
     "data": {
      "text/plain": [
       "35000"
      ]
     },
     "execution_count": 458,
     "metadata": {},
     "output_type": "execute_result"
    }
   ],
   "source": [
    "vijay+rohan\n"
   ]
  },
  {
   "cell_type": "code",
   "execution_count": 459,
   "metadata": {},
   "outputs": [
    {
     "data": {
      "text/plain": [
       "27"
      ]
     },
     "execution_count": 459,
     "metadata": {},
     "output_type": "execute_result"
    }
   ],
   "source": [
    "a = 7\n",
    "a.__add__(20)"
   ]
  },
  {
   "cell_type": "code",
   "execution_count": 460,
   "metadata": {},
   "outputs": [
    {
     "data": {
      "text/plain": [
       "'vijay profile'"
      ]
     },
     "execution_count": 460,
     "metadata": {},
     "output_type": "execute_result"
    }
   ],
   "source": [
    "repr(vijay)"
   ]
  },
  {
   "cell_type": "code",
   "execution_count": 461,
   "metadata": {},
   "outputs": [
    {
     "data": {
      "text/plain": [
       "'sting profile'"
      ]
     },
     "execution_count": 461,
     "metadata": {},
     "output_type": "execute_result"
    }
   ],
   "source": [
    "str(vijay)"
   ]
  },
  {
   "cell_type": "code",
   "execution_count": 462,
   "metadata": {},
   "outputs": [
    {
     "data": {
      "text/plain": [
       "'rohan.hirajkar@gmail.com'"
      ]
     },
     "execution_count": 462,
     "metadata": {},
     "output_type": "execute_result"
    }
   ],
   "source": [
    "rohan.email"
   ]
  },
  {
   "cell_type": "code",
   "execution_count": 463,
   "metadata": {},
   "outputs": [],
   "source": [
    "rohan.lname= \"change\""
   ]
  },
  {
   "cell_type": "code",
   "execution_count": 464,
   "metadata": {},
   "outputs": [
    {
     "data": {
      "text/plain": [
       "'rohan.change@gmail.com'"
      ]
     },
     "execution_count": 464,
     "metadata": {},
     "output_type": "execute_result"
    }
   ],
   "source": [
    "rohan.email"
   ]
  },
  {
   "cell_type": "code",
   "execution_count": 465,
   "metadata": {},
   "outputs": [],
   "source": [
    "rohan.email = \"xswxw.rohan@gmail.com\""
   ]
  },
  {
   "cell_type": "code",
   "execution_count": 466,
   "metadata": {},
   "outputs": [
    {
     "data": {
      "text/plain": [
       "'xswxw.rohan@gmail.com'"
      ]
     },
     "execution_count": 466,
     "metadata": {},
     "output_type": "execute_result"
    }
   ],
   "source": [
    "rohan.email"
   ]
  },
  {
   "cell_type": "code",
   "execution_count": 467,
   "metadata": {},
   "outputs": [
    {
     "data": {
      "text/plain": [
       "'xswxw'"
      ]
     },
     "execution_count": 467,
     "metadata": {},
     "output_type": "execute_result"
    }
   ],
   "source": [
    "rohan.fname"
   ]
  },
  {
   "cell_type": "code",
   "execution_count": 468,
   "metadata": {},
   "outputs": [],
   "source": [
    "del rohan.email"
   ]
  },
  {
   "cell_type": "code",
   "execution_count": 471,
   "metadata": {},
   "outputs": [],
   "source": [
    "rohan.lname"
   ]
  },
  {
   "cell_type": "code",
   "execution_count": 14,
   "metadata": {},
   "outputs": [
    {
     "name": "stdout",
     "output_type": "stream",
     "text": [
      "26\n"
     ]
    }
   ],
   "source": [
    "even = []\n",
    "odd = []\n",
    "prime =[]\n",
    "d5=[]\n",
    "\n",
    "for nums in range(1,100):\n",
    "    if nums%2 == 0:\n",
    "        even.append(nums)\n",
    "        \n",
    "    elif nums%3 == 0:\n",
    "        odd.append(nums)\n",
    "    \n",
    "    elif nums%5 == 0:\n",
    "        d5.append(nums)\n",
    "    \n",
    "    else:\n",
    "        prime.append(nums)\n",
    "        \n",
    "print(len(prime) )\n"
   ]
  },
  {
   "cell_type": "code",
   "execution_count": 15,
   "metadata": {},
   "outputs": [
    {
     "name": "stdout",
     "output_type": "stream",
     "text": [
      "[1, 7, 11, 13, 17, 19, 23, 29, 31, 37, 41, 43, 47, 49, 53, 59, 61, 67, 71, 73, 77, 79, 83, 89, 91, 97]\n"
     ]
    }
   ],
   "source": [
    "print(prime)"
   ]
  },
  {
   "cell_type": "code",
   "execution_count": 16,
   "metadata": {},
   "outputs": [
    {
     "ename": "SyntaxError",
     "evalue": "invalid syntax (<ipython-input-16-b13afecb0016>, line 3)",
     "output_type": "error",
     "traceback": [
      "\u001b[1;36m  File \u001b[1;32m\"<ipython-input-16-b13afecb0016>\"\u001b[1;36m, line \u001b[1;32m3\u001b[0m\n\u001b[1;33m    fo n in range (10):\u001b[0m\n\u001b[1;37m       ^\u001b[0m\n\u001b[1;31mSyntaxError\u001b[0m\u001b[1;31m:\u001b[0m invalid syntax\n"
     ]
    }
   ],
   "source": [
    "a , b = 0,1\n",
    "\n",
    "fo n in range (10):\n",
    "    a,b = b,b+a"
   ]
  },
  {
   "cell_type": "code",
   "execution_count": 24,
   "metadata": {},
   "outputs": [
    {
     "name": "stdout",
     "output_type": "stream",
     "text": [
      "prime\n"
     ]
    }
   ],
   "source": [
    "\n",
    "count = 0\n",
    "\n",
    "for i in range(2, (7//2 + 1)):\n",
    "    if(7 % i == 0):\n",
    "        count = count + 1\n",
    "        break\n",
    "\n",
    "if (count == 0 ):\n",
    "    print(\"prime\")\n",
    "else:\n",
    "    print(\"trhrh\")\n",
    "    "
   ]
  },
  {
   "cell_type": "code",
   "execution_count": 34,
   "metadata": {},
   "outputs": [],
   "source": [
    "p = [23,23,232,12321,1,123,123]"
   ]
  },
  {
   "cell_type": "code",
   "execution_count": 35,
   "metadata": {},
   "outputs": [
    {
     "data": {
      "text/plain": [
       "[23, 23, 232, 12321, 1, 123, 123]"
      ]
     },
     "execution_count": 35,
     "metadata": {},
     "output_type": "execute_result"
    }
   ],
   "source": [
    "p"
   ]
  },
  {
   "cell_type": "code",
   "execution_count": 49,
   "metadata": {},
   "outputs": [],
   "source": [
    "u =iter(p)"
   ]
  },
  {
   "cell_type": "code",
   "execution_count": 51,
   "metadata": {},
   "outputs": [
    {
     "data": {
      "text/plain": [
       "['__class__',\n",
       " '__delattr__',\n",
       " '__dir__',\n",
       " '__doc__',\n",
       " '__eq__',\n",
       " '__format__',\n",
       " '__ge__',\n",
       " '__getattribute__',\n",
       " '__gt__',\n",
       " '__hash__',\n",
       " '__init__',\n",
       " '__init_subclass__',\n",
       " '__iter__',\n",
       " '__le__',\n",
       " '__length_hint__',\n",
       " '__lt__',\n",
       " '__ne__',\n",
       " '__new__',\n",
       " '__next__',\n",
       " '__reduce__',\n",
       " '__reduce_ex__',\n",
       " '__repr__',\n",
       " '__setattr__',\n",
       " '__setstate__',\n",
       " '__sizeof__',\n",
       " '__str__',\n",
       " '__subclasshook__']"
      ]
     },
     "execution_count": 51,
     "metadata": {},
     "output_type": "execute_result"
    }
   ],
   "source": [
    "dir(u)"
   ]
  },
  {
   "cell_type": "code",
   "execution_count": 56,
   "metadata": {},
   "outputs": [
    {
     "data": {
      "text/plain": [
       "['__add__',\n",
       " '__class__',\n",
       " '__contains__',\n",
       " '__delattr__',\n",
       " '__dir__',\n",
       " '__doc__',\n",
       " '__eq__',\n",
       " '__format__',\n",
       " '__ge__',\n",
       " '__getattribute__',\n",
       " '__getitem__',\n",
       " '__getnewargs__',\n",
       " '__gt__',\n",
       " '__hash__',\n",
       " '__init__',\n",
       " '__init_subclass__',\n",
       " '__iter__',\n",
       " '__le__',\n",
       " '__len__',\n",
       " '__lt__',\n",
       " '__mod__',\n",
       " '__mul__',\n",
       " '__ne__',\n",
       " '__new__',\n",
       " '__reduce__',\n",
       " '__reduce_ex__',\n",
       " '__repr__',\n",
       " '__rmod__',\n",
       " '__rmul__',\n",
       " '__setattr__',\n",
       " '__sizeof__',\n",
       " '__str__',\n",
       " '__subclasshook__',\n",
       " 'capitalize',\n",
       " 'casefold',\n",
       " 'center',\n",
       " 'count',\n",
       " 'encode',\n",
       " 'endswith',\n",
       " 'expandtabs',\n",
       " 'find',\n",
       " 'format',\n",
       " 'format_map',\n",
       " 'index',\n",
       " 'isalnum',\n",
       " 'isalpha',\n",
       " 'isascii',\n",
       " 'isdecimal',\n",
       " 'isdigit',\n",
       " 'isidentifier',\n",
       " 'islower',\n",
       " 'isnumeric',\n",
       " 'isprintable',\n",
       " 'isspace',\n",
       " 'istitle',\n",
       " 'isupper',\n",
       " 'join',\n",
       " 'ljust',\n",
       " 'lower',\n",
       " 'lstrip',\n",
       " 'maketrans',\n",
       " 'partition',\n",
       " 'replace',\n",
       " 'rfind',\n",
       " 'rindex',\n",
       " 'rjust',\n",
       " 'rpartition',\n",
       " 'rsplit',\n",
       " 'rstrip',\n",
       " 'split',\n",
       " 'splitlines',\n",
       " 'startswith',\n",
       " 'strip',\n",
       " 'swapcase',\n",
       " 'title',\n",
       " 'translate',\n",
       " 'upper',\n",
       " 'zfill']"
      ]
     },
     "execution_count": 56,
     "metadata": {},
     "output_type": "execute_result"
    }
   ],
   "source": [
    "dir(str)"
   ]
  },
  {
   "cell_type": "code",
   "execution_count": 8,
   "metadata": {},
   "outputs": [
    {
     "name": "stdout",
     "output_type": "stream",
     "text": [
      "Help on class list in module builtins:\n",
      "\n",
      "class list(object)\n",
      " |  list(iterable=(), /)\n",
      " |  \n",
      " |  Built-in mutable sequence.\n",
      " |  \n",
      " |  If no argument is given, the constructor creates a new empty list.\n",
      " |  The argument must be an iterable if specified.\n",
      " |  \n",
      " |  Methods defined here:\n",
      " |  \n",
      " |  __add__(self, value, /)\n",
      " |      Return self+value.\n",
      " |  \n",
      " |  __contains__(self, key, /)\n",
      " |      Return key in self.\n",
      " |  \n",
      " |  __delitem__(self, key, /)\n",
      " |      Delete self[key].\n",
      " |  \n",
      " |  __eq__(self, value, /)\n",
      " |      Return self==value.\n",
      " |  \n",
      " |  __ge__(self, value, /)\n",
      " |      Return self>=value.\n",
      " |  \n",
      " |  __getattribute__(self, name, /)\n",
      " |      Return getattr(self, name).\n",
      " |  \n",
      " |  __getitem__(...)\n",
      " |      x.__getitem__(y) <==> x[y]\n",
      " |  \n",
      " |  __gt__(self, value, /)\n",
      " |      Return self>value.\n",
      " |  \n",
      " |  __iadd__(self, value, /)\n",
      " |      Implement self+=value.\n",
      " |  \n",
      " |  __imul__(self, value, /)\n",
      " |      Implement self*=value.\n",
      " |  \n",
      " |  __init__(self, /, *args, **kwargs)\n",
      " |      Initialize self.  See help(type(self)) for accurate signature.\n",
      " |  \n",
      " |  __iter__(self, /)\n",
      " |      Implement iter(self).\n",
      " |  \n",
      " |  __le__(self, value, /)\n",
      " |      Return self<=value.\n",
      " |  \n",
      " |  __len__(self, /)\n",
      " |      Return len(self).\n",
      " |  \n",
      " |  __lt__(self, value, /)\n",
      " |      Return self<value.\n",
      " |  \n",
      " |  __mul__(self, value, /)\n",
      " |      Return self*value.\n",
      " |  \n",
      " |  __ne__(self, value, /)\n",
      " |      Return self!=value.\n",
      " |  \n",
      " |  __repr__(self, /)\n",
      " |      Return repr(self).\n",
      " |  \n",
      " |  __reversed__(self, /)\n",
      " |      Return a reverse iterator over the list.\n",
      " |  \n",
      " |  __rmul__(self, value, /)\n",
      " |      Return value*self.\n",
      " |  \n",
      " |  __setitem__(self, key, value, /)\n",
      " |      Set self[key] to value.\n",
      " |  \n",
      " |  __sizeof__(self, /)\n",
      " |      Return the size of the list in memory, in bytes.\n",
      " |  \n",
      " |  append(self, object, /)\n",
      " |      Append object to the end of the list.\n",
      " |  \n",
      " |  clear(self, /)\n",
      " |      Remove all items from list.\n",
      " |  \n",
      " |  copy(self, /)\n",
      " |      Return a shallow copy of the list.\n",
      " |  \n",
      " |  count(self, value, /)\n",
      " |      Return number of occurrences of value.\n",
      " |  \n",
      " |  extend(self, iterable, /)\n",
      " |      Extend list by appending elements from the iterable.\n",
      " |  \n",
      " |  index(self, value, start=0, stop=9223372036854775807, /)\n",
      " |      Return first index of value.\n",
      " |      \n",
      " |      Raises ValueError if the value is not present.\n",
      " |  \n",
      " |  insert(self, index, object, /)\n",
      " |      Insert object before index.\n",
      " |  \n",
      " |  pop(self, index=-1, /)\n",
      " |      Remove and return item at index (default last).\n",
      " |      \n",
      " |      Raises IndexError if list is empty or index is out of range.\n",
      " |  \n",
      " |  remove(self, value, /)\n",
      " |      Remove first occurrence of value.\n",
      " |      \n",
      " |      Raises ValueError if the value is not present.\n",
      " |  \n",
      " |  reverse(self, /)\n",
      " |      Reverse *IN PLACE*.\n",
      " |  \n",
      " |  sort(self, /, *, key=None, reverse=False)\n",
      " |      Stable sort *IN PLACE*.\n",
      " |  \n",
      " |  ----------------------------------------------------------------------\n",
      " |  Static methods defined here:\n",
      " |  \n",
      " |  __new__(*args, **kwargs) from builtins.type\n",
      " |      Create and return a new object.  See help(type) for accurate signature.\n",
      " |  \n",
      " |  ----------------------------------------------------------------------\n",
      " |  Data and other attributes defined here:\n",
      " |  \n",
      " |  __hash__ = None\n",
      "\n",
      "None\n"
     ]
    }
   ],
   "source": [
    "print(help(list))"
   ]
  },
  {
   "cell_type": "code",
   "execution_count": 62,
   "metadata": {},
   "outputs": [],
   "source": []
  },
  {
   "cell_type": "code",
   "execution_count": 73,
   "metadata": {},
   "outputs": [
    {
     "ename": "TypeError",
     "evalue": "count() takes at least 1 argument (0 given)",
     "output_type": "error",
     "traceback": [
      "\u001b[1;31m---------------------------------------------------------------------------\u001b[0m",
      "\u001b[1;31mTypeError\u001b[0m                                 Traceback (most recent call last)",
      "\u001b[1;32m<ipython-input-73-c957fec219ce>\u001b[0m in \u001b[0;36m<module>\u001b[1;34m\u001b[0m\n\u001b[1;32m----> 1\u001b[1;33m \u001b[0mp\u001b[0m\u001b[1;33m.\u001b[0m\u001b[0mcount\u001b[0m\u001b[1;33m(\u001b[0m\u001b[1;33m)\u001b[0m\u001b[1;33m\u001b[0m\u001b[1;33m\u001b[0m\u001b[0m\n\u001b[0m",
      "\u001b[1;31mTypeError\u001b[0m: count() takes at least 1 argument (0 given)"
     ]
    }
   ],
   "source": []
  },
  {
   "cell_type": "code",
   "execution_count": null,
   "metadata": {},
   "outputs": [],
   "source": []
  }
 ],
 "metadata": {
  "kernelspec": {
   "display_name": "Python 3",
   "language": "python",
   "name": "python3"
  },
  "language_info": {
   "codemirror_mode": {
    "name": "ipython",
    "version": 3
   },
   "file_extension": ".py",
   "mimetype": "text/x-python",
   "name": "python",
   "nbconvert_exporter": "python",
   "pygments_lexer": "ipython3",
   "version": "3.7.4"
  }
 },
 "nbformat": 4,
 "nbformat_minor": 2
}
